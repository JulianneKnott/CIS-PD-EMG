{
 "cells": [
  {
   "cell_type": "code",
   "execution_count": 1,
   "metadata": {},
   "outputs": [],
   "source": [
    "import os\n",
    "import numpy as np\n",
    "import pandas as pd\n",
    "import matplotlib.pyplot as plt\n",
    "import pathlib\n",
    "import pickle\n",
    "from scipy.stats import skew, kurtosis, pearsonr\n",
    "from scipy.signal import butter, welch, filtfilt, resample\n",
    "import copy\n",
    "\n",
    "from PreprocessFcns import *\n",
    "\n",
    "%matplotlib inline"
   ]
  },
  {
   "cell_type": "code",
   "execution_count": 2,
   "metadata": {},
   "outputs": [],
   "source": [
    "#save corrected version of motor scores.xls \n",
    "mot_scores = pd.read_excel('Z:CIS-PD Study\\Scores\\MotorTasks.xls')\n",
    "#fix error in original cols labels\n",
    "mot_scores.columns.values[75] = 'alternating left hand movements tremor right upper limb'\n",
    "mot_scores.columns.values[150] = 'sitting tremor right upper limb'\n",
    "#remove words:(Qxx) and 'rating' from each column for readability\n",
    "cols= mot_scores.columns\n",
    "cols = cols.tolist()\n",
    "colsnew = [x.split('(')[0] for x in cols]\n",
    "colsnew = [x.strip() for x in colsnew] #remove whitespace\n",
    "colsnew = [x.split('rating')[0] for x in colsnew]\n",
    "colsnew = [x.strip() for x in colsnew]\n",
    "colsnew = [x.lower() for x in colsnew] #make all lower case \n",
    "colsnew = [x.replace('\\x97',' ') for x in colsnew]\n",
    "colsnew = [x.replace('—',' ') for x in colsnew]    \n",
    "#simplify notation\n",
    "for i in range(len(colsnew)):\n",
    "    x = colsnew[i]\n",
    "    if x.find('finger to nose')>-1:\n",
    "        colsnew[i] = x.replace(' hand','')\n",
    "    if x.find('alternating')>-1:\n",
    "        colsnew[i] = x.replace(' hand movements','')\n",
    "c = dict(zip(cols,colsnew))\n",
    "mot_scores = mot_scores.rename(index=str, columns=c)\n",
    "#change 1 month label to 4 wks for proper sorting (to incorporate in xls file)\n",
    "mot_scores.loc[mot_scores['visit']=='1 Month','visit']='4 Weeks'\n",
    "mot_scores.to_excel('Z:CIS-PD Study\\Scores\\MotorTasks.xls') #note that timestamps are not properly converted"
   ]
  },
  {
   "cell_type": "code",
   "execution_count": 33,
   "metadata": {},
   "outputs": [],
   "source": [
    "def DataAggregator(subjDict,taskList_Abb,taskScores,sessionList):\n",
    "    \n",
    "    Data = pd.DataFrame()\n",
    "    \n",
    "    s = 0\n",
    "    for subj in list(subjDict.keys()):\n",
    "        \n",
    "        s += 1\n",
    "        print('Subject %d (%d of %d)'%(subj,s,len(subjDict)))\n",
    "        \n",
    "        for t in range(len(taskList_Abb)):\n",
    "            \n",
    "            task = taskList_Abb[t]\n",
    "            task_score = taskScores[t]\n",
    "            \n",
    "            for trial in range(len(sessionList)):\n",
    "                \n",
    "                visit = sessionList[trial]\n",
    "                \n",
    "                try:\n",
    "                    data = pd.read_csv('Z:CIS-PD Study\\\\MJFF Curation\\\\TaskAcc\\\\' + str(subj) + '_' + str(trial) + \n",
    "                                      '_' + task + '.csv',parse_dates=['timestamp'])[['timestamp','x','y','z']]\n",
    "                \n",
    "                except:\n",
    "                    #print('No data found for %s trial %d'%(task,trial))\n",
    "                    continue\n",
    "                    \n",
    "                side = subjDict[subj]\n",
    "                \n",
    "                subj_score = mot_scores.loc[mot_scores['subject']==subj,['subject','visit',\n",
    "                                            task_score+ ' ' + 'bradykinesia ' + side + ' upper limb',\n",
    "                                            task_score+ ' ' + 'tremor ' + side + ' upper limb']]\n",
    "                subj_score = subj_score.rename(index=str,columns={subj_score.columns[2]:'Bradykinesia',subj_score.columns[3]:'Tremor'})\n",
    "                subj_score.index = range(len(subj_score))\n",
    "                    \n",
    "                data['timestamp'] = (data.timestamp.values - data.timestamp.values[0]).astype('timedelta64[ms]').astype(int)\n",
    "                data = data.set_index('timestamp')\n",
    "                \n",
    "                data = HPfilter(data)\n",
    "                \n",
    "                clip_data = gen_clips(data,downsample=35,basefreq=50)\n",
    "                feature_extraction(clip_data)\n",
    "                \n",
    "                if 'features' in clip_data.keys():\n",
    "                    D = clip_data['features']\n",
    "                    featcols = list(D.columns)\n",
    "                    D['Bradykinesia'] = subj_score['Bradykinesia'][trial]\n",
    "                    D['Tremor'] = subj_score['Tremor'][trial]\n",
    "                    D['Visit'] = visit\n",
    "                    D['Task'] = task\n",
    "                    D['Subject'] = subj\n",
    "                    Data = pd.concat([Data,D])\n",
    "                    \n",
    "    cols = ['Subject','Visit','Task','Bradykinesia','Tremor'] + featcols\n",
    "    Data = Data[cols]\n",
    "    Data.to_csv('Z:CIS-PD Study\\\\Smartwatch Data 35Hz.csv')"
   ]
  },
  {
   "cell_type": "code",
   "execution_count": 34,
   "metadata": {},
   "outputs": [],
   "source": [
    "subjDict = {1004:'right',1016:'left',1018:'left',1019:'left',1020:'right',1024:'left',1029:'left',1030:'left',1032:'left',\n",
    "            1038:'left',1044:'right',1046:'right',1049:'left',1051:'left'}\n",
    "#subjDict = {1004:'right'}\n",
    "#1047\n",
    "\n",
    "taskList = ['Standing', 'Walking', 'Walking while counting', 'Finger to nose--right hand', \n",
    "            'Finger to nose--left hand', 'Alternating right hand movements', 'Alternating left hand movements', \n",
    "            'Sit to stand', 'Drawing on a paper', 'Typing on a computer keyboard', 'Assembling nuts and bolts', \n",
    "            'Taking a glass of water and drinking', 'Organizing sheets in a folder', 'Folding towels', 'Sitting']\n",
    "\n",
    "taskScores = ['standing','walking','walking while counting','finger to nose right','finger to nose left',\n",
    "                   'alternating right','alternating left','sit to stand','drawing on a paper',\n",
    "                   'typing on a computer keyboard','assembling nuts and bolts','taking a glass of water and drinking',\n",
    "                   'organizing sheets in a folder','folding towels','sitting']\n",
    "\n",
    "taskList_Abb = ['Stndg', 'Wlkg', 'WlkgCnt', 'FtnR', 'FtnL', 'RamR', 'RamL', 'SitStand', 'Drwg', 'Typg', 'NtsBts',\n",
    "                'Drnkg', 'Sheets', 'Fldg', 'Sitng']\n",
    "\n",
    "sessionList = ['2 Weeks: Time 0', '2 Weeks: Time 30', '2 Weeks: Time 60', '2 Weeks: Time 90', '2 Weeks: Time 120', \n",
    "               '2 Weeks: Time 150', '4 Weeks']"
   ]
  },
  {
   "cell_type": "code",
   "execution_count": 35,
   "metadata": {
    "scrolled": false
   },
   "outputs": [
    {
     "name": "stdout",
     "output_type": "stream",
     "text": [
      "Subject 1004 (1 of 14)\n"
     ]
    },
    {
     "name": "stderr",
     "output_type": "stream",
     "text": [
      "C:\\Users\\Public\\Documents\\Anaconda\\lib\\site-packages\\ipykernel_launcher.py:32: FutureWarning: \n",
      "Passing list-likes to .loc or [] with any missing label will raise\n",
      "KeyError in the future, you can use .reindex() as an alternative.\n",
      "\n",
      "See the documentation here:\n",
      "http://pandas.pydata.org/pandas-docs/stable/indexing.html#deprecate-loc-reindex-listlike\n",
      "C:\\Users\\Public\\Documents\\Anaconda\\lib\\site-packages\\pandas\\core\\indexing.py:1367: FutureWarning: \n",
      "Passing list-likes to .loc or [] with any missing label will raise\n",
      "KeyError in the future, you can use .reindex() as an alternative.\n",
      "\n",
      "See the documentation here:\n",
      "http://pandas.pydata.org/pandas-docs/stable/indexing.html#deprecate-loc-reindex-listlike\n",
      "  return self._getitem_tuple(key)\n"
     ]
    },
    {
     "name": "stdout",
     "output_type": "stream",
     "text": [
      "Subject 1016 (2 of 14)\n",
      "Subject 1018 (3 of 14)\n",
      "Subject 1019 (4 of 14)\n",
      "Subject 1020 (5 of 14)\n",
      "Subject 1024 (6 of 14)\n",
      "Subject 1029 (7 of 14)\n",
      "Subject 1030 (8 of 14)\n",
      "Subject 1032 (9 of 14)\n",
      "Subject 1038 (10 of 14)\n",
      "Subject 1044 (11 of 14)\n",
      "Subject 1046 (12 of 14)\n",
      "Subject 1049 (13 of 14)\n",
      "Subject 1051 (14 of 14)\n"
     ]
    }
   ],
   "source": [
    "DataAggregator(subjDict,taskList_Abb,taskScores,sessionList)"
   ]
  },
  {
   "cell_type": "code",
   "execution_count": null,
   "metadata": {},
   "outputs": [],
   "source": []
  }
 ],
 "metadata": {
  "kernelspec": {
   "display_name": "Python 3",
   "language": "python",
   "name": "python3"
  },
  "language_info": {
   "codemirror_mode": {
    "name": "ipython",
    "version": 3
   },
   "file_extension": ".py",
   "mimetype": "text/x-python",
   "name": "python",
   "nbconvert_exporter": "python",
   "pygments_lexer": "ipython3",
   "version": "3.6.4"
  }
 },
 "nbformat": 4,
 "nbformat_minor": 2
}
