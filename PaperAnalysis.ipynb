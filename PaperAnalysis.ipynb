{
 "cells": [
  {
   "cell_type": "code",
   "execution_count": 1,
   "metadata": {},
   "outputs": [],
   "source": [
    "import os\n",
    "import platform\n",
    "import numpy as np\n",
    "import pandas as pd\n",
    "import seaborn as sns\n",
    "import matplotlib.pyplot as plt\n",
    "import datetime as dt\n",
    "import time\n",
    "import pathlib\n",
    "import pickle #to save files\n",
    "from itertools import product\n",
    "from scipy.stats import skew, kurtosis, wilcoxon\n",
    "from scipy.signal import butter, welch, filtfilt, resample\n",
    "from scipy import stats\n",
    "# import xgboost as xgb\n",
    "# from xgboost.sklearn import XGBClassifier #this is the SKlearn wrapper\n",
    "\n",
    "from sklearn import metrics, neighbors, linear_model, preprocessing, svm\n",
    "from sklearn.metrics import confusion_matrix, auc, f1_score, roc_curve, roc_auc_score, precision_score, recall_score, precision_recall_curve\n",
    "from sklearn.neighbors import KNeighborsClassifier\n",
    "from sklearn.linear_model import ElasticNetCV, LogisticRegression\n",
    "from sklearn.preprocessing import LabelEncoder, StandardScaler\n",
    "from sklearn.model_selection import train_test_split, LeaveOneGroupOut, KFold, StratifiedKFold,cross_val_score,GridSearchCV\n",
    "from sklearn.ensemble import RandomForestClassifier, AdaBoostClassifier, GradientBoostingClassifier, ExtraTreesClassifier\n",
    "from sklearn.svm import SVC\n",
    "from PreprocessFcns import *\n",
    "\n",
    "from mpl_toolkits.mplot3d import Axes3D\n",
    "%matplotlib inline\n",
    "\n",
    "sns.set_context('talk',font_scale=1)\n",
    "#-- For interactive plots--\n",
    "# from mpl_toolkits.mplot3d import Axes3D\n",
    "# %matplotlib notebook"
   ]
  },
  {
   "cell_type": "markdown",
   "metadata": {},
   "source": [
    "## Helper fcns"
   ]
  },
  {
   "cell_type": "code",
   "execution_count": 2,
   "metadata": {},
   "outputs": [],
   "source": [
    "def LOSOCV(Data,X,y,groups,models,LOin=0):\n",
    "\n",
    "    subj = LeaveOneGroupOut() \n",
    "    results = pd.DataFrame(data=None,columns=['model','f1','auprc','auroc'])\n",
    "    groupres = {} #results on each group for each model\n",
    "\n",
    "\n",
    "    #train multiple classifiers\n",
    "    for m in models:\n",
    "        acc_all=[]; acc_train=[] \n",
    "        f1_test_all=[]; prec_all=[]; rec_all=[]; spec_all=[]; auprc_all=[]; auroc_train_all=[]; \n",
    "        auroc_all=[]; fpr_all=[]; tpr_all=[]; fi_all=[]\n",
    "\n",
    "        clf = m[0]; model_name = m[1]            \n",
    "        print('Training %s'%model_name)\n",
    "        s = 0\n",
    "        #LOSO CV for current classifier\n",
    "        for train_index, test_index in subj.split(X, y, groups):\n",
    "        #leave one in:\n",
    "            if LOin:\n",
    "                tridx = train_index.copy()\n",
    "                train_index = test_index.copy()\n",
    "                test_index = tridx\n",
    "            Xtr, Xte = X[train_index], X[test_index]\n",
    "            ytr, yte = y[train_index], y[test_index]\n",
    "            if len(np.unique(ytr))<2: #skip if no positive or negative examples are available for training\n",
    "                print('only 1 class available in train data - skipping')\n",
    "                continue\n",
    "            clf.fit(Xtr,ytr)\n",
    "            ypred = clf.predict(Xte)\n",
    "            yscore = clf.predict_proba(Xte)\n",
    "            yscore = yscore[:,1]\n",
    "            \n",
    "            #accuracy on train set\n",
    "            ypred_train = clf.predict(Xtr)\n",
    "            acc_train.append(sum(ypred_train==ytr)/len(ytr))\n",
    "            auroc_train = roc_auc_score(ytr,clf.predict_proba(Xtr)[:,1])\n",
    "            \n",
    "            #f1-score, prec, recall, specificity, auprc, auroc\n",
    "            f1_test_all.append(f1_score(yte,ypred))\n",
    "            precision, recall, _ = precision_recall_curve(yte,yscore)\n",
    "            auprc = auc(recall,precision)\n",
    "            if len(np.unique(yte))>1:\n",
    "                auroc = roc_auc_score(yte,yscore)\n",
    "            else:\n",
    "                print('only 1 class in test data - cannot compute roc curve')\n",
    "                auroc = np.nan\n",
    "            spec = sum((ypred==0) & (yte==0))/sum(yte==0)\n",
    "\n",
    "\n",
    "            prec_all.append(precision_score(yte,ypred))\n",
    "            rec_all.append(recall_score(yte,ypred))\n",
    "            auprc_all.append(auprc)\n",
    "            auroc_all.append(auroc)\n",
    "            auroc_train_all.append(auroc_train)\n",
    "            spec_all.append(spec)\n",
    "            \n",
    "            #the recall per task - TO BE COMPLETED\n",
    "            \n",
    "#             tasks=Data.iloc[test_index,:].Task\n",
    "#             for t in tasks.unique():\n",
    "#                 tasks\n",
    "            \n",
    "            #compute ROC points at fixed fpr (to plot error bars)\n",
    "            fpr=np.linspace(0,1,101); tpr=[]\n",
    "\n",
    "            if len(np.unique(yte))>1:                \n",
    "                nscores = np.sort(np.column_stack((yscore[yte==0],yte[yte==0])),axis=0)\n",
    "                neg_counts = sum(yte==0)\n",
    "                for f in fpr:\n",
    "                    ind = neg_counts-int(neg_counts*f)-1\n",
    "                    t = (nscores[ind])[0]\n",
    "                    if f==1:\n",
    "                        t = 0\n",
    "                    tpr_t = sum(yscore[yte==1]>t) / sum(yte==1)\n",
    "                    tpr.append(tpr_t) \n",
    "\n",
    "            fpr = np.asarray(fpr); tpr = np.asarray(tpr)\n",
    "            fpr_all.append(fpr); tpr_all.append(tpr)\n",
    "            \n",
    "            #store feature importance\n",
    "            if model_name != 'SVM':\n",
    "                fi_all.append(clf.feature_importances_)\n",
    "            \n",
    "            print('\\nSubj/Visit %d, prec=%.3f, rec=%.3f, Spec=%.3f, auroc_train=%.3f, auroc=%.3f'%(s,precision_score(yte,ypred),recall_score(yte,ypred),\n",
    "                                                                                 spec,auroc_train,auroc))\n",
    "            s+=1\n",
    "\n",
    "        print('f1_test=%.3f+/-%.3f, prec=%.3f+/-%.3f, rec=%.3f+/-%.3f, auprc=%.3f+/-%.3f, auroc=%.3f+/-%.3f'%(\n",
    "        np.nanmean(f1_test_all),np.nanstd(f1_test_all),\n",
    "        np.nanmean(prec_all),np.nanstd(prec_all), np.nanmean(rec_all),np.nanstd(rec_all),\n",
    "        np.nanmean(auprc_all),np.nanstd(auprc_all), np.nanmean(auroc_all),np.nanstd(auroc_all)))\n",
    "        \n",
    "        #group results for each model\n",
    "        groupres[model_name] = {'f1':f1_test_all, 'auprc':auprc_all, 'auroc':auroc_all, 'tpr':tpr_all, 'fpr':fpr_all, \n",
    "                                'rec':rec_all, 'spec':spec_all, 'fi':fi_all}\n",
    "        \n",
    "        #mean across groups for each model\n",
    "        r = pd.DataFrame({'model':model_name, 'f1':np.nanmean(f1_test_all), 'auprc':np.nanmean(auprc_all), 'auroc':np.nanmean(auroc_all)}\n",
    "                        ,index=[0])\n",
    "        results = pd.concat((results,r))\n",
    "        \n",
    "    return results,groupres \n",
    "    \n",
    "\n",
    "#train multiple classifiers using stratified kfold\n",
    "def trainmodel_Kfold(Xf,y,models,nfolds=5,balance=False):\n",
    "\n",
    "    scaler = StandardScaler()\n",
    "    f1_fold_clf=[]; auc_fold_clf=[]; cmats={}\n",
    "\n",
    "    skf = StratifiedKFold(n_splits=nfolds,shuffle=True,random_state=46)\n",
    "        \n",
    "    for clf,model_name in models:\n",
    "        f1_fold = []; f1_train_fold=[]; prec_fold=[]; rec_fold=[]; auprc_fold=[]\n",
    "\n",
    "        for train_idx,test_idx in skf.split(Xf,y):\n",
    "            Xtr = Xf[train_idx]\n",
    "            ytr = y[train_idx]\n",
    "            if balance:\n",
    "                #balance dataset\n",
    "                indsp = np.where(ytr==1)[0]\n",
    "                indsn = np.random.choice(np.where(ytr==0)[0],size=round(1*len(indsp)),replace=False)\n",
    "                inds = np.hstack((indsp,indsn))\n",
    "                Xtr = Xtr[inds]; ytr = ytr[inds]\n",
    "#             print(len(ytr[ytr==0])/len(ytr[ytr>0]))\n",
    "            Xte = Xf[test_idx]\n",
    "            yte = y[test_idx]\n",
    "            Xtr = scaler.fit_transform(Xtr)\n",
    "            Xte = scaler.transform(Xte)\n",
    "            clf.fit(Xtr,ytr)\n",
    "            ypred_train = clf.predict(Xtr)\n",
    "            ypred = clf.predict(Xte)\n",
    "            yscore = clf.predict_proba(Xte)\n",
    "            yscore = yscore[:,1]\n",
    "            \n",
    "            #accuracy on train and test set for current fold\n",
    "            precision, recall, _ = precision_recall_curve(yte,yscore)\n",
    "            \n",
    "            f1_train_fold.append(f1_score(ytr,ypred_train))\n",
    "            f1_fold.append(f1_score(yte,ypred))\n",
    "            prec_fold.append(precision_score(yte,ypred))\n",
    "            rec_fold.append(recall_score(yte,ypred))\n",
    "            auprc_fold.append(auc(recall,precision)\n",
    ")\n",
    "\n",
    "\n",
    "        #mean accuracy across folds\n",
    "        if balance:\n",
    "            print('Npos = %d, Nneg = %d'%(len(indsp),len(indsn)))\n",
    "            \n",
    "        print('%s'%model_name)\n",
    "        print('f1_train=%.3f+/-%.3f, f1_test=%.3f+/-%.3f, prec=%.3f+/-%.3f, rec=%.3f+/-%.3f, auprc=%.3f+/-%.3f'%(\n",
    "        np.nanmean(f1_train_fold),np.nanstd(f1_train_fold),\n",
    "        np.nanmean(f1_fold),np.nanstd(f1_fold),\n",
    "        np.nanmean(prec_fold),np.nanstd(prec_fold), np.nanmean(rec_fold),np.nanstd(rec_fold),\n",
    "        np.nanmean(auprc_fold),np.nanstd(auprc_fold)))\n",
    "        \n",
    "        cf_matrix = confusion_matrix(yte, ypred)\n",
    "        print(cf_matrix)\n",
    "        #store f1 and auc for each fold and clf\n",
    "        f1_fold_clf.append(f1_fold)\n",
    "        auc_fold_clf.append(auprc_fold)\n",
    "        #store cmat for each clf (on last fold)\n",
    "        cmats.update({model_name:cf_matrix})\n",
    "        \n",
    "    return f1_fold_clf, auc_fold_clf, cmats\n",
    "\n",
    "    \n",
    "    \n",
    "def plot_confusion_matrix(cm, classes,\n",
    "                          normalize=False,\n",
    "                          title=None,\n",
    "                          cmap=plt.cm.Blues):\n",
    "    \"\"\"\n",
    "    This function prints and plots the confusion matrix.\n",
    "    Normalization can be applied by setting `normalize=True`.\n",
    "    \"\"\"\n",
    "    if normalize:\n",
    "        cm = cm.astype('float') / cm.sum(axis=1)[:, np.newaxis]\n",
    "#     print(cm)\n",
    "\n",
    "    plt.imshow(cm, interpolation='nearest', cmap=cmap)\n",
    "    plt.title(title)\n",
    "    plt.colorbar()\n",
    "    tick_marks = np.arange(len(classes))\n",
    "    plt.xticks(tick_marks, classes, rotation=45)\n",
    "    plt.yticks(tick_marks, classes)\n",
    "\n",
    "    fmt = '.2f' if normalize else 'd'\n",
    "    thresh = cm.max() / 2.\n",
    "    for i, j in itertools.product(range(cm.shape[0]), range(cm.shape[1])):\n",
    "        plt.text(j, i, format(cm[i, j], fmt),\n",
    "                 horizontalalignment=\"center\",\n",
    "                 color=\"white\" if cm[i, j] > thresh else \"black\")\n",
    "\n",
    "    plt.tight_layout()\n",
    "    plt.ylabel('True label')\n",
    "    plt.xlabel('Predicted label')\n",
    "\n",
    "    \n",
    "\n",
    "def plot_roc(tpr_all,fpr,roc_auc,ax=None,plotname=None,col=None):\n",
    "    #plot mean ROC across subjects (need to add shaded conf interval)\n",
    "    tprmu = np.mean(np.asarray(tpr_all),axis=0)\n",
    "    tpr=np.asarray(tpr_all)\n",
    "    fpr=np.reshape(fpr,(1,-1))\n",
    "    tprmu=np.reshape(tprmu,(1,-1))\n",
    "    label=pd.Series(data = ['%s - AUC = %0.3f' % (plotname,roc_auc)]*len(fpr))\n",
    "    if plotname=='Threshold':\n",
    "        ls = '-'\n",
    "    else:\n",
    "        ls='-'\n",
    "    if ax == None:\n",
    "        ax = sns.tsplot(data=tpr,time=fpr,ci=95,condition=label,legend=True,color=col,lw=3,linestyle=ls)\n",
    "    else:\n",
    "        sns.tsplot(data=tpr,time=fpr,ci=95,condition=label, legend=True,ax=ax,color=col,lw=3,linestyle=ls)\n",
    "             \n",
    "    lw = 3\n",
    "    \n",
    "    ax.plot([0, 1], [0, 1], color='navy', lw=lw, linestyle='--')\n",
    "    ax.set_xlim([-0.05, 1.0])\n",
    "    ax.set_ylim([0.0, 1.05])\n",
    "    ax.set_xlabel('False Positive Rate',fontsize=16)\n",
    "    ax.set_ylabel('True Positive Rate',fontsize=16)\n",
    "    ax.legend(loc='lower right')\n",
    "    \n",
    "    return ax\n",
    "\n",
    "def LOSOCV_Tasks(Data,X,y,groups,tasks,clf):\n",
    "\n",
    "    subj = LeaveOneGroupOut() \n",
    "    results = pd.DataFrame(data=None,columns=['model','f1','auprc','auroc'])\n",
    "    groupres = {} #results on each group for each task subset\n",
    "\n",
    "\n",
    "    #train multiple classifiers\n",
    "    for T in tasks:\n",
    "        acc_all=[]; acc_train=[] \n",
    "        f1_test_all=[]; prec_all=[]; rec_all=[]; spec_all=[]; auprc_all=[]; auroc_train_all=[]; \n",
    "        auroc_all=[]; fpr_all=[]; tpr_all=[]; fi_all=[]\n",
    "          \n",
    "        s = 0\n",
    "        #LOSO CV for current classifier\n",
    "        for train_index, test_index in subj.split(X, y, groups):\n",
    "            task_inds = Data.Task.iloc[test_index]==T[0]\n",
    "            for Ti in T[1::]:\n",
    "                task_inds = task_inds | (Data.Task.iloc[test_index]==Ti)\n",
    "            test_index = test_index[task_inds]\n",
    "            Xtr, Xte = X[train_index], X[test_index]\n",
    "            ytr, yte = y[train_index], y[test_index]\n",
    "            if len(np.unique(ytr))<2: #skip if no positive or negative examples are available for training\n",
    "                print('only 1 class available in train data - skipping')\n",
    "                continue\n",
    "            clf.fit(Xtr,ytr)\n",
    "            ypred = clf.predict(Xte)\n",
    "            yscore = clf.predict_proba(Xte)\n",
    "            yscore = yscore[:,1]\n",
    "\n",
    "            #accuracy on train set\n",
    "            ypred_train = clf.predict(Xtr)\n",
    "            acc_train.append(sum(ypred_train==ytr)/len(ytr))\n",
    "            auroc_train = roc_auc_score(ytr,clf.predict_proba(Xtr)[:,1])\n",
    "\n",
    "            #f1-score, prec, recall, specificity, auprc, auroc\n",
    "            f1_test_all.append(f1_score(yte,ypred))\n",
    "            precision, recall, _ = precision_recall_curve(yte,yscore)\n",
    "            auprc = auc(recall,precision)\n",
    "            if len(np.unique(yte))>1:\n",
    "                auroc = roc_auc_score(yte,yscore)\n",
    "            else:\n",
    "                print('only 1 class in test data - cannot compute roc curve')\n",
    "                auroc = np.nan\n",
    "            spec = sum((ypred==0) & (yte==0))/sum(yte==0)\n",
    "\n",
    "\n",
    "            prec_all.append(precision_score(yte,ypred))\n",
    "            rec_all.append(recall_score(yte,ypred))\n",
    "            auprc_all.append(auprc)\n",
    "            auroc_all.append(auroc)\n",
    "            auroc_train_all.append(auroc_train)\n",
    "            spec_all.append(spec)\n",
    "\n",
    "            #the recall per task - TO BE COMPLETED\n",
    "\n",
    "#             tasks=Data.iloc[test_index,:].Task\n",
    "#             for t in tasks.unique():\n",
    "#                 tasks\n",
    "\n",
    "            #compute ROC points at fixed fpr (to plot error bars)\n",
    "            fpr=np.linspace(0,1,101); tpr=[]\n",
    "\n",
    "            if len(np.unique(yte))>1:                \n",
    "                nscores = np.sort(np.column_stack((yscore[yte==0],yte[yte==0])),axis=0)\n",
    "                neg_counts = sum(yte==0)\n",
    "                for f in fpr:\n",
    "                    ind = neg_counts-int(neg_counts*f)-1\n",
    "                    t = (nscores[ind])[0]\n",
    "                    if f==1:\n",
    "                        t = 0\n",
    "                    tpr_t = sum(yscore[yte==1]>t) / sum(yte==1)\n",
    "                    tpr.append(tpr_t) \n",
    "\n",
    "            fpr = np.asarray(fpr); tpr = np.asarray(tpr)\n",
    "            fpr_all.append(fpr); tpr_all.append(tpr)\n",
    "\n",
    "            #store feature importance\n",
    "            if model_name != 'SVM':\n",
    "                fi_all.append(clf.feature_importances_)\n",
    "\n",
    "            s+=1\n",
    "\n",
    "        #group results for each model\n",
    "        groupres[tuple(T)] = {'f1':f1_test_all, 'auprc':auprc_all, 'auroc':auroc_all, 'tpr':tpr_all, 'fpr':fpr_all, \n",
    "                                'rec':rec_all, 'spec':spec_all, 'fi':fi_all}\n",
    "\n",
    "        #mean across groups for each model\n",
    "        r = pd.DataFrame({'model':model_name, 'f1':np.nanmean(f1_test_all), 'auprc':np.nanmean(auprc_all), 'auroc':np.nanmean(auroc_all)}\n",
    "                        ,index=[0])\n",
    "        results = pd.concat((results,r))\n",
    "        \n",
    "    return results,groupres \n",
    "    "
   ]
  },
  {
   "cell_type": "code",
   "execution_count": 3,
   "metadata": {},
   "outputs": [],
   "source": [
    "folder_path = r'Z:CIS-PD Study'\n",
    "subjects_path = r'Z:\\CIS-PD Study\\Subjects' #Windows remote path\n",
    "dict_path = 'Z:\\CIS-PD Study\\Data_dict'\n",
    "scores_path = r'Z:\\CIS-PD Study\\Scores' #remote repo\n",
    "#features_path = r'Z:\\CIS-PD Study\\FeatureMatrix' #remote repo\n",
    "#results_path = r'C:\\Users\\andre\\Documents\\GitHub\\CIS_PD\\Results' #results folder\n",
    "results_path = r'C:\\Users\\LU-RT&O\\Documents\\CIS-PD-EMG\\Results'\n",
    "\n",
    "# path = '/Volumes/RTO/CIS-PD Study/Subjects/' #Mac\n",
    "# folder_path = '/Volumes/RTO/CIS-PD Study/'\n",
    "# dict_path = '../Data_dict' # Mac local path\n",
    "# scores_path = '../Scores/' # Mac local path\n",
    "# features_path = '../FeatureMatrix' # Mac local path\n",
    "# results_path = '../Results' # Mac local path\n",
    "\n",
    "# # #---------------------------------------------------------------------------------------------------------\n",
    "# # # Set path to folder containing Subject ID numbers\n",
    "# # # path = '/Volumes/RTO/CIS-PD Study/Subjects/' #Mac\n",
    "# path = r'Y:\\CIS-PD Study\\Subjects' #Windows local path adai\n",
    "# # #---------------------------------------------------------------------------------------------------------\n",
    "# # #Path where dictionary subject data is stored\n",
    "# dict_path = 'Y:\\CIS-PD Study\\Data_dict' #remote repo\n",
    "# # # dict_path = '../Data_dict' #local path\n",
    "# # # dict_path = r'C:\\Users\\adai\\Documents\\Data_dict' #Windows local path adai\n",
    "\n",
    "# scores_path = r'Y:\\CIS-PD Study\\Scores' #remote repo\n",
    "# # # scores_path = '../Scores/' #local path\n",
    "\n",
    "# # #path where feature matrix is saved\n",
    "# # # features_path = '../FeatureMatrix' #local\n",
    "# features_path = 'Y:\\CIS-PD Study\\FeatureMatrix'"
   ]
  },
  {
   "cell_type": "markdown",
   "metadata": {},
   "source": [
    "## Load unpacked features data"
   ]
  },
  {
   "cell_type": "code",
   "execution_count": 4,
   "metadata": {},
   "outputs": [
    {
     "name": "stdout",
     "output_type": "stream",
     "text": [
      "(24649, 19)\n"
     ]
    }
   ],
   "source": [
    "# filename = 'Features_AllLocsHP+LP_Hand.pkl'\n",
    "#filename = 'Features_AllLocsHP_Hand.pkl'\n",
    "filename = 'MotorTasks EMG Data.csv'\n",
    "#Data = pickle.load(open(os.path.join(features_path,filename),'rb'))\n",
    "Dataorig = pd.read_csv(os.path.join(folder_path,filename), index_col=0)\n",
    "Dataorig = Dataorig.reset_index(drop=True)\n",
    "print(Dataorig.shape)"
   ]
  },
  {
   "cell_type": "code",
   "execution_count": 5,
   "metadata": {},
   "outputs": [
    {
     "data": {
      "text/html": [
       "<div>\n",
       "<style scoped>\n",
       "    .dataframe tbody tr th:only-of-type {\n",
       "        vertical-align: middle;\n",
       "    }\n",
       "\n",
       "    .dataframe tbody tr th {\n",
       "        vertical-align: top;\n",
       "    }\n",
       "\n",
       "    .dataframe thead th {\n",
       "        text-align: right;\n",
       "    }\n",
       "</style>\n",
       "<table border=\"1\" class=\"dataframe\">\n",
       "  <thead>\n",
       "    <tr style=\"text-align: right;\">\n",
       "      <th></th>\n",
       "      <th>Subject</th>\n",
       "      <th>Visit</th>\n",
       "      <th>Task</th>\n",
       "      <th>Location</th>\n",
       "      <th>Bradykinesia</th>\n",
       "      <th>Tremor</th>\n",
       "      <th>RMS</th>\n",
       "      <th>range</th>\n",
       "      <th>mean</th>\n",
       "      <th>var</th>\n",
       "      <th>skew</th>\n",
       "      <th>kurt</th>\n",
       "      <th>Pdom_rel</th>\n",
       "      <th>Dom_freq</th>\n",
       "      <th>Sen</th>\n",
       "      <th>PSD_mean</th>\n",
       "      <th>PSD_std</th>\n",
       "      <th>PSD_skew</th>\n",
       "      <th>PSD_kurt</th>\n",
       "    </tr>\n",
       "  </thead>\n",
       "  <tbody>\n",
       "    <tr>\n",
       "      <th>0</th>\n",
       "      <td>1004</td>\n",
       "      <td>2 Weeks: Time 0</td>\n",
       "      <td>Motor #2: Walking</td>\n",
       "      <td>flexor_digitorum_left</td>\n",
       "      <td>1.0</td>\n",
       "      <td>0.0</td>\n",
       "      <td>6.151822e-07</td>\n",
       "      <td>0.000602</td>\n",
       "      <td>0.000014</td>\n",
       "      <td>0.000041</td>\n",
       "      <td>7.179695</td>\n",
       "      <td>66.65449</td>\n",
       "      <td>0.241702</td>\n",
       "      <td>23.428116</td>\n",
       "      <td>0.135976</td>\n",
       "      <td>3.161790e-12</td>\n",
       "      <td>2.189881e-12</td>\n",
       "      <td>1.668629</td>\n",
       "      <td>2.143981</td>\n",
       "    </tr>\n",
       "    <tr>\n",
       "      <th>1</th>\n",
       "      <td>1004</td>\n",
       "      <td>2 Weeks: Time 0</td>\n",
       "      <td>Motor #2: Walking</td>\n",
       "      <td>flexor_digitorum_left</td>\n",
       "      <td>1.0</td>\n",
       "      <td>0.0</td>\n",
       "      <td>3.354660e-07</td>\n",
       "      <td>0.000386</td>\n",
       "      <td>0.000007</td>\n",
       "      <td>0.000023</td>\n",
       "      <td>11.376146</td>\n",
       "      <td>155.11949</td>\n",
       "      <td>0.171759</td>\n",
       "      <td>62.481236</td>\n",
       "      <td>0.323161</td>\n",
       "      <td>2.162332e-12</td>\n",
       "      <td>1.454878e-12</td>\n",
       "      <td>0.370689</td>\n",
       "      <td>-1.425093</td>\n",
       "    </tr>\n",
       "  </tbody>\n",
       "</table>\n",
       "</div>"
      ],
      "text/plain": [
       "   Subject            Visit               Task               Location  \\\n",
       "0     1004  2 Weeks: Time 0  Motor #2: Walking  flexor_digitorum_left   \n",
       "1     1004  2 Weeks: Time 0  Motor #2: Walking  flexor_digitorum_left   \n",
       "\n",
       "   Bradykinesia  Tremor           RMS     range      mean       var  \\\n",
       "0           1.0     0.0  6.151822e-07  0.000602  0.000014  0.000041   \n",
       "1           1.0     0.0  3.354660e-07  0.000386  0.000007  0.000023   \n",
       "\n",
       "        skew       kurt  Pdom_rel   Dom_freq       Sen      PSD_mean  \\\n",
       "0   7.179695   66.65449  0.241702  23.428116  0.135976  3.161790e-12   \n",
       "1  11.376146  155.11949  0.171759  62.481236  0.323161  2.162332e-12   \n",
       "\n",
       "        PSD_std  PSD_skew  PSD_kurt  \n",
       "0  2.189881e-12  1.668629  2.143981  \n",
       "1  1.454878e-12  0.370689 -1.425093  "
      ]
     },
     "execution_count": 5,
     "metadata": {},
     "output_type": "execute_result"
    }
   ],
   "source": [
    "Dataorig.head(2)"
   ]
  },
  {
   "cell_type": "code",
   "execution_count": 6,
   "metadata": {},
   "outputs": [],
   "source": [
    "Dataorig=Dataorig[Dataorig.Subject!=1020] #remove subj does not have visits 1-5"
   ]
  },
  {
   "cell_type": "code",
   "execution_count": 7,
   "metadata": {},
   "outputs": [
    {
     "data": {
      "text/plain": [
       "array(['Motor #2: Walking', 'Motor #3: Walking while Counting',\n",
       "       'Motor #4: Finger to Nose', 'Motor #5: Alternating Hand Movements',\n",
       "       'Motor #6: Sit to Stand', 'Motor #7: Drawing on Paper',\n",
       "       'Motor #8: Typing on a Computer', 'Motor #9: Nuts and Bolts',\n",
       "       'Motor #10: Drinking Water', 'Motor #11: Organizing Folder',\n",
       "       'Motor #12: Folding Towels', 'Motor #1: Standing',\n",
       "       'Motor #13: Sitting'], dtype=object)"
      ]
     },
     "execution_count": 7,
     "metadata": {},
     "output_type": "execute_result"
    }
   ],
   "source": [
    "Dataorig.Task.unique()"
   ]
  },
  {
   "cell_type": "markdown",
   "metadata": {},
   "source": [
    "## LOSO CV - ALL TASKS"
   ]
  },
  {
   "cell_type": "markdown",
   "metadata": {},
   "source": [
    "## Bradykinesia"
   ]
  },
  {
   "cell_type": "code",
   "execution_count": 8,
   "metadata": {},
   "outputs": [],
   "source": [
    "# #amount of data per subject\n",
    "# subjdata=[]\n",
    "# for s in Data.Subject.unique():\n",
    "# #     print(s,len(Data[Data.Subject==s]))\n",
    "#     subjdata.append(len(Data[Data.Subject==s]))\n",
    "    \n",
    "# sns.barplot(Data.Subject.unique(),subjdata)\n",
    "# ax=plt.xticks(rotation=90)"
   ]
  },
  {
   "cell_type": "code",
   "execution_count": 9,
   "metadata": {
    "scrolled": true
   },
   "outputs": [
    {
     "name": "stdout",
     "output_type": "stream",
     "text": [
      "Rows w Bradykinesia 9991/19325 = 0.52\n",
      "Training Random Forest\n",
      "\n",
      "Subj/Visit 0, prec=0.413, rec=0.662, Spec=0.459, auroc_train=1.000, auroc=0.581\n",
      "\n",
      "Subj/Visit 1, prec=0.885, rec=0.404, Spec=0.608, auroc_train=1.000, auroc=0.517\n",
      "\n",
      "Subj/Visit 2, prec=0.529, rec=0.423, Spec=0.499, auroc_train=1.000, auroc=0.433\n",
      "\n",
      "Subj/Visit 3, prec=0.289, rec=0.583, Spec=0.366, auroc_train=1.000, auroc=0.452\n",
      "\n",
      "Subj/Visit 4, prec=0.704, rec=0.508, Spec=0.582, auroc_train=1.000, auroc=0.551\n",
      "\n",
      "Subj/Visit 5, prec=0.585, rec=0.566, Spec=0.476, auroc_train=1.000, auroc=0.535\n",
      "\n",
      "Subj/Visit 6, prec=0.571, rec=0.612, Spec=0.527, auroc_train=1.000, auroc=0.585\n",
      "\n",
      "Subj/Visit 7, prec=0.897, rec=0.355, Spec=0.723, auroc_train=1.000, auroc=0.559\n",
      "\n",
      "Subj/Visit 8, prec=0.301, rec=0.452, Spec=0.533, auroc_train=1.000, auroc=0.498\n",
      "\n",
      "Subj/Visit 9, prec=0.499, rec=0.532, Spec=0.510, auroc_train=1.000, auroc=0.538\n",
      "\n",
      "Subj/Visit 10, prec=0.365, rec=0.501, Spec=0.342, auroc_train=1.000, auroc=0.398\n",
      "\n",
      "Subj/Visit 11, prec=0.167, rec=0.824, Spec=0.449, auroc_train=1.000, auroc=0.640\n",
      "\n",
      "Subj/Visit 12, prec=0.740, rec=0.530, Spec=0.728, auroc_train=1.000, auroc=0.640\n",
      "\n",
      "Subj/Visit 13, prec=0.149, rec=0.492, Spec=0.364, auroc_train=1.000, auroc=0.396\n",
      "\n",
      "Subj/Visit 14, prec=0.604, rec=0.443, Spec=0.658, auroc_train=1.000, auroc=0.575\n",
      "\n",
      "Subj/Visit 15, prec=0.200, rec=0.547, Spec=0.405, auroc_train=1.000, auroc=0.465\n",
      "\n",
      "Subj/Visit 16, prec=0.575, rec=0.663, Spec=0.457, auroc_train=1.000, auroc=0.587\n",
      "\n",
      "Subj/Visit 17, prec=0.478, rec=0.494, Spec=0.442, auroc_train=1.000, auroc=0.469\n",
      "\n",
      "Subj/Visit 18, prec=0.923, rec=0.381, Spec=0.683, auroc_train=1.000, auroc=0.507\n",
      "f1_test=0.476+/-0.114, prec=0.520+/-0.234, rec=0.525+/-0.110, auprc=0.518+/-0.235, auroc=0.522+/-0.071\n",
      "Elapsed time = 0.926 min\n"
     ]
    }
   ],
   "source": [
    "t1=time.time()\n",
    "res_all = pd.DataFrame()\n",
    "\n",
    "#Data=Data.reset_index(drop=True) #reset index\n",
    "\n",
    "for symptom in ['Bradykinesia']:\n",
    "    \n",
    "    #remove nan rows for current symptom\n",
    "    Data = Dataorig.copy() #original unmodified dataframe\n",
    "    Data=Data[~Data[symptom].isnull()]\n",
    "    Data=Data.reset_index(drop=True) #reset index\n",
    "    \n",
    "    X = Data.iloc[:,7:].as_matrix()\n",
    "    # X = StandardScaler().fit_transform(X)\n",
    "    fnames = Data.iloc[:,7:].columns.values\n",
    "\n",
    "    indp = ((Data[symptom]>0))\n",
    "    indp = indp.values\n",
    "    y = indp.astype(int) #target \n",
    "    print('Rows w %s %d/%d = %.2f'%(symptom,sum(indp),len(indp),(sum(indp)/len(indp))))\n",
    "\n",
    "    models = [RandomForestClassifier(n_estimators=50,random_state=2)]          \n",
    "#           XGBClassifier()]\n",
    "    model_name = ['Random Forest']#,'XGB']\n",
    "    models = list(zip(models,model_name))\n",
    "    groups = Data.Subject.as_matrix()\n",
    "\n",
    "    res,res_group = LOSOCV(Data,X,y,groups,models)\n",
    "    res_all = pd.concat((res_all,res))\n",
    "    \n",
    "print('Elapsed time = %.3f min'%((time.time()-t1)/60))    "
   ]
  },
  {
   "cell_type": "code",
   "execution_count": 10,
   "metadata": {},
   "outputs": [],
   "source": [
    "resultsbrady = res_group['Random Forest']['auroc']\n",
    "np.save('Results/resultsbradyLOSO.npy',resultsbrady)"
   ]
  },
  {
   "cell_type": "markdown",
   "metadata": {},
   "source": [
    "Removing nans"
   ]
  },
  {
   "cell_type": "code",
   "execution_count": 11,
   "metadata": {
    "scrolled": true
   },
   "outputs": [
    {
     "data": {
      "text/plain": [
       "Text(0.5,1,'LOSO - Mean AUROC = 0.522 +/- 0.071')"
      ]
     },
     "execution_count": 11,
     "metadata": {},
     "output_type": "execute_result"
    },
    {
     "data": {
      "image/png": "[encoded data removed]",
      "text/plain": [
       "<matplotlib.figure.Figure at 0x5465f28>"
      ]
     },
     "metadata": {},
     "output_type": "display_data"
    }
   ],
   "source": [
    "aurocall = res_group['Random Forest']['auroc']\n",
    "sns.barplot(np.unique(groups),aurocall) #to show subj codes\n",
    "ax=plt.xticks(rotation=90)\n",
    "# sns.barplot(np.arange(len(aurocall)),aurocall) #to show subj codes\n",
    "plt.ylim([0.45,1.])\n",
    "plt.title('LOSO - Mean AUROC = %.3f +/- %.3f'%(np.nanmean(aurocall),np.nanstd(aurocall)))"
   ]
  },
  {
   "cell_type": "code",
   "execution_count": 12,
   "metadata": {},
   "outputs": [
    {
     "data": {
      "text/plain": [
       "<matplotlib.figure.Figure at 0xb6f9ef0>"
      ]
     },
     "metadata": {},
     "output_type": "display_data"
    }
   ],
   "source": [
    "plt.savefig('Results/BradyLOSOMeanAUROC.png',format='png',dpi=1000)\n",
    "#np.load(os.path.join(results_path,'Results\\Plots\\Bradykinesia LOSO Mean AUROC.png'))"
   ]
  },
  {
   "cell_type": "code",
   "execution_count": 13,
   "metadata": {},
   "outputs": [
    {
     "name": "stderr",
     "output_type": "stream",
     "text": [
      "C:\\Users\\Public\\Documents\\Anaconda\\lib\\site-packages\\seaborn\\timeseries.py:183: UserWarning: The tsplot function is deprecated and will be removed or replaced (in a substantially altered version) in a future release.\n",
      "  warnings.warn(msg, UserWarning)\n"
     ]
    },
    {
     "data": {
      "text/plain": [
       "<matplotlib.axes._subplots.AxesSubplot at 0xb2364a8>"
      ]
     },
     "execution_count": 13,
     "metadata": {},
     "output_type": "execute_result"
    },
    {
     "data": {
      "image/png": "[encoded data removed]",
      "text/plain": [
       "<matplotlib.figure.Figure at 0xb236c88>"
      ]
     },
     "metadata": {},
     "output_type": "display_data"
    }
   ],
   "source": [
    "plot_roc(res_group['Random Forest']['tpr'],res_group['Random Forest']['fpr'][0],np.mean(res_group['Random Forest']['auroc']))"
   ]
  },
  {
   "cell_type": "markdown",
   "metadata": {},
   "source": [
    "### Tremor"
   ]
  },
  {
   "cell_type": "code",
   "execution_count": 14,
   "metadata": {
    "scrolled": true
   },
   "outputs": [
    {
     "name": "stdout",
     "output_type": "stream",
     "text": [
      "Rows w Tremor 5630/22559 = 0.25\n",
      "Training Random Forest\n",
      "\n",
      "Subj/Visit 0, prec=0.091, rec=0.049, Spec=0.935, auroc_train=1.000, auroc=0.526\n",
      "\n",
      "Subj/Visit 1, prec=0.500, rec=0.005, Spec=0.996, auroc_train=1.000, auroc=0.480\n",
      "\n",
      "Subj/Visit 2, prec=0.030, rec=0.006, Spec=0.970, auroc_train=1.000, auroc=0.434\n",
      "\n",
      "Subj/Visit 3, prec=0.082, rec=0.063, Spec=0.951, auroc_train=1.000, auroc=0.518\n",
      "\n",
      "Subj/Visit 4, prec=0.310, rec=0.052, Spec=0.957, auroc_train=1.000, auroc=0.518\n",
      "\n",
      "Subj/Visit 5, prec=0.452, rec=0.058, Spec=0.949, auroc_train=1.000, auroc=0.535\n",
      "\n",
      "Subj/Visit 6, prec=0.153, rec=0.086, Spec=0.932, auroc_train=1.000, auroc=0.550\n",
      "\n",
      "Subj/Visit 7, prec=0.077, rec=0.110, Spec=0.893, auroc_train=1.000, auroc=0.529\n",
      "\n",
      "Subj/Visit 8, prec=0.767, rec=0.100, Spec=0.957, auroc_train=1.000, auroc=0.608\n",
      "\n",
      "Subj/Visit 9, prec=0.045, rec=0.029, Spec=0.946, auroc_train=1.000, auroc=0.489\n",
      "\n",
      "Subj/Visit 10, prec=0.113, rec=0.034, Spec=0.940, auroc_train=1.000, auroc=0.388\n",
      "\n",
      "Subj/Visit 11, prec=0.022, rec=0.067, Spec=0.949, auroc_train=1.000, auroc=0.551\n",
      "\n",
      "Subj/Visit 12, prec=0.821, rec=0.255, Spec=0.955, auroc_train=1.000, auroc=0.809\n",
      "\n",
      "Subj/Visit 13, prec=0.000, rec=0.000, Spec=0.824, auroc_train=1.000, auroc=0.212\n",
      "\n",
      "Subj/Visit 14, prec=0.000, rec=0.000, Spec=0.978, auroc_train=1.000, auroc=0.501\n"
     ]
    },
    {
     "name": "stderr",
     "output_type": "stream",
     "text": [
      "C:\\Users\\Public\\Documents\\Anaconda\\lib\\site-packages\\sklearn\\metrics\\classification.py:1137: UndefinedMetricWarning: F-score is ill-defined and being set to 0.0 due to no true samples.\n",
      "  'recall', 'true', average, warn_for)\n",
      "C:\\Users\\Public\\Documents\\Anaconda\\lib\\site-packages\\sklearn\\metrics\\ranking.py:444: RuntimeWarning: invalid value encountered in true_divide\n",
      "  recall = tps / tps[-1]\n",
      "C:\\Users\\Public\\Documents\\Anaconda\\lib\\site-packages\\sklearn\\metrics\\ranking.py:94: RuntimeWarning: invalid value encountered in less\n",
      "  if np.any(dx < 0):\n",
      "C:\\Users\\Public\\Documents\\Anaconda\\lib\\site-packages\\sklearn\\metrics\\classification.py:1137: UndefinedMetricWarning: Recall is ill-defined and being set to 0.0 due to no true samples.\n",
      "  'recall', 'true', average, warn_for)\n"
     ]
    },
    {
     "name": "stdout",
     "output_type": "stream",
     "text": [
      "only 1 class in test data - cannot compute roc curve\n",
      "\n",
      "Subj/Visit 15, prec=0.000, rec=0.000, Spec=0.936, auroc_train=1.000, auroc=nan\n",
      "\n",
      "Subj/Visit 16, prec=0.027, rec=0.143, Spec=0.929, auroc_train=1.000, auroc=0.624\n",
      "\n",
      "Subj/Visit 17, prec=0.839, rec=0.093, Spec=0.917, auroc_train=1.000, auroc=0.535\n",
      "\n",
      "Subj/Visit 18, prec=0.803, rec=0.072, Spec=0.924, auroc_train=1.000, auroc=0.497\n",
      "f1_test=0.083+/-0.090, prec=0.270+/-0.311, rec=0.064+/-0.060, auprc=0.286+/-0.288, auroc=0.517+/-0.112\n",
      "Elapsed time = 0.964 min\n"
     ]
    }
   ],
   "source": [
    "t1=time.time()\n",
    "res_all = pd.DataFrame()\n",
    "\n",
    "#Data = Dataorig.copy()\n",
    "#Data=Data.reset_index(drop=True) #reset index\n",
    "\n",
    "for symptom in ['Tremor']:\n",
    "    \n",
    "    #remove nan rows for current symptom\n",
    "    Data = Dataorig.copy() #original unmodified dataframe\n",
    "    Data=Data[~Data[symptom].isnull()]\n",
    "    Data=Data.reset_index(drop=True) #reset index\n",
    "    \n",
    "    X = Data.iloc[:,7:].as_matrix()\n",
    "    # X = StandardScaler().fit_transform(X)\n",
    "    fnames = Data.iloc[:,7:].columns.values\n",
    "\n",
    "    indp = ((Data[symptom]>0))\n",
    "    indp = indp.values\n",
    "    y = indp.astype(int) #target \n",
    "    print('Rows w %s %d/%d = %.2f'%(symptom,sum(indp),len(indp),(sum(indp)/len(indp))))\n",
    "\n",
    "    models = [RandomForestClassifier(n_estimators=50,random_state=2)]          \n",
    "#           XGBClassifier()]\n",
    "    model_name = ['Random Forest']#,'XGB']\n",
    "    models = list(zip(models,model_name))\n",
    "    groups = Data.Subject.as_matrix()\n",
    "\n",
    "    res,res_group = LOSOCV(Data,X,y,groups,models)\n",
    "    res_all = pd.concat((res_all,res))\n",
    "    \n",
    "print('Elapsed time = %.3f min'%((time.time()-t1)/60))    "
   ]
  },
  {
   "cell_type": "code",
   "execution_count": 15,
   "metadata": {},
   "outputs": [],
   "source": [
    "resultstremor = res_group['Random Forest']['auroc']"
   ]
  },
  {
   "cell_type": "code",
   "execution_count": 58,
   "metadata": {},
   "outputs": [],
   "source": [
    "np.save('./Results/resultstremorLOSO.npy',resultstremor)"
   ]
  },
  {
   "cell_type": "markdown",
   "metadata": {},
   "source": [
    "Removing nans"
   ]
  },
  {
   "cell_type": "code",
   "execution_count": 38,
   "metadata": {},
   "outputs": [
    {
     "data": {
      "text/plain": [
       "Text(0.5,1,'LOSO - Mean AUROC = 0.517 +/- 0.112')"
      ]
     },
     "execution_count": 38,
     "metadata": {},
     "output_type": "execute_result"
    },
    {
     "data": {
      "image/png": "[encoded data removed]",
      "text/plain": [
       "<matplotlib.figure.Figure at 0xe9d7198>"
      ]
     },
     "metadata": {},
     "output_type": "display_data"
    }
   ],
   "source": [
    "aurocall = res_group['Random Forest']['auroc']\n",
    "sns.barplot(np.unique(groups),aurocall) #to show subj codes\n",
    "ax=plt.xticks(rotation=90)\n",
    "# sns.barplot(np.arange(len(aurocall)),aurocall) #to show subj codes\n",
    "plt.ylim([0.45,1.])\n",
    "plt.title('LOSO - Mean AUROC = %.3f +/- %.3f'%(np.nanmean(aurocall),np.nanstd(aurocall)))"
   ]
  },
  {
   "cell_type": "code",
   "execution_count": 59,
   "metadata": {},
   "outputs": [
    {
     "data": {
      "text/plain": [
       "<matplotlib.figure.Figure at 0xea5f208>"
      ]
     },
     "metadata": {},
     "output_type": "display_data"
    }
   ],
   "source": [
    "plt.savefig('Results/TremorLOSOMeanAUROC.png',format='png',dpi=1000)"
   ]
  },
  {
   "cell_type": "markdown",
   "metadata": {},
   "source": [
    "## Personal Models"
   ]
  },
  {
   "cell_type": "code",
   "execution_count": 40,
   "metadata": {},
   "outputs": [],
   "source": [
    "def personalModel(symptom):\n",
    "    le = LabelEncoder()\n",
    "    res_all = pd.DataFrame(data=None,index=None)\n",
    "    #train on all sessions, predict on left out session for each patient\n",
    "    res_visit_all = [] #data from each subject \n",
    "\n",
    "    #remove nan rows for current symptom\n",
    "    Data = Dataorig.copy() #original unmodified dataframe\n",
    "    Data=Data[~Data[symptom].isnull()]\n",
    "    Data=Data.reset_index(drop=True) #reset index\n",
    "\n",
    "    for s in Data.Subject.unique():\n",
    "        print('Subject %s'%s)\n",
    "        ds = Data.loc[Data.Subject==s]\n",
    "        indp = (ds[symptom]>0).values\n",
    "        y = indp.astype(int) #target \n",
    "        X = ds.iloc[:,7:]\n",
    "        X_std = StandardScaler().fit_transform(X) #standardize input data\n",
    "        models = [RandomForestClassifier(n_estimators=50,random_state=2)]#,XGBClassifier()]\n",
    "        model_name = ['Random Forest']#,'XGB']\n",
    "        models = list(zip(models,model_name))\n",
    "        groups = le.fit_transform(ds.Visit)\n",
    "        if len(np.unique(groups))<2:\n",
    "            continue\n",
    "        res,res_group = LOSOCV(ds,X_std,y,groups,models)\n",
    "        res.index = res.index+s\n",
    "        res_all=pd.concat((res_all,res))\n",
    "        res_visit_all.append(res_group)\n",
    "        \n",
    "    return res_all, res_visit_all"
   ]
  },
  {
   "cell_type": "code",
   "execution_count": 41,
   "metadata": {
    "scrolled": true
   },
   "outputs": [
    {
     "name": "stdout",
     "output_type": "stream",
     "text": [
      "Subject 1004\n",
      "Training Random Forest\n",
      "\n",
      "Subj/Visit 0, prec=0.911, rec=0.259, Spec=0.750, auroc_train=1.000, auroc=0.513\n",
      "\n",
      "Subj/Visit 1, prec=0.310, rec=0.500, Spec=0.766, auroc_train=1.000, auroc=0.696\n",
      "\n",
      "Subj/Visit 2, prec=0.300, rec=0.632, Spec=0.772, auroc_train=1.000, auroc=0.810\n",
      "\n",
      "Subj/Visit 3, prec=0.489, rec=0.365, Spec=0.742, auroc_train=1.000, auroc=0.678\n",
      "\n",
      "Subj/Visit 4, prec=0.386, rec=0.810, Spec=0.784, auroc_train=1.000, auroc=0.851\n",
      "\n",
      "Subj/Visit 5, prec=0.553, rec=0.525, Spec=0.845, auroc_train=1.000, auroc=0.794\n",
      "\n",
      "Subj/Visit 6, prec=0.821, rec=0.418, Spec=0.933, auroc_train=1.000, auroc=0.771\n",
      "f1_test=0.461+/-0.068, prec=0.539+/-0.225, rec=0.501+/-0.168, auprc=0.563+/-0.194, auroc=0.730+/-0.105\n",
      "Subject 1016\n",
      "Training Random Forest\n",
      "\n",
      "Subj/Visit 0, prec=0.966, rec=0.973, Spec=0.286, auroc_train=1.000, auroc=0.612\n",
      "\n",
      "Subj/Visit 1, prec=0.864, rec=0.976, Spec=0.367, auroc_train=1.000, auroc=0.828\n",
      "\n",
      "Subj/Visit 2, prec=0.838, rec=1.000, Spec=0.143, auroc_train=1.000, auroc=0.734\n",
      "\n",
      "Subj/Visit 3, prec=0.993, rec=0.967, Spec=0.857, auroc_train=1.000, auroc=0.974\n",
      "\n",
      "Subj/Visit 4, prec=0.854, rec=0.976, Spec=0.250, auroc_train=1.000, auroc=0.712\n",
      "\n",
      "Subj/Visit 5, prec=0.911, rec=0.986, Spec=0.391, auroc_train=1.000, auroc=0.785\n",
      "\n",
      "Subj/Visit 6, prec=0.954, rec=0.980, Spec=0.000, auroc_train=1.000, auroc=0.516\n",
      "f1_test=0.943+/-0.028, prec=0.912+/-0.057, rec=0.980+/-0.010, auprc=0.949+/-0.032, auroc=0.737+/-0.137\n",
      "Subject 1018\n",
      "Training Random Forest\n",
      "\n",
      "Subj/Visit 0, prec=0.835, rec=0.664, Spec=0.714, auroc_train=1.000, auroc=0.776\n",
      "\n",
      "Subj/Visit 1, prec=0.800, rec=0.872, Spec=0.726, auroc_train=1.000, auroc=0.856\n",
      "\n",
      "Subj/Visit 2, prec=0.695, rec=0.803, Spec=0.653, auroc_train=1.000, auroc=0.815\n",
      "\n",
      "Subj/Visit 3, prec=0.742, rec=0.835, Spec=0.646, auroc_train=1.000, auroc=0.854\n",
      "\n",
      "Subj/Visit 4, prec=0.897, rec=0.765, Spec=0.827, auroc_train=1.000, auroc=0.899\n",
      "\n",
      "Subj/Visit 5, prec=0.537, rec=0.866, Spec=0.412, auroc_train=1.000, auroc=0.688\n",
      "\n",
      "Subj/Visit 6, prec=0.780, rec=0.348, Spec=0.855, auroc_train=1.000, auroc=0.616\n",
      "f1_test=0.725+/-0.113, prec=0.755+/-0.107, rec=0.736+/-0.172, auprc=0.805+/-0.121, auroc=0.786+/-0.094\n",
      "Subject 1019\n",
      "Training Random Forest\n",
      "\n",
      "Subj/Visit 0, prec=0.857, rec=0.316, Spec=0.955, auroc_train=1.000, auroc=0.786\n",
      "\n",
      "Subj/Visit 1, prec=0.588, rec=0.606, Spec=0.874, auroc_train=1.000, auroc=0.838\n",
      "\n",
      "Subj/Visit 2, prec=0.357, rec=0.750, Spec=0.789, auroc_train=1.000, auroc=0.875\n",
      "\n",
      "Subj/Visit 3, prec=0.897, rec=0.556, Spec=0.955, auroc_train=1.000, auroc=0.857\n",
      "\n",
      "Subj/Visit 4, prec=0.865, rec=0.627, Spec=0.945, auroc_train=1.000, auroc=0.915\n",
      "\n",
      "Subj/Visit 5, prec=0.645, rec=0.556, Spec=0.904, auroc_train=1.000, auroc=0.891\n",
      "\n",
      "Subj/Visit 6, prec=0.250, rec=0.021, Spec=0.974, auroc_train=1.000, auroc=0.616\n",
      "f1_test=0.513+/-0.213, prec=0.637+/-0.239, rec=0.490+/-0.226, auprc=0.709+/-0.144, auroc=0.826+/-0.093\n",
      "Subject 1024\n",
      "Training Random Forest\n",
      "\n",
      "Subj/Visit 0, prec=0.942, rec=0.694, Spec=0.200, auroc_train=1.000, auroc=0.480\n",
      "\n",
      "Subj/Visit 1, prec=0.590, rec=0.911, Spec=0.254, auroc_train=1.000, auroc=0.598\n",
      "\n",
      "Subj/Visit 2, prec=0.585, rec=0.912, Spec=0.389, auroc_train=1.000, auroc=0.694\n",
      "\n",
      "Subj/Visit 3, prec=0.876, rec=0.843, Spec=0.273, auroc_train=1.000, auroc=0.566\n",
      "\n",
      "Subj/Visit 4, prec=0.644, rec=0.770, Spec=0.245, auroc_train=1.000, auroc=0.462\n",
      "\n",
      "Subj/Visit 5, prec=0.653, rec=0.898, Spec=0.276, auroc_train=1.000, auroc=0.557\n",
      "\n",
      "Subj/Visit 6, prec=0.492, rec=0.926, Spec=0.244, auroc_train=1.000, auroc=0.674\n",
      "f1_test=0.741+/-0.066, prec=0.683+/-0.152, rec=0.851+/-0.082, auprc=0.695+/-0.133, auroc=0.576+/-0.082\n",
      "Subject 1029\n",
      "Training Random Forest\n",
      "\n",
      "Subj/Visit 0, prec=0.882, rec=0.657, Spec=0.636, auroc_train=1.000, auroc=0.694\n",
      "\n",
      "Subj/Visit 1, prec=0.548, rec=0.838, Spec=0.440, auroc_train=1.000, auroc=0.691\n",
      "\n",
      "Subj/Visit 2, prec=0.554, rec=0.567, Spec=0.512, auroc_train=1.000, auroc=0.517\n",
      "\n",
      "Subj/Visit 3, prec=0.438, rec=0.841, Spec=0.313, auroc_train=1.000, auroc=0.549\n",
      "\n",
      "Subj/Visit 4, prec=0.591, rec=0.938, Spec=0.381, auroc_train=1.000, auroc=0.754\n",
      "\n",
      "Subj/Visit 5, prec=0.583, rec=0.811, Spec=0.511, auroc_train=1.000, auroc=0.711\n",
      "\n",
      "Subj/Visit 6, prec=0.786, rec=0.367, Spec=0.583, auroc_train=1.000, auroc=0.481\n",
      "f1_test=0.636+/-0.086, prec=0.626+/-0.142, rec=0.717+/-0.184, auprc=0.660+/-0.150, auroc=0.628+/-0.101\n",
      "Subject 1030\n",
      "Training Random Forest\n",
      "\n",
      "Subj/Visit 0, prec=0.857, rec=0.659, Spec=0.825, auroc_train=1.000, auroc=0.817\n",
      "\n",
      "Subj/Visit 1, prec=0.809, rec=0.655, Spec=0.797, auroc_train=1.000, auroc=0.809\n",
      "\n",
      "Subj/Visit 2, prec=0.700, rec=0.721, Spec=0.744, auroc_train=1.000, auroc=0.771\n",
      "\n",
      "Subj/Visit 3, prec=0.620, rec=0.611, Spec=0.603, auroc_train=1.000, auroc=0.649\n",
      "\n",
      "Subj/Visit 4, prec=0.585, rec=0.716, Spec=0.558, auroc_train=1.000, auroc=0.713\n",
      "\n",
      "Subj/Visit 5, prec=0.637, rec=0.841, Spec=0.582, auroc_train=1.000, auroc=0.785\n",
      "\n",
      "Subj/Visit 6, prec=0.614, rec=0.771, Spec=0.575, auroc_train=1.000, auroc=0.707\n",
      "f1_test=0.692+/-0.044, prec=0.689+/-0.098, rec=0.711+/-0.072, auprc=0.711+/-0.094, auroc=0.750+/-0.057\n",
      "Subject 1032\n",
      "Training Random Forest\n",
      "\n",
      "Subj/Visit 0, prec=0.964, rec=0.974, Spec=0.000, auroc_train=1.000, auroc=0.672\n",
      "\n",
      "Subj/Visit 1, prec=0.905, rec=0.990, Spec=0.355, auroc_train=1.000, auroc=0.878\n",
      "\n",
      "Subj/Visit 2, prec=0.833, rec=0.965, Spec=0.057, auroc_train=1.000, auroc=0.598\n",
      "\n",
      "Subj/Visit 3, prec=0.912, rec=0.981, Spec=0.250, auroc_train=1.000, auroc=0.884\n",
      "\n",
      "Subj/Visit 4, prec=0.893, rec=0.955, Spec=0.053, auroc_train=1.000, auroc=0.798\n",
      "\n",
      "Subj/Visit 5, prec=0.872, rec=0.938, Spec=0.267, auroc_train=1.000, auroc=0.705\n",
      "\n",
      "Subj/Visit 6, prec=0.828, rec=0.966, Spec=0.000, auroc_train=1.000, auroc=0.423\n",
      "f1_test=0.925+/-0.027, prec=0.887+/-0.044, rec=0.967+/-0.016, auprc=0.932+/-0.058, auroc=0.708+/-0.153\n",
      "Subject 1038\n",
      "Training Random Forest\n",
      "\n",
      "Subj/Visit 0, prec=1.000, rec=0.377, Spec=1.000, auroc_train=1.000, auroc=0.825\n",
      "\n",
      "Subj/Visit 1, prec=0.846, rec=0.550, Spec=0.947, auroc_train=1.000, auroc=0.843\n",
      "\n",
      "Subj/Visit 2, prec=0.906, rec=0.604, Spec=0.973, auroc_train=1.000, auroc=0.879\n",
      "\n",
      "Subj/Visit 3, prec=0.491, rec=0.730, Spec=0.769, auroc_train=1.000, auroc=0.786\n",
      "\n",
      "Subj/Visit 4, prec=0.658, rec=0.806, Spec=0.901, auroc_train=1.000, auroc=0.919\n",
      "\n",
      "Subj/Visit 5, prec=0.967, rec=0.483, Spec=0.991, auroc_train=1.000, auroc=0.791\n",
      "\n",
      "Subj/Visit 6, prec=0.311, rec=0.222, Spec=0.667, auroc_train=1.000, auroc=0.412\n",
      "f1_test=0.594+/-0.149, prec=0.740+/-0.242, rec=0.539+/-0.186, auprc=0.672+/-0.185, auroc=0.779+/-0.156\n",
      "Subject 1044\n",
      "Training Random Forest\n",
      "\n",
      "Subj/Visit 0, prec=0.947, rec=0.772, Spec=0.935, auroc_train=1.000, auroc=0.874\n",
      "\n",
      "Subj/Visit 1, prec=0.806, rec=0.951, Spec=0.849, auroc_train=1.000, auroc=0.974\n",
      "\n",
      "Subj/Visit 2, prec=0.925, rec=0.886, Spec=0.942, auroc_train=1.000, auroc=0.976\n",
      "\n",
      "Subj/Visit 3, prec=0.871, rec=0.964, Spec=0.857, auroc_train=1.000, auroc=0.981\n",
      "\n",
      "Subj/Visit 4, prec=0.902, rec=0.833, Spec=0.925, auroc_train=1.000, auroc=0.960\n",
      "\n",
      "Subj/Visit 5, prec=0.925, rec=0.899, Spec=0.940, auroc_train=1.000, auroc=0.970\n",
      "\n",
      "Subj/Visit 6, prec=0.432, rec=0.241, Spec=0.684, auroc_train=1.000, auroc=0.449\n",
      "f1_test=0.804+/-0.204, prec=0.830+/-0.168, rec=0.792+/-0.233, auprc=0.886+/-0.181, auroc=0.883+/-0.181\n",
      "Subject 1046\n",
      "Training Random Forest\n",
      "\n",
      "Subj/Visit 0, prec=0.923, rec=0.522, Spec=0.961, auroc_train=1.000, auroc=0.907\n",
      "\n",
      "Subj/Visit 1, prec=0.737, rec=1.000, Spec=0.840, auroc_train=1.000, auroc=0.978\n",
      "\n",
      "Subj/Visit 2, prec=0.765, rec=0.929, Spec=0.854, auroc_train=1.000, auroc=0.957\n",
      "\n",
      "Subj/Visit 3, prec=0.913, rec=0.667, Spec=0.944, auroc_train=1.000, auroc=0.921\n",
      "\n",
      "Subj/Visit 4, prec=0.836, rec=0.773, Spec=0.865, auroc_train=1.000, auroc=0.885\n",
      "\n",
      "Subj/Visit 5, prec=0.746, rec=0.759, Spec=0.817, auroc_train=1.000, auroc=0.884\n",
      "\n",
      "Subj/Visit 6, prec=0.786, rec=0.638, Spec=0.803, auroc_train=1.000, auroc=0.800\n",
      "f1_test=0.769+/-0.062, prec=0.815+/-0.072, rec=0.755+/-0.154, auprc=0.888+/-0.037, auroc=0.905+/-0.054\n",
      "Subject 1047\n",
      "Training Random Forest\n",
      "\n",
      "Subj/Visit 0, prec=1.000, rec=0.140, Spec=1.000, auroc_train=1.000, auroc=0.855\n",
      "only 1 class in test data - cannot compute roc curve\n",
      "\n",
      "Subj/Visit 1, prec=0.000, rec=0.000, Spec=0.968, auroc_train=1.000, auroc=nan\n",
      "only 1 class in test data - cannot compute roc curve\n",
      "\n",
      "Subj/Visit 2, prec=0.000, rec=0.000, Spec=0.906, auroc_train=1.000, auroc=nan\n"
     ]
    },
    {
     "name": "stderr",
     "output_type": "stream",
     "text": [
      "C:\\Users\\Public\\Documents\\Anaconda\\lib\\site-packages\\sklearn\\metrics\\classification.py:1137: UndefinedMetricWarning: F-score is ill-defined and being set to 0.0 due to no true samples.\n",
      "  'recall', 'true', average, warn_for)\n",
      "C:\\Users\\Public\\Documents\\Anaconda\\lib\\site-packages\\sklearn\\metrics\\ranking.py:444: RuntimeWarning: invalid value encountered in true_divide\n",
      "  recall = tps / tps[-1]\n",
      "C:\\Users\\Public\\Documents\\Anaconda\\lib\\site-packages\\sklearn\\metrics\\ranking.py:94: RuntimeWarning: invalid value encountered in less\n",
      "  if np.any(dx < 0):\n",
      "C:\\Users\\Public\\Documents\\Anaconda\\lib\\site-packages\\sklearn\\metrics\\classification.py:1137: UndefinedMetricWarning: Recall is ill-defined and being set to 0.0 due to no true samples.\n",
      "  'recall', 'true', average, warn_for)\n",
      "C:\\Users\\Public\\Documents\\Anaconda\\lib\\site-packages\\sklearn\\metrics\\classification.py:1137: UndefinedMetricWarning: F-score is ill-defined and being set to 0.0 due to no true samples.\n",
      "  'recall', 'true', average, warn_for)\n",
      "C:\\Users\\Public\\Documents\\Anaconda\\lib\\site-packages\\sklearn\\metrics\\ranking.py:444: RuntimeWarning: invalid value encountered in true_divide\n",
      "  recall = tps / tps[-1]\n",
      "C:\\Users\\Public\\Documents\\Anaconda\\lib\\site-packages\\sklearn\\metrics\\ranking.py:94: RuntimeWarning: invalid value encountered in less\n",
      "  if np.any(dx < 0):\n",
      "C:\\Users\\Public\\Documents\\Anaconda\\lib\\site-packages\\sklearn\\metrics\\classification.py:1137: UndefinedMetricWarning: Recall is ill-defined and being set to 0.0 due to no true samples.\n",
      "  'recall', 'true', average, warn_for)\n"
     ]
    },
    {
     "name": "stdout",
     "output_type": "stream",
     "text": [
      "\n",
      "Subj/Visit 3, prec=0.640, rec=0.390, Spec=0.897, auroc_train=1.000, auroc=0.833\n",
      "only 1 class in test data - cannot compute roc curve\n",
      "\n",
      "Subj/Visit 4, prec=0.000, rec=0.000, Spec=1.000, auroc_train=1.000, auroc=nan\n",
      "only 1 class in test data - cannot compute roc curve\n",
      "\n",
      "Subj/Visit 5, prec=0.000, rec=0.000, Spec=0.992, auroc_train=1.000, auroc=nan\n",
      "f1_test=0.122+/-0.186, prec=0.273+/-0.400, rec=0.088+/-0.144, auprc=0.706+/-0.055, auroc=0.844+/-0.011\n",
      "Subject 1049\n",
      "Training Random Forest\n"
     ]
    },
    {
     "name": "stderr",
     "output_type": "stream",
     "text": [
      "C:\\Users\\Public\\Documents\\Anaconda\\lib\\site-packages\\sklearn\\metrics\\ranking.py:444: RuntimeWarning: invalid value encountered in true_divide\n",
      "  recall = tps / tps[-1]\n",
      "C:\\Users\\Public\\Documents\\Anaconda\\lib\\site-packages\\sklearn\\metrics\\ranking.py:94: RuntimeWarning: invalid value encountered in less\n",
      "  if np.any(dx < 0):\n",
      "C:\\Users\\Public\\Documents\\Anaconda\\lib\\site-packages\\sklearn\\metrics\\classification.py:1137: UndefinedMetricWarning: F-score is ill-defined and being set to 0.0 due to no true samples.\n",
      "  'recall', 'true', average, warn_for)\n",
      "C:\\Users\\Public\\Documents\\Anaconda\\lib\\site-packages\\sklearn\\metrics\\ranking.py:444: RuntimeWarning: invalid value encountered in true_divide\n",
      "  recall = tps / tps[-1]\n",
      "C:\\Users\\Public\\Documents\\Anaconda\\lib\\site-packages\\sklearn\\metrics\\ranking.py:94: RuntimeWarning: invalid value encountered in less\n",
      "  if np.any(dx < 0):\n",
      "C:\\Users\\Public\\Documents\\Anaconda\\lib\\site-packages\\sklearn\\metrics\\classification.py:1137: UndefinedMetricWarning: Recall is ill-defined and being set to 0.0 due to no true samples.\n",
      "  'recall', 'true', average, warn_for)\n"
     ]
    },
    {
     "name": "stdout",
     "output_type": "stream",
     "text": [
      "\n",
      "Subj/Visit 0, prec=0.844, rec=0.868, Spec=0.764, auroc_train=1.000, auroc=0.910\n",
      "\n",
      "Subj/Visit 1, prec=0.911, rec=0.800, Spec=0.883, auroc_train=1.000, auroc=0.882\n",
      "\n",
      "Subj/Visit 2, prec=0.886, rec=0.750, Spec=0.853, auroc_train=1.000, auroc=0.818\n",
      "\n",
      "Subj/Visit 3, prec=0.875, rec=0.824, Spec=0.818, auroc_train=1.000, auroc=0.872\n",
      "\n",
      "Subj/Visit 4, prec=0.865, rec=0.814, Spec=0.814, auroc_train=1.000, auroc=0.838\n",
      "\n",
      "Subj/Visit 5, prec=0.897, rec=0.722, Spec=0.873, auroc_train=1.000, auroc=0.804\n",
      "\n",
      "Subj/Visit 6, prec=0.641, rec=0.446, Spec=0.697, auroc_train=1.000, auroc=0.597\n",
      "f1_test=0.790+/-0.110, prec=0.846+/-0.086, rec=0.746+/-0.130, auprc=0.867+/-0.093, auroc=0.817+/-0.097\n",
      "Subject 1051\n",
      "Training Random Forest\n",
      "\n",
      "Subj/Visit 0, prec=1.000, rec=0.360, Spec=1.000, auroc_train=1.000, auroc=0.917\n",
      "\n",
      "Subj/Visit 1, prec=0.667, rec=0.308, Spec=0.983, auroc_train=1.000, auroc=0.880\n",
      "\n",
      "Subj/Visit 2, prec=0.667, rec=0.500, Spec=0.984, auroc_train=1.000, auroc=0.876\n",
      "\n",
      "Subj/Visit 3, prec=0.875, rec=0.146, Spec=0.990, auroc_train=1.000, auroc=0.806\n",
      "\n",
      "Subj/Visit 4, prec=0.250, rec=0.429, Spec=0.929, auroc_train=1.000, auroc=0.812\n",
      "\n",
      "Subj/Visit 5, prec=0.500, rec=0.308, Spec=0.967, auroc_train=1.000, auroc=0.808\n",
      "\n",
      "Subj/Visit 6, prec=0.000, rec=0.000, Spec=0.904, auroc_train=1.000, auroc=0.231\n",
      "f1_test=0.353+/-0.178, prec=0.565+/-0.323, rec=0.293+/-0.158, auprc=0.520+/-0.205, auroc=0.761+/-0.220\n",
      "Subject 1052\n",
      "Training Random Forest\n",
      "\n",
      "Subj/Visit 0, prec=0.874, rec=0.682, Spec=0.594, auroc_train=1.000, auroc=0.720\n",
      "\n",
      "Subj/Visit 1, prec=0.673, rec=0.944, Spec=0.641, auroc_train=1.000, auroc=0.805\n",
      "\n",
      "Subj/Visit 2, prec=0.598, rec=0.839, Spec=0.602, auroc_train=1.000, auroc=0.793\n",
      "\n",
      "Subj/Visit 3, prec=0.743, rec=0.708, Spec=0.435, auroc_train=1.000, auroc=0.529\n",
      "\n",
      "Subj/Visit 4, prec=0.529, rec=0.662, Spec=0.512, auroc_train=1.000, auroc=0.582\n",
      "\n",
      "Subj/Visit 5, prec=0.578, rec=0.727, Spec=0.611, auroc_train=1.000, auroc=0.746\n",
      "f1_test=0.701+/-0.068, prec=0.666+/-0.116, rec=0.760+/-0.100, auprc=0.678+/-0.124, auroc=0.696+/-0.104\n",
      "Subject 1053\n",
      "Training Random Forest\n",
      "\n",
      "Subj/Visit 0, prec=0.667, rec=0.060, Spec=0.975, auroc_train=1.000, auroc=0.455\n",
      "\n",
      "Subj/Visit 1, prec=0.222, rec=0.286, Spec=0.944, auroc_train=1.000, auroc=0.761\n",
      "\n",
      "Subj/Visit 2, prec=0.222, rec=0.333, Spec=0.939, auroc_train=1.000, auroc=0.759\n",
      "\n",
      "Subj/Visit 3, prec=0.818, rec=0.141, Spec=0.975, auroc_train=1.000, auroc=0.562\n",
      "\n",
      "Subj/Visit 4, prec=0.333, rec=0.429, Spec=0.951, auroc_train=1.000, auroc=0.825\n",
      "\n",
      "Subj/Visit 5, prec=0.222, rec=0.095, Spec=0.935, auroc_train=1.000, auroc=0.674\n",
      "f1_test=0.229+/-0.088, prec=0.414+/-0.239, rec=0.224+/-0.134, auprc=0.300+/-0.158, auroc=0.673+/-0.128\n",
      "Subject 1054\n",
      "Training Random Forest\n",
      "\n",
      "Subj/Visit 0, prec=0.973, rec=0.632, Spec=0.571, auroc_train=1.000, auroc=0.576\n",
      "\n",
      "Subj/Visit 1, prec=0.444, rec=0.686, Spec=0.735, auroc_train=1.000, auroc=0.773\n",
      "\n",
      "Subj/Visit 2, prec=0.396, rec=0.576, Spec=0.659, auroc_train=1.000, auroc=0.610\n",
      "\n",
      "Subj/Visit 3, prec=0.870, rec=0.444, Spec=0.333, auroc_train=1.000, auroc=0.421\n",
      "\n",
      "Subj/Visit 4, prec=0.486, rec=0.667, Spec=0.613, auroc_train=1.000, auroc=0.626\n",
      "\n",
      "Subj/Visit 5, prec=0.328, rec=0.760, Spec=0.636, auroc_train=1.000, auroc=0.762\n",
      "f1_test=0.564+/-0.102, prec=0.583+/-0.246, rec=0.627+/-0.099, auprc=0.592+/-0.244, auroc=0.628+/-0.119\n",
      "Subject 1055\n",
      "Training Random Forest\n",
      "\n",
      "Subj/Visit 0, prec=0.878, rec=0.718, Spec=0.450, auroc_train=1.000, auroc=0.622\n",
      "\n",
      "Subj/Visit 1, prec=0.202, rec=0.630, Spec=0.417, auroc_train=1.000, auroc=0.573\n",
      "\n",
      "Subj/Visit 2, prec=0.275, rec=0.514, Spec=0.505, auroc_train=1.000, auroc=0.505\n",
      "\n",
      "Subj/Visit 3, prec=0.783, rec=0.475, Spec=0.649, auroc_train=1.000, auroc=0.625\n",
      "\n",
      "Subj/Visit 4, prec=0.902, rec=0.524, Spec=0.829, auroc_train=1.000, auroc=0.755\n",
      "\n",
      "Subj/Visit 5, prec=0.348, rec=0.615, Spec=0.526, auroc_train=1.000, auroc=0.631\n",
      "f1_test=0.526+/-0.171, prec=0.565+/-0.295, rec=0.579+/-0.083, auprc=0.587+/-0.286, auroc=0.619+/-0.075\n",
      "Subject 1056\n",
      "Training Random Forest\n",
      "\n",
      "Subj/Visit 0, prec=0.881, rec=0.986, Spec=0.269, auroc_train=1.000, auroc=0.743\n",
      "\n",
      "Subj/Visit 1, prec=0.873, rec=1.000, Spec=0.130, auroc_train=1.000, auroc=0.884\n",
      "\n",
      "Subj/Visit 2, prec=0.763, rec=1.000, Spec=0.000, auroc_train=1.000, auroc=0.606\n",
      "\n",
      "Subj/Visit 3, prec=0.951, rec=0.987, Spec=0.333, auroc_train=1.000, auroc=0.830\n",
      "only 1 class in test data - cannot compute roc curve\n",
      "\n",
      "Subj/Visit 4, prec=1.000, rec=0.965, Spec=nan, auroc_train=1.000, auroc=nan\n",
      "\n",
      "Subj/Visit 5, prec=0.959, rec=1.000, Spec=0.000, auroc_train=1.000, auroc=0.546\n",
      "f1_test=0.943+/-0.040, prec=0.904+/-0.077, rec=0.990+/-0.013, auprc=0.950+/-0.050, auroc=0.722+/-0.129\n"
     ]
    },
    {
     "name": "stderr",
     "output_type": "stream",
     "text": [
      "C:\\Users\\Public\\Documents\\Anaconda\\lib\\site-packages\\ipykernel_launcher.py:48: RuntimeWarning: invalid value encountered in long_scalars\n"
     ]
    }
   ],
   "source": [
    "symptom = 'Bradykinesia'\n",
    "brady_res_all,brady_res_visit_all = personalModel(symptom)"
   ]
  },
  {
   "cell_type": "code",
   "execution_count": 42,
   "metadata": {
    "scrolled": true
   },
   "outputs": [
    {
     "data": {
      "text/plain": [
       "7"
      ]
     },
     "execution_count": 42,
     "metadata": {},
     "output_type": "execute_result"
    }
   ],
   "source": [
    "len(brady_res_visit_all[0]['Random Forest']['auroc'])"
   ]
  },
  {
   "cell_type": "code",
   "execution_count": 60,
   "metadata": {},
   "outputs": [],
   "source": [
    "resultsbrady_pers=brady_res_all.auroc.values\n",
    "np.save('Results/resultsbradyPERS.npy',resultsbrady_pers)"
   ]
  },
  {
   "cell_type": "code",
   "execution_count": 45,
   "metadata": {},
   "outputs": [
    {
     "data": {
      "text/plain": [
       "(22559, 19)"
      ]
     },
     "execution_count": 45,
     "metadata": {},
     "output_type": "execute_result"
    }
   ],
   "source": [
    "Data.shape"
   ]
  },
  {
   "cell_type": "code",
   "execution_count": 46,
   "metadata": {},
   "outputs": [],
   "source": [
    "#compute mean and std auc\n",
    "subjs=Data.Subject.unique()\n",
    "auc_mean = []; auc_std = []\n",
    "aucdf = pd.DataFrame()\n",
    "for i in range(len(brady_res_visit_all)):\n",
    "    if len(brady_res_visit_all[i]['Random Forest']['auroc']) < 7:\n",
    "        brady_res_visit_all[i]['Random Forest']['auroc'].append(np.nan)\n",
    "    aucdf[subjs[i]] = brady_res_visit_all[i]['Random Forest']['auroc']   \n",
    "    brady_auc = brady_res_visit_all[i]['Random Forest']['auroc']\n",
    "    auc_mean.append(np.nanmean(brady_auc)) #mean across visits\n",
    "    auc_std.append(np.nanstd(brady_auc))"
   ]
  },
  {
   "cell_type": "code",
   "execution_count": 47,
   "metadata": {},
   "outputs": [
    {
     "data": {
      "text/plain": [
       "(0.45, 1)"
      ]
     },
     "execution_count": 47,
     "metadata": {},
     "output_type": "execute_result"
    },
    {
     "data": {
      "image/png": "[encoded data removed]",
      "text/plain": [
       "<matplotlib.figure.Figure at 0xc2a01d0>"
      ]
     },
     "metadata": {},
     "output_type": "display_data"
    }
   ],
   "source": [
    "sns.barplot(data=aucdf)\n",
    "ax=plt.xticks(rotation=90)\n",
    "plt.title('LOVO - Mean AUROC = %.3f +/- %.3f'%(np.nanmean(brady_res_all.auroc),np.nanstd(brady_res_all.auroc)))\n",
    "plt.ylim([0.45,1])"
   ]
  },
  {
   "cell_type": "markdown",
   "metadata": {},
   "source": [
    "Is variability due to variability in symptoms between visits?"
   ]
  },
  {
   "cell_type": "markdown",
   "metadata": {},
   "source": [
    "### Tremor"
   ]
  },
  {
   "cell_type": "code",
   "execution_count": 61,
   "metadata": {},
   "outputs": [
    {
     "data": {
      "text/plain": [
       "<matplotlib.figure.Figure at 0x113ddfd0>"
      ]
     },
     "metadata": {},
     "output_type": "display_data"
    }
   ],
   "source": [
    "plt.savefig('Results/BradyPERSMeanAUROC.png',format='png',dpi=1000)"
   ]
  },
  {
   "cell_type": "code",
   "execution_count": 49,
   "metadata": {
    "scrolled": true
   },
   "outputs": [
    {
     "name": "stdout",
     "output_type": "stream",
     "text": [
      "Subject 1004\n",
      "Training Random Forest\n",
      "\n",
      "Subj/Visit 0, prec=0.000, rec=0.000, Spec=1.000, auroc_train=1.000, auroc=0.522\n"
     ]
    },
    {
     "name": "stderr",
     "output_type": "stream",
     "text": [
      "C:\\Users\\Public\\Documents\\Anaconda\\lib\\site-packages\\sklearn\\metrics\\classification.py:1135: UndefinedMetricWarning: F-score is ill-defined and being set to 0.0 due to no predicted samples.\n",
      "  'precision', 'predicted', average, warn_for)\n",
      "C:\\Users\\Public\\Documents\\Anaconda\\lib\\site-packages\\sklearn\\metrics\\classification.py:1135: UndefinedMetricWarning: Precision is ill-defined and being set to 0.0 due to no predicted samples.\n",
      "  'precision', 'predicted', average, warn_for)\n",
      "C:\\Users\\Public\\Documents\\Anaconda\\lib\\site-packages\\sklearn\\metrics\\classification.py:1137: UndefinedMetricWarning: F-score is ill-defined and being set to 0.0 due to no true samples.\n",
      "  'recall', 'true', average, warn_for)\n",
      "C:\\Users\\Public\\Documents\\Anaconda\\lib\\site-packages\\sklearn\\metrics\\ranking.py:444: RuntimeWarning: invalid value encountered in true_divide\n",
      "  recall = tps / tps[-1]\n",
      "C:\\Users\\Public\\Documents\\Anaconda\\lib\\site-packages\\sklearn\\metrics\\ranking.py:94: RuntimeWarning: invalid value encountered in less\n",
      "  if np.any(dx < 0):\n",
      "C:\\Users\\Public\\Documents\\Anaconda\\lib\\site-packages\\sklearn\\metrics\\classification.py:1137: UndefinedMetricWarning: Recall is ill-defined and being set to 0.0 due to no true samples.\n",
      "  'recall', 'true', average, warn_for)\n"
     ]
    },
    {
     "name": "stdout",
     "output_type": "stream",
     "text": [
      "only 1 class in test data - cannot compute roc curve\n",
      "\n",
      "Subj/Visit 1, prec=0.000, rec=0.000, Spec=0.976, auroc_train=1.000, auroc=nan\n",
      "only 1 class in test data - cannot compute roc curve\n",
      "\n",
      "Subj/Visit 2, prec=0.000, rec=0.000, Spec=1.000, auroc_train=1.000, auroc=nan\n"
     ]
    },
    {
     "name": "stderr",
     "output_type": "stream",
     "text": [
      "C:\\Users\\Public\\Documents\\Anaconda\\lib\\site-packages\\sklearn\\metrics\\ranking.py:444: RuntimeWarning: invalid value encountered in true_divide\n",
      "  recall = tps / tps[-1]\n",
      "C:\\Users\\Public\\Documents\\Anaconda\\lib\\site-packages\\sklearn\\metrics\\ranking.py:94: RuntimeWarning: invalid value encountered in less\n",
      "  if np.any(dx < 0):\n"
     ]
    },
    {
     "name": "stdout",
     "output_type": "stream",
     "text": [
      "\n",
      "Subj/Visit 3, prec=0.200, rec=0.067, Spec=0.976, auroc_train=1.000, auroc=0.531\n",
      "only 1 class in test data - cannot compute roc curve\n",
      "\n",
      "Subj/Visit 4, prec=0.000, rec=0.000, Spec=0.977, auroc_train=1.000, auroc=nan\n"
     ]
    },
    {
     "name": "stderr",
     "output_type": "stream",
     "text": [
      "C:\\Users\\Public\\Documents\\Anaconda\\lib\\site-packages\\sklearn\\metrics\\classification.py:1137: UndefinedMetricWarning: F-score is ill-defined and being set to 0.0 due to no true samples.\n",
      "  'recall', 'true', average, warn_for)\n",
      "C:\\Users\\Public\\Documents\\Anaconda\\lib\\site-packages\\sklearn\\metrics\\ranking.py:444: RuntimeWarning: invalid value encountered in true_divide\n",
      "  recall = tps / tps[-1]\n",
      "C:\\Users\\Public\\Documents\\Anaconda\\lib\\site-packages\\sklearn\\metrics\\ranking.py:94: RuntimeWarning: invalid value encountered in less\n",
      "  if np.any(dx < 0):\n",
      "C:\\Users\\Public\\Documents\\Anaconda\\lib\\site-packages\\sklearn\\metrics\\classification.py:1137: UndefinedMetricWarning: Recall is ill-defined and being set to 0.0 due to no true samples.\n",
      "  'recall', 'true', average, warn_for)\n",
      "C:\\Users\\Public\\Documents\\Anaconda\\lib\\site-packages\\sklearn\\metrics\\classification.py:1137: UndefinedMetricWarning: F-score is ill-defined and being set to 0.0 due to no true samples.\n",
      "  'recall', 'true', average, warn_for)\n",
      "C:\\Users\\Public\\Documents\\Anaconda\\lib\\site-packages\\sklearn\\metrics\\ranking.py:444: RuntimeWarning: invalid value encountered in true_divide\n",
      "  recall = tps / tps[-1]\n",
      "C:\\Users\\Public\\Documents\\Anaconda\\lib\\site-packages\\sklearn\\metrics\\ranking.py:94: RuntimeWarning: invalid value encountered in less\n",
      "  if np.any(dx < 0):\n",
      "C:\\Users\\Public\\Documents\\Anaconda\\lib\\site-packages\\sklearn\\metrics\\classification.py:1137: UndefinedMetricWarning: Recall is ill-defined and being set to 0.0 due to no true samples.\n",
      "  'recall', 'true', average, warn_for)\n"
     ]
    },
    {
     "name": "stdout",
     "output_type": "stream",
     "text": [
      "only 1 class in test data - cannot compute roc curve\n",
      "\n",
      "Subj/Visit 5, prec=0.000, rec=0.000, Spec=0.977, auroc_train=1.000, auroc=nan\n",
      "\n",
      "Subj/Visit 6, prec=0.000, rec=0.000, Spec=0.993, auroc_train=1.000, auroc=0.513\n",
      "f1_test=0.014+/-0.035, prec=0.029+/-0.070, rec=0.010+/-0.023, auprc=0.260+/-0.231, auroc=0.522+/-0.007\n",
      "Subject 1016\n",
      "Training Random Forest\n",
      "\n",
      "Subj/Visit 0, prec=0.562, rec=0.659, Spec=0.562, auroc_train=1.000, auroc=0.677\n",
      "\n",
      "Subj/Visit 1, prec=0.824, rec=0.714, Spec=0.787, auroc_train=1.000, auroc=0.820\n",
      "\n",
      "Subj/Visit 2, prec=0.757, rec=0.538, Spec=0.769, auroc_train=1.000, auroc=0.778\n",
      "\n",
      "Subj/Visit 3, prec=0.822, rec=0.747, Spec=0.822, auroc_train=1.000, auroc=0.848\n",
      "\n",
      "Subj/Visit 4, prec=0.802, rec=0.719, Spec=0.779, auroc_train=1.000, auroc=0.836\n",
      "\n",
      "Subj/Visit 5, prec=0.832, rec=0.706, Spec=0.770, auroc_train=1.000, auroc=0.832\n",
      "only 1 class in test data - cannot compute roc curve\n",
      "\n",
      "Subj/Visit 6, prec=0.000, rec=0.000, Spec=0.370, auroc_train=1.000, auroc=nan\n",
      "f1_test=0.615+/-0.260, prec=0.657+/-0.282, rec=0.583+/-0.247, auprc=0.795+/-0.075, auroc=0.799+/-0.059\n",
      "Subject 1018\n",
      "Training Random Forest\n"
     ]
    },
    {
     "name": "stderr",
     "output_type": "stream",
     "text": [
      "C:\\Users\\Public\\Documents\\Anaconda\\lib\\site-packages\\sklearn\\metrics\\classification.py:1137: UndefinedMetricWarning: F-score is ill-defined and being set to 0.0 due to no true samples.\n",
      "  'recall', 'true', average, warn_for)\n",
      "C:\\Users\\Public\\Documents\\Anaconda\\lib\\site-packages\\sklearn\\metrics\\ranking.py:444: RuntimeWarning: invalid value encountered in true_divide\n",
      "  recall = tps / tps[-1]\n",
      "C:\\Users\\Public\\Documents\\Anaconda\\lib\\site-packages\\sklearn\\metrics\\ranking.py:94: RuntimeWarning: invalid value encountered in less\n",
      "  if np.any(dx < 0):\n",
      "C:\\Users\\Public\\Documents\\Anaconda\\lib\\site-packages\\sklearn\\metrics\\classification.py:1137: UndefinedMetricWarning: Recall is ill-defined and being set to 0.0 due to no true samples.\n",
      "  'recall', 'true', average, warn_for)\n"
     ]
    },
    {
     "name": "stdout",
     "output_type": "stream",
     "text": [
      "\n",
      "Subj/Visit 0, prec=0.500, rec=0.023, Spec=0.993, auroc_train=1.000, auroc=0.808\n",
      "\n",
      "Subj/Visit 1, prec=0.700, rec=0.583, Spec=0.980, auroc_train=1.000, auroc=0.946\n",
      "\n",
      "Subj/Visit 2, prec=0.357, rec=0.333, Spec=0.940, auroc_train=1.000, auroc=0.864\n",
      "\n",
      "Subj/Visit 3, prec=1.000, rec=0.067, Spec=1.000, auroc_train=1.000, auroc=0.788\n",
      "\n",
      "Subj/Visit 4, prec=0.500, rec=0.194, Spec=0.960, auroc_train=1.000, auroc=0.850\n",
      "\n",
      "Subj/Visit 5, prec=0.500, rec=0.267, Spec=0.976, auroc_train=1.000, auroc=0.892\n",
      "\n",
      "Subj/Visit 6, prec=0.167, rec=0.118, Spec=0.938, auroc_train=1.000, auroc=0.722\n",
      "f1_test=0.274+/-0.183, prec=0.532+/-0.243, rec=0.226+/-0.177, auprc=0.455+/-0.145, auroc=0.838+/-0.068\n",
      "Subject 1019\n",
      "Training Random Forest\n",
      "\n",
      "Subj/Visit 0, prec=0.000, rec=0.000, Spec=0.994, auroc_train=1.000, auroc=0.464\n"
     ]
    },
    {
     "name": "stderr",
     "output_type": "stream",
     "text": [
      "C:\\Users\\Public\\Documents\\Anaconda\\lib\\site-packages\\sklearn\\metrics\\classification.py:1135: UndefinedMetricWarning: F-score is ill-defined and being set to 0.0 due to no predicted samples.\n",
      "  'precision', 'predicted', average, warn_for)\n",
      "C:\\Users\\Public\\Documents\\Anaconda\\lib\\site-packages\\sklearn\\metrics\\classification.py:1135: UndefinedMetricWarning: Precision is ill-defined and being set to 0.0 due to no predicted samples.\n",
      "  'precision', 'predicted', average, warn_for)\n",
      "C:\\Users\\Public\\Documents\\Anaconda\\lib\\site-packages\\sklearn\\metrics\\classification.py:1135: UndefinedMetricWarning: F-score is ill-defined and being set to 0.0 due to no predicted samples.\n",
      "  'precision', 'predicted', average, warn_for)\n",
      "C:\\Users\\Public\\Documents\\Anaconda\\lib\\site-packages\\sklearn\\metrics\\classification.py:1135: UndefinedMetricWarning: Precision is ill-defined and being set to 0.0 due to no predicted samples.\n",
      "  'precision', 'predicted', average, warn_for)\n"
     ]
    },
    {
     "name": "stdout",
     "output_type": "stream",
     "text": [
      "\n",
      "Subj/Visit 1, prec=0.000, rec=0.000, Spec=1.000, auroc_train=1.000, auroc=0.864\n",
      "\n",
      "Subj/Visit 2, prec=0.000, rec=0.000, Spec=1.000, auroc_train=1.000, auroc=0.808\n",
      "\n",
      "Subj/Visit 3, prec=0.000, rec=0.000, Spec=0.994, auroc_train=1.000, auroc=0.650\n",
      "\n",
      "Subj/Visit 4, prec=0.000, rec=0.000, Spec=0.994, auroc_train=1.000, auroc=0.706\n"
     ]
    },
    {
     "name": "stderr",
     "output_type": "stream",
     "text": [
      "C:\\Users\\Public\\Documents\\Anaconda\\lib\\site-packages\\sklearn\\metrics\\classification.py:1135: UndefinedMetricWarning: F-score is ill-defined and being set to 0.0 due to no predicted samples.\n",
      "  'precision', 'predicted', average, warn_for)\n",
      "C:\\Users\\Public\\Documents\\Anaconda\\lib\\site-packages\\sklearn\\metrics\\classification.py:1135: UndefinedMetricWarning: Precision is ill-defined and being set to 0.0 due to no predicted samples.\n",
      "  'precision', 'predicted', average, warn_for)\n"
     ]
    },
    {
     "name": "stdout",
     "output_type": "stream",
     "text": [
      "\n",
      "Subj/Visit 5, prec=0.000, rec=0.000, Spec=1.000, auroc_train=1.000, auroc=0.842\n",
      "\n",
      "Subj/Visit 6, prec=0.000, rec=0.000, Spec=0.995, auroc_train=1.000, auroc=0.427\n",
      "f1_test=0.000+/-0.000, prec=0.000+/-0.000, rec=0.000+/-0.000, auprc=0.211+/-0.125, auroc=0.680+/-0.164\n",
      "Subject 1024\n",
      "Training Random Forest\n",
      "\n",
      "Subj/Visit 0, prec=0.677, rec=0.140, Spec=0.889, auroc_train=1.000, auroc=0.536\n",
      "\n",
      "Subj/Visit 1, prec=0.200, rec=0.227, Spec=0.865, auroc_train=1.000, auroc=0.459\n",
      "\n",
      "Subj/Visit 2, prec=0.121, rec=0.500, Spec=0.816, auroc_train=1.000, auroc=0.601\n",
      "\n",
      "Subj/Visit 3, prec=0.667, rec=0.113, Spec=0.922, auroc_train=1.000, auroc=0.607\n",
      "\n",
      "Subj/Visit 4, prec=0.211, rec=0.174, Spec=0.892, auroc_train=1.000, auroc=0.554\n",
      "\n",
      "Subj/Visit 5, prec=0.103, rec=0.429, Spec=0.839, auroc_train=1.000, auroc=0.657\n",
      "\n",
      "Subj/Visit 6, prec=0.440, rec=0.344, Spec=0.905, auroc_train=1.000, auroc=0.698\n",
      "f1_test=0.225+/-0.068, prec=0.346+/-0.230, rec=0.275+/-0.139, auprc=0.327+/-0.218, auroc=0.588+/-0.073\n",
      "Subject 1029\n",
      "Training Random Forest\n",
      "\n",
      "Subj/Visit 0, prec=0.944, rec=0.325, Spec=0.925, auroc_train=1.000, auroc=0.767\n",
      "\n",
      "Subj/Visit 1, prec=0.210, rec=0.630, Spec=0.576, auroc_train=1.000, auroc=0.677\n",
      "\n",
      "Subj/Visit 2, prec=0.131, rec=0.367, Spec=0.578, auroc_train=1.000, auroc=0.472\n",
      "\n",
      "Subj/Visit 3, prec=0.742, rec=0.418, Spec=0.792, auroc_train=1.000, auroc=0.660\n",
      "\n",
      "Subj/Visit 4, prec=0.595, rec=0.667, Spec=0.760, auroc_train=1.000, auroc=0.807\n",
      "\n",
      "Subj/Visit 5, prec=0.333, rec=0.592, Spec=0.570, auroc_train=1.000, auroc=0.616\n",
      "\n",
      "Subj/Visit 6, prec=0.750, rec=0.488, Spec=0.767, auroc_train=1.000, auroc=0.671\n",
      "f1_test=0.453+/-0.144, prec=0.529+/-0.285, rec=0.498+/-0.124, auprc=0.553+/-0.255, auroc=0.667+/-0.100\n",
      "Subject 1030\n",
      "Training Random Forest\n",
      "\n",
      "Subj/Visit 0, prec=0.000, rec=0.000, Spec=0.975, auroc_train=1.000, auroc=0.669\n",
      "\n",
      "Subj/Visit 1, prec=0.000, rec=0.000, Spec=0.906, auroc_train=1.000, auroc=0.580\n",
      "\n",
      "Subj/Visit 2, prec=0.000, rec=0.000, Spec=0.987, auroc_train=1.000, auroc=0.622\n",
      "\n",
      "Subj/Visit 3, prec=0.000, rec=0.000, Spec=0.992, auroc_train=1.000, auroc=0.613\n",
      "\n",
      "Subj/Visit 4, prec=0.000, rec=0.000, Spec=0.948, auroc_train=1.000, auroc=0.570\n",
      "\n",
      "Subj/Visit 5, prec=1.000, rec=0.083, Spec=1.000, auroc_train=1.000, auroc=0.659\n",
      "\n",
      "Subj/Visit 6, prec=0.000, rec=0.000, Spec=1.000, auroc_train=1.000, auroc=0.657\n",
      "f1_test=0.022+/-0.054, prec=0.143+/-0.350, rec=0.012+/-0.029, auprc=0.183+/-0.066, auroc=0.624+/-0.036\n",
      "Subject 1032\n",
      "Training Random Forest\n"
     ]
    },
    {
     "name": "stderr",
     "output_type": "stream",
     "text": [
      "C:\\Users\\Public\\Documents\\Anaconda\\lib\\site-packages\\sklearn\\metrics\\classification.py:1135: UndefinedMetricWarning: F-score is ill-defined and being set to 0.0 due to no predicted samples.\n",
      "  'precision', 'predicted', average, warn_for)\n",
      "C:\\Users\\Public\\Documents\\Anaconda\\lib\\site-packages\\sklearn\\metrics\\classification.py:1135: UndefinedMetricWarning: Precision is ill-defined and being set to 0.0 due to no predicted samples.\n",
      "  'precision', 'predicted', average, warn_for)\n"
     ]
    },
    {
     "name": "stdout",
     "output_type": "stream",
     "text": [
      "\n",
      "Subj/Visit 0, prec=0.000, rec=0.000, Spec=0.980, auroc_train=1.000, auroc=0.402\n",
      "\n",
      "Subj/Visit 1, prec=0.000, rec=0.000, Spec=1.000, auroc_train=1.000, auroc=0.674\n"
     ]
    },
    {
     "name": "stderr",
     "output_type": "stream",
     "text": [
      "C:\\Users\\Public\\Documents\\Anaconda\\lib\\site-packages\\sklearn\\metrics\\classification.py:1135: UndefinedMetricWarning: F-score is ill-defined and being set to 0.0 due to no predicted samples.\n",
      "  'precision', 'predicted', average, warn_for)\n",
      "C:\\Users\\Public\\Documents\\Anaconda\\lib\\site-packages\\sklearn\\metrics\\classification.py:1135: UndefinedMetricWarning: Precision is ill-defined and being set to 0.0 due to no predicted samples.\n",
      "  'precision', 'predicted', average, warn_for)\n"
     ]
    },
    {
     "name": "stdout",
     "output_type": "stream",
     "text": [
      "\n",
      "Subj/Visit 2, prec=0.500, rec=0.062, Spec=0.995, auroc_train=1.000, auroc=0.695\n"
     ]
    },
    {
     "name": "stderr",
     "output_type": "stream",
     "text": [
      "C:\\Users\\Public\\Documents\\Anaconda\\lib\\site-packages\\sklearn\\metrics\\classification.py:1135: UndefinedMetricWarning: F-score is ill-defined and being set to 0.0 due to no predicted samples.\n",
      "  'precision', 'predicted', average, warn_for)\n",
      "C:\\Users\\Public\\Documents\\Anaconda\\lib\\site-packages\\sklearn\\metrics\\classification.py:1135: UndefinedMetricWarning: Precision is ill-defined and being set to 0.0 due to no predicted samples.\n",
      "  'precision', 'predicted', average, warn_for)\n"
     ]
    },
    {
     "name": "stdout",
     "output_type": "stream",
     "text": [
      "\n",
      "Subj/Visit 3, prec=0.000, rec=0.000, Spec=1.000, auroc_train=1.000, auroc=0.525\n",
      "\n",
      "Subj/Visit 4, prec=1.000, rec=0.143, Spec=1.000, auroc_train=1.000, auroc=0.868\n"
     ]
    },
    {
     "name": "stderr",
     "output_type": "stream",
     "text": [
      "C:\\Users\\Public\\Documents\\Anaconda\\lib\\site-packages\\sklearn\\metrics\\classification.py:1135: UndefinedMetricWarning: F-score is ill-defined and being set to 0.0 due to no predicted samples.\n",
      "  'precision', 'predicted', average, warn_for)\n",
      "C:\\Users\\Public\\Documents\\Anaconda\\lib\\site-packages\\sklearn\\metrics\\classification.py:1135: UndefinedMetricWarning: Precision is ill-defined and being set to 0.0 due to no predicted samples.\n",
      "  'precision', 'predicted', average, warn_for)\n"
     ]
    },
    {
     "name": "stdout",
     "output_type": "stream",
     "text": [
      "\n",
      "Subj/Visit 5, prec=0.000, rec=0.000, Spec=1.000, auroc_train=1.000, auroc=0.551\n",
      "\n",
      "Subj/Visit 6, prec=0.000, rec=0.000, Spec=0.987, auroc_train=1.000, auroc=0.626\n",
      "f1_test=0.052+/-0.090, prec=0.214+/-0.364, rec=0.029+/-0.051, auprc=0.136+/-0.097, auroc=0.620+/-0.137\n",
      "Subject 1038\n",
      "Training Random Forest\n",
      "\n",
      "Subj/Visit 0, prec=0.814, rec=0.643, Spec=0.625, auroc_train=1.000, auroc=0.662\n",
      "\n",
      "Subj/Visit 1, prec=0.506, rec=0.812, Spec=0.303, auroc_train=1.000, auroc=0.649\n",
      "\n",
      "Subj/Visit 2, prec=0.589, rec=0.753, Spec=0.452, auroc_train=1.000, auroc=0.673\n",
      "\n",
      "Subj/Visit 3, prec=0.757, rec=0.690, Spec=0.643, auroc_train=1.000, auroc=0.670\n",
      "\n",
      "Subj/Visit 4, prec=0.756, rec=0.842, Spec=0.603, auroc_train=1.000, auroc=0.755\n",
      "\n",
      "Subj/Visit 5, prec=0.629, rec=0.692, Spec=0.395, auroc_train=1.000, auroc=0.605\n",
      "\n",
      "Subj/Visit 6, prec=0.737, rec=0.676, Spec=0.639, auroc_train=1.000, auroc=0.704\n",
      "f1_test=0.698+/-0.052, prec=0.684+/-0.103, rec=0.730+/-0.069, auprc=0.728+/-0.062, auroc=0.674+/-0.043\n",
      "Subject 1044\n",
      "Training Random Forest\n",
      "\n",
      "Subj/Visit 0, prec=1.000, rec=0.062, Spec=1.000, auroc_train=1.000, auroc=0.724\n",
      "\n",
      "Subj/Visit 1, prec=0.750, rec=0.188, Spec=0.994, auroc_train=1.000, auroc=0.842\n",
      "\n",
      "Subj/Visit 2, prec=0.667, rec=0.125, Spec=0.994, auroc_train=1.000, auroc=0.799\n",
      "\n",
      "Subj/Visit 3, prec=1.000, rec=0.056, Spec=1.000, auroc_train=1.000, auroc=0.866\n",
      "\n",
      "Subj/Visit 4, prec=0.200, rec=0.067, Spec=0.974, auroc_train=1.000, auroc=0.563\n",
      "\n",
      "Subj/Visit 5, prec=0.750, rec=0.200, Spec=0.994, auroc_train=1.000, auroc=0.845\n",
      "\n",
      "Subj/Visit 6, prec=0.000, rec=0.000, Spec=1.000, auroc_train=1.000, auroc=0.400\n",
      "f1_test=0.164+/-0.107, prec=0.624+/-0.356, rec=0.100+/-0.068, auprc=0.356+/-0.201, auroc=0.720+/-0.163\n",
      "Subject 1046\n",
      "Training Random Forest\n"
     ]
    },
    {
     "name": "stderr",
     "output_type": "stream",
     "text": [
      "C:\\Users\\Public\\Documents\\Anaconda\\lib\\site-packages\\sklearn\\metrics\\classification.py:1135: UndefinedMetricWarning: F-score is ill-defined and being set to 0.0 due to no predicted samples.\n",
      "  'precision', 'predicted', average, warn_for)\n",
      "C:\\Users\\Public\\Documents\\Anaconda\\lib\\site-packages\\sklearn\\metrics\\classification.py:1135: UndefinedMetricWarning: Precision is ill-defined and being set to 0.0 due to no predicted samples.\n",
      "  'precision', 'predicted', average, warn_for)\n"
     ]
    },
    {
     "name": "stdout",
     "output_type": "stream",
     "text": [
      "\n",
      "Subj/Visit 0, prec=0.586, rec=0.739, Spec=0.919, auroc_train=1.000, auroc=0.955\n",
      "\n",
      "Subj/Visit 1, prec=0.714, rec=0.345, Spec=0.970, auroc_train=1.000, auroc=0.938\n",
      "\n",
      "Subj/Visit 2, prec=0.308, rec=0.200, Spec=0.930, auroc_train=1.000, auroc=0.837\n",
      "\n",
      "Subj/Visit 3, prec=0.889, rec=0.571, Spec=0.985, auroc_train=1.000, auroc=0.976\n",
      "\n",
      "Subj/Visit 4, prec=0.714, rec=0.625, Spec=0.939, auroc_train=1.000, auroc=0.940\n",
      "\n",
      "Subj/Visit 5, prec=0.846, rec=0.314, Spec=0.985, auroc_train=1.000, auroc=0.926\n",
      "\n",
      "Subj/Visit 6, prec=0.160, rec=0.098, Spec=0.819, auroc_train=1.000, auroc=0.613\n",
      "f1_test=0.472+/-0.206, prec=0.603+/-0.253, rec=0.413+/-0.219, auprc=0.651+/-0.223, auroc=0.884+/-0.118\n",
      "Subject 1047\n",
      "Training Random Forest\n",
      "\n",
      "Subj/Visit 0, prec=0.000, rec=0.000, Spec=1.000, auroc_train=1.000, auroc=0.774\n",
      "only 1 class in test data - cannot compute roc curve\n",
      "\n",
      "Subj/Visit 1, prec=0.000, rec=0.000, Spec=1.000, auroc_train=1.000, auroc=nan\n"
     ]
    },
    {
     "name": "stderr",
     "output_type": "stream",
     "text": [
      "C:\\Users\\Public\\Documents\\Anaconda\\lib\\site-packages\\sklearn\\metrics\\classification.py:1135: UndefinedMetricWarning: F-score is ill-defined and being set to 0.0 due to no predicted samples.\n",
      "  'precision', 'predicted', average, warn_for)\n",
      "C:\\Users\\Public\\Documents\\Anaconda\\lib\\site-packages\\sklearn\\metrics\\classification.py:1135: UndefinedMetricWarning: Precision is ill-defined and being set to 0.0 due to no predicted samples.\n",
      "  'precision', 'predicted', average, warn_for)\n",
      "C:\\Users\\Public\\Documents\\Anaconda\\lib\\site-packages\\sklearn\\metrics\\ranking.py:444: RuntimeWarning: invalid value encountered in true_divide\n",
      "  recall = tps / tps[-1]\n",
      "C:\\Users\\Public\\Documents\\Anaconda\\lib\\site-packages\\sklearn\\metrics\\ranking.py:94: RuntimeWarning: invalid value encountered in less\n",
      "  if np.any(dx < 0):\n",
      "C:\\Users\\Public\\Documents\\Anaconda\\lib\\site-packages\\sklearn\\metrics\\ranking.py:444: RuntimeWarning: invalid value encountered in true_divide\n",
      "  recall = tps / tps[-1]\n",
      "C:\\Users\\Public\\Documents\\Anaconda\\lib\\site-packages\\sklearn\\metrics\\ranking.py:94: RuntimeWarning: invalid value encountered in less\n",
      "  if np.any(dx < 0):\n"
     ]
    },
    {
     "name": "stdout",
     "output_type": "stream",
     "text": [
      "only 1 class in test data - cannot compute roc curve\n",
      "\n",
      "Subj/Visit 2, prec=0.000, rec=0.000, Spec=1.000, auroc_train=1.000, auroc=nan\n",
      "\n",
      "Subj/Visit 3, prec=0.000, rec=0.000, Spec=1.000, auroc_train=1.000, auroc=0.842\n",
      "only 1 class in test data - cannot compute roc curve\n",
      "\n",
      "Subj/Visit 4, prec=0.000, rec=0.000, Spec=1.000, auroc_train=1.000, auroc=nan\n"
     ]
    },
    {
     "name": "stderr",
     "output_type": "stream",
     "text": [
      "C:\\Users\\Public\\Documents\\Anaconda\\lib\\site-packages\\sklearn\\metrics\\classification.py:1135: UndefinedMetricWarning: F-score is ill-defined and being set to 0.0 due to no predicted samples.\n",
      "  'precision', 'predicted', average, warn_for)\n",
      "C:\\Users\\Public\\Documents\\Anaconda\\lib\\site-packages\\sklearn\\metrics\\classification.py:1135: UndefinedMetricWarning: Precision is ill-defined and being set to 0.0 due to no predicted samples.\n",
      "  'precision', 'predicted', average, warn_for)\n",
      "C:\\Users\\Public\\Documents\\Anaconda\\lib\\site-packages\\sklearn\\metrics\\ranking.py:444: RuntimeWarning: invalid value encountered in true_divide\n",
      "  recall = tps / tps[-1]\n",
      "C:\\Users\\Public\\Documents\\Anaconda\\lib\\site-packages\\sklearn\\metrics\\ranking.py:94: RuntimeWarning: invalid value encountered in less\n",
      "  if np.any(dx < 0):\n",
      "C:\\Users\\Public\\Documents\\Anaconda\\lib\\site-packages\\sklearn\\metrics\\ranking.py:444: RuntimeWarning: invalid value encountered in true_divide\n",
      "  recall = tps / tps[-1]\n",
      "C:\\Users\\Public\\Documents\\Anaconda\\lib\\site-packages\\sklearn\\metrics\\ranking.py:94: RuntimeWarning: invalid value encountered in less\n",
      "  if np.any(dx < 0):\n"
     ]
    },
    {
     "name": "stdout",
     "output_type": "stream",
     "text": [
      "only 1 class in test data - cannot compute roc curve\n",
      "\n",
      "Subj/Visit 5, prec=0.000, rec=0.000, Spec=1.000, auroc_train=1.000, auroc=nan\n",
      "f1_test=0.000+/-0.000, prec=0.000+/-0.000, rec=0.000+/-0.000, auprc=0.168+/-0.041, auroc=0.808+/-0.034\n",
      "Subject 1049\n",
      "Training Random Forest\n",
      "\n",
      "Subj/Visit 0, prec=1.000, rec=0.740, Spec=1.000, auroc_train=1.000, auroc=0.954\n",
      "\n",
      "Subj/Visit 1, prec=0.789, rec=0.866, Spec=0.798, auroc_train=1.000, auroc=0.873\n",
      "\n",
      "Subj/Visit 2, prec=0.817, rec=0.905, Spec=0.850, auroc_train=1.000, auroc=0.925\n",
      "\n",
      "Subj/Visit 3, prec=0.646, rec=0.928, Spec=0.731, auroc_train=1.000, auroc=0.883\n",
      "\n",
      "Subj/Visit 4, prec=0.574, rec=0.906, Spec=0.679, auroc_train=1.000, auroc=0.870\n",
      "\n",
      "Subj/Visit 5, prec=0.783, rec=0.747, Spec=0.816, auroc_train=1.000, auroc=0.850\n",
      "\n",
      "Subj/Visit 6, prec=0.916, rec=0.768, Spec=0.932, auroc_train=1.000, auroc=0.914\n",
      "f1_test=0.800+/-0.053, prec=0.789+/-0.135, rec=0.837+/-0.076, auprc=0.821+/-0.104, auroc=0.895+/-0.034\n",
      "Subject 1051\n",
      "Training Random Forest\n",
      "only 1 class in test data - cannot compute roc curve\n",
      "\n",
      "Subj/Visit 0, prec=0.000, rec=0.000, Spec=1.000, auroc_train=1.000, auroc=nan\n",
      "only 1 class in test data - cannot compute roc curve\n",
      "\n",
      "Subj/Visit 1, prec=0.000, rec=0.000, Spec=1.000, auroc_train=1.000, auroc=nan\n"
     ]
    },
    {
     "name": "stderr",
     "output_type": "stream",
     "text": [
      "C:\\Users\\Public\\Documents\\Anaconda\\lib\\site-packages\\sklearn\\metrics\\ranking.py:444: RuntimeWarning: invalid value encountered in true_divide\n",
      "  recall = tps / tps[-1]\n",
      "C:\\Users\\Public\\Documents\\Anaconda\\lib\\site-packages\\sklearn\\metrics\\ranking.py:94: RuntimeWarning: invalid value encountered in less\n",
      "  if np.any(dx < 0):\n",
      "C:\\Users\\Public\\Documents\\Anaconda\\lib\\site-packages\\sklearn\\metrics\\ranking.py:444: RuntimeWarning: invalid value encountered in true_divide\n",
      "  recall = tps / tps[-1]\n",
      "C:\\Users\\Public\\Documents\\Anaconda\\lib\\site-packages\\sklearn\\metrics\\ranking.py:94: RuntimeWarning: invalid value encountered in less\n",
      "  if np.any(dx < 0):\n",
      "C:\\Users\\Public\\Documents\\Anaconda\\lib\\site-packages\\sklearn\\metrics\\ranking.py:444: RuntimeWarning: invalid value encountered in true_divide\n",
      "  recall = tps / tps[-1]\n",
      "C:\\Users\\Public\\Documents\\Anaconda\\lib\\site-packages\\sklearn\\metrics\\ranking.py:94: RuntimeWarning: invalid value encountered in less\n",
      "  if np.any(dx < 0):\n"
     ]
    },
    {
     "name": "stdout",
     "output_type": "stream",
     "text": [
      "only 1 class in test data - cannot compute roc curve\n",
      "\n",
      "Subj/Visit 2, prec=0.000, rec=0.000, Spec=1.000, auroc_train=1.000, auroc=nan\n",
      "only 1 class in test data - cannot compute roc curve\n",
      "\n",
      "Subj/Visit 3, prec=0.000, rec=0.000, Spec=1.000, auroc_train=1.000, auroc=nan\n",
      "only 1 class in test data - cannot compute roc curve\n",
      "\n",
      "Subj/Visit 4, prec=0.000, rec=0.000, Spec=1.000, auroc_train=1.000, auroc=nan\n"
     ]
    },
    {
     "name": "stderr",
     "output_type": "stream",
     "text": [
      "C:\\Users\\Public\\Documents\\Anaconda\\lib\\site-packages\\sklearn\\metrics\\ranking.py:444: RuntimeWarning: invalid value encountered in true_divide\n",
      "  recall = tps / tps[-1]\n",
      "C:\\Users\\Public\\Documents\\Anaconda\\lib\\site-packages\\sklearn\\metrics\\ranking.py:94: RuntimeWarning: invalid value encountered in less\n",
      "  if np.any(dx < 0):\n",
      "C:\\Users\\Public\\Documents\\Anaconda\\lib\\site-packages\\sklearn\\metrics\\ranking.py:444: RuntimeWarning: invalid value encountered in true_divide\n",
      "  recall = tps / tps[-1]\n",
      "C:\\Users\\Public\\Documents\\Anaconda\\lib\\site-packages\\sklearn\\metrics\\ranking.py:94: RuntimeWarning: invalid value encountered in less\n",
      "  if np.any(dx < 0):\n",
      "C:\\Users\\Public\\Documents\\Anaconda\\lib\\site-packages\\sklearn\\metrics\\ranking.py:444: RuntimeWarning: invalid value encountered in true_divide\n",
      "  recall = tps / tps[-1]\n",
      "C:\\Users\\Public\\Documents\\Anaconda\\lib\\site-packages\\sklearn\\metrics\\ranking.py:94: RuntimeWarning: invalid value encountered in less\n",
      "  if np.any(dx < 0):\n",
      "C:\\Users\\Public\\Documents\\Anaconda\\lib\\site-packages\\ipykernel_launcher.py:92: RuntimeWarning: Mean of empty slice\n",
      "C:\\Users\\Public\\Documents\\Anaconda\\lib\\site-packages\\numpy\\lib\\nanfunctions.py:1434: RuntimeWarning: Degrees of freedom <= 0 for slice.\n",
      "  keepdims=keepdims)\n",
      "C:\\Users\\Public\\Documents\\Anaconda\\lib\\site-packages\\ipykernel_launcher.py:99: RuntimeWarning: Mean of empty slice\n"
     ]
    },
    {
     "name": "stdout",
     "output_type": "stream",
     "text": [
      "only 1 class in test data - cannot compute roc curve\n",
      "\n",
      "Subj/Visit 5, prec=0.000, rec=0.000, Spec=1.000, auroc_train=1.000, auroc=nan\n",
      "only 1 class available in train data - skipping\n",
      "f1_test=0.000+/-0.000, prec=0.000+/-0.000, rec=0.000+/-0.000, auprc=nan+/-nan, auroc=nan+/-nan\n",
      "Subject 1052\n",
      "Training Random Forest\n",
      "\n",
      "Subj/Visit 0, prec=0.000, rec=0.000, Spec=1.000, auroc_train=1.000, auroc=0.579\n"
     ]
    },
    {
     "name": "stderr",
     "output_type": "stream",
     "text": [
      "C:\\Users\\Public\\Documents\\Anaconda\\lib\\site-packages\\sklearn\\metrics\\classification.py:1135: UndefinedMetricWarning: F-score is ill-defined and being set to 0.0 due to no predicted samples.\n",
      "  'precision', 'predicted', average, warn_for)\n",
      "C:\\Users\\Public\\Documents\\Anaconda\\lib\\site-packages\\sklearn\\metrics\\classification.py:1135: UndefinedMetricWarning: Precision is ill-defined and being set to 0.0 due to no predicted samples.\n",
      "  'precision', 'predicted', average, warn_for)\n",
      "C:\\Users\\Public\\Documents\\Anaconda\\lib\\site-packages\\sklearn\\metrics\\ranking.py:444: RuntimeWarning: invalid value encountered in true_divide\n",
      "  recall = tps / tps[-1]\n",
      "C:\\Users\\Public\\Documents\\Anaconda\\lib\\site-packages\\sklearn\\metrics\\ranking.py:94: RuntimeWarning: invalid value encountered in less\n",
      "  if np.any(dx < 0):\n"
     ]
    },
    {
     "name": "stdout",
     "output_type": "stream",
     "text": [
      "only 1 class in test data - cannot compute roc curve\n",
      "\n",
      "Subj/Visit 1, prec=0.000, rec=0.000, Spec=1.000, auroc_train=1.000, auroc=nan\n",
      "only 1 class in test data - cannot compute roc curve\n",
      "\n",
      "Subj/Visit 2, prec=0.000, rec=0.000, Spec=1.000, auroc_train=1.000, auroc=nan\n"
     ]
    },
    {
     "name": "stderr",
     "output_type": "stream",
     "text": [
      "C:\\Users\\Public\\Documents\\Anaconda\\lib\\site-packages\\sklearn\\metrics\\ranking.py:444: RuntimeWarning: invalid value encountered in true_divide\n",
      "  recall = tps / tps[-1]\n",
      "C:\\Users\\Public\\Documents\\Anaconda\\lib\\site-packages\\sklearn\\metrics\\ranking.py:94: RuntimeWarning: invalid value encountered in less\n",
      "  if np.any(dx < 0):\n",
      "C:\\Users\\Public\\Documents\\Anaconda\\lib\\site-packages\\sklearn\\metrics\\classification.py:1135: UndefinedMetricWarning: F-score is ill-defined and being set to 0.0 due to no predicted samples.\n",
      "  'precision', 'predicted', average, warn_for)\n",
      "C:\\Users\\Public\\Documents\\Anaconda\\lib\\site-packages\\sklearn\\metrics\\classification.py:1135: UndefinedMetricWarning: Precision is ill-defined and being set to 0.0 due to no predicted samples.\n",
      "  'precision', 'predicted', average, warn_for)\n"
     ]
    },
    {
     "name": "stdout",
     "output_type": "stream",
     "text": [
      "\n",
      "Subj/Visit 3, prec=0.000, rec=0.000, Spec=1.000, auroc_train=1.000, auroc=0.787\n",
      "only 1 class in test data - cannot compute roc curve\n",
      "\n",
      "Subj/Visit 4, prec=0.000, rec=0.000, Spec=1.000, auroc_train=1.000, auroc=nan\n",
      "only 1 class in test data - cannot compute roc curve\n"
     ]
    },
    {
     "name": "stderr",
     "output_type": "stream",
     "text": [
      "C:\\Users\\Public\\Documents\\Anaconda\\lib\\site-packages\\sklearn\\metrics\\ranking.py:444: RuntimeWarning: invalid value encountered in true_divide\n",
      "  recall = tps / tps[-1]\n",
      "C:\\Users\\Public\\Documents\\Anaconda\\lib\\site-packages\\sklearn\\metrics\\ranking.py:94: RuntimeWarning: invalid value encountered in less\n",
      "  if np.any(dx < 0):\n",
      "C:\\Users\\Public\\Documents\\Anaconda\\lib\\site-packages\\sklearn\\metrics\\classification.py:1137: UndefinedMetricWarning: F-score is ill-defined and being set to 0.0 due to no true samples.\n",
      "  'recall', 'true', average, warn_for)\n",
      "C:\\Users\\Public\\Documents\\Anaconda\\lib\\site-packages\\sklearn\\metrics\\ranking.py:444: RuntimeWarning: invalid value encountered in true_divide\n",
      "  recall = tps / tps[-1]\n",
      "C:\\Users\\Public\\Documents\\Anaconda\\lib\\site-packages\\sklearn\\metrics\\ranking.py:94: RuntimeWarning: invalid value encountered in less\n",
      "  if np.any(dx < 0):\n",
      "C:\\Users\\Public\\Documents\\Anaconda\\lib\\site-packages\\sklearn\\metrics\\classification.py:1137: UndefinedMetricWarning: Recall is ill-defined and being set to 0.0 due to no true samples.\n",
      "  'recall', 'true', average, warn_for)\n",
      "C:\\Users\\Public\\Documents\\Anaconda\\lib\\site-packages\\ipykernel_launcher.py:90: RuntimeWarning: Mean of empty slice\n",
      "C:\\Users\\Public\\Documents\\Anaconda\\lib\\site-packages\\numpy\\lib\\nanfunctions.py:1434: RuntimeWarning: Degrees of freedom <= 0 for slice.\n",
      "  keepdims=keepdims)\n",
      "C:\\Users\\Public\\Documents\\Anaconda\\lib\\site-packages\\ipykernel_launcher.py:91: RuntimeWarning: Mean of empty slice\n",
      "C:\\Users\\Public\\Documents\\Anaconda\\lib\\site-packages\\ipykernel_launcher.py:92: RuntimeWarning: Mean of empty slice\n",
      "C:\\Users\\Public\\Documents\\Anaconda\\lib\\site-packages\\ipykernel_launcher.py:99: RuntimeWarning: Mean of empty slice\n",
      "C:\\Users\\Public\\Documents\\Anaconda\\lib\\site-packages\\sklearn\\metrics\\ranking.py:444: RuntimeWarning: invalid value encountered in true_divide\n",
      "  recall = tps / tps[-1]\n",
      "C:\\Users\\Public\\Documents\\Anaconda\\lib\\site-packages\\sklearn\\metrics\\ranking.py:94: RuntimeWarning: invalid value encountered in less\n",
      "  if np.any(dx < 0):\n"
     ]
    },
    {
     "name": "stdout",
     "output_type": "stream",
     "text": [
      "\n",
      "Subj/Visit 5, prec=0.000, rec=0.000, Spec=0.983, auroc_train=1.000, auroc=nan\n",
      "f1_test=0.000+/-0.000, prec=0.000+/-0.000, rec=0.000+/-0.000, auprc=0.282+/-0.098, auroc=0.683+/-0.104\n",
      "Subject 1053\n",
      "Training Random Forest\n",
      "only 1 class available in train data - skipping\n",
      "only 1 class available in train data - skipping\n",
      "only 1 class available in train data - skipping\n",
      "only 1 class available in train data - skipping\n",
      "only 1 class available in train data - skipping\n",
      "only 1 class available in train data - skipping\n",
      "f1_test=nan+/-nan, prec=nan+/-nan, rec=nan+/-nan, auprc=nan+/-nan, auroc=nan+/-nan\n",
      "Subject 1054\n",
      "Training Random Forest\n",
      "only 1 class available in train data - skipping\n",
      "only 1 class in test data - cannot compute roc curve\n",
      "\n",
      "Subj/Visit 0, prec=0.000, rec=0.000, Spec=1.000, auroc_train=1.000, auroc=nan\n",
      "only 1 class in test data - cannot compute roc curve\n",
      "\n",
      "Subj/Visit 1, prec=0.000, rec=0.000, Spec=1.000, auroc_train=1.000, auroc=nan\n"
     ]
    },
    {
     "name": "stderr",
     "output_type": "stream",
     "text": [
      "C:\\Users\\Public\\Documents\\Anaconda\\lib\\site-packages\\sklearn\\metrics\\ranking.py:444: RuntimeWarning: invalid value encountered in true_divide\n",
      "  recall = tps / tps[-1]\n",
      "C:\\Users\\Public\\Documents\\Anaconda\\lib\\site-packages\\sklearn\\metrics\\ranking.py:94: RuntimeWarning: invalid value encountered in less\n",
      "  if np.any(dx < 0):\n",
      "C:\\Users\\Public\\Documents\\Anaconda\\lib\\site-packages\\sklearn\\metrics\\ranking.py:444: RuntimeWarning: invalid value encountered in true_divide\n",
      "  recall = tps / tps[-1]\n",
      "C:\\Users\\Public\\Documents\\Anaconda\\lib\\site-packages\\sklearn\\metrics\\ranking.py:94: RuntimeWarning: invalid value encountered in less\n",
      "  if np.any(dx < 0):\n",
      "C:\\Users\\Public\\Documents\\Anaconda\\lib\\site-packages\\sklearn\\metrics\\ranking.py:444: RuntimeWarning: invalid value encountered in true_divide\n",
      "  recall = tps / tps[-1]\n",
      "C:\\Users\\Public\\Documents\\Anaconda\\lib\\site-packages\\sklearn\\metrics\\ranking.py:94: RuntimeWarning: invalid value encountered in less\n",
      "  if np.any(dx < 0):\n"
     ]
    },
    {
     "name": "stdout",
     "output_type": "stream",
     "text": [
      "only 1 class in test data - cannot compute roc curve\n",
      "\n",
      "Subj/Visit 2, prec=0.000, rec=0.000, Spec=1.000, auroc_train=1.000, auroc=nan\n",
      "only 1 class in test data - cannot compute roc curve\n",
      "\n",
      "Subj/Visit 3, prec=0.000, rec=0.000, Spec=1.000, auroc_train=1.000, auroc=nan\n",
      "only 1 class in test data - cannot compute roc curve\n",
      "\n",
      "Subj/Visit 4, prec=0.000, rec=0.000, Spec=1.000, auroc_train=1.000, auroc=nan\n",
      "f1_test=0.000+/-0.000, prec=0.000+/-0.000, rec=0.000+/-0.000, auprc=nan+/-nan, auroc=nan+/-nan\n",
      "Subject 1055\n",
      "Training Random Forest\n"
     ]
    },
    {
     "name": "stderr",
     "output_type": "stream",
     "text": [
      "C:\\Users\\Public\\Documents\\Anaconda\\lib\\site-packages\\sklearn\\metrics\\ranking.py:444: RuntimeWarning: invalid value encountered in true_divide\n",
      "  recall = tps / tps[-1]\n",
      "C:\\Users\\Public\\Documents\\Anaconda\\lib\\site-packages\\sklearn\\metrics\\ranking.py:94: RuntimeWarning: invalid value encountered in less\n",
      "  if np.any(dx < 0):\n",
      "C:\\Users\\Public\\Documents\\Anaconda\\lib\\site-packages\\ipykernel_launcher.py:92: RuntimeWarning: Mean of empty slice\n",
      "C:\\Users\\Public\\Documents\\Anaconda\\lib\\site-packages\\numpy\\lib\\nanfunctions.py:1434: RuntimeWarning: Degrees of freedom <= 0 for slice.\n",
      "  keepdims=keepdims)\n",
      "C:\\Users\\Public\\Documents\\Anaconda\\lib\\site-packages\\ipykernel_launcher.py:99: RuntimeWarning: Mean of empty slice\n"
     ]
    },
    {
     "name": "stdout",
     "output_type": "stream",
     "text": [
      "\n",
      "Subj/Visit 0, prec=0.971, rec=0.932, Spec=0.333, auroc_train=1.000, auroc=0.833\n",
      "\n",
      "Subj/Visit 1, prec=0.613, rec=0.980, Spec=0.016, auroc_train=1.000, auroc=0.452\n",
      "\n",
      "Subj/Visit 2, prec=0.678, rec=0.935, Spec=0.127, auroc_train=1.000, auroc=0.529\n",
      "\n",
      "Subj/Visit 3, prec=0.945, rec=0.958, Spec=0.429, auroc_train=1.000, auroc=0.778\n",
      "\n",
      "Subj/Visit 4, prec=0.845, rec=0.985, Spec=0.172, auroc_train=1.000, auroc=0.600\n",
      "\n",
      "Subj/Visit 5, prec=0.993, rec=0.901, Spec=0.000, auroc_train=1.000, auroc=0.138\n",
      "f1_test=0.883+/-0.081, prec=0.841+/-0.147, rec=0.949+/-0.029, auprc=0.853+/-0.146, auroc=0.555+/-0.229\n",
      "Subject 1056\n",
      "Training Random Forest\n",
      "\n",
      "Subj/Visit 0, prec=0.937, rec=0.901, Spec=0.214, auroc_train=1.000, auroc=0.705\n",
      "\n",
      "Subj/Visit 1, prec=0.414, rec=0.960, Spec=0.047, auroc_train=1.000, auroc=0.520\n",
      "\n",
      "Subj/Visit 2, prec=0.394, rec=0.963, Spec=0.167, auroc_train=1.000, auroc=0.625\n",
      "\n",
      "Subj/Visit 3, prec=0.966, rec=0.903, Spec=0.143, auroc_train=1.000, auroc=0.560\n",
      "only 1 class in test data - cannot compute roc curve\n",
      "\n",
      "Subj/Visit 4, prec=1.000, rec=0.944, Spec=nan, auroc_train=1.000, auroc=nan\n"
     ]
    },
    {
     "name": "stderr",
     "output_type": "stream",
     "text": [
      "C:\\Users\\Public\\Documents\\Anaconda\\lib\\site-packages\\ipykernel_launcher.py:48: RuntimeWarning: invalid value encountered in long_scalars\n"
     ]
    },
    {
     "name": "stdout",
     "output_type": "stream",
     "text": [
      "\n",
      "Subj/Visit 5, prec=0.894, rec=0.983, Spec=0.000, auroc_train=1.000, auroc=0.597\n",
      "f1_test=0.816+/-0.176, prec=0.767+/-0.259, rec=0.943+/-0.031, auprc=0.795+/-0.243, auroc=0.601+/-0.063\n"
     ]
    }
   ],
   "source": [
    "symptom = 'Tremor'\n",
    "tremor_res_all,tremor_res_visit_all = personalModel(symptom)"
   ]
  },
  {
   "cell_type": "code",
   "execution_count": 62,
   "metadata": {},
   "outputs": [],
   "source": [
    "resultstremor_pers=tremor_res_all.auroc.values\n",
    "np.save('./Results/resultstremorPERS.npy',resultstremor_pers)"
   ]
  },
  {
   "cell_type": "code",
   "execution_count": 51,
   "metadata": {},
   "outputs": [
    {
     "data": {
      "text/plain": [
       "(22559, 19)"
      ]
     },
     "execution_count": 51,
     "metadata": {},
     "output_type": "execute_result"
    }
   ],
   "source": [
    "Data.shape"
   ]
  },
  {
   "cell_type": "code",
   "execution_count": 52,
   "metadata": {},
   "outputs": [
    {
     "name": "stderr",
     "output_type": "stream",
     "text": [
      "C:\\Users\\Public\\Documents\\Anaconda\\lib\\site-packages\\ipykernel_launcher.py:12: RuntimeWarning: Mean of empty slice\n",
      "  if sys.path[0] == '':\n",
      "C:\\Users\\Public\\Documents\\Anaconda\\lib\\site-packages\\numpy\\lib\\nanfunctions.py:1434: RuntimeWarning: Degrees of freedom <= 0 for slice.\n",
      "  keepdims=keepdims)\n"
     ]
    }
   ],
   "source": [
    "#compute mean and std auc\n",
    "subjs=Data.Subject.unique()\n",
    "auc_mean = []; auc_std = []\n",
    "aucdf = pd.DataFrame()\n",
    "for i in range(len(tremor_res_visit_all)):\n",
    "\n",
    "    if len(tremor_res_visit_all[i]['Random Forest']['auroc']) < 7:\n",
    "        L = len(tremor_res_visit_all[i]['Random Forest']['auroc'])\n",
    "        tremor_res_visit_all[i]['Random Forest']['auroc'] += (list(np.nan*np.ones(7-L)))\n",
    "    aucdf[subjs[i]] = tremor_res_visit_all[i]['Random Forest']['auroc']   \n",
    "    tremor_auc = tremor_res_visit_all[i]['Random Forest']['auroc']\n",
    "    auc_mean.append(np.nanmean(tremor_auc)) #mean across visits\n",
    "    auc_std.append(np.nanstd(tremor_auc))"
   ]
  },
  {
   "cell_type": "code",
   "execution_count": 53,
   "metadata": {},
   "outputs": [
    {
     "data": {
      "text/plain": [
       "(0.45, 1.0)"
      ]
     },
     "execution_count": 53,
     "metadata": {},
     "output_type": "execute_result"
    },
    {
     "data": {
      "image/png": "[encoded data removed]",
      "text/plain": [
       "<matplotlib.figure.Figure at 0xc3db4e0>"
      ]
     },
     "metadata": {},
     "output_type": "display_data"
    }
   ],
   "source": [
    "sns.barplot(data=aucdf)\n",
    "ax=plt.xticks(rotation=90)\n",
    "plt.title('LOVO - Mean AUROC = %.3f +/- %.3f'%(np.nanmean(tremor_res_all.auroc),np.nanstd(tremor_res_all.auroc)))\n",
    "plt.ylim([0.45,1.])"
   ]
  },
  {
   "cell_type": "code",
   "execution_count": 63,
   "metadata": {},
   "outputs": [
    {
     "data": {
      "text/plain": [
       "<matplotlib.figure.Figure at 0xea5f128>"
      ]
     },
     "metadata": {},
     "output_type": "display_data"
    }
   ],
   "source": [
    "plt.savefig('Results/TremorPERSMeanAUROC.png',format='png',dpi=1000)"
   ]
  },
  {
   "cell_type": "markdown",
   "metadata": {},
   "source": [
    "## Box plots comparing global and personal"
   ]
  },
  {
   "cell_type": "code",
   "execution_count": 66,
   "metadata": {},
   "outputs": [],
   "source": [
    "resultstremor = np.load(os.path.join(results_path,'resultstremorLOSO.npy'))\n",
    "resultsbrady = np.load(os.path.join(results_path,'resultsbradyLOSO.npy'))"
   ]
  },
  {
   "cell_type": "code",
   "execution_count": 67,
   "metadata": {},
   "outputs": [],
   "source": [
    "resultsbrady_pers=np.load(os.path.join(results_path,'resultsbradyPERS.npy'))\n",
    "resultstremor_pers=np.load(os.path.join(results_path,'resultstremorPERS.npy'))"
   ]
  },
  {
   "cell_type": "code",
   "execution_count": 68,
   "metadata": {},
   "outputs": [
    {
     "data": {
      "text/plain": [
       "19"
      ]
     },
     "execution_count": 68,
     "metadata": {},
     "output_type": "execute_result"
    }
   ],
   "source": [
    "len(resultstremor)"
   ]
  },
  {
   "cell_type": "code",
   "execution_count": 69,
   "metadata": {},
   "outputs": [],
   "source": [
    "results = pd.DataFrame({'Population-Bradykinesia':resultsbrady, 'Personal-Bradykinesia':resultsbrady_pers,\n",
    "             'Population-Tremor':resultstremor, 'Personal-Tremor':resultstremor_pers})"
   ]
  },
  {
   "cell_type": "code",
   "execution_count": 70,
   "metadata": {},
   "outputs": [],
   "source": [
    "brady_data = results[['Population-Bradykinesia','Personal-Bradykinesia']]"
   ]
  },
  {
   "cell_type": "code",
   "execution_count": 71,
   "metadata": {},
   "outputs": [
    {
     "name": "stderr",
     "output_type": "stream",
     "text": [
      "C:\\Users\\Public\\Documents\\Anaconda\\lib\\site-packages\\scipy\\stats\\_distn_infrastructure.py:879: RuntimeWarning: invalid value encountered in greater\n",
      "  return (self.a < x) & (x < self.b)\n",
      "C:\\Users\\Public\\Documents\\Anaconda\\lib\\site-packages\\scipy\\stats\\_distn_infrastructure.py:879: RuntimeWarning: invalid value encountered in less\n",
      "  return (self.a < x) & (x < self.b)\n",
      "C:\\Users\\Public\\Documents\\Anaconda\\lib\\site-packages\\scipy\\stats\\_distn_infrastructure.py:1821: RuntimeWarning: invalid value encountered in less_equal\n",
      "  cond2 = cond0 & (x <= self.a)\n"
     ]
    },
    {
     "data": {
      "text/plain": [
       "Ttest_relResult(statistic=nan, pvalue=nan)"
      ]
     },
     "execution_count": 71,
     "metadata": {},
     "output_type": "execute_result"
    }
   ],
   "source": [
    "stats.ttest_rel(results['Personal-Bradykinesia'].values,results['Population-Bradykinesia'].values)"
   ]
  },
  {
   "cell_type": "code",
   "execution_count": 72,
   "metadata": {},
   "outputs": [
    {
     "data": {
      "image/png": "[encoded data removed]",
      "text/plain": [
       "<matplotlib.figure.Figure at 0x1147d908>"
      ]
     },
     "metadata": {},
     "output_type": "display_data"
    }
   ],
   "source": [
    "figure = plt.figure()\n",
    "figure.set_dpi(100)\n",
    "figure.set_size_inches(6.4,4.8)\n",
    "ax = sns.boxplot(data=brady_data);\n",
    "plt.ylabel('AUROC');\n",
    "plt.ylim(0.5,1.1);\n",
    "plt.title('Bradykinesia');\n",
    "\n",
    "x1,x2 = 0,1\n",
    "y, h, col = brady_data['Personal-Bradykinesia'].max() + 0.02, 0.02, 'k'\n",
    "plt.plot([x1, x1, x2, x2], [y, y+h, y+h, y], lw=1.5, c=col)\n",
    "plt.text((x1+x2)*.5, y+h+0.01, \"***\", ha='center', va='bottom', color=col,fontsize=16);\n",
    "\n",
    "plt.savefig('Bradykinesia Comparison Boxplot.png',format='png',dpi=1000)\n",
    "plt.savefig('Bradykinesia Comparison Boxplot.tiff',format='tiff', dpi=1000)"
   ]
  },
  {
   "cell_type": "code",
   "execution_count": 73,
   "metadata": {},
   "outputs": [],
   "source": [
    "tremor_data = results[['Population-Tremor','Personal-Tremor']]"
   ]
  },
  {
   "cell_type": "code",
   "execution_count": 74,
   "metadata": {},
   "outputs": [
    {
     "data": {
      "text/plain": [
       "Ttest_relResult(statistic=4.7786447817411695, pvalue=0.0002438966702105957)"
      ]
     },
     "execution_count": 74,
     "metadata": {},
     "output_type": "execute_result"
    }
   ],
   "source": [
    "stats.ttest_rel(results['Personal-Tremor'][~results['Personal-Tremor'].isnull()].values,\n",
    "                results['Population-Tremor'][~results['Personal-Tremor'].isnull()].values)"
   ]
  },
  {
   "cell_type": "code",
   "execution_count": 75,
   "metadata": {},
   "outputs": [
    {
     "data": {
      "image/png": "[encoded data removed]",
      "text/plain": [
       "<matplotlib.figure.Figure at 0xc34aeb8>"
      ]
     },
     "metadata": {},
     "output_type": "display_data"
    }
   ],
   "source": [
    "figure = plt.figure()\n",
    "figure.set_dpi(100)\n",
    "figure.set_size_inches(6.4,4.8)\n",
    "ax = sns.boxplot(data=tremor_data);\n",
    "plt.ylabel('AUROC');\n",
    "plt.ylim(0.5,1.1);\n",
    "plt.title('Tremor')\n",
    "\n",
    "x1,x2 = 0,1\n",
    "y, h, col = tremor_data['Personal-Tremor'].max() + 0.02, 0.02, 'k'\n",
    "plt.plot([x1, x1, x2, x2], [y, y+h, y+h, y], lw=1.5, c=col)\n",
    "plt.text((x1+x2)*.5, y+h+0.01, \"***\", ha='center', va='bottom', color=col,fontsize=16);\n",
    "\n",
    "plt.savefig('Tremor Comparison Boxplot.png',format='png',dpi=1000)\n",
    "plt.savefig('Tremor Comparison Boxplot.tiff',format='tiff',dpi=1000)"
   ]
  },
  {
   "cell_type": "code",
   "execution_count": 76,
   "metadata": {
    "scrolled": false
   },
   "outputs": [
    {
     "data": {
      "image/png": "[encoded data removed]",
      "text/plain": [
       "<matplotlib.figure.Figure at 0xe69fb00>"
      ]
     },
     "metadata": {},
     "output_type": "display_data"
    }
   ],
   "source": [
    "pop1 = brady_data['Population-Bradykinesia']; pop2 = tremor_data['Population-Tremor'];\n",
    "per1 = brady_data['Personal-Bradykinesia']; per2 = tremor_data['Personal-Tremor'];\n",
    "\n",
    "g1 = np.shape(pop1)[0]*['Bradykinesia']\n",
    "g2 = np.shape(pop2)[0]*['Tremor']\n",
    "df = pd.DataFrame.from_dict({'Symptom':(g1 + g2),'Population':(list(pop1) + list(pop2)),'Personal':(list(per1) + list(per2))})\n",
    "df_new = pd.melt(df,id_vars=['Symptom'],value_vars=['Population','Personal'],var_name=['Model Type']);\n",
    "\n",
    "figure = plt.figure();\n",
    "figure.set_dpi(100);\n",
    "figure.set_size_inches(6.4,4.8);\n",
    "ax = sns.boxplot(x='Symptom',y='value',data=df_new,hue='Model Type');\n",
    "\n",
    "x1,x2 = -0.2,0.2\n",
    "y, h, col = brady_data['Personal-Bradykinesia'].max() + 0.02, 0.02, 'k'\n",
    "plt.plot([x1, x1, x2, x2], [y, y+h, y+h, y], lw=1.5, c=col)\n",
    "plt.text((x1+x2)*.5, y+h+0.01, \"***\", ha='center', va='bottom', color=col,fontsize=16);\n",
    "\n",
    "x3,x4 = 0.8,1.2\n",
    "y, h, col = tremor_data['Personal-Tremor'].max() + 0.02, 0.02, 'k'\n",
    "plt.plot([x3, x3, x4, x4], [y, y+h, y+h, y], lw=1.5, c=col)\n",
    "plt.text((x3+x4)*.5, y+h+0.01, \"***\", ha='center', va='bottom', color=col,fontsize=16);\n",
    "\n",
    "plt.ylim(0.3,1.125)\n",
    "plt.ylabel('AUROC');\n",
    "plt.title('Model Comparison')\n",
    "plt.savefig('Model Comparison.png',format='png',dpi=1000)\n",
    "plt.savefig('Model Comparison.tiff',format='tiff',dpi=1000)"
   ]
  },
  {
   "cell_type": "code",
   "execution_count": 77,
   "metadata": {},
   "outputs": [
    {
     "data": {
      "text/plain": [
       "(array([1, 2, 3, 4]), <a list of 4 Text xticklabel objects>)"
      ]
     },
     "execution_count": 77,
     "metadata": {},
     "output_type": "execute_result"
    },
    {
     "data": {
      "image/png": "[encoded data removed]",
      "text/plain": [
       "<matplotlib.figure.Figure at 0xc39c550>"
      ]
     },
     "metadata": {},
     "output_type": "display_data"
    }
   ],
   "source": [
    "results.plot(kind='box')\n",
    "plt.xticks(rotation=90)"
   ]
  },
  {
   "cell_type": "markdown",
   "metadata": {},
   "source": [
    "## Evaluate performance of global models on Subtasks (this section has to be rewritten to train global and personal models on all tasks and analyze performance on each subset of tasks)"
   ]
  },
  {
   "cell_type": "code",
   "execution_count": 78,
   "metadata": {},
   "outputs": [],
   "source": [
    "from scipy import stats\n",
    "def save_object(obj, filename):\n",
    "    with open(filename, 'wb') as output:  # Overwrites any existing file.\n",
    "        pickle.dump(obj, output, pickle.HIGHEST_PROTOCOL)"
   ]
  },
  {
   "cell_type": "code",
   "execution_count": 13,
   "metadata": {},
   "outputs": [],
   "source": [
    "Dataorig = Data.copy()\n",
    "taskA = ['Motor #4: Finger to Nose','Motor #5: Alternating Hand Movements']\n",
    "taskB = ['Motor #2: Walking', 'Motor #3: Walking while Counting']\n",
    "taskB1 = ['Motor #1: Standing','Motor #13: Sitting'] #tremor\n",
    "taskC = ['Motor #10: Drinking Water','Motor #11: Organizing Folder','Motor #12: Folding Towels']\n",
    "taskD = ['Motor #7: Drawing on Paper','Motor #8: Typing on a Computer', 'Motor #9: Nuts and Bolts',]\n",
    "tasks = [taskA,taskB+taskB1,taskC,taskD]\n",
    "tasks = tasks# + [list(np.concatenate(tasks))]"
   ]
  },
  {
   "cell_type": "code",
   "execution_count": 14,
   "metadata": {
    "scrolled": true
   },
   "outputs": [
    {
     "name": "stdout",
     "output_type": "stream",
     "text": [
      "Rows w Tremor 8879/38405 = 0.23\n"
     ]
    },
    {
     "name": "stderr",
     "output_type": "stream",
     "text": [
      "C:\\Users\\andre\\Anaconda3\\lib\\site-packages\\sklearn\\metrics\\classification.py:1137: UndefinedMetricWarning: F-score is ill-defined and being set to 0.0 due to no true samples.\n",
      "  'recall', 'true', average, warn_for)\n",
      "C:\\Users\\andre\\Anaconda3\\lib\\site-packages\\sklearn\\metrics\\ranking.py:444: RuntimeWarning: invalid value encountered in true_divide\n",
      "  recall = tps / tps[-1]\n",
      "C:\\Users\\andre\\Anaconda3\\lib\\site-packages\\sklearn\\metrics\\ranking.py:94: RuntimeWarning: invalid value encountered in less\n",
      "  if np.any(dx < 0):\n",
      "C:\\Users\\andre\\Anaconda3\\lib\\site-packages\\sklearn\\metrics\\classification.py:1137: UndefinedMetricWarning: Recall is ill-defined and being set to 0.0 due to no true samples.\n",
      "  'recall', 'true', average, warn_for)\n"
     ]
    },
    {
     "name": "stdout",
     "output_type": "stream",
     "text": [
      "only 1 class in test data - cannot compute roc curve\n"
     ]
    },
    {
     "name": "stderr",
     "output_type": "stream",
     "text": [
      "C:\\Users\\andre\\Anaconda3\\lib\\site-packages\\sklearn\\metrics\\classification.py:1137: UndefinedMetricWarning: F-score is ill-defined and being set to 0.0 due to no true samples.\n",
      "  'recall', 'true', average, warn_for)\n",
      "C:\\Users\\andre\\Anaconda3\\lib\\site-packages\\sklearn\\metrics\\ranking.py:444: RuntimeWarning: invalid value encountered in true_divide\n",
      "  recall = tps / tps[-1]\n",
      "C:\\Users\\andre\\Anaconda3\\lib\\site-packages\\sklearn\\metrics\\ranking.py:94: RuntimeWarning: invalid value encountered in less\n",
      "  if np.any(dx < 0):\n",
      "C:\\Users\\andre\\Anaconda3\\lib\\site-packages\\sklearn\\metrics\\classification.py:1137: UndefinedMetricWarning: Recall is ill-defined and being set to 0.0 due to no true samples.\n",
      "  'recall', 'true', average, warn_for)\n"
     ]
    },
    {
     "name": "stdout",
     "output_type": "stream",
     "text": [
      "only 1 class in test data - cannot compute roc curve\n"
     ]
    },
    {
     "name": "stderr",
     "output_type": "stream",
     "text": [
      "C:\\Users\\andre\\Anaconda3\\lib\\site-packages\\sklearn\\metrics\\classification.py:1137: UndefinedMetricWarning: F-score is ill-defined and being set to 0.0 due to no true samples.\n",
      "  'recall', 'true', average, warn_for)\n",
      "C:\\Users\\andre\\Anaconda3\\lib\\site-packages\\sklearn\\metrics\\ranking.py:444: RuntimeWarning: invalid value encountered in true_divide\n",
      "  recall = tps / tps[-1]\n",
      "C:\\Users\\andre\\Anaconda3\\lib\\site-packages\\sklearn\\metrics\\ranking.py:94: RuntimeWarning: invalid value encountered in less\n",
      "  if np.any(dx < 0):\n",
      "C:\\Users\\andre\\Anaconda3\\lib\\site-packages\\sklearn\\metrics\\classification.py:1137: UndefinedMetricWarning: Recall is ill-defined and being set to 0.0 due to no true samples.\n",
      "  'recall', 'true', average, warn_for)\n"
     ]
    },
    {
     "name": "stdout",
     "output_type": "stream",
     "text": [
      "only 1 class in test data - cannot compute roc curve\n"
     ]
    },
    {
     "name": "stderr",
     "output_type": "stream",
     "text": [
      "C:\\Users\\andre\\Anaconda3\\lib\\site-packages\\sklearn\\metrics\\ranking.py:444: RuntimeWarning: invalid value encountered in true_divide\n",
      "  recall = tps / tps[-1]\n",
      "C:\\Users\\andre\\Anaconda3\\lib\\site-packages\\sklearn\\metrics\\ranking.py:94: RuntimeWarning: invalid value encountered in less\n",
      "  if np.any(dx < 0):\n"
     ]
    },
    {
     "name": "stdout",
     "output_type": "stream",
     "text": [
      "only 1 class in test data - cannot compute roc curve\n"
     ]
    },
    {
     "name": "stderr",
     "output_type": "stream",
     "text": [
      "C:\\Users\\andre\\Anaconda3\\lib\\site-packages\\sklearn\\metrics\\classification.py:1137: UndefinedMetricWarning: F-score is ill-defined and being set to 0.0 due to no true samples.\n",
      "  'recall', 'true', average, warn_for)\n",
      "C:\\Users\\andre\\Anaconda3\\lib\\site-packages\\sklearn\\metrics\\ranking.py:444: RuntimeWarning: invalid value encountered in true_divide\n",
      "  recall = tps / tps[-1]\n",
      "C:\\Users\\andre\\Anaconda3\\lib\\site-packages\\sklearn\\metrics\\ranking.py:94: RuntimeWarning: invalid value encountered in less\n",
      "  if np.any(dx < 0):\n",
      "C:\\Users\\andre\\Anaconda3\\lib\\site-packages\\sklearn\\metrics\\classification.py:1137: UndefinedMetricWarning: Recall is ill-defined and being set to 0.0 due to no true samples.\n",
      "  'recall', 'true', average, warn_for)\n"
     ]
    },
    {
     "name": "stdout",
     "output_type": "stream",
     "text": [
      "only 1 class in test data - cannot compute roc curve\n"
     ]
    },
    {
     "name": "stderr",
     "output_type": "stream",
     "text": [
      "C:\\Users\\andre\\Anaconda3\\lib\\site-packages\\sklearn\\metrics\\ranking.py:444: RuntimeWarning: invalid value encountered in true_divide\n",
      "  recall = tps / tps[-1]\n",
      "C:\\Users\\andre\\Anaconda3\\lib\\site-packages\\sklearn\\metrics\\ranking.py:94: RuntimeWarning: invalid value encountered in less\n",
      "  if np.any(dx < 0):\n"
     ]
    },
    {
     "name": "stdout",
     "output_type": "stream",
     "text": [
      "only 1 class in test data - cannot compute roc curve\n"
     ]
    },
    {
     "name": "stderr",
     "output_type": "stream",
     "text": [
      "C:\\Users\\andre\\Anaconda3\\lib\\site-packages\\sklearn\\metrics\\ranking.py:444: RuntimeWarning: invalid value encountered in true_divide\n",
      "  recall = tps / tps[-1]\n",
      "C:\\Users\\andre\\Anaconda3\\lib\\site-packages\\sklearn\\metrics\\ranking.py:94: RuntimeWarning: invalid value encountered in less\n",
      "  if np.any(dx < 0):\n"
     ]
    },
    {
     "name": "stdout",
     "output_type": "stream",
     "text": [
      "only 1 class in test data - cannot compute roc curve\n"
     ]
    },
    {
     "name": "stderr",
     "output_type": "stream",
     "text": [
      "C:\\Users\\andre\\Anaconda3\\lib\\site-packages\\sklearn\\metrics\\ranking.py:444: RuntimeWarning: invalid value encountered in true_divide\n",
      "  recall = tps / tps[-1]\n",
      "C:\\Users\\andre\\Anaconda3\\lib\\site-packages\\sklearn\\metrics\\ranking.py:94: RuntimeWarning: invalid value encountered in less\n",
      "  if np.any(dx < 0):\n"
     ]
    },
    {
     "name": "stdout",
     "output_type": "stream",
     "text": [
      "only 1 class in test data - cannot compute roc curve\n"
     ]
    },
    {
     "name": "stderr",
     "output_type": "stream",
     "text": [
      "C:\\Users\\andre\\Anaconda3\\lib\\site-packages\\sklearn\\metrics\\ranking.py:444: RuntimeWarning: invalid value encountered in true_divide\n",
      "  recall = tps / tps[-1]\n",
      "C:\\Users\\andre\\Anaconda3\\lib\\site-packages\\sklearn\\metrics\\ranking.py:94: RuntimeWarning: invalid value encountered in less\n",
      "  if np.any(dx < 0):\n"
     ]
    },
    {
     "name": "stdout",
     "output_type": "stream",
     "text": [
      "only 1 class in test data - cannot compute roc curve\n"
     ]
    },
    {
     "name": "stderr",
     "output_type": "stream",
     "text": [
      "C:\\Users\\andre\\Anaconda3\\lib\\site-packages\\sklearn\\metrics\\ranking.py:444: RuntimeWarning: invalid value encountered in true_divide\n",
      "  recall = tps / tps[-1]\n",
      "C:\\Users\\andre\\Anaconda3\\lib\\site-packages\\sklearn\\metrics\\ranking.py:94: RuntimeWarning: invalid value encountered in less\n",
      "  if np.any(dx < 0):\n"
     ]
    },
    {
     "name": "stdout",
     "output_type": "stream",
     "text": [
      "only 1 class in test data - cannot compute roc curve\n"
     ]
    },
    {
     "name": "stderr",
     "output_type": "stream",
     "text": [
      "C:\\Users\\andre\\Anaconda3\\lib\\site-packages\\sklearn\\metrics\\classification.py:1137: UndefinedMetricWarning: F-score is ill-defined and being set to 0.0 due to no true samples.\n",
      "  'recall', 'true', average, warn_for)\n",
      "C:\\Users\\andre\\Anaconda3\\lib\\site-packages\\sklearn\\metrics\\ranking.py:444: RuntimeWarning: invalid value encountered in true_divide\n",
      "  recall = tps / tps[-1]\n",
      "C:\\Users\\andre\\Anaconda3\\lib\\site-packages\\sklearn\\metrics\\ranking.py:94: RuntimeWarning: invalid value encountered in less\n",
      "  if np.any(dx < 0):\n",
      "C:\\Users\\andre\\Anaconda3\\lib\\site-packages\\sklearn\\metrics\\classification.py:1137: UndefinedMetricWarning: Recall is ill-defined and being set to 0.0 due to no true samples.\n",
      "  'recall', 'true', average, warn_for)\n"
     ]
    },
    {
     "name": "stdout",
     "output_type": "stream",
     "text": [
      "only 1 class in test data - cannot compute roc curve\n"
     ]
    },
    {
     "name": "stderr",
     "output_type": "stream",
     "text": [
      "C:\\Users\\andre\\Anaconda3\\lib\\site-packages\\sklearn\\metrics\\classification.py:1137: UndefinedMetricWarning: F-score is ill-defined and being set to 0.0 due to no true samples.\n",
      "  'recall', 'true', average, warn_for)\n",
      "C:\\Users\\andre\\Anaconda3\\lib\\site-packages\\sklearn\\metrics\\ranking.py:444: RuntimeWarning: invalid value encountered in true_divide\n",
      "  recall = tps / tps[-1]\n",
      "C:\\Users\\andre\\Anaconda3\\lib\\site-packages\\sklearn\\metrics\\ranking.py:94: RuntimeWarning: invalid value encountered in less\n",
      "  if np.any(dx < 0):\n",
      "C:\\Users\\andre\\Anaconda3\\lib\\site-packages\\sklearn\\metrics\\classification.py:1137: UndefinedMetricWarning: Recall is ill-defined and being set to 0.0 due to no true samples.\n",
      "  'recall', 'true', average, warn_for)\n"
     ]
    },
    {
     "name": "stdout",
     "output_type": "stream",
     "text": [
      "only 1 class in test data - cannot compute roc curve\n"
     ]
    },
    {
     "name": "stderr",
     "output_type": "stream",
     "text": [
      "C:\\Users\\andre\\Anaconda3\\lib\\site-packages\\sklearn\\metrics\\classification.py:1137: UndefinedMetricWarning: F-score is ill-defined and being set to 0.0 due to no true samples.\n",
      "  'recall', 'true', average, warn_for)\n",
      "C:\\Users\\andre\\Anaconda3\\lib\\site-packages\\sklearn\\metrics\\ranking.py:444: RuntimeWarning: invalid value encountered in true_divide\n",
      "  recall = tps / tps[-1]\n",
      "C:\\Users\\andre\\Anaconda3\\lib\\site-packages\\sklearn\\metrics\\ranking.py:94: RuntimeWarning: invalid value encountered in less\n",
      "  if np.any(dx < 0):\n",
      "C:\\Users\\andre\\Anaconda3\\lib\\site-packages\\sklearn\\metrics\\classification.py:1137: UndefinedMetricWarning: Recall is ill-defined and being set to 0.0 due to no true samples.\n",
      "  'recall', 'true', average, warn_for)\n"
     ]
    },
    {
     "name": "stdout",
     "output_type": "stream",
     "text": [
      "only 1 class in test data - cannot compute roc curve\n"
     ]
    },
    {
     "name": "stderr",
     "output_type": "stream",
     "text": [
      "C:\\Users\\andre\\Anaconda3\\lib\\site-packages\\sklearn\\metrics\\classification.py:1137: UndefinedMetricWarning: F-score is ill-defined and being set to 0.0 due to no true samples.\n",
      "  'recall', 'true', average, warn_for)\n",
      "C:\\Users\\andre\\Anaconda3\\lib\\site-packages\\sklearn\\metrics\\ranking.py:444: RuntimeWarning: invalid value encountered in true_divide\n",
      "  recall = tps / tps[-1]\n",
      "C:\\Users\\andre\\Anaconda3\\lib\\site-packages\\sklearn\\metrics\\ranking.py:94: RuntimeWarning: invalid value encountered in less\n",
      "  if np.any(dx < 0):\n",
      "C:\\Users\\andre\\Anaconda3\\lib\\site-packages\\sklearn\\metrics\\classification.py:1137: UndefinedMetricWarning: Recall is ill-defined and being set to 0.0 due to no true samples.\n",
      "  'recall', 'true', average, warn_for)\n"
     ]
    },
    {
     "name": "stdout",
     "output_type": "stream",
     "text": [
      "only 1 class in test data - cannot compute roc curve\n"
     ]
    },
    {
     "name": "stderr",
     "output_type": "stream",
     "text": [
      "C:\\Users\\andre\\Anaconda3\\lib\\site-packages\\sklearn\\metrics\\classification.py:1137: UndefinedMetricWarning: F-score is ill-defined and being set to 0.0 due to no true samples.\n",
      "  'recall', 'true', average, warn_for)\n",
      "C:\\Users\\andre\\Anaconda3\\lib\\site-packages\\sklearn\\metrics\\ranking.py:444: RuntimeWarning: invalid value encountered in true_divide\n",
      "  recall = tps / tps[-1]\n",
      "C:\\Users\\andre\\Anaconda3\\lib\\site-packages\\sklearn\\metrics\\ranking.py:94: RuntimeWarning: invalid value encountered in less\n",
      "  if np.any(dx < 0):\n",
      "C:\\Users\\andre\\Anaconda3\\lib\\site-packages\\sklearn\\metrics\\classification.py:1137: UndefinedMetricWarning: Recall is ill-defined and being set to 0.0 due to no true samples.\n",
      "  'recall', 'true', average, warn_for)\n"
     ]
    },
    {
     "name": "stdout",
     "output_type": "stream",
     "text": [
      "only 1 class in test data - cannot compute roc curve\n"
     ]
    },
    {
     "name": "stderr",
     "output_type": "stream",
     "text": [
      "C:\\Users\\andre\\Anaconda3\\lib\\site-packages\\sklearn\\metrics\\classification.py:1137: UndefinedMetricWarning: F-score is ill-defined and being set to 0.0 due to no true samples.\n",
      "  'recall', 'true', average, warn_for)\n",
      "C:\\Users\\andre\\Anaconda3\\lib\\site-packages\\sklearn\\metrics\\ranking.py:444: RuntimeWarning: invalid value encountered in true_divide\n",
      "  recall = tps / tps[-1]\n",
      "C:\\Users\\andre\\Anaconda3\\lib\\site-packages\\sklearn\\metrics\\ranking.py:94: RuntimeWarning: invalid value encountered in less\n",
      "  if np.any(dx < 0):\n",
      "C:\\Users\\andre\\Anaconda3\\lib\\site-packages\\sklearn\\metrics\\classification.py:1137: UndefinedMetricWarning: Recall is ill-defined and being set to 0.0 due to no true samples.\n",
      "  'recall', 'true', average, warn_for)\n"
     ]
    },
    {
     "name": "stdout",
     "output_type": "stream",
     "text": [
      "only 1 class in test data - cannot compute roc curve\n"
     ]
    },
    {
     "name": "stderr",
     "output_type": "stream",
     "text": [
      "C:\\Users\\andre\\Anaconda3\\lib\\site-packages\\sklearn\\metrics\\classification.py:1137: UndefinedMetricWarning: F-score is ill-defined and being set to 0.0 due to no true samples.\n",
      "  'recall', 'true', average, warn_for)\n",
      "C:\\Users\\andre\\Anaconda3\\lib\\site-packages\\sklearn\\metrics\\ranking.py:444: RuntimeWarning: invalid value encountered in true_divide\n",
      "  recall = tps / tps[-1]\n",
      "C:\\Users\\andre\\Anaconda3\\lib\\site-packages\\sklearn\\metrics\\ranking.py:94: RuntimeWarning: invalid value encountered in less\n",
      "  if np.any(dx < 0):\n",
      "C:\\Users\\andre\\Anaconda3\\lib\\site-packages\\sklearn\\metrics\\classification.py:1137: UndefinedMetricWarning: Recall is ill-defined and being set to 0.0 due to no true samples.\n",
      "  'recall', 'true', average, warn_for)\n"
     ]
    },
    {
     "name": "stdout",
     "output_type": "stream",
     "text": [
      "only 1 class in test data - cannot compute roc curve\n"
     ]
    },
    {
     "name": "stderr",
     "output_type": "stream",
     "text": [
      "C:\\Users\\andre\\Anaconda3\\lib\\site-packages\\sklearn\\metrics\\classification.py:1137: UndefinedMetricWarning: F-score is ill-defined and being set to 0.0 due to no true samples.\n",
      "  'recall', 'true', average, warn_for)\n",
      "C:\\Users\\andre\\Anaconda3\\lib\\site-packages\\sklearn\\metrics\\ranking.py:444: RuntimeWarning: invalid value encountered in true_divide\n",
      "  recall = tps / tps[-1]\n",
      "C:\\Users\\andre\\Anaconda3\\lib\\site-packages\\sklearn\\metrics\\ranking.py:94: RuntimeWarning: invalid value encountered in less\n",
      "  if np.any(dx < 0):\n",
      "C:\\Users\\andre\\Anaconda3\\lib\\site-packages\\sklearn\\metrics\\classification.py:1137: UndefinedMetricWarning: Recall is ill-defined and being set to 0.0 due to no true samples.\n",
      "  'recall', 'true', average, warn_for)\n"
     ]
    },
    {
     "name": "stdout",
     "output_type": "stream",
     "text": [
      "only 1 class in test data - cannot compute roc curve\n"
     ]
    },
    {
     "name": "stderr",
     "output_type": "stream",
     "text": [
      "C:\\Users\\andre\\Anaconda3\\lib\\site-packages\\sklearn\\metrics\\classification.py:1137: UndefinedMetricWarning: F-score is ill-defined and being set to 0.0 due to no true samples.\n",
      "  'recall', 'true', average, warn_for)\n",
      "C:\\Users\\andre\\Anaconda3\\lib\\site-packages\\sklearn\\metrics\\ranking.py:444: RuntimeWarning: invalid value encountered in true_divide\n",
      "  recall = tps / tps[-1]\n",
      "C:\\Users\\andre\\Anaconda3\\lib\\site-packages\\sklearn\\metrics\\ranking.py:94: RuntimeWarning: invalid value encountered in less\n",
      "  if np.any(dx < 0):\n",
      "C:\\Users\\andre\\Anaconda3\\lib\\site-packages\\sklearn\\metrics\\classification.py:1137: UndefinedMetricWarning: Recall is ill-defined and being set to 0.0 due to no true samples.\n",
      "  'recall', 'true', average, warn_for)\n"
     ]
    },
    {
     "name": "stdout",
     "output_type": "stream",
     "text": [
      "only 1 class in test data - cannot compute roc curve\n"
     ]
    },
    {
     "name": "stderr",
     "output_type": "stream",
     "text": [
      "C:\\Users\\andre\\Anaconda3\\lib\\site-packages\\sklearn\\metrics\\classification.py:1137: UndefinedMetricWarning: F-score is ill-defined and being set to 0.0 due to no true samples.\n",
      "  'recall', 'true', average, warn_for)\n",
      "C:\\Users\\andre\\Anaconda3\\lib\\site-packages\\sklearn\\metrics\\ranking.py:444: RuntimeWarning: invalid value encountered in true_divide\n",
      "  recall = tps / tps[-1]\n",
      "C:\\Users\\andre\\Anaconda3\\lib\\site-packages\\sklearn\\metrics\\ranking.py:94: RuntimeWarning: invalid value encountered in less\n",
      "  if np.any(dx < 0):\n",
      "C:\\Users\\andre\\Anaconda3\\lib\\site-packages\\sklearn\\metrics\\classification.py:1137: UndefinedMetricWarning: Recall is ill-defined and being set to 0.0 due to no true samples.\n",
      "  'recall', 'true', average, warn_for)\n"
     ]
    },
    {
     "name": "stdout",
     "output_type": "stream",
     "text": [
      "only 1 class in test data - cannot compute roc curve\n"
     ]
    },
    {
     "name": "stderr",
     "output_type": "stream",
     "text": [
      "C:\\Users\\andre\\Anaconda3\\lib\\site-packages\\sklearn\\metrics\\classification.py:1137: UndefinedMetricWarning: F-score is ill-defined and being set to 0.0 due to no true samples.\n",
      "  'recall', 'true', average, warn_for)\n",
      "C:\\Users\\andre\\Anaconda3\\lib\\site-packages\\sklearn\\metrics\\ranking.py:444: RuntimeWarning: invalid value encountered in true_divide\n",
      "  recall = tps / tps[-1]\n",
      "C:\\Users\\andre\\Anaconda3\\lib\\site-packages\\sklearn\\metrics\\ranking.py:94: RuntimeWarning: invalid value encountered in less\n",
      "  if np.any(dx < 0):\n",
      "C:\\Users\\andre\\Anaconda3\\lib\\site-packages\\sklearn\\metrics\\classification.py:1137: UndefinedMetricWarning: Recall is ill-defined and being set to 0.0 due to no true samples.\n",
      "  'recall', 'true', average, warn_for)\n"
     ]
    },
    {
     "name": "stdout",
     "output_type": "stream",
     "text": [
      "only 1 class in test data - cannot compute roc curve\n"
     ]
    },
    {
     "name": "stderr",
     "output_type": "stream",
     "text": [
      "C:\\Users\\andre\\Anaconda3\\lib\\site-packages\\sklearn\\metrics\\classification.py:1137: UndefinedMetricWarning: F-score is ill-defined and being set to 0.0 due to no true samples.\n",
      "  'recall', 'true', average, warn_for)\n",
      "C:\\Users\\andre\\Anaconda3\\lib\\site-packages\\sklearn\\metrics\\ranking.py:444: RuntimeWarning: invalid value encountered in true_divide\n",
      "  recall = tps / tps[-1]\n",
      "C:\\Users\\andre\\Anaconda3\\lib\\site-packages\\sklearn\\metrics\\ranking.py:94: RuntimeWarning: invalid value encountered in less\n",
      "  if np.any(dx < 0):\n",
      "C:\\Users\\andre\\Anaconda3\\lib\\site-packages\\sklearn\\metrics\\classification.py:1137: UndefinedMetricWarning: Recall is ill-defined and being set to 0.0 due to no true samples.\n",
      "  'recall', 'true', average, warn_for)\n"
     ]
    },
    {
     "name": "stdout",
     "output_type": "stream",
     "text": [
      "only 1 class in test data - cannot compute roc curve\n"
     ]
    },
    {
     "name": "stderr",
     "output_type": "stream",
     "text": [
      "C:\\Users\\andre\\Anaconda3\\lib\\site-packages\\sklearn\\metrics\\classification.py:1137: UndefinedMetricWarning: F-score is ill-defined and being set to 0.0 due to no true samples.\n",
      "  'recall', 'true', average, warn_for)\n",
      "C:\\Users\\andre\\Anaconda3\\lib\\site-packages\\sklearn\\metrics\\ranking.py:444: RuntimeWarning: invalid value encountered in true_divide\n",
      "  recall = tps / tps[-1]\n",
      "C:\\Users\\andre\\Anaconda3\\lib\\site-packages\\sklearn\\metrics\\ranking.py:94: RuntimeWarning: invalid value encountered in less\n",
      "  if np.any(dx < 0):\n",
      "C:\\Users\\andre\\Anaconda3\\lib\\site-packages\\sklearn\\metrics\\classification.py:1137: UndefinedMetricWarning: Recall is ill-defined and being set to 0.0 due to no true samples.\n",
      "  'recall', 'true', average, warn_for)\n"
     ]
    },
    {
     "name": "stdout",
     "output_type": "stream",
     "text": [
      "only 1 class in test data - cannot compute roc curve\n"
     ]
    },
    {
     "name": "stderr",
     "output_type": "stream",
     "text": [
      "C:\\Users\\andre\\Anaconda3\\lib\\site-packages\\sklearn\\metrics\\classification.py:1137: UndefinedMetricWarning: F-score is ill-defined and being set to 0.0 due to no true samples.\n",
      "  'recall', 'true', average, warn_for)\n",
      "C:\\Users\\andre\\Anaconda3\\lib\\site-packages\\sklearn\\metrics\\ranking.py:444: RuntimeWarning: invalid value encountered in true_divide\n",
      "  recall = tps / tps[-1]\n",
      "C:\\Users\\andre\\Anaconda3\\lib\\site-packages\\sklearn\\metrics\\ranking.py:94: RuntimeWarning: invalid value encountered in less\n",
      "  if np.any(dx < 0):\n",
      "C:\\Users\\andre\\Anaconda3\\lib\\site-packages\\sklearn\\metrics\\classification.py:1137: UndefinedMetricWarning: Recall is ill-defined and being set to 0.0 due to no true samples.\n",
      "  'recall', 'true', average, warn_for)\n"
     ]
    },
    {
     "name": "stdout",
     "output_type": "stream",
     "text": [
      "only 1 class in test data - cannot compute roc curve\n"
     ]
    },
    {
     "name": "stderr",
     "output_type": "stream",
     "text": [
      "C:\\Users\\andre\\Anaconda3\\lib\\site-packages\\sklearn\\metrics\\classification.py:1137: UndefinedMetricWarning: F-score is ill-defined and being set to 0.0 due to no true samples.\n",
      "  'recall', 'true', average, warn_for)\n",
      "C:\\Users\\andre\\Anaconda3\\lib\\site-packages\\sklearn\\metrics\\ranking.py:444: RuntimeWarning: invalid value encountered in true_divide\n",
      "  recall = tps / tps[-1]\n",
      "C:\\Users\\andre\\Anaconda3\\lib\\site-packages\\sklearn\\metrics\\ranking.py:94: RuntimeWarning: invalid value encountered in less\n",
      "  if np.any(dx < 0):\n",
      "C:\\Users\\andre\\Anaconda3\\lib\\site-packages\\sklearn\\metrics\\classification.py:1137: UndefinedMetricWarning: Recall is ill-defined and being set to 0.0 due to no true samples.\n",
      "  'recall', 'true', average, warn_for)\n"
     ]
    },
    {
     "name": "stdout",
     "output_type": "stream",
     "text": [
      "only 1 class in test data - cannot compute roc curve\n"
     ]
    },
    {
     "name": "stderr",
     "output_type": "stream",
     "text": [
      "C:\\Users\\andre\\Anaconda3\\lib\\site-packages\\sklearn\\metrics\\classification.py:1137: UndefinedMetricWarning: F-score is ill-defined and being set to 0.0 due to no true samples.\n",
      "  'recall', 'true', average, warn_for)\n",
      "C:\\Users\\andre\\Anaconda3\\lib\\site-packages\\sklearn\\metrics\\ranking.py:444: RuntimeWarning: invalid value encountered in true_divide\n",
      "  recall = tps / tps[-1]\n",
      "C:\\Users\\andre\\Anaconda3\\lib\\site-packages\\sklearn\\metrics\\ranking.py:94: RuntimeWarning: invalid value encountered in less\n",
      "  if np.any(dx < 0):\n",
      "C:\\Users\\andre\\Anaconda3\\lib\\site-packages\\sklearn\\metrics\\classification.py:1137: UndefinedMetricWarning: Recall is ill-defined and being set to 0.0 due to no true samples.\n",
      "  'recall', 'true', average, warn_for)\n"
     ]
    },
    {
     "name": "stdout",
     "output_type": "stream",
     "text": [
      "only 1 class in test data - cannot compute roc curve\n",
      "Clinical 0.7254522705795429 (0.645481352377457, 0.8054231887816288)\n",
      "Walking 0.6817116654214878 (0.45570259358973775, 0.9077207372532378)\n"
     ]
    },
    {
     "name": "stderr",
     "output_type": "stream",
     "text": [
      "C:\\Users\\andre\\Anaconda3\\lib\\site-packages\\seaborn\\timeseries.py:183: UserWarning: The tsplot function is deprecated and will be removed or replaced (in a substantially altered version) in a future release.\n",
      "  warnings.warn(msg, UserWarning)\n"
     ]
    },
    {
     "name": "stdout",
     "output_type": "stream",
     "text": [
      "Gross Motor 0.5688706557060916 (0.5083018179980237, 0.6294394934141596)\n",
      "Fine Motor 0.702510620199436 (0.6031355974062202, 0.8018856429926517)\n",
      "Elapsed time = 15.996 min\n"
     ]
    },
    {
     "data": {
      "image/png": "[encoded data removed]",
      "text/plain": [
       "<matplotlib.figure.Figure at 0x2d2701045c0>"
      ]
     },
     "metadata": {},
     "output_type": "display_data"
    }
   ],
   "source": [
    "# Global Models\n",
    "t1=time.time()\n",
    "res_all = pd.DataFrame()\n",
    "\n",
    "Data=Data.reset_index(drop=True) #reset index\n",
    "ind=1\n",
    "\n",
    "# for symptom in ['Bradykinesia']:\n",
    "for symptom in ['Tremor']:\n",
    "    \n",
    "    #remove nan rows for current symptom\n",
    "    Data = Dataorig.copy() #original unmodified dataframe\n",
    "    Data=Data[~Data[symptom].isnull()]\n",
    "    Data=Data.reset_index(drop=True) #reset index\n",
    "    \n",
    "    X = Data.iloc[:,7:].as_matrix()\n",
    "    # X = StandardScaler().fit_transform(X)\n",
    "    fnames = Data.iloc[:,7:].columns.values\n",
    "\n",
    "    indp = ((Data[symptom]>0))\n",
    "    indp = indp.values\n",
    "    y = indp.astype(int) #target \n",
    "    print('Rows w %s %d/%d = %.2f'%(symptom,sum(indp),len(indp),(sum(indp)/len(indp))))\n",
    "\n",
    "    models = [RandomForestClassifier(n_estimators=50,random_state=2)]          \n",
    "#           XGBClassifier()]\n",
    "    model_name = ['Random Forest']#,'XGB']\n",
    "    models = list(zip(models,model_name))\n",
    "    groups = Data.Subject.as_matrix()\n",
    "\n",
    "    res,res_group = LOSOCV_Tasks(Data,X,y,groups,tasks,models[0][0])\n",
    "    res_all = pd.concat((res_all,res))\n",
    "    \n",
    "    Tasks = list(res_group.keys())\n",
    "    AX=None\n",
    "#     plt.figure(figsize=(9,6))\n",
    "\n",
    "    figure = plt.figure()\n",
    "    figure.set_dpi(100)\n",
    "    figure.set_size_inches(6.4,4.8)\n",
    "    \n",
    "    cols = ['b','r','g','m','k']\n",
    "    TaskNames = ['Clinical', 'Walking', 'Gross Motor', 'Fine Motor', 'All']\n",
    "    for x,T in zip(range(len(Tasks)),Tasks):\n",
    "        NanInds = []\n",
    "        for i in range(len(res_group[T]['auroc'])):\n",
    "            if np.isnan(res_group[T]['auroc'][i]):\n",
    "                NanInds.append(i)\n",
    "        for i in sorted(NanInds,reverse=True):\n",
    "            del res_group[T]['tpr'][i]\n",
    "            del res_group[T]['auroc'][i]\n",
    "            \n",
    "        AUC = res_group[T]['auroc']\n",
    "        print(TaskNames[x],np.mean(AUC),\n",
    "              stats.t.interval(.95,len(AUC)-1, loc=np.mean(AUC), scale=stats.sem(AUC)))\n",
    "            \n",
    "        if AX==None:\n",
    "            AX = plot_roc(res_group[T]['tpr'],res_group[T]['fpr'][0],np.mean(res_group[T]['auroc']),plotname=TaskNames[x],col = cols[x])\n",
    "        else:\n",
    "            plot_roc(res_group[T]['tpr'],res_group[T]['fpr'][0],np.mean(res_group[T]['auroc']),plotname=TaskNames[x],ax=AX,col=cols[x])\n",
    "    \n",
    "    save_object(res_group,symptom+'DataResults')\n",
    "    plt.savefig(symptom+'Tasks.tiff',format='tiff',dpi=1000)\n",
    "    plt.savefig(symptom+'Tasks.png',format='png',dpi=1000)\n",
    "    \n",
    "print('Elapsed time = %.3f min'%((time.time()-t1)/60))  "
   ]
  },
  {
   "cell_type": "code",
   "execution_count": null,
   "metadata": {},
   "outputs": [],
   "source": [
    "file.close()"
   ]
  },
  {
   "cell_type": "code",
   "execution_count": 35,
   "metadata": {},
   "outputs": [],
   "source": [
    "with open('BradykinesiaDataResults','rb') as file:\n",
    "    BradykinesiaRes = pickle.load(file)\n",
    "    \n",
    "# with open('TremorDataResults','rb') as file:\n",
    "#     TremorRes = pickle.load(file)"
   ]
  },
  {
   "cell_type": "code",
   "execution_count": 36,
   "metadata": {},
   "outputs": [
    {
     "name": "stdout",
     "output_type": "stream",
     "text": [
      "('Motor #4: Finger to Nose', 'Motor #5: Alternating Hand Movements')\n",
      "Ttest_indResult(statistic=0.0, pvalue=1.0)\n",
      "('Motor #2: Walking', 'Motor #3: Walking while Counting', 'Motor #1: Standing', 'Motor #13: Sitting')\n",
      "Ttest_indResult(statistic=-0.6186182201885729, pvalue=0.5405467883012931)\n",
      "('Motor #10: Drinking Water', 'Motor #11: Organizing Folder', 'Motor #12: Folding Towels')\n",
      "Ttest_indResult(statistic=1.61336345178503, pvalue=0.11713683600421766)\n",
      "('Motor #7: Drawing on Paper', 'Motor #8: Typing on a Computer', 'Motor #9: Nuts and Bolts')\n",
      "Ttest_indResult(statistic=-0.9733509825919716, pvalue=0.3374600719691072)\n"
     ]
    }
   ],
   "source": [
    "for k in BradykinesiaRes.keys():\n",
    "    print(k)\n",
    "    try:\n",
    "        print(stats.ttest_ind(BradykinesiaRes[('Motor #4: Finger to Nose', 'Motor #5: Alternating Hand Movements')]['auroc'],\n",
    "                              BradykinesiaRes[k]['auroc']))\n",
    "    except:\n",
    "        continue"
   ]
  },
  {
   "cell_type": "code",
   "execution_count": null,
   "metadata": {},
   "outputs": [],
   "source": [
    "for k in TremorRes.keys():\n",
    "    print(k)\n",
    "    try:\n",
    "        print(stats.ttest_ind(TremorRes[('Motor #4: Finger to Nose', 'Motor #5: Alternating Hand Movements')]['auroc'],\n",
    "                              TremorRes[k]['auroc']))\n",
    "    except:\n",
    "        continue"
   ]
  },
  {
   "cell_type": "code",
   "execution_count": null,
   "metadata": {},
   "outputs": [],
   "source": [
    "save_object(res_group,symptom+'DataResults')\n",
    "plt.savefig(symptom+'Tasks.svg')\n",
    "plt.savefig(symptom+'Tasks.png')"
   ]
  },
  {
   "cell_type": "code",
   "execution_count": 33,
   "metadata": {},
   "outputs": [
    {
     "name": "stdout",
     "output_type": "stream",
     "text": [
      "Rows w Bradykinesia 16574/32368 = 0.51\n",
      "only 1 class in test data - cannot compute roc curve\n"
     ]
    },
    {
     "name": "stderr",
     "output_type": "stream",
     "text": [
      "C:\\Users\\nshawen\\AppData\\Local\\Continuum\\anaconda3\\lib\\site-packages\\ipykernel_launcher.py:273: RuntimeWarning: invalid value encountered in long_scalars\n"
     ]
    },
    {
     "name": "stdout",
     "output_type": "stream",
     "text": [
      "only 1 class in test data - cannot compute roc curve\n"
     ]
    },
    {
     "name": "stderr",
     "output_type": "stream",
     "text": [
      "C:\\Users\\nshawen\\AppData\\Local\\Continuum\\anaconda3\\lib\\site-packages\\ipykernel_launcher.py:273: RuntimeWarning: invalid value encountered in long_scalars\n",
      "C:\\Users\\nshawen\\AppData\\Local\\Continuum\\anaconda3\\lib\\site-packages\\sklearn\\metrics\\classification.py:1135: UndefinedMetricWarning: F-score is ill-defined and being set to 0.0 due to no predicted samples.\n",
      "  'precision', 'predicted', average, warn_for)\n",
      "C:\\Users\\nshawen\\AppData\\Local\\Continuum\\anaconda3\\lib\\site-packages\\sklearn\\metrics\\classification.py:1135: UndefinedMetricWarning: Precision is ill-defined and being set to 0.0 due to no predicted samples.\n",
      "  'precision', 'predicted', average, warn_for)\n",
      "C:\\Users\\nshawen\\AppData\\Local\\Continuum\\anaconda3\\lib\\site-packages\\sklearn\\metrics\\ranking.py:444: RuntimeWarning: invalid value encountered in true_divide\n",
      "  recall = tps / tps[-1]\n",
      "C:\\Users\\nshawen\\AppData\\Local\\Continuum\\anaconda3\\lib\\site-packages\\sklearn\\metrics\\ranking.py:94: RuntimeWarning: invalid value encountered in less\n",
      "  if np.any(dx < 0):\n"
     ]
    },
    {
     "name": "stdout",
     "output_type": "stream",
     "text": [
      "only 1 class in test data - cannot compute roc curve\n"
     ]
    },
    {
     "name": "stderr",
     "output_type": "stream",
     "text": [
      "C:\\Users\\nshawen\\AppData\\Local\\Continuum\\anaconda3\\lib\\site-packages\\sklearn\\metrics\\ranking.py:444: RuntimeWarning: invalid value encountered in true_divide\n",
      "  recall = tps / tps[-1]\n",
      "C:\\Users\\nshawen\\AppData\\Local\\Continuum\\anaconda3\\lib\\site-packages\\sklearn\\metrics\\ranking.py:94: RuntimeWarning: invalid value encountered in less\n",
      "  if np.any(dx < 0):\n"
     ]
    },
    {
     "name": "stdout",
     "output_type": "stream",
     "text": [
      "only 1 class in test data - cannot compute roc curve\n"
     ]
    },
    {
     "name": "stderr",
     "output_type": "stream",
     "text": [
      "C:\\Users\\nshawen\\AppData\\Local\\Continuum\\anaconda3\\lib\\site-packages\\sklearn\\metrics\\classification.py:1137: UndefinedMetricWarning: F-score is ill-defined and being set to 0.0 due to no true samples.\n",
      "  'recall', 'true', average, warn_for)\n",
      "C:\\Users\\nshawen\\AppData\\Local\\Continuum\\anaconda3\\lib\\site-packages\\sklearn\\metrics\\ranking.py:444: RuntimeWarning: invalid value encountered in true_divide\n",
      "  recall = tps / tps[-1]\n",
      "C:\\Users\\nshawen\\AppData\\Local\\Continuum\\anaconda3\\lib\\site-packages\\sklearn\\metrics\\ranking.py:94: RuntimeWarning: invalid value encountered in less\n",
      "  if np.any(dx < 0):\n",
      "C:\\Users\\nshawen\\AppData\\Local\\Continuum\\anaconda3\\lib\\site-packages\\sklearn\\metrics\\classification.py:1137: UndefinedMetricWarning: Recall is ill-defined and being set to 0.0 due to no true samples.\n",
      "  'recall', 'true', average, warn_for)\n"
     ]
    },
    {
     "name": "stdout",
     "output_type": "stream",
     "text": [
      "only 1 class in test data - cannot compute roc curve\n",
      "only 1 class in test data - cannot compute roc curve\n"
     ]
    },
    {
     "name": "stderr",
     "output_type": "stream",
     "text": [
      "C:\\Users\\nshawen\\AppData\\Local\\Continuum\\anaconda3\\lib\\site-packages\\ipykernel_launcher.py:273: RuntimeWarning: invalid value encountered in long_scalars\n",
      "C:\\Users\\nshawen\\AppData\\Local\\Continuum\\anaconda3\\lib\\site-packages\\sklearn\\metrics\\classification.py:1137: UndefinedMetricWarning: F-score is ill-defined and being set to 0.0 due to no true samples.\n",
      "  'recall', 'true', average, warn_for)\n",
      "C:\\Users\\nshawen\\AppData\\Local\\Continuum\\anaconda3\\lib\\site-packages\\sklearn\\metrics\\ranking.py:444: RuntimeWarning: invalid value encountered in true_divide\n",
      "  recall = tps / tps[-1]\n",
      "C:\\Users\\nshawen\\AppData\\Local\\Continuum\\anaconda3\\lib\\site-packages\\sklearn\\metrics\\ranking.py:94: RuntimeWarning: invalid value encountered in less\n",
      "  if np.any(dx < 0):\n",
      "C:\\Users\\nshawen\\AppData\\Local\\Continuum\\anaconda3\\lib\\site-packages\\sklearn\\metrics\\classification.py:1137: UndefinedMetricWarning: Recall is ill-defined and being set to 0.0 due to no true samples.\n",
      "  'recall', 'true', average, warn_for)\n"
     ]
    },
    {
     "name": "stdout",
     "output_type": "stream",
     "text": [
      "only 1 class in test data - cannot compute roc curve\n"
     ]
    },
    {
     "name": "stderr",
     "output_type": "stream",
     "text": [
      "C:\\Users\\nshawen\\AppData\\Local\\Continuum\\anaconda3\\lib\\site-packages\\sklearn\\metrics\\classification.py:1137: UndefinedMetricWarning: F-score is ill-defined and being set to 0.0 due to no true samples.\n",
      "  'recall', 'true', average, warn_for)\n",
      "C:\\Users\\nshawen\\AppData\\Local\\Continuum\\anaconda3\\lib\\site-packages\\sklearn\\metrics\\ranking.py:444: RuntimeWarning: invalid value encountered in true_divide\n",
      "  recall = tps / tps[-1]\n",
      "C:\\Users\\nshawen\\AppData\\Local\\Continuum\\anaconda3\\lib\\site-packages\\sklearn\\metrics\\ranking.py:94: RuntimeWarning: invalid value encountered in less\n",
      "  if np.any(dx < 0):\n",
      "C:\\Users\\nshawen\\AppData\\Local\\Continuum\\anaconda3\\lib\\site-packages\\sklearn\\metrics\\classification.py:1137: UndefinedMetricWarning: Recall is ill-defined and being set to 0.0 due to no true samples.\n",
      "  'recall', 'true', average, warn_for)\n"
     ]
    },
    {
     "name": "stdout",
     "output_type": "stream",
     "text": [
      "only 1 class in test data - cannot compute roc curve\n"
     ]
    },
    {
     "name": "stderr",
     "output_type": "stream",
     "text": [
      "C:\\Users\\nshawen\\AppData\\Local\\Continuum\\anaconda3\\lib\\site-packages\\sklearn\\metrics\\classification.py:1137: UndefinedMetricWarning: F-score is ill-defined and being set to 0.0 due to no true samples.\n",
      "  'recall', 'true', average, warn_for)\n",
      "C:\\Users\\nshawen\\AppData\\Local\\Continuum\\anaconda3\\lib\\site-packages\\sklearn\\metrics\\ranking.py:444: RuntimeWarning: invalid value encountered in true_divide\n",
      "  recall = tps / tps[-1]\n",
      "C:\\Users\\nshawen\\AppData\\Local\\Continuum\\anaconda3\\lib\\site-packages\\sklearn\\metrics\\ranking.py:94: RuntimeWarning: invalid value encountered in less\n",
      "  if np.any(dx < 0):\n",
      "C:\\Users\\nshawen\\AppData\\Local\\Continuum\\anaconda3\\lib\\site-packages\\sklearn\\metrics\\classification.py:1137: UndefinedMetricWarning: Recall is ill-defined and being set to 0.0 due to no true samples.\n",
      "  'recall', 'true', average, warn_for)\n"
     ]
    },
    {
     "name": "stdout",
     "output_type": "stream",
     "text": [
      "only 1 class in test data - cannot compute roc curve\n"
     ]
    },
    {
     "name": "stderr",
     "output_type": "stream",
     "text": [
      "C:\\Users\\nshawen\\AppData\\Local\\Continuum\\anaconda3\\lib\\site-packages\\sklearn\\metrics\\classification.py:1137: UndefinedMetricWarning: F-score is ill-defined and being set to 0.0 due to no true samples.\n",
      "  'recall', 'true', average, warn_for)\n",
      "C:\\Users\\nshawen\\AppData\\Local\\Continuum\\anaconda3\\lib\\site-packages\\sklearn\\metrics\\ranking.py:444: RuntimeWarning: invalid value encountered in true_divide\n",
      "  recall = tps / tps[-1]\n",
      "C:\\Users\\nshawen\\AppData\\Local\\Continuum\\anaconda3\\lib\\site-packages\\sklearn\\metrics\\ranking.py:94: RuntimeWarning: invalid value encountered in less\n",
      "  if np.any(dx < 0):\n",
      "C:\\Users\\nshawen\\AppData\\Local\\Continuum\\anaconda3\\lib\\site-packages\\sklearn\\metrics\\classification.py:1137: UndefinedMetricWarning: Recall is ill-defined and being set to 0.0 due to no true samples.\n",
      "  'recall', 'true', average, warn_for)\n"
     ]
    },
    {
     "name": "stdout",
     "output_type": "stream",
     "text": [
      "only 1 class in test data - cannot compute roc curve\n",
      "only 1 class in test data - cannot compute roc curve\n"
     ]
    },
    {
     "name": "stderr",
     "output_type": "stream",
     "text": [
      "C:\\Users\\nshawen\\AppData\\Local\\Continuum\\anaconda3\\lib\\site-packages\\ipykernel_launcher.py:273: RuntimeWarning: invalid value encountered in long_scalars\n"
     ]
    },
    {
     "name": "stdout",
     "output_type": "stream",
     "text": [
      "only 1 class in test data - cannot compute roc curve\n"
     ]
    },
    {
     "name": "stderr",
     "output_type": "stream",
     "text": [
      "C:\\Users\\nshawen\\AppData\\Local\\Continuum\\anaconda3\\lib\\site-packages\\ipykernel_launcher.py:273: RuntimeWarning: invalid value encountered in long_scalars\n"
     ]
    },
    {
     "name": "stdout",
     "output_type": "stream",
     "text": [
      "only 1 class in test data - cannot compute roc curve\n"
     ]
    },
    {
     "name": "stderr",
     "output_type": "stream",
     "text": [
      "C:\\Users\\nshawen\\AppData\\Local\\Continuum\\anaconda3\\lib\\site-packages\\ipykernel_launcher.py:273: RuntimeWarning: invalid value encountered in long_scalars\n"
     ]
    },
    {
     "name": "stdout",
     "output_type": "stream",
     "text": [
      "only 1 class in test data - cannot compute roc curve\n"
     ]
    },
    {
     "name": "stderr",
     "output_type": "stream",
     "text": [
      "C:\\Users\\nshawen\\AppData\\Local\\Continuum\\anaconda3\\lib\\site-packages\\ipykernel_launcher.py:273: RuntimeWarning: invalid value encountered in long_scalars\n"
     ]
    },
    {
     "name": "stdout",
     "output_type": "stream",
     "text": [
      "only 1 class in test data - cannot compute roc curve\n"
     ]
    },
    {
     "name": "stderr",
     "output_type": "stream",
     "text": [
      "C:\\Users\\nshawen\\AppData\\Local\\Continuum\\anaconda3\\lib\\site-packages\\ipykernel_launcher.py:273: RuntimeWarning: invalid value encountered in long_scalars\n"
     ]
    },
    {
     "name": "stdout",
     "output_type": "stream",
     "text": [
      "only 1 class in test data - cannot compute roc curve\n"
     ]
    },
    {
     "name": "stderr",
     "output_type": "stream",
     "text": [
      "C:\\Users\\nshawen\\AppData\\Local\\Continuum\\anaconda3\\lib\\site-packages\\ipykernel_launcher.py:273: RuntimeWarning: invalid value encountered in long_scalars\n"
     ]
    },
    {
     "name": "stdout",
     "output_type": "stream",
     "text": [
      "only 1 class in test data - cannot compute roc curve\n"
     ]
    },
    {
     "name": "stderr",
     "output_type": "stream",
     "text": [
      "C:\\Users\\nshawen\\AppData\\Local\\Continuum\\anaconda3\\lib\\site-packages\\ipykernel_launcher.py:273: RuntimeWarning: invalid value encountered in long_scalars\n"
     ]
    },
    {
     "name": "stdout",
     "output_type": "stream",
     "text": [
      "only 1 class in test data - cannot compute roc curve\n"
     ]
    },
    {
     "name": "stderr",
     "output_type": "stream",
     "text": [
      "C:\\Users\\nshawen\\AppData\\Local\\Continuum\\anaconda3\\lib\\site-packages\\ipykernel_launcher.py:273: RuntimeWarning: invalid value encountered in long_scalars\n"
     ]
    },
    {
     "name": "stdout",
     "output_type": "stream",
     "text": [
      "only 1 class in test data - cannot compute roc curve\n"
     ]
    },
    {
     "name": "stderr",
     "output_type": "stream",
     "text": [
      "C:\\Users\\nshawen\\AppData\\Local\\Continuum\\anaconda3\\lib\\site-packages\\ipykernel_launcher.py:273: RuntimeWarning: invalid value encountered in long_scalars\n"
     ]
    },
    {
     "name": "stdout",
     "output_type": "stream",
     "text": [
      "only 1 class in test data - cannot compute roc curve\n"
     ]
    },
    {
     "name": "stderr",
     "output_type": "stream",
     "text": [
      "C:\\Users\\nshawen\\AppData\\Local\\Continuum\\anaconda3\\lib\\site-packages\\ipykernel_launcher.py:273: RuntimeWarning: invalid value encountered in long_scalars\n"
     ]
    },
    {
     "name": "stdout",
     "output_type": "stream",
     "text": [
      "only 1 class in test data - cannot compute roc curve\n"
     ]
    },
    {
     "name": "stderr",
     "output_type": "stream",
     "text": [
      "C:\\Users\\nshawen\\AppData\\Local\\Continuum\\anaconda3\\lib\\site-packages\\ipykernel_launcher.py:273: RuntimeWarning: invalid value encountered in long_scalars\n"
     ]
    },
    {
     "name": "stdout",
     "output_type": "stream",
     "text": [
      "only 1 class in test data - cannot compute roc curve\n"
     ]
    },
    {
     "name": "stderr",
     "output_type": "stream",
     "text": [
      "C:\\Users\\nshawen\\AppData\\Local\\Continuum\\anaconda3\\lib\\site-packages\\ipykernel_launcher.py:273: RuntimeWarning: invalid value encountered in long_scalars\n"
     ]
    },
    {
     "name": "stdout",
     "output_type": "stream",
     "text": [
      "only 1 class in test data - cannot compute roc curve\n"
     ]
    },
    {
     "name": "stderr",
     "output_type": "stream",
     "text": [
      "C:\\Users\\nshawen\\AppData\\Local\\Continuum\\anaconda3\\lib\\site-packages\\ipykernel_launcher.py:273: RuntimeWarning: invalid value encountered in long_scalars\n"
     ]
    },
    {
     "name": "stdout",
     "output_type": "stream",
     "text": [
      "only 1 class in test data - cannot compute roc curve\n"
     ]
    },
    {
     "name": "stderr",
     "output_type": "stream",
     "text": [
      "C:\\Users\\nshawen\\AppData\\Local\\Continuum\\anaconda3\\lib\\site-packages\\ipykernel_launcher.py:273: RuntimeWarning: invalid value encountered in long_scalars\n"
     ]
    },
    {
     "name": "stdout",
     "output_type": "stream",
     "text": [
      "only 1 class in test data - cannot compute roc curve\n"
     ]
    },
    {
     "name": "stderr",
     "output_type": "stream",
     "text": [
      "C:\\Users\\nshawen\\AppData\\Local\\Continuum\\anaconda3\\lib\\site-packages\\ipykernel_launcher.py:273: RuntimeWarning: invalid value encountered in long_scalars\n"
     ]
    },
    {
     "name": "stdout",
     "output_type": "stream",
     "text": [
      "only 1 class in test data - cannot compute roc curve\n"
     ]
    },
    {
     "name": "stderr",
     "output_type": "stream",
     "text": [
      "C:\\Users\\nshawen\\AppData\\Local\\Continuum\\anaconda3\\lib\\site-packages\\ipykernel_launcher.py:273: RuntimeWarning: invalid value encountered in long_scalars\n",
      "C:\\Users\\nshawen\\AppData\\Local\\Continuum\\anaconda3\\lib\\site-packages\\ipykernel_launcher.py:317: RuntimeWarning: Mean of empty slice\n"
     ]
    },
    {
     "name": "stdout",
     "output_type": "stream",
     "text": [
      "only 1 class in test data - cannot compute roc curve\n"
     ]
    },
    {
     "name": "stderr",
     "output_type": "stream",
     "text": [
      "C:\\Users\\nshawen\\AppData\\Local\\Continuum\\anaconda3\\lib\\site-packages\\ipykernel_launcher.py:273: RuntimeWarning: invalid value encountered in long_scalars\n"
     ]
    },
    {
     "name": "stdout",
     "output_type": "stream",
     "text": [
      "only 1 class in test data - cannot compute roc curve\n"
     ]
    },
    {
     "name": "stderr",
     "output_type": "stream",
     "text": [
      "C:\\Users\\nshawen\\AppData\\Local\\Continuum\\anaconda3\\lib\\site-packages\\ipykernel_launcher.py:273: RuntimeWarning: invalid value encountered in long_scalars\n",
      "C:\\Users\\nshawen\\AppData\\Local\\Continuum\\anaconda3\\lib\\site-packages\\sklearn\\metrics\\classification.py:1137: UndefinedMetricWarning: F-score is ill-defined and being set to 0.0 due to no true samples.\n",
      "  'recall', 'true', average, warn_for)\n",
      "C:\\Users\\nshawen\\AppData\\Local\\Continuum\\anaconda3\\lib\\site-packages\\sklearn\\metrics\\ranking.py:444: RuntimeWarning: invalid value encountered in true_divide\n",
      "  recall = tps / tps[-1]\n",
      "C:\\Users\\nshawen\\AppData\\Local\\Continuum\\anaconda3\\lib\\site-packages\\sklearn\\metrics\\ranking.py:94: RuntimeWarning: invalid value encountered in less\n",
      "  if np.any(dx < 0):\n",
      "C:\\Users\\nshawen\\AppData\\Local\\Continuum\\anaconda3\\lib\\site-packages\\sklearn\\metrics\\classification.py:1137: UndefinedMetricWarning: Recall is ill-defined and being set to 0.0 due to no true samples.\n",
      "  'recall', 'true', average, warn_for)\n"
     ]
    },
    {
     "name": "stdout",
     "output_type": "stream",
     "text": [
      "only 1 class in test data - cannot compute roc curve\n"
     ]
    },
    {
     "name": "stderr",
     "output_type": "stream",
     "text": [
      "C:\\Users\\nshawen\\AppData\\Local\\Continuum\\anaconda3\\lib\\site-packages\\sklearn\\metrics\\classification.py:1137: UndefinedMetricWarning: F-score is ill-defined and being set to 0.0 due to no true samples.\n",
      "  'recall', 'true', average, warn_for)\n",
      "C:\\Users\\nshawen\\AppData\\Local\\Continuum\\anaconda3\\lib\\site-packages\\sklearn\\metrics\\ranking.py:444: RuntimeWarning: invalid value encountered in true_divide\n",
      "  recall = tps / tps[-1]\n",
      "C:\\Users\\nshawen\\AppData\\Local\\Continuum\\anaconda3\\lib\\site-packages\\sklearn\\metrics\\ranking.py:94: RuntimeWarning: invalid value encountered in less\n",
      "  if np.any(dx < 0):\n",
      "C:\\Users\\nshawen\\AppData\\Local\\Continuum\\anaconda3\\lib\\site-packages\\sklearn\\metrics\\classification.py:1137: UndefinedMetricWarning: Recall is ill-defined and being set to 0.0 due to no true samples.\n",
      "  'recall', 'true', average, warn_for)\n"
     ]
    },
    {
     "name": "stdout",
     "output_type": "stream",
     "text": [
      "only 1 class in test data - cannot compute roc curve\n"
     ]
    },
    {
     "name": "stderr",
     "output_type": "stream",
     "text": [
      "C:\\Users\\nshawen\\AppData\\Local\\Continuum\\anaconda3\\lib\\site-packages\\sklearn\\metrics\\classification.py:1137: UndefinedMetricWarning: F-score is ill-defined and being set to 0.0 due to no true samples.\n",
      "  'recall', 'true', average, warn_for)\n",
      "C:\\Users\\nshawen\\AppData\\Local\\Continuum\\anaconda3\\lib\\site-packages\\sklearn\\metrics\\ranking.py:444: RuntimeWarning: invalid value encountered in true_divide\n",
      "  recall = tps / tps[-1]\n",
      "C:\\Users\\nshawen\\AppData\\Local\\Continuum\\anaconda3\\lib\\site-packages\\sklearn\\metrics\\ranking.py:94: RuntimeWarning: invalid value encountered in less\n",
      "  if np.any(dx < 0):\n",
      "C:\\Users\\nshawen\\AppData\\Local\\Continuum\\anaconda3\\lib\\site-packages\\sklearn\\metrics\\classification.py:1137: UndefinedMetricWarning: Recall is ill-defined and being set to 0.0 due to no true samples.\n",
      "  'recall', 'true', average, warn_for)\n"
     ]
    },
    {
     "name": "stdout",
     "output_type": "stream",
     "text": [
      "only 1 class in test data - cannot compute roc curve\n"
     ]
    },
    {
     "name": "stderr",
     "output_type": "stream",
     "text": [
      "C:\\Users\\nshawen\\AppData\\Local\\Continuum\\anaconda3\\lib\\site-packages\\sklearn\\metrics\\classification.py:1137: UndefinedMetricWarning: F-score is ill-defined and being set to 0.0 due to no true samples.\n",
      "  'recall', 'true', average, warn_for)\n",
      "C:\\Users\\nshawen\\AppData\\Local\\Continuum\\anaconda3\\lib\\site-packages\\sklearn\\metrics\\ranking.py:444: RuntimeWarning: invalid value encountered in true_divide\n",
      "  recall = tps / tps[-1]\n",
      "C:\\Users\\nshawen\\AppData\\Local\\Continuum\\anaconda3\\lib\\site-packages\\sklearn\\metrics\\ranking.py:94: RuntimeWarning: invalid value encountered in less\n",
      "  if np.any(dx < 0):\n",
      "C:\\Users\\nshawen\\AppData\\Local\\Continuum\\anaconda3\\lib\\site-packages\\sklearn\\metrics\\classification.py:1137: UndefinedMetricWarning: Recall is ill-defined and being set to 0.0 due to no true samples.\n",
      "  'recall', 'true', average, warn_for)\n"
     ]
    },
    {
     "name": "stdout",
     "output_type": "stream",
     "text": [
      "only 1 class in test data - cannot compute roc curve\n"
     ]
    },
    {
     "name": "stderr",
     "output_type": "stream",
     "text": [
      "C:\\Users\\nshawen\\AppData\\Local\\Continuum\\anaconda3\\lib\\site-packages\\sklearn\\metrics\\classification.py:1137: UndefinedMetricWarning: F-score is ill-defined and being set to 0.0 due to no true samples.\n",
      "  'recall', 'true', average, warn_for)\n",
      "C:\\Users\\nshawen\\AppData\\Local\\Continuum\\anaconda3\\lib\\site-packages\\sklearn\\metrics\\ranking.py:444: RuntimeWarning: invalid value encountered in true_divide\n",
      "  recall = tps / tps[-1]\n",
      "C:\\Users\\nshawen\\AppData\\Local\\Continuum\\anaconda3\\lib\\site-packages\\sklearn\\metrics\\ranking.py:94: RuntimeWarning: invalid value encountered in less\n",
      "  if np.any(dx < 0):\n",
      "C:\\Users\\nshawen\\AppData\\Local\\Continuum\\anaconda3\\lib\\site-packages\\sklearn\\metrics\\classification.py:1137: UndefinedMetricWarning: Recall is ill-defined and being set to 0.0 due to no true samples.\n",
      "  'recall', 'true', average, warn_for)\n"
     ]
    },
    {
     "name": "stdout",
     "output_type": "stream",
     "text": [
      "only 1 class in test data - cannot compute roc curve\n",
      "only 1 class in test data - cannot compute roc curve\n"
     ]
    },
    {
     "name": "stderr",
     "output_type": "stream",
     "text": [
      "C:\\Users\\nshawen\\AppData\\Local\\Continuum\\anaconda3\\lib\\site-packages\\ipykernel_launcher.py:273: RuntimeWarning: invalid value encountered in long_scalars\n"
     ]
    },
    {
     "name": "stdout",
     "output_type": "stream",
     "text": [
      "only 1 class in test data - cannot compute roc curve\n"
     ]
    },
    {
     "name": "stderr",
     "output_type": "stream",
     "text": [
      "C:\\Users\\nshawen\\AppData\\Local\\Continuum\\anaconda3\\lib\\site-packages\\ipykernel_launcher.py:273: RuntimeWarning: invalid value encountered in long_scalars\n"
     ]
    },
    {
     "name": "stdout",
     "output_type": "stream",
     "text": [
      "only 1 class in test data - cannot compute roc curve\n"
     ]
    },
    {
     "name": "stderr",
     "output_type": "stream",
     "text": [
      "C:\\Users\\nshawen\\AppData\\Local\\Continuum\\anaconda3\\lib\\site-packages\\ipykernel_launcher.py:273: RuntimeWarning: invalid value encountered in long_scalars\n"
     ]
    },
    {
     "name": "stdout",
     "output_type": "stream",
     "text": [
      "only 1 class in test data - cannot compute roc curve\n"
     ]
    },
    {
     "name": "stderr",
     "output_type": "stream",
     "text": [
      "C:\\Users\\nshawen\\AppData\\Local\\Continuum\\anaconda3\\lib\\site-packages\\ipykernel_launcher.py:273: RuntimeWarning: invalid value encountered in long_scalars\n"
     ]
    },
    {
     "name": "stdout",
     "output_type": "stream",
     "text": [
      "only 1 class in test data - cannot compute roc curve\n"
     ]
    },
    {
     "name": "stderr",
     "output_type": "stream",
     "text": [
      "C:\\Users\\nshawen\\AppData\\Local\\Continuum\\anaconda3\\lib\\site-packages\\ipykernel_launcher.py:273: RuntimeWarning: invalid value encountered in long_scalars\n"
     ]
    },
    {
     "name": "stdout",
     "output_type": "stream",
     "text": [
      "only 1 class in test data - cannot compute roc curve\n"
     ]
    },
    {
     "name": "stderr",
     "output_type": "stream",
     "text": [
      "C:\\Users\\nshawen\\AppData\\Local\\Continuum\\anaconda3\\lib\\site-packages\\ipykernel_launcher.py:273: RuntimeWarning: invalid value encountered in long_scalars\n"
     ]
    },
    {
     "name": "stdout",
     "output_type": "stream",
     "text": [
      "only 1 class in test data - cannot compute roc curve\n"
     ]
    },
    {
     "name": "stderr",
     "output_type": "stream",
     "text": [
      "C:\\Users\\nshawen\\AppData\\Local\\Continuum\\anaconda3\\lib\\site-packages\\ipykernel_launcher.py:273: RuntimeWarning: invalid value encountered in long_scalars\n",
      "C:\\Users\\nshawen\\AppData\\Local\\Continuum\\anaconda3\\lib\\site-packages\\sklearn\\metrics\\classification.py:1137: UndefinedMetricWarning: F-score is ill-defined and being set to 0.0 due to no true samples.\n",
      "  'recall', 'true', average, warn_for)\n",
      "C:\\Users\\nshawen\\AppData\\Local\\Continuum\\anaconda3\\lib\\site-packages\\sklearn\\metrics\\ranking.py:444: RuntimeWarning: invalid value encountered in true_divide\n",
      "  recall = tps / tps[-1]\n",
      "C:\\Users\\nshawen\\AppData\\Local\\Continuum\\anaconda3\\lib\\site-packages\\sklearn\\metrics\\ranking.py:94: RuntimeWarning: invalid value encountered in less\n",
      "  if np.any(dx < 0):\n",
      "C:\\Users\\nshawen\\AppData\\Local\\Continuum\\anaconda3\\lib\\site-packages\\sklearn\\metrics\\classification.py:1137: UndefinedMetricWarning: Recall is ill-defined and being set to 0.0 due to no true samples.\n",
      "  'recall', 'true', average, warn_for)\n"
     ]
    },
    {
     "name": "stdout",
     "output_type": "stream",
     "text": [
      "only 1 class in test data - cannot compute roc curve\n"
     ]
    },
    {
     "name": "stderr",
     "output_type": "stream",
     "text": [
      "C:\\Users\\nshawen\\AppData\\Local\\Continuum\\anaconda3\\lib\\site-packages\\sklearn\\metrics\\classification.py:1137: UndefinedMetricWarning: F-score is ill-defined and being set to 0.0 due to no true samples.\n",
      "  'recall', 'true', average, warn_for)\n",
      "C:\\Users\\nshawen\\AppData\\Local\\Continuum\\anaconda3\\lib\\site-packages\\sklearn\\metrics\\ranking.py:444: RuntimeWarning: invalid value encountered in true_divide\n",
      "  recall = tps / tps[-1]\n",
      "C:\\Users\\nshawen\\AppData\\Local\\Continuum\\anaconda3\\lib\\site-packages\\sklearn\\metrics\\ranking.py:94: RuntimeWarning: invalid value encountered in less\n",
      "  if np.any(dx < 0):\n",
      "C:\\Users\\nshawen\\AppData\\Local\\Continuum\\anaconda3\\lib\\site-packages\\sklearn\\metrics\\classification.py:1137: UndefinedMetricWarning: Recall is ill-defined and being set to 0.0 due to no true samples.\n",
      "  'recall', 'true', average, warn_for)\n"
     ]
    },
    {
     "name": "stdout",
     "output_type": "stream",
     "text": [
      "only 1 class in test data - cannot compute roc curve\n"
     ]
    },
    {
     "name": "stderr",
     "output_type": "stream",
     "text": [
      "C:\\Users\\nshawen\\AppData\\Local\\Continuum\\anaconda3\\lib\\site-packages\\sklearn\\metrics\\classification.py:1137: UndefinedMetricWarning: F-score is ill-defined and being set to 0.0 due to no true samples.\n",
      "  'recall', 'true', average, warn_for)\n",
      "C:\\Users\\nshawen\\AppData\\Local\\Continuum\\anaconda3\\lib\\site-packages\\sklearn\\metrics\\ranking.py:444: RuntimeWarning: invalid value encountered in true_divide\n",
      "  recall = tps / tps[-1]\n",
      "C:\\Users\\nshawen\\AppData\\Local\\Continuum\\anaconda3\\lib\\site-packages\\sklearn\\metrics\\ranking.py:94: RuntimeWarning: invalid value encountered in less\n",
      "  if np.any(dx < 0):\n",
      "C:\\Users\\nshawen\\AppData\\Local\\Continuum\\anaconda3\\lib\\site-packages\\sklearn\\metrics\\classification.py:1137: UndefinedMetricWarning: Recall is ill-defined and being set to 0.0 due to no true samples.\n",
      "  'recall', 'true', average, warn_for)\n"
     ]
    },
    {
     "name": "stdout",
     "output_type": "stream",
     "text": [
      "only 1 class in test data - cannot compute roc curve\n"
     ]
    },
    {
     "name": "stderr",
     "output_type": "stream",
     "text": [
      "C:\\Users\\nshawen\\AppData\\Local\\Continuum\\anaconda3\\lib\\site-packages\\sklearn\\metrics\\classification.py:1137: UndefinedMetricWarning: F-score is ill-defined and being set to 0.0 due to no true samples.\n",
      "  'recall', 'true', average, warn_for)\n",
      "C:\\Users\\nshawen\\AppData\\Local\\Continuum\\anaconda3\\lib\\site-packages\\sklearn\\metrics\\ranking.py:444: RuntimeWarning: invalid value encountered in true_divide\n",
      "  recall = tps / tps[-1]\n",
      "C:\\Users\\nshawen\\AppData\\Local\\Continuum\\anaconda3\\lib\\site-packages\\sklearn\\metrics\\ranking.py:94: RuntimeWarning: invalid value encountered in less\n",
      "  if np.any(dx < 0):\n",
      "C:\\Users\\nshawen\\AppData\\Local\\Continuum\\anaconda3\\lib\\site-packages\\sklearn\\metrics\\classification.py:1137: UndefinedMetricWarning: Recall is ill-defined and being set to 0.0 due to no true samples.\n",
      "  'recall', 'true', average, warn_for)\n"
     ]
    },
    {
     "name": "stdout",
     "output_type": "stream",
     "text": [
      "only 1 class in test data - cannot compute roc curve\n"
     ]
    },
    {
     "name": "stderr",
     "output_type": "stream",
     "text": [
      "C:\\Users\\nshawen\\AppData\\Local\\Continuum\\anaconda3\\lib\\site-packages\\sklearn\\metrics\\classification.py:1137: UndefinedMetricWarning: F-score is ill-defined and being set to 0.0 due to no true samples.\n",
      "  'recall', 'true', average, warn_for)\n",
      "C:\\Users\\nshawen\\AppData\\Local\\Continuum\\anaconda3\\lib\\site-packages\\sklearn\\metrics\\ranking.py:444: RuntimeWarning: invalid value encountered in true_divide\n",
      "  recall = tps / tps[-1]\n",
      "C:\\Users\\nshawen\\AppData\\Local\\Continuum\\anaconda3\\lib\\site-packages\\sklearn\\metrics\\ranking.py:94: RuntimeWarning: invalid value encountered in less\n",
      "  if np.any(dx < 0):\n",
      "C:\\Users\\nshawen\\AppData\\Local\\Continuum\\anaconda3\\lib\\site-packages\\sklearn\\metrics\\classification.py:1137: UndefinedMetricWarning: Recall is ill-defined and being set to 0.0 due to no true samples.\n",
      "  'recall', 'true', average, warn_for)\n"
     ]
    },
    {
     "name": "stdout",
     "output_type": "stream",
     "text": [
      "only 1 class in test data - cannot compute roc curve\n",
      "only 1 class in test data - cannot compute roc curve\n"
     ]
    },
    {
     "name": "stderr",
     "output_type": "stream",
     "text": [
      "C:\\Users\\nshawen\\AppData\\Local\\Continuum\\anaconda3\\lib\\site-packages\\ipykernel_launcher.py:273: RuntimeWarning: invalid value encountered in long_scalars\n"
     ]
    },
    {
     "name": "stdout",
     "output_type": "stream",
     "text": [
      "only 1 class in test data - cannot compute roc curve\n"
     ]
    },
    {
     "name": "stderr",
     "output_type": "stream",
     "text": [
      "C:\\Users\\nshawen\\AppData\\Local\\Continuum\\anaconda3\\lib\\site-packages\\ipykernel_launcher.py:273: RuntimeWarning: invalid value encountered in long_scalars\n",
      "C:\\Users\\nshawen\\AppData\\Local\\Continuum\\anaconda3\\lib\\site-packages\\sklearn\\metrics\\classification.py:1137: UndefinedMetricWarning: F-score is ill-defined and being set to 0.0 due to no true samples.\n",
      "  'recall', 'true', average, warn_for)\n",
      "C:\\Users\\nshawen\\AppData\\Local\\Continuum\\anaconda3\\lib\\site-packages\\sklearn\\metrics\\ranking.py:444: RuntimeWarning: invalid value encountered in true_divide\n",
      "  recall = tps / tps[-1]\n",
      "C:\\Users\\nshawen\\AppData\\Local\\Continuum\\anaconda3\\lib\\site-packages\\sklearn\\metrics\\ranking.py:94: RuntimeWarning: invalid value encountered in less\n",
      "  if np.any(dx < 0):\n",
      "C:\\Users\\nshawen\\AppData\\Local\\Continuum\\anaconda3\\lib\\site-packages\\sklearn\\metrics\\classification.py:1137: UndefinedMetricWarning: Recall is ill-defined and being set to 0.0 due to no true samples.\n",
      "  'recall', 'true', average, warn_for)\n"
     ]
    },
    {
     "name": "stdout",
     "output_type": "stream",
     "text": [
      "only 1 class in test data - cannot compute roc curve\n",
      "only 1 class in test data - cannot compute roc curve\n"
     ]
    },
    {
     "name": "stderr",
     "output_type": "stream",
     "text": [
      "C:\\Users\\nshawen\\AppData\\Local\\Continuum\\anaconda3\\lib\\site-packages\\ipykernel_launcher.py:273: RuntimeWarning: invalid value encountered in long_scalars\n"
     ]
    },
    {
     "name": "stdout",
     "output_type": "stream",
     "text": [
      "only 1 class in test data - cannot compute roc curve\n"
     ]
    },
    {
     "name": "stderr",
     "output_type": "stream",
     "text": [
      "C:\\Users\\nshawen\\AppData\\Local\\Continuum\\anaconda3\\lib\\site-packages\\ipykernel_launcher.py:273: RuntimeWarning: invalid value encountered in long_scalars\n"
     ]
    },
    {
     "name": "stdout",
     "output_type": "stream",
     "text": [
      "only 1 class in test data - cannot compute roc curve\n"
     ]
    },
    {
     "name": "stderr",
     "output_type": "stream",
     "text": [
      "C:\\Users\\nshawen\\AppData\\Local\\Continuum\\anaconda3\\lib\\site-packages\\ipykernel_launcher.py:273: RuntimeWarning: invalid value encountered in long_scalars\n"
     ]
    },
    {
     "name": "stdout",
     "output_type": "stream",
     "text": [
      "only 1 class in test data - cannot compute roc curve\n"
     ]
    },
    {
     "name": "stderr",
     "output_type": "stream",
     "text": [
      "C:\\Users\\nshawen\\AppData\\Local\\Continuum\\anaconda3\\lib\\site-packages\\ipykernel_launcher.py:273: RuntimeWarning: invalid value encountered in long_scalars\n"
     ]
    },
    {
     "name": "stdout",
     "output_type": "stream",
     "text": [
      "only 1 class in test data - cannot compute roc curve\n"
     ]
    },
    {
     "name": "stderr",
     "output_type": "stream",
     "text": [
      "C:\\Users\\nshawen\\AppData\\Local\\Continuum\\anaconda3\\lib\\site-packages\\ipykernel_launcher.py:273: RuntimeWarning: invalid value encountered in long_scalars\n"
     ]
    },
    {
     "name": "stdout",
     "output_type": "stream",
     "text": [
      "only 1 class in test data - cannot compute roc curve\n"
     ]
    },
    {
     "name": "stderr",
     "output_type": "stream",
     "text": [
      "C:\\Users\\nshawen\\AppData\\Local\\Continuum\\anaconda3\\lib\\site-packages\\ipykernel_launcher.py:273: RuntimeWarning: invalid value encountered in long_scalars\n",
      "C:\\Users\\nshawen\\AppData\\Local\\Continuum\\anaconda3\\lib\\site-packages\\sklearn\\metrics\\classification.py:1137: UndefinedMetricWarning: F-score is ill-defined and being set to 0.0 due to no true samples.\n",
      "  'recall', 'true', average, warn_for)\n",
      "C:\\Users\\nshawen\\AppData\\Local\\Continuum\\anaconda3\\lib\\site-packages\\sklearn\\metrics\\ranking.py:444: RuntimeWarning: invalid value encountered in true_divide\n",
      "  recall = tps / tps[-1]\n",
      "C:\\Users\\nshawen\\AppData\\Local\\Continuum\\anaconda3\\lib\\site-packages\\sklearn\\metrics\\ranking.py:94: RuntimeWarning: invalid value encountered in less\n",
      "  if np.any(dx < 0):\n",
      "C:\\Users\\nshawen\\AppData\\Local\\Continuum\\anaconda3\\lib\\site-packages\\sklearn\\metrics\\classification.py:1137: UndefinedMetricWarning: Recall is ill-defined and being set to 0.0 due to no true samples.\n",
      "  'recall', 'true', average, warn_for)\n"
     ]
    },
    {
     "name": "stdout",
     "output_type": "stream",
     "text": [
      "only 1 class in test data - cannot compute roc curve\n"
     ]
    },
    {
     "name": "stderr",
     "output_type": "stream",
     "text": [
      "C:\\Users\\nshawen\\AppData\\Local\\Continuum\\anaconda3\\lib\\site-packages\\sklearn\\metrics\\classification.py:1137: UndefinedMetricWarning: F-score is ill-defined and being set to 0.0 due to no true samples.\n",
      "  'recall', 'true', average, warn_for)\n",
      "C:\\Users\\nshawen\\AppData\\Local\\Continuum\\anaconda3\\lib\\site-packages\\sklearn\\metrics\\ranking.py:444: RuntimeWarning: invalid value encountered in true_divide\n",
      "  recall = tps / tps[-1]\n",
      "C:\\Users\\nshawen\\AppData\\Local\\Continuum\\anaconda3\\lib\\site-packages\\sklearn\\metrics\\ranking.py:94: RuntimeWarning: invalid value encountered in less\n",
      "  if np.any(dx < 0):\n",
      "C:\\Users\\nshawen\\AppData\\Local\\Continuum\\anaconda3\\lib\\site-packages\\sklearn\\metrics\\classification.py:1137: UndefinedMetricWarning: Recall is ill-defined and being set to 0.0 due to no true samples.\n",
      "  'recall', 'true', average, warn_for)\n"
     ]
    },
    {
     "name": "stdout",
     "output_type": "stream",
     "text": [
      "only 1 class in test data - cannot compute roc curve\n"
     ]
    },
    {
     "name": "stderr",
     "output_type": "stream",
     "text": [
      "C:\\Users\\nshawen\\AppData\\Local\\Continuum\\anaconda3\\lib\\site-packages\\sklearn\\metrics\\classification.py:1137: UndefinedMetricWarning: F-score is ill-defined and being set to 0.0 due to no true samples.\n",
      "  'recall', 'true', average, warn_for)\n",
      "C:\\Users\\nshawen\\AppData\\Local\\Continuum\\anaconda3\\lib\\site-packages\\sklearn\\metrics\\ranking.py:444: RuntimeWarning: invalid value encountered in true_divide\n",
      "  recall = tps / tps[-1]\n",
      "C:\\Users\\nshawen\\AppData\\Local\\Continuum\\anaconda3\\lib\\site-packages\\sklearn\\metrics\\ranking.py:94: RuntimeWarning: invalid value encountered in less\n",
      "  if np.any(dx < 0):\n",
      "C:\\Users\\nshawen\\AppData\\Local\\Continuum\\anaconda3\\lib\\site-packages\\sklearn\\metrics\\classification.py:1137: UndefinedMetricWarning: Recall is ill-defined and being set to 0.0 due to no true samples.\n",
      "  'recall', 'true', average, warn_for)\n"
     ]
    },
    {
     "name": "stdout",
     "output_type": "stream",
     "text": [
      "only 1 class in test data - cannot compute roc curve\n",
      "only 1 class in test data - cannot compute roc curve\n"
     ]
    },
    {
     "name": "stderr",
     "output_type": "stream",
     "text": [
      "C:\\Users\\nshawen\\AppData\\Local\\Continuum\\anaconda3\\lib\\site-packages\\ipykernel_launcher.py:273: RuntimeWarning: invalid value encountered in long_scalars\n"
     ]
    },
    {
     "name": "stdout",
     "output_type": "stream",
     "text": [
      "only 1 class in test data - cannot compute roc curve\n"
     ]
    },
    {
     "name": "stderr",
     "output_type": "stream",
     "text": [
      "C:\\Users\\nshawen\\AppData\\Local\\Continuum\\anaconda3\\lib\\site-packages\\ipykernel_launcher.py:273: RuntimeWarning: invalid value encountered in long_scalars\n"
     ]
    },
    {
     "name": "stdout",
     "output_type": "stream",
     "text": [
      "only 1 class in test data - cannot compute roc curve\n"
     ]
    },
    {
     "name": "stderr",
     "output_type": "stream",
     "text": [
      "C:\\Users\\nshawen\\AppData\\Local\\Continuum\\anaconda3\\lib\\site-packages\\ipykernel_launcher.py:273: RuntimeWarning: invalid value encountered in long_scalars\n"
     ]
    },
    {
     "name": "stdout",
     "output_type": "stream",
     "text": [
      "only 1 class in test data - cannot compute roc curve\n"
     ]
    },
    {
     "name": "stderr",
     "output_type": "stream",
     "text": [
      "C:\\Users\\nshawen\\AppData\\Local\\Continuum\\anaconda3\\lib\\site-packages\\ipykernel_launcher.py:273: RuntimeWarning: invalid value encountered in long_scalars\n"
     ]
    },
    {
     "name": "stdout",
     "output_type": "stream",
     "text": [
      "only 1 class in test data - cannot compute roc curve\n"
     ]
    },
    {
     "name": "stderr",
     "output_type": "stream",
     "text": [
      "C:\\Users\\nshawen\\AppData\\Local\\Continuum\\anaconda3\\lib\\site-packages\\ipykernel_launcher.py:273: RuntimeWarning: invalid value encountered in long_scalars\n"
     ]
    },
    {
     "name": "stdout",
     "output_type": "stream",
     "text": [
      "only 1 class in test data - cannot compute roc curve\n"
     ]
    },
    {
     "name": "stderr",
     "output_type": "stream",
     "text": [
      "C:\\Users\\nshawen\\AppData\\Local\\Continuum\\anaconda3\\lib\\site-packages\\ipykernel_launcher.py:273: RuntimeWarning: invalid value encountered in long_scalars\n"
     ]
    },
    {
     "name": "stdout",
     "output_type": "stream",
     "text": [
      "only 1 class in test data - cannot compute roc curve\n"
     ]
    },
    {
     "name": "stderr",
     "output_type": "stream",
     "text": [
      "C:\\Users\\nshawen\\AppData\\Local\\Continuum\\anaconda3\\lib\\site-packages\\ipykernel_launcher.py:273: RuntimeWarning: invalid value encountered in long_scalars\n"
     ]
    },
    {
     "name": "stdout",
     "output_type": "stream",
     "text": [
      "only 1 class in test data - cannot compute roc curve\n"
     ]
    },
    {
     "name": "stderr",
     "output_type": "stream",
     "text": [
      "C:\\Users\\nshawen\\AppData\\Local\\Continuum\\anaconda3\\lib\\site-packages\\ipykernel_launcher.py:273: RuntimeWarning: invalid value encountered in long_scalars\n",
      "C:\\Users\\nshawen\\AppData\\Local\\Continuum\\anaconda3\\lib\\site-packages\\ipykernel_launcher.py:317: RuntimeWarning: Mean of empty slice\n"
     ]
    },
    {
     "name": "stdout",
     "output_type": "stream",
     "text": [
      "only 1 class in test data - cannot compute roc curve\n"
     ]
    },
    {
     "name": "stderr",
     "output_type": "stream",
     "text": [
      "C:\\Users\\nshawen\\AppData\\Local\\Continuum\\anaconda3\\lib\\site-packages\\ipykernel_launcher.py:273: RuntimeWarning: invalid value encountered in long_scalars\n"
     ]
    },
    {
     "name": "stdout",
     "output_type": "stream",
     "text": [
      "only 1 class in test data - cannot compute roc curve\n"
     ]
    },
    {
     "name": "stderr",
     "output_type": "stream",
     "text": [
      "C:\\Users\\nshawen\\AppData\\Local\\Continuum\\anaconda3\\lib\\site-packages\\ipykernel_launcher.py:273: RuntimeWarning: invalid value encountered in long_scalars\n"
     ]
    },
    {
     "name": "stdout",
     "output_type": "stream",
     "text": [
      "only 1 class in test data - cannot compute roc curve\n"
     ]
    },
    {
     "name": "stderr",
     "output_type": "stream",
     "text": [
      "C:\\Users\\nshawen\\AppData\\Local\\Continuum\\anaconda3\\lib\\site-packages\\ipykernel_launcher.py:273: RuntimeWarning: invalid value encountered in long_scalars\n"
     ]
    },
    {
     "name": "stdout",
     "output_type": "stream",
     "text": [
      "only 1 class in test data - cannot compute roc curve\n"
     ]
    },
    {
     "name": "stderr",
     "output_type": "stream",
     "text": [
      "C:\\Users\\nshawen\\AppData\\Local\\Continuum\\anaconda3\\lib\\site-packages\\ipykernel_launcher.py:273: RuntimeWarning: invalid value encountered in long_scalars\n"
     ]
    },
    {
     "name": "stdout",
     "output_type": "stream",
     "text": [
      "only 1 class in test data - cannot compute roc curve\n"
     ]
    },
    {
     "name": "stderr",
     "output_type": "stream",
     "text": [
      "C:\\Users\\nshawen\\AppData\\Local\\Continuum\\anaconda3\\lib\\site-packages\\ipykernel_launcher.py:273: RuntimeWarning: invalid value encountered in long_scalars\n"
     ]
    },
    {
     "name": "stdout",
     "output_type": "stream",
     "text": [
      "only 1 class in test data - cannot compute roc curve\n"
     ]
    },
    {
     "name": "stderr",
     "output_type": "stream",
     "text": [
      "C:\\Users\\nshawen\\AppData\\Local\\Continuum\\anaconda3\\lib\\site-packages\\ipykernel_launcher.py:273: RuntimeWarning: invalid value encountered in long_scalars\n"
     ]
    },
    {
     "name": "stdout",
     "output_type": "stream",
     "text": [
      "only 1 class in test data - cannot compute roc curve\n"
     ]
    },
    {
     "name": "stderr",
     "output_type": "stream",
     "text": [
      "C:\\Users\\nshawen\\AppData\\Local\\Continuum\\anaconda3\\lib\\site-packages\\ipykernel_launcher.py:273: RuntimeWarning: invalid value encountered in long_scalars\n"
     ]
    },
    {
     "name": "stdout",
     "output_type": "stream",
     "text": [
      "only 1 class in test data - cannot compute roc curve\n"
     ]
    },
    {
     "name": "stderr",
     "output_type": "stream",
     "text": [
      "C:\\Users\\nshawen\\AppData\\Local\\Continuum\\anaconda3\\lib\\site-packages\\ipykernel_launcher.py:273: RuntimeWarning: invalid value encountered in long_scalars\n"
     ]
    },
    {
     "name": "stdout",
     "output_type": "stream",
     "text": [
      "only 1 class in test data - cannot compute roc curve\n"
     ]
    },
    {
     "name": "stderr",
     "output_type": "stream",
     "text": [
      "C:\\Users\\nshawen\\AppData\\Local\\Continuum\\anaconda3\\lib\\site-packages\\ipykernel_launcher.py:273: RuntimeWarning: invalid value encountered in long_scalars\n",
      "C:\\Users\\nshawen\\AppData\\Local\\Continuum\\anaconda3\\lib\\site-packages\\ipykernel_launcher.py:317: RuntimeWarning: Mean of empty slice\n"
     ]
    },
    {
     "name": "stdout",
     "output_type": "stream",
     "text": [
      "only 1 class in test data - cannot compute roc curve\n"
     ]
    },
    {
     "name": "stderr",
     "output_type": "stream",
     "text": [
      "C:\\Users\\nshawen\\AppData\\Local\\Continuum\\anaconda3\\lib\\site-packages\\ipykernel_launcher.py:273: RuntimeWarning: invalid value encountered in long_scalars\n",
      "C:\\Users\\nshawen\\AppData\\Local\\Continuum\\anaconda3\\lib\\site-packages\\sklearn\\metrics\\classification.py:1137: UndefinedMetricWarning: F-score is ill-defined and being set to 0.0 due to no true samples.\n",
      "  'recall', 'true', average, warn_for)\n",
      "C:\\Users\\nshawen\\AppData\\Local\\Continuum\\anaconda3\\lib\\site-packages\\sklearn\\metrics\\ranking.py:444: RuntimeWarning: invalid value encountered in true_divide\n",
      "  recall = tps / tps[-1]\n",
      "C:\\Users\\nshawen\\AppData\\Local\\Continuum\\anaconda3\\lib\\site-packages\\sklearn\\metrics\\ranking.py:94: RuntimeWarning: invalid value encountered in less\n",
      "  if np.any(dx < 0):\n",
      "C:\\Users\\nshawen\\AppData\\Local\\Continuum\\anaconda3\\lib\\site-packages\\sklearn\\metrics\\classification.py:1137: UndefinedMetricWarning: Recall is ill-defined and being set to 0.0 due to no true samples.\n",
      "  'recall', 'true', average, warn_for)\n"
     ]
    },
    {
     "name": "stdout",
     "output_type": "stream",
     "text": [
      "only 1 class in test data - cannot compute roc curve\n"
     ]
    },
    {
     "name": "stderr",
     "output_type": "stream",
     "text": [
      "C:\\Users\\nshawen\\AppData\\Local\\Continuum\\anaconda3\\lib\\site-packages\\sklearn\\metrics\\ranking.py:444: RuntimeWarning: invalid value encountered in true_divide\n",
      "  recall = tps / tps[-1]\n",
      "C:\\Users\\nshawen\\AppData\\Local\\Continuum\\anaconda3\\lib\\site-packages\\sklearn\\metrics\\ranking.py:94: RuntimeWarning: invalid value encountered in less\n",
      "  if np.any(dx < 0):\n"
     ]
    },
    {
     "name": "stdout",
     "output_type": "stream",
     "text": [
      "only 1 class in test data - cannot compute roc curve\n"
     ]
    },
    {
     "name": "stderr",
     "output_type": "stream",
     "text": [
      "C:\\Users\\nshawen\\AppData\\Local\\Continuum\\anaconda3\\lib\\site-packages\\sklearn\\metrics\\classification.py:1137: UndefinedMetricWarning: F-score is ill-defined and being set to 0.0 due to no true samples.\n",
      "  'recall', 'true', average, warn_for)\n",
      "C:\\Users\\nshawen\\AppData\\Local\\Continuum\\anaconda3\\lib\\site-packages\\sklearn\\metrics\\ranking.py:444: RuntimeWarning: invalid value encountered in true_divide\n",
      "  recall = tps / tps[-1]\n",
      "C:\\Users\\nshawen\\AppData\\Local\\Continuum\\anaconda3\\lib\\site-packages\\sklearn\\metrics\\ranking.py:94: RuntimeWarning: invalid value encountered in less\n",
      "  if np.any(dx < 0):\n",
      "C:\\Users\\nshawen\\AppData\\Local\\Continuum\\anaconda3\\lib\\site-packages\\sklearn\\metrics\\classification.py:1137: UndefinedMetricWarning: Recall is ill-defined and being set to 0.0 due to no true samples.\n",
      "  'recall', 'true', average, warn_for)\n"
     ]
    },
    {
     "name": "stdout",
     "output_type": "stream",
     "text": [
      "only 1 class in test data - cannot compute roc curve\n"
     ]
    },
    {
     "name": "stderr",
     "output_type": "stream",
     "text": [
      "C:\\Users\\nshawen\\AppData\\Local\\Continuum\\anaconda3\\lib\\site-packages\\sklearn\\metrics\\ranking.py:444: RuntimeWarning: invalid value encountered in true_divide\n",
      "  recall = tps / tps[-1]\n",
      "C:\\Users\\nshawen\\AppData\\Local\\Continuum\\anaconda3\\lib\\site-packages\\sklearn\\metrics\\ranking.py:94: RuntimeWarning: invalid value encountered in less\n",
      "  if np.any(dx < 0):\n"
     ]
    },
    {
     "name": "stdout",
     "output_type": "stream",
     "text": [
      "only 1 class in test data - cannot compute roc curve\n"
     ]
    },
    {
     "name": "stderr",
     "output_type": "stream",
     "text": [
      "C:\\Users\\nshawen\\AppData\\Local\\Continuum\\anaconda3\\lib\\site-packages\\sklearn\\metrics\\classification.py:1135: UndefinedMetricWarning: F-score is ill-defined and being set to 0.0 due to no predicted samples.\n",
      "  'precision', 'predicted', average, warn_for)\n",
      "C:\\Users\\nshawen\\AppData\\Local\\Continuum\\anaconda3\\lib\\site-packages\\sklearn\\metrics\\classification.py:1135: UndefinedMetricWarning: Precision is ill-defined and being set to 0.0 due to no predicted samples.\n",
      "  'precision', 'predicted', average, warn_for)\n",
      "C:\\Users\\nshawen\\AppData\\Local\\Continuum\\anaconda3\\lib\\site-packages\\sklearn\\metrics\\classification.py:1135: UndefinedMetricWarning: F-score is ill-defined and being set to 0.0 due to no predicted samples.\n",
      "  'precision', 'predicted', average, warn_for)\n",
      "C:\\Users\\nshawen\\AppData\\Local\\Continuum\\anaconda3\\lib\\site-packages\\sklearn\\metrics\\classification.py:1135: UndefinedMetricWarning: Precision is ill-defined and being set to 0.0 due to no predicted samples.\n",
      "  'precision', 'predicted', average, warn_for)\n",
      "C:\\Users\\nshawen\\AppData\\Local\\Continuum\\anaconda3\\lib\\site-packages\\sklearn\\metrics\\classification.py:1135: UndefinedMetricWarning: F-score is ill-defined and being set to 0.0 due to no predicted samples.\n",
      "  'precision', 'predicted', average, warn_for)\n",
      "C:\\Users\\nshawen\\AppData\\Local\\Continuum\\anaconda3\\lib\\site-packages\\sklearn\\metrics\\classification.py:1135: UndefinedMetricWarning: Precision is ill-defined and being set to 0.0 due to no predicted samples.\n",
      "  'precision', 'predicted', average, warn_for)\n",
      "C:\\Users\\nshawen\\AppData\\Local\\Continuum\\anaconda3\\lib\\site-packages\\sklearn\\metrics\\classification.py:1137: UndefinedMetricWarning: F-score is ill-defined and being set to 0.0 due to no true samples.\n",
      "  'recall', 'true', average, warn_for)\n",
      "C:\\Users\\nshawen\\AppData\\Local\\Continuum\\anaconda3\\lib\\site-packages\\sklearn\\metrics\\ranking.py:444: RuntimeWarning: invalid value encountered in true_divide\n",
      "  recall = tps / tps[-1]\n",
      "C:\\Users\\nshawen\\AppData\\Local\\Continuum\\anaconda3\\lib\\site-packages\\sklearn\\metrics\\ranking.py:94: RuntimeWarning: invalid value encountered in less\n",
      "  if np.any(dx < 0):\n",
      "C:\\Users\\nshawen\\AppData\\Local\\Continuum\\anaconda3\\lib\\site-packages\\sklearn\\metrics\\classification.py:1137: UndefinedMetricWarning: Recall is ill-defined and being set to 0.0 due to no true samples.\n",
      "  'recall', 'true', average, warn_for)\n"
     ]
    },
    {
     "name": "stdout",
     "output_type": "stream",
     "text": [
      "only 1 class in test data - cannot compute roc curve\n",
      "only 1 class in test data - cannot compute roc curve\n"
     ]
    },
    {
     "name": "stderr",
     "output_type": "stream",
     "text": [
      "C:\\Users\\nshawen\\AppData\\Local\\Continuum\\anaconda3\\lib\\site-packages\\ipykernel_launcher.py:273: RuntimeWarning: invalid value encountered in long_scalars\n"
     ]
    },
    {
     "name": "stdout",
     "output_type": "stream",
     "text": [
      "only 1 class in test data - cannot compute roc curve\n"
     ]
    },
    {
     "name": "stderr",
     "output_type": "stream",
     "text": [
      "C:\\Users\\nshawen\\AppData\\Local\\Continuum\\anaconda3\\lib\\site-packages\\ipykernel_launcher.py:273: RuntimeWarning: invalid value encountered in long_scalars\n"
     ]
    },
    {
     "name": "stdout",
     "output_type": "stream",
     "text": [
      "only 1 class in test data - cannot compute roc curve\n"
     ]
    },
    {
     "name": "stderr",
     "output_type": "stream",
     "text": [
      "C:\\Users\\nshawen\\AppData\\Local\\Continuum\\anaconda3\\lib\\site-packages\\ipykernel_launcher.py:273: RuntimeWarning: invalid value encountered in long_scalars\n"
     ]
    },
    {
     "name": "stdout",
     "output_type": "stream",
     "text": [
      "only 1 class in test data - cannot compute roc curve\n"
     ]
    },
    {
     "name": "stderr",
     "output_type": "stream",
     "text": [
      "C:\\Users\\nshawen\\AppData\\Local\\Continuum\\anaconda3\\lib\\site-packages\\ipykernel_launcher.py:273: RuntimeWarning: invalid value encountered in long_scalars\n"
     ]
    },
    {
     "name": "stdout",
     "output_type": "stream",
     "text": [
      "only 1 class in test data - cannot compute roc curve\n"
     ]
    },
    {
     "name": "stderr",
     "output_type": "stream",
     "text": [
      "C:\\Users\\nshawen\\AppData\\Local\\Continuum\\anaconda3\\lib\\site-packages\\ipykernel_launcher.py:273: RuntimeWarning: invalid value encountered in long_scalars\n"
     ]
    },
    {
     "name": "stdout",
     "output_type": "stream",
     "text": [
      "only 1 class in test data - cannot compute roc curve\n"
     ]
    },
    {
     "name": "stderr",
     "output_type": "stream",
     "text": [
      "C:\\Users\\nshawen\\AppData\\Local\\Continuum\\anaconda3\\lib\\site-packages\\ipykernel_launcher.py:273: RuntimeWarning: invalid value encountered in long_scalars\n"
     ]
    },
    {
     "name": "stdout",
     "output_type": "stream",
     "text": [
      "only 1 class in test data - cannot compute roc curve\n"
     ]
    },
    {
     "name": "stderr",
     "output_type": "stream",
     "text": [
      "C:\\Users\\nshawen\\AppData\\Local\\Continuum\\anaconda3\\lib\\site-packages\\ipykernel_launcher.py:273: RuntimeWarning: invalid value encountered in long_scalars\n"
     ]
    },
    {
     "name": "stdout",
     "output_type": "stream",
     "text": [
      "only 1 class in test data - cannot compute roc curve\n"
     ]
    },
    {
     "name": "stderr",
     "output_type": "stream",
     "text": [
      "C:\\Users\\nshawen\\AppData\\Local\\Continuum\\anaconda3\\lib\\site-packages\\ipykernel_launcher.py:273: RuntimeWarning: invalid value encountered in long_scalars\n",
      "C:\\Users\\nshawen\\AppData\\Local\\Continuum\\anaconda3\\lib\\site-packages\\ipykernel_launcher.py:317: RuntimeWarning: Mean of empty slice\n",
      "C:\\Users\\nshawen\\AppData\\Local\\Continuum\\anaconda3\\lib\\site-packages\\sklearn\\metrics\\ranking.py:444: RuntimeWarning: invalid value encountered in true_divide\n",
      "  recall = tps / tps[-1]\n",
      "C:\\Users\\nshawen\\AppData\\Local\\Continuum\\anaconda3\\lib\\site-packages\\sklearn\\metrics\\ranking.py:94: RuntimeWarning: invalid value encountered in less\n",
      "  if np.any(dx < 0):\n"
     ]
    },
    {
     "name": "stdout",
     "output_type": "stream",
     "text": [
      "only 1 class in test data - cannot compute roc curve\n"
     ]
    },
    {
     "name": "stderr",
     "output_type": "stream",
     "text": [
      "C:\\Users\\nshawen\\AppData\\Local\\Continuum\\anaconda3\\lib\\site-packages\\sklearn\\metrics\\classification.py:1137: UndefinedMetricWarning: F-score is ill-defined and being set to 0.0 due to no true samples.\n",
      "  'recall', 'true', average, warn_for)\n",
      "C:\\Users\\nshawen\\AppData\\Local\\Continuum\\anaconda3\\lib\\site-packages\\sklearn\\metrics\\ranking.py:444: RuntimeWarning: invalid value encountered in true_divide\n",
      "  recall = tps / tps[-1]\n",
      "C:\\Users\\nshawen\\AppData\\Local\\Continuum\\anaconda3\\lib\\site-packages\\sklearn\\metrics\\ranking.py:94: RuntimeWarning: invalid value encountered in less\n",
      "  if np.any(dx < 0):\n",
      "C:\\Users\\nshawen\\AppData\\Local\\Continuum\\anaconda3\\lib\\site-packages\\sklearn\\metrics\\classification.py:1137: UndefinedMetricWarning: Recall is ill-defined and being set to 0.0 due to no true samples.\n",
      "  'recall', 'true', average, warn_for)\n"
     ]
    },
    {
     "name": "stdout",
     "output_type": "stream",
     "text": [
      "only 1 class in test data - cannot compute roc curve\n"
     ]
    },
    {
     "name": "stderr",
     "output_type": "stream",
     "text": [
      "C:\\Users\\nshawen\\AppData\\Local\\Continuum\\anaconda3\\lib\\site-packages\\sklearn\\metrics\\ranking.py:444: RuntimeWarning: invalid value encountered in true_divide\n",
      "  recall = tps / tps[-1]\n",
      "C:\\Users\\nshawen\\AppData\\Local\\Continuum\\anaconda3\\lib\\site-packages\\sklearn\\metrics\\ranking.py:94: RuntimeWarning: invalid value encountered in less\n",
      "  if np.any(dx < 0):\n"
     ]
    },
    {
     "name": "stdout",
     "output_type": "stream",
     "text": [
      "only 1 class in test data - cannot compute roc curve\n"
     ]
    },
    {
     "name": "stderr",
     "output_type": "stream",
     "text": [
      "C:\\Users\\nshawen\\AppData\\Local\\Continuum\\anaconda3\\lib\\site-packages\\sklearn\\metrics\\classification.py:1137: UndefinedMetricWarning: F-score is ill-defined and being set to 0.0 due to no true samples.\n",
      "  'recall', 'true', average, warn_for)\n",
      "C:\\Users\\nshawen\\AppData\\Local\\Continuum\\anaconda3\\lib\\site-packages\\sklearn\\metrics\\ranking.py:444: RuntimeWarning: invalid value encountered in true_divide\n",
      "  recall = tps / tps[-1]\n",
      "C:\\Users\\nshawen\\AppData\\Local\\Continuum\\anaconda3\\lib\\site-packages\\sklearn\\metrics\\ranking.py:94: RuntimeWarning: invalid value encountered in less\n",
      "  if np.any(dx < 0):\n",
      "C:\\Users\\nshawen\\AppData\\Local\\Continuum\\anaconda3\\lib\\site-packages\\sklearn\\metrics\\classification.py:1137: UndefinedMetricWarning: Recall is ill-defined and being set to 0.0 due to no true samples.\n",
      "  'recall', 'true', average, warn_for)\n"
     ]
    },
    {
     "name": "stdout",
     "output_type": "stream",
     "text": [
      "only 1 class in test data - cannot compute roc curve\n"
     ]
    },
    {
     "name": "stderr",
     "output_type": "stream",
     "text": [
      "C:\\Users\\nshawen\\AppData\\Local\\Continuum\\anaconda3\\lib\\site-packages\\sklearn\\metrics\\ranking.py:444: RuntimeWarning: invalid value encountered in true_divide\n",
      "  recall = tps / tps[-1]\n",
      "C:\\Users\\nshawen\\AppData\\Local\\Continuum\\anaconda3\\lib\\site-packages\\sklearn\\metrics\\ranking.py:94: RuntimeWarning: invalid value encountered in less\n",
      "  if np.any(dx < 0):\n"
     ]
    },
    {
     "name": "stdout",
     "output_type": "stream",
     "text": [
      "only 1 class in test data - cannot compute roc curve\n"
     ]
    },
    {
     "name": "stderr",
     "output_type": "stream",
     "text": [
      "C:\\Users\\nshawen\\AppData\\Local\\Continuum\\anaconda3\\lib\\site-packages\\sklearn\\metrics\\ranking.py:444: RuntimeWarning: invalid value encountered in true_divide\n",
      "  recall = tps / tps[-1]\n",
      "C:\\Users\\nshawen\\AppData\\Local\\Continuum\\anaconda3\\lib\\site-packages\\sklearn\\metrics\\ranking.py:94: RuntimeWarning: invalid value encountered in less\n",
      "  if np.any(dx < 0):\n"
     ]
    },
    {
     "name": "stdout",
     "output_type": "stream",
     "text": [
      "only 1 class in test data - cannot compute roc curve\n"
     ]
    },
    {
     "name": "stderr",
     "output_type": "stream",
     "text": [
      "C:\\Users\\nshawen\\AppData\\Local\\Continuum\\anaconda3\\lib\\site-packages\\sklearn\\metrics\\ranking.py:444: RuntimeWarning: invalid value encountered in true_divide\n",
      "  recall = tps / tps[-1]\n",
      "C:\\Users\\nshawen\\AppData\\Local\\Continuum\\anaconda3\\lib\\site-packages\\sklearn\\metrics\\ranking.py:94: RuntimeWarning: invalid value encountered in less\n",
      "  if np.any(dx < 0):\n",
      "C:\\Users\\nshawen\\AppData\\Local\\Continuum\\anaconda3\\lib\\site-packages\\sklearn\\metrics\\ranking.py:444: RuntimeWarning: invalid value encountered in true_divide\n",
      "  recall = tps / tps[-1]\n",
      "C:\\Users\\nshawen\\AppData\\Local\\Continuum\\anaconda3\\lib\\site-packages\\sklearn\\metrics\\ranking.py:94: RuntimeWarning: invalid value encountered in less\n",
      "  if np.any(dx < 0):\n"
     ]
    },
    {
     "name": "stdout",
     "output_type": "stream",
     "text": [
      "only 1 class in test data - cannot compute roc curve\n",
      "only 1 class in test data - cannot compute roc curve\n"
     ]
    },
    {
     "name": "stderr",
     "output_type": "stream",
     "text": [
      "C:\\Users\\nshawen\\AppData\\Local\\Continuum\\anaconda3\\lib\\site-packages\\sklearn\\metrics\\ranking.py:444: RuntimeWarning: invalid value encountered in true_divide\n",
      "  recall = tps / tps[-1]\n",
      "C:\\Users\\nshawen\\AppData\\Local\\Continuum\\anaconda3\\lib\\site-packages\\sklearn\\metrics\\ranking.py:94: RuntimeWarning: invalid value encountered in less\n",
      "  if np.any(dx < 0):\n",
      "C:\\Users\\nshawen\\AppData\\Local\\Continuum\\anaconda3\\lib\\site-packages\\sklearn\\metrics\\ranking.py:444: RuntimeWarning: invalid value encountered in true_divide\n",
      "  recall = tps / tps[-1]\n",
      "C:\\Users\\nshawen\\AppData\\Local\\Continuum\\anaconda3\\lib\\site-packages\\sklearn\\metrics\\ranking.py:94: RuntimeWarning: invalid value encountered in less\n",
      "  if np.any(dx < 0):\n"
     ]
    },
    {
     "name": "stdout",
     "output_type": "stream",
     "text": [
      "only 1 class in test data - cannot compute roc curve\n",
      "only 1 class in test data - cannot compute roc curve\n"
     ]
    },
    {
     "name": "stderr",
     "output_type": "stream",
     "text": [
      "C:\\Users\\nshawen\\AppData\\Local\\Continuum\\anaconda3\\lib\\site-packages\\sklearn\\metrics\\ranking.py:444: RuntimeWarning: invalid value encountered in true_divide\n",
      "  recall = tps / tps[-1]\n",
      "C:\\Users\\nshawen\\AppData\\Local\\Continuum\\anaconda3\\lib\\site-packages\\sklearn\\metrics\\ranking.py:94: RuntimeWarning: invalid value encountered in less\n",
      "  if np.any(dx < 0):\n",
      "C:\\Users\\nshawen\\AppData\\Local\\Continuum\\anaconda3\\lib\\site-packages\\sklearn\\metrics\\ranking.py:444: RuntimeWarning: invalid value encountered in true_divide\n",
      "  recall = tps / tps[-1]\n",
      "C:\\Users\\nshawen\\AppData\\Local\\Continuum\\anaconda3\\lib\\site-packages\\sklearn\\metrics\\ranking.py:94: RuntimeWarning: invalid value encountered in less\n",
      "  if np.any(dx < 0):\n"
     ]
    },
    {
     "name": "stdout",
     "output_type": "stream",
     "text": [
      "only 1 class in test data - cannot compute roc curve\n",
      "only 1 class in test data - cannot compute roc curve\n"
     ]
    },
    {
     "name": "stderr",
     "output_type": "stream",
     "text": [
      "C:\\Users\\nshawen\\AppData\\Local\\Continuum\\anaconda3\\lib\\site-packages\\sklearn\\metrics\\ranking.py:444: RuntimeWarning: invalid value encountered in true_divide\n",
      "  recall = tps / tps[-1]\n",
      "C:\\Users\\nshawen\\AppData\\Local\\Continuum\\anaconda3\\lib\\site-packages\\sklearn\\metrics\\ranking.py:94: RuntimeWarning: invalid value encountered in less\n",
      "  if np.any(dx < 0):\n",
      "C:\\Users\\nshawen\\AppData\\Local\\Continuum\\anaconda3\\lib\\site-packages\\sklearn\\metrics\\ranking.py:444: RuntimeWarning: invalid value encountered in true_divide\n",
      "  recall = tps / tps[-1]\n",
      "C:\\Users\\nshawen\\AppData\\Local\\Continuum\\anaconda3\\lib\\site-packages\\sklearn\\metrics\\ranking.py:94: RuntimeWarning: invalid value encountered in less\n",
      "  if np.any(dx < 0):\n"
     ]
    },
    {
     "name": "stdout",
     "output_type": "stream",
     "text": [
      "only 1 class in test data - cannot compute roc curve\n",
      "only 1 class in test data - cannot compute roc curve\n"
     ]
    },
    {
     "name": "stderr",
     "output_type": "stream",
     "text": [
      "C:\\Users\\nshawen\\AppData\\Local\\Continuum\\anaconda3\\lib\\site-packages\\sklearn\\metrics\\classification.py:1135: UndefinedMetricWarning: F-score is ill-defined and being set to 0.0 due to no predicted samples.\n",
      "  'precision', 'predicted', average, warn_for)\n",
      "C:\\Users\\nshawen\\AppData\\Local\\Continuum\\anaconda3\\lib\\site-packages\\sklearn\\metrics\\classification.py:1135: UndefinedMetricWarning: Precision is ill-defined and being set to 0.0 due to no predicted samples.\n",
      "  'precision', 'predicted', average, warn_for)\n",
      "C:\\Users\\nshawen\\AppData\\Local\\Continuum\\anaconda3\\lib\\site-packages\\sklearn\\metrics\\ranking.py:444: RuntimeWarning: invalid value encountered in true_divide\n",
      "  recall = tps / tps[-1]\n",
      "C:\\Users\\nshawen\\AppData\\Local\\Continuum\\anaconda3\\lib\\site-packages\\sklearn\\metrics\\ranking.py:94: RuntimeWarning: invalid value encountered in less\n",
      "  if np.any(dx < 0):\n"
     ]
    },
    {
     "name": "stdout",
     "output_type": "stream",
     "text": [
      "only 1 class in test data - cannot compute roc curve\n",
      "only 1 class in test data - cannot compute roc curve\n"
     ]
    },
    {
     "name": "stderr",
     "output_type": "stream",
     "text": [
      "C:\\Users\\nshawen\\AppData\\Local\\Continuum\\anaconda3\\lib\\site-packages\\sklearn\\metrics\\classification.py:1137: UndefinedMetricWarning: F-score is ill-defined and being set to 0.0 due to no true samples.\n",
      "  'recall', 'true', average, warn_for)\n",
      "C:\\Users\\nshawen\\AppData\\Local\\Continuum\\anaconda3\\lib\\site-packages\\sklearn\\metrics\\ranking.py:444: RuntimeWarning: invalid value encountered in true_divide\n",
      "  recall = tps / tps[-1]\n",
      "C:\\Users\\nshawen\\AppData\\Local\\Continuum\\anaconda3\\lib\\site-packages\\sklearn\\metrics\\ranking.py:94: RuntimeWarning: invalid value encountered in less\n",
      "  if np.any(dx < 0):\n",
      "C:\\Users\\nshawen\\AppData\\Local\\Continuum\\anaconda3\\lib\\site-packages\\sklearn\\metrics\\classification.py:1137: UndefinedMetricWarning: Recall is ill-defined and being set to 0.0 due to no true samples.\n",
      "  'recall', 'true', average, warn_for)\n",
      "C:\\Users\\nshawen\\AppData\\Local\\Continuum\\anaconda3\\lib\\site-packages\\sklearn\\metrics\\ranking.py:444: RuntimeWarning: invalid value encountered in true_divide\n",
      "  recall = tps / tps[-1]\n",
      "C:\\Users\\nshawen\\AppData\\Local\\Continuum\\anaconda3\\lib\\site-packages\\sklearn\\metrics\\ranking.py:94: RuntimeWarning: invalid value encountered in less\n",
      "  if np.any(dx < 0):\n"
     ]
    },
    {
     "name": "stdout",
     "output_type": "stream",
     "text": [
      "only 1 class in test data - cannot compute roc curve\n",
      "only 1 class in test data - cannot compute roc curve\n"
     ]
    },
    {
     "name": "stderr",
     "output_type": "stream",
     "text": [
      "C:\\Users\\nshawen\\AppData\\Local\\Continuum\\anaconda3\\lib\\site-packages\\sklearn\\metrics\\classification.py:1137: UndefinedMetricWarning: F-score is ill-defined and being set to 0.0 due to no true samples.\n",
      "  'recall', 'true', average, warn_for)\n",
      "C:\\Users\\nshawen\\AppData\\Local\\Continuum\\anaconda3\\lib\\site-packages\\sklearn\\metrics\\ranking.py:444: RuntimeWarning: invalid value encountered in true_divide\n",
      "  recall = tps / tps[-1]\n",
      "C:\\Users\\nshawen\\AppData\\Local\\Continuum\\anaconda3\\lib\\site-packages\\sklearn\\metrics\\ranking.py:94: RuntimeWarning: invalid value encountered in less\n",
      "  if np.any(dx < 0):\n",
      "C:\\Users\\nshawen\\AppData\\Local\\Continuum\\anaconda3\\lib\\site-packages\\sklearn\\metrics\\classification.py:1137: UndefinedMetricWarning: Recall is ill-defined and being set to 0.0 due to no true samples.\n",
      "  'recall', 'true', average, warn_for)\n",
      "C:\\Users\\nshawen\\AppData\\Local\\Continuum\\anaconda3\\lib\\site-packages\\sklearn\\metrics\\classification.py:1137: UndefinedMetricWarning: F-score is ill-defined and being set to 0.0 due to no true samples.\n",
      "  'recall', 'true', average, warn_for)\n",
      "C:\\Users\\nshawen\\AppData\\Local\\Continuum\\anaconda3\\lib\\site-packages\\sklearn\\metrics\\ranking.py:444: RuntimeWarning: invalid value encountered in true_divide\n",
      "  recall = tps / tps[-1]\n",
      "C:\\Users\\nshawen\\AppData\\Local\\Continuum\\anaconda3\\lib\\site-packages\\sklearn\\metrics\\ranking.py:94: RuntimeWarning: invalid value encountered in less\n",
      "  if np.any(dx < 0):\n",
      "C:\\Users\\nshawen\\AppData\\Local\\Continuum\\anaconda3\\lib\\site-packages\\sklearn\\metrics\\classification.py:1137: UndefinedMetricWarning: Recall is ill-defined and being set to 0.0 due to no true samples.\n",
      "  'recall', 'true', average, warn_for)\n"
     ]
    },
    {
     "name": "stdout",
     "output_type": "stream",
     "text": [
      "only 1 class in test data - cannot compute roc curve\n"
     ]
    },
    {
     "name": "stderr",
     "output_type": "stream",
     "text": [
      "C:\\Users\\nshawen\\AppData\\Local\\Continuum\\anaconda3\\lib\\site-packages\\sklearn\\metrics\\ranking.py:444: RuntimeWarning: invalid value encountered in true_divide\n",
      "  recall = tps / tps[-1]\n",
      "C:\\Users\\nshawen\\AppData\\Local\\Continuum\\anaconda3\\lib\\site-packages\\sklearn\\metrics\\ranking.py:94: RuntimeWarning: invalid value encountered in less\n",
      "  if np.any(dx < 0):\n",
      "C:\\Users\\nshawen\\AppData\\Local\\Continuum\\anaconda3\\lib\\site-packages\\sklearn\\metrics\\classification.py:1137: UndefinedMetricWarning: F-score is ill-defined and being set to 0.0 due to no true samples.\n",
      "  'recall', 'true', average, warn_for)\n",
      "C:\\Users\\nshawen\\AppData\\Local\\Continuum\\anaconda3\\lib\\site-packages\\sklearn\\metrics\\ranking.py:444: RuntimeWarning: invalid value encountered in true_divide\n",
      "  recall = tps / tps[-1]\n",
      "C:\\Users\\nshawen\\AppData\\Local\\Continuum\\anaconda3\\lib\\site-packages\\sklearn\\metrics\\ranking.py:94: RuntimeWarning: invalid value encountered in less\n",
      "  if np.any(dx < 0):\n",
      "C:\\Users\\nshawen\\AppData\\Local\\Continuum\\anaconda3\\lib\\site-packages\\sklearn\\metrics\\classification.py:1137: UndefinedMetricWarning: Recall is ill-defined and being set to 0.0 due to no true samples.\n",
      "  'recall', 'true', average, warn_for)\n"
     ]
    },
    {
     "name": "stdout",
     "output_type": "stream",
     "text": [
      "only 1 class in test data - cannot compute roc curve\n",
      "only 1 class in test data - cannot compute roc curve\n"
     ]
    },
    {
     "name": "stderr",
     "output_type": "stream",
     "text": [
      "C:\\Users\\nshawen\\AppData\\Local\\Continuum\\anaconda3\\lib\\site-packages\\sklearn\\metrics\\ranking.py:444: RuntimeWarning: invalid value encountered in true_divide\n",
      "  recall = tps / tps[-1]\n",
      "C:\\Users\\nshawen\\AppData\\Local\\Continuum\\anaconda3\\lib\\site-packages\\sklearn\\metrics\\ranking.py:94: RuntimeWarning: invalid value encountered in less\n",
      "  if np.any(dx < 0):\n",
      "C:\\Users\\nshawen\\AppData\\Local\\Continuum\\anaconda3\\lib\\site-packages\\sklearn\\metrics\\ranking.py:444: RuntimeWarning: invalid value encountered in true_divide\n",
      "  recall = tps / tps[-1]\n",
      "C:\\Users\\nshawen\\AppData\\Local\\Continuum\\anaconda3\\lib\\site-packages\\sklearn\\metrics\\ranking.py:94: RuntimeWarning: invalid value encountered in less\n",
      "  if np.any(dx < 0):\n"
     ]
    },
    {
     "name": "stdout",
     "output_type": "stream",
     "text": [
      "only 1 class in test data - cannot compute roc curve\n",
      "only 1 class in test data - cannot compute roc curve\n",
      "only 1 class in test data - cannot compute roc curve\n"
     ]
    },
    {
     "name": "stderr",
     "output_type": "stream",
     "text": [
      "C:\\Users\\nshawen\\AppData\\Local\\Continuum\\anaconda3\\lib\\site-packages\\ipykernel_launcher.py:273: RuntimeWarning: invalid value encountered in long_scalars\n"
     ]
    },
    {
     "name": "stdout",
     "output_type": "stream",
     "text": [
      "only 1 class in test data - cannot compute roc curve\n"
     ]
    },
    {
     "name": "stderr",
     "output_type": "stream",
     "text": [
      "C:\\Users\\nshawen\\AppData\\Local\\Continuum\\anaconda3\\lib\\site-packages\\ipykernel_launcher.py:273: RuntimeWarning: invalid value encountered in long_scalars\n"
     ]
    },
    {
     "name": "stdout",
     "output_type": "stream",
     "text": [
      "only 1 class in test data - cannot compute roc curve\n"
     ]
    },
    {
     "name": "stderr",
     "output_type": "stream",
     "text": [
      "C:\\Users\\nshawen\\AppData\\Local\\Continuum\\anaconda3\\lib\\site-packages\\ipykernel_launcher.py:273: RuntimeWarning: invalid value encountered in long_scalars\n"
     ]
    },
    {
     "name": "stdout",
     "output_type": "stream",
     "text": [
      "only 1 class in test data - cannot compute roc curve\n"
     ]
    },
    {
     "name": "stderr",
     "output_type": "stream",
     "text": [
      "C:\\Users\\nshawen\\AppData\\Local\\Continuum\\anaconda3\\lib\\site-packages\\ipykernel_launcher.py:273: RuntimeWarning: invalid value encountered in long_scalars\n"
     ]
    },
    {
     "name": "stdout",
     "output_type": "stream",
     "text": [
      "only 1 class in test data - cannot compute roc curve\n"
     ]
    },
    {
     "name": "stderr",
     "output_type": "stream",
     "text": [
      "C:\\Users\\nshawen\\AppData\\Local\\Continuum\\anaconda3\\lib\\site-packages\\ipykernel_launcher.py:273: RuntimeWarning: invalid value encountered in long_scalars\n"
     ]
    },
    {
     "name": "stdout",
     "output_type": "stream",
     "text": [
      "only 1 class in test data - cannot compute roc curve\n"
     ]
    },
    {
     "name": "stderr",
     "output_type": "stream",
     "text": [
      "C:\\Users\\nshawen\\AppData\\Local\\Continuum\\anaconda3\\lib\\site-packages\\ipykernel_launcher.py:273: RuntimeWarning: invalid value encountered in long_scalars\n"
     ]
    },
    {
     "name": "stdout",
     "output_type": "stream",
     "text": [
      "only 1 class in test data - cannot compute roc curve\n"
     ]
    },
    {
     "name": "stderr",
     "output_type": "stream",
     "text": [
      "C:\\Users\\nshawen\\AppData\\Local\\Continuum\\anaconda3\\lib\\site-packages\\ipykernel_launcher.py:273: RuntimeWarning: invalid value encountered in long_scalars\n",
      "C:\\Users\\nshawen\\AppData\\Local\\Continuum\\anaconda3\\lib\\site-packages\\ipykernel_launcher.py:317: RuntimeWarning: Mean of empty slice\n",
      "C:\\Users\\nshawen\\AppData\\Local\\Continuum\\anaconda3\\lib\\site-packages\\sklearn\\metrics\\classification.py:1137: UndefinedMetricWarning: F-score is ill-defined and being set to 0.0 due to no true samples.\n",
      "  'recall', 'true', average, warn_for)\n",
      "C:\\Users\\nshawen\\AppData\\Local\\Continuum\\anaconda3\\lib\\site-packages\\sklearn\\metrics\\ranking.py:444: RuntimeWarning: invalid value encountered in true_divide\n",
      "  recall = tps / tps[-1]\n",
      "C:\\Users\\nshawen\\AppData\\Local\\Continuum\\anaconda3\\lib\\site-packages\\sklearn\\metrics\\ranking.py:94: RuntimeWarning: invalid value encountered in less\n",
      "  if np.any(dx < 0):\n",
      "C:\\Users\\nshawen\\AppData\\Local\\Continuum\\anaconda3\\lib\\site-packages\\sklearn\\metrics\\classification.py:1137: UndefinedMetricWarning: Recall is ill-defined and being set to 0.0 due to no true samples.\n",
      "  'recall', 'true', average, warn_for)\n"
     ]
    },
    {
     "name": "stdout",
     "output_type": "stream",
     "text": [
      "only 1 class in test data - cannot compute roc curve\n"
     ]
    },
    {
     "name": "stderr",
     "output_type": "stream",
     "text": [
      "C:\\Users\\nshawen\\AppData\\Local\\Continuum\\anaconda3\\lib\\site-packages\\sklearn\\metrics\\classification.py:1135: UndefinedMetricWarning: F-score is ill-defined and being set to 0.0 due to no predicted samples.\n",
      "  'precision', 'predicted', average, warn_for)\n",
      "C:\\Users\\nshawen\\AppData\\Local\\Continuum\\anaconda3\\lib\\site-packages\\sklearn\\metrics\\classification.py:1135: UndefinedMetricWarning: Precision is ill-defined and being set to 0.0 due to no predicted samples.\n",
      "  'precision', 'predicted', average, warn_for)\n",
      "C:\\Users\\nshawen\\AppData\\Local\\Continuum\\anaconda3\\lib\\site-packages\\sklearn\\metrics\\ranking.py:444: RuntimeWarning: invalid value encountered in true_divide\n",
      "  recall = tps / tps[-1]\n",
      "C:\\Users\\nshawen\\AppData\\Local\\Continuum\\anaconda3\\lib\\site-packages\\sklearn\\metrics\\ranking.py:94: RuntimeWarning: invalid value encountered in less\n",
      "  if np.any(dx < 0):\n"
     ]
    },
    {
     "name": "stdout",
     "output_type": "stream",
     "text": [
      "only 1 class in test data - cannot compute roc curve\n"
     ]
    },
    {
     "name": "stderr",
     "output_type": "stream",
     "text": [
      "C:\\Users\\nshawen\\AppData\\Local\\Continuum\\anaconda3\\lib\\site-packages\\sklearn\\metrics\\ranking.py:444: RuntimeWarning: invalid value encountered in true_divide\n",
      "  recall = tps / tps[-1]\n",
      "C:\\Users\\nshawen\\AppData\\Local\\Continuum\\anaconda3\\lib\\site-packages\\sklearn\\metrics\\ranking.py:94: RuntimeWarning: invalid value encountered in less\n",
      "  if np.any(dx < 0):\n"
     ]
    },
    {
     "name": "stdout",
     "output_type": "stream",
     "text": [
      "only 1 class in test data - cannot compute roc curve\n"
     ]
    },
    {
     "name": "stderr",
     "output_type": "stream",
     "text": [
      "C:\\Users\\nshawen\\AppData\\Local\\Continuum\\anaconda3\\lib\\site-packages\\sklearn\\metrics\\classification.py:1135: UndefinedMetricWarning: F-score is ill-defined and being set to 0.0 due to no predicted samples.\n",
      "  'precision', 'predicted', average, warn_for)\n",
      "C:\\Users\\nshawen\\AppData\\Local\\Continuum\\anaconda3\\lib\\site-packages\\sklearn\\metrics\\classification.py:1135: UndefinedMetricWarning: Precision is ill-defined and being set to 0.0 due to no predicted samples.\n",
      "  'precision', 'predicted', average, warn_for)\n",
      "C:\\Users\\nshawen\\AppData\\Local\\Continuum\\anaconda3\\lib\\site-packages\\sklearn\\metrics\\classification.py:1137: UndefinedMetricWarning: F-score is ill-defined and being set to 0.0 due to no true samples.\n",
      "  'recall', 'true', average, warn_for)\n",
      "C:\\Users\\nshawen\\AppData\\Local\\Continuum\\anaconda3\\lib\\site-packages\\sklearn\\metrics\\ranking.py:444: RuntimeWarning: invalid value encountered in true_divide\n",
      "  recall = tps / tps[-1]\n",
      "C:\\Users\\nshawen\\AppData\\Local\\Continuum\\anaconda3\\lib\\site-packages\\sklearn\\metrics\\ranking.py:94: RuntimeWarning: invalid value encountered in less\n",
      "  if np.any(dx < 0):\n",
      "C:\\Users\\nshawen\\AppData\\Local\\Continuum\\anaconda3\\lib\\site-packages\\sklearn\\metrics\\classification.py:1137: UndefinedMetricWarning: Recall is ill-defined and being set to 0.0 due to no true samples.\n",
      "  'recall', 'true', average, warn_for)\n"
     ]
    },
    {
     "name": "stdout",
     "output_type": "stream",
     "text": [
      "only 1 class in test data - cannot compute roc curve\n"
     ]
    },
    {
     "name": "stderr",
     "output_type": "stream",
     "text": [
      "C:\\Users\\nshawen\\AppData\\Local\\Continuum\\anaconda3\\lib\\site-packages\\sklearn\\metrics\\classification.py:1137: UndefinedMetricWarning: F-score is ill-defined and being set to 0.0 due to no true samples.\n",
      "  'recall', 'true', average, warn_for)\n",
      "C:\\Users\\nshawen\\AppData\\Local\\Continuum\\anaconda3\\lib\\site-packages\\sklearn\\metrics\\ranking.py:444: RuntimeWarning: invalid value encountered in true_divide\n",
      "  recall = tps / tps[-1]\n",
      "C:\\Users\\nshawen\\AppData\\Local\\Continuum\\anaconda3\\lib\\site-packages\\sklearn\\metrics\\ranking.py:94: RuntimeWarning: invalid value encountered in less\n",
      "  if np.any(dx < 0):\n",
      "C:\\Users\\nshawen\\AppData\\Local\\Continuum\\anaconda3\\lib\\site-packages\\sklearn\\metrics\\classification.py:1137: UndefinedMetricWarning: Recall is ill-defined and being set to 0.0 due to no true samples.\n",
      "  'recall', 'true', average, warn_for)\n"
     ]
    },
    {
     "name": "stdout",
     "output_type": "stream",
     "text": [
      "only 1 class in test data - cannot compute roc curve\n"
     ]
    },
    {
     "name": "stderr",
     "output_type": "stream",
     "text": [
      "C:\\Users\\nshawen\\AppData\\Local\\Continuum\\anaconda3\\lib\\site-packages\\sklearn\\metrics\\classification.py:1135: UndefinedMetricWarning: F-score is ill-defined and being set to 0.0 due to no predicted samples.\n",
      "  'precision', 'predicted', average, warn_for)\n",
      "C:\\Users\\nshawen\\AppData\\Local\\Continuum\\anaconda3\\lib\\site-packages\\sklearn\\metrics\\classification.py:1135: UndefinedMetricWarning: Precision is ill-defined and being set to 0.0 due to no predicted samples.\n",
      "  'precision', 'predicted', average, warn_for)\n",
      "C:\\Users\\nshawen\\AppData\\Local\\Continuum\\anaconda3\\lib\\site-packages\\sklearn\\metrics\\classification.py:1135: UndefinedMetricWarning: F-score is ill-defined and being set to 0.0 due to no predicted samples.\n",
      "  'precision', 'predicted', average, warn_for)\n",
      "C:\\Users\\nshawen\\AppData\\Local\\Continuum\\anaconda3\\lib\\site-packages\\sklearn\\metrics\\classification.py:1135: UndefinedMetricWarning: Precision is ill-defined and being set to 0.0 due to no predicted samples.\n",
      "  'precision', 'predicted', average, warn_for)\n",
      "C:\\Users\\nshawen\\AppData\\Local\\Continuum\\anaconda3\\lib\\site-packages\\sklearn\\metrics\\ranking.py:444: RuntimeWarning: invalid value encountered in true_divide\n",
      "  recall = tps / tps[-1]\n",
      "C:\\Users\\nshawen\\AppData\\Local\\Continuum\\anaconda3\\lib\\site-packages\\sklearn\\metrics\\ranking.py:94: RuntimeWarning: invalid value encountered in less\n",
      "  if np.any(dx < 0):\n"
     ]
    },
    {
     "name": "stdout",
     "output_type": "stream",
     "text": [
      "only 1 class in test data - cannot compute roc curve\n"
     ]
    },
    {
     "name": "stderr",
     "output_type": "stream",
     "text": [
      "C:\\Users\\nshawen\\AppData\\Local\\Continuum\\anaconda3\\lib\\site-packages\\sklearn\\metrics\\ranking.py:444: RuntimeWarning: invalid value encountered in true_divide\n",
      "  recall = tps / tps[-1]\n",
      "C:\\Users\\nshawen\\AppData\\Local\\Continuum\\anaconda3\\lib\\site-packages\\sklearn\\metrics\\ranking.py:94: RuntimeWarning: invalid value encountered in less\n",
      "  if np.any(dx < 0):\n"
     ]
    },
    {
     "name": "stdout",
     "output_type": "stream",
     "text": [
      "only 1 class in test data - cannot compute roc curve\n"
     ]
    },
    {
     "name": "stderr",
     "output_type": "stream",
     "text": [
      "C:\\Users\\nshawen\\AppData\\Local\\Continuum\\anaconda3\\lib\\site-packages\\sklearn\\metrics\\ranking.py:444: RuntimeWarning: invalid value encountered in true_divide\n",
      "  recall = tps / tps[-1]\n",
      "C:\\Users\\nshawen\\AppData\\Local\\Continuum\\anaconda3\\lib\\site-packages\\sklearn\\metrics\\ranking.py:94: RuntimeWarning: invalid value encountered in less\n",
      "  if np.any(dx < 0):\n"
     ]
    },
    {
     "name": "stdout",
     "output_type": "stream",
     "text": [
      "only 1 class in test data - cannot compute roc curve\n"
     ]
    },
    {
     "name": "stderr",
     "output_type": "stream",
     "text": [
      "C:\\Users\\nshawen\\AppData\\Local\\Continuum\\anaconda3\\lib\\site-packages\\sklearn\\metrics\\ranking.py:444: RuntimeWarning: invalid value encountered in true_divide\n",
      "  recall = tps / tps[-1]\n",
      "C:\\Users\\nshawen\\AppData\\Local\\Continuum\\anaconda3\\lib\\site-packages\\sklearn\\metrics\\ranking.py:94: RuntimeWarning: invalid value encountered in less\n",
      "  if np.any(dx < 0):\n"
     ]
    },
    {
     "name": "stdout",
     "output_type": "stream",
     "text": [
      "only 1 class in test data - cannot compute roc curve\n"
     ]
    },
    {
     "name": "stderr",
     "output_type": "stream",
     "text": [
      "C:\\Users\\nshawen\\AppData\\Local\\Continuum\\anaconda3\\lib\\site-packages\\sklearn\\metrics\\ranking.py:444: RuntimeWarning: invalid value encountered in true_divide\n",
      "  recall = tps / tps[-1]\n",
      "C:\\Users\\nshawen\\AppData\\Local\\Continuum\\anaconda3\\lib\\site-packages\\sklearn\\metrics\\ranking.py:94: RuntimeWarning: invalid value encountered in less\n",
      "  if np.any(dx < 0):\n"
     ]
    },
    {
     "name": "stdout",
     "output_type": "stream",
     "text": [
      "only 1 class in test data - cannot compute roc curve\n"
     ]
    },
    {
     "name": "stderr",
     "output_type": "stream",
     "text": [
      "C:\\Users\\nshawen\\AppData\\Local\\Continuum\\anaconda3\\lib\\site-packages\\sklearn\\metrics\\ranking.py:444: RuntimeWarning: invalid value encountered in true_divide\n",
      "  recall = tps / tps[-1]\n",
      "C:\\Users\\nshawen\\AppData\\Local\\Continuum\\anaconda3\\lib\\site-packages\\sklearn\\metrics\\ranking.py:94: RuntimeWarning: invalid value encountered in less\n",
      "  if np.any(dx < 0):\n"
     ]
    },
    {
     "name": "stdout",
     "output_type": "stream",
     "text": [
      "only 1 class in test data - cannot compute roc curve\n"
     ]
    },
    {
     "name": "stderr",
     "output_type": "stream",
     "text": [
      "C:\\Users\\nshawen\\AppData\\Local\\Continuum\\anaconda3\\lib\\site-packages\\sklearn\\metrics\\classification.py:1137: UndefinedMetricWarning: F-score is ill-defined and being set to 0.0 due to no true samples.\n",
      "  'recall', 'true', average, warn_for)\n",
      "C:\\Users\\nshawen\\AppData\\Local\\Continuum\\anaconda3\\lib\\site-packages\\sklearn\\metrics\\ranking.py:444: RuntimeWarning: invalid value encountered in true_divide\n",
      "  recall = tps / tps[-1]\n",
      "C:\\Users\\nshawen\\AppData\\Local\\Continuum\\anaconda3\\lib\\site-packages\\sklearn\\metrics\\ranking.py:94: RuntimeWarning: invalid value encountered in less\n",
      "  if np.any(dx < 0):\n",
      "C:\\Users\\nshawen\\AppData\\Local\\Continuum\\anaconda3\\lib\\site-packages\\sklearn\\metrics\\classification.py:1137: UndefinedMetricWarning: Recall is ill-defined and being set to 0.0 due to no true samples.\n",
      "  'recall', 'true', average, warn_for)\n"
     ]
    },
    {
     "name": "stdout",
     "output_type": "stream",
     "text": [
      "only 1 class in test data - cannot compute roc curve\n"
     ]
    },
    {
     "name": "stderr",
     "output_type": "stream",
     "text": [
      "C:\\Users\\nshawen\\AppData\\Local\\Continuum\\anaconda3\\lib\\site-packages\\sklearn\\metrics\\classification.py:1137: UndefinedMetricWarning: F-score is ill-defined and being set to 0.0 due to no true samples.\n",
      "  'recall', 'true', average, warn_for)\n",
      "C:\\Users\\nshawen\\AppData\\Local\\Continuum\\anaconda3\\lib\\site-packages\\sklearn\\metrics\\ranking.py:444: RuntimeWarning: invalid value encountered in true_divide\n",
      "  recall = tps / tps[-1]\n",
      "C:\\Users\\nshawen\\AppData\\Local\\Continuum\\anaconda3\\lib\\site-packages\\sklearn\\metrics\\ranking.py:94: RuntimeWarning: invalid value encountered in less\n",
      "  if np.any(dx < 0):\n",
      "C:\\Users\\nshawen\\AppData\\Local\\Continuum\\anaconda3\\lib\\site-packages\\sklearn\\metrics\\classification.py:1137: UndefinedMetricWarning: Recall is ill-defined and being set to 0.0 due to no true samples.\n",
      "  'recall', 'true', average, warn_for)\n"
     ]
    },
    {
     "name": "stdout",
     "output_type": "stream",
     "text": [
      "only 1 class in test data - cannot compute roc curve\n"
     ]
    },
    {
     "name": "stderr",
     "output_type": "stream",
     "text": [
      "C:\\Users\\nshawen\\AppData\\Local\\Continuum\\anaconda3\\lib\\site-packages\\sklearn\\metrics\\ranking.py:444: RuntimeWarning: invalid value encountered in true_divide\n",
      "  recall = tps / tps[-1]\n",
      "C:\\Users\\nshawen\\AppData\\Local\\Continuum\\anaconda3\\lib\\site-packages\\sklearn\\metrics\\ranking.py:94: RuntimeWarning: invalid value encountered in less\n",
      "  if np.any(dx < 0):\n"
     ]
    },
    {
     "name": "stdout",
     "output_type": "stream",
     "text": [
      "only 1 class in test data - cannot compute roc curve\n"
     ]
    },
    {
     "name": "stderr",
     "output_type": "stream",
     "text": [
      "C:\\Users\\nshawen\\AppData\\Local\\Continuum\\anaconda3\\lib\\site-packages\\sklearn\\metrics\\classification.py:1137: UndefinedMetricWarning: F-score is ill-defined and being set to 0.0 due to no true samples.\n",
      "  'recall', 'true', average, warn_for)\n",
      "C:\\Users\\nshawen\\AppData\\Local\\Continuum\\anaconda3\\lib\\site-packages\\sklearn\\metrics\\ranking.py:444: RuntimeWarning: invalid value encountered in true_divide\n",
      "  recall = tps / tps[-1]\n",
      "C:\\Users\\nshawen\\AppData\\Local\\Continuum\\anaconda3\\lib\\site-packages\\sklearn\\metrics\\ranking.py:94: RuntimeWarning: invalid value encountered in less\n",
      "  if np.any(dx < 0):\n",
      "C:\\Users\\nshawen\\AppData\\Local\\Continuum\\anaconda3\\lib\\site-packages\\sklearn\\metrics\\classification.py:1137: UndefinedMetricWarning: Recall is ill-defined and being set to 0.0 due to no true samples.\n",
      "  'recall', 'true', average, warn_for)\n"
     ]
    },
    {
     "name": "stdout",
     "output_type": "stream",
     "text": [
      "only 1 class in test data - cannot compute roc curve\n"
     ]
    },
    {
     "name": "stderr",
     "output_type": "stream",
     "text": [
      "C:\\Users\\nshawen\\AppData\\Local\\Continuum\\anaconda3\\lib\\site-packages\\sklearn\\metrics\\classification.py:1137: UndefinedMetricWarning: F-score is ill-defined and being set to 0.0 due to no true samples.\n",
      "  'recall', 'true', average, warn_for)\n",
      "C:\\Users\\nshawen\\AppData\\Local\\Continuum\\anaconda3\\lib\\site-packages\\sklearn\\metrics\\ranking.py:444: RuntimeWarning: invalid value encountered in true_divide\n",
      "  recall = tps / tps[-1]\n",
      "C:\\Users\\nshawen\\AppData\\Local\\Continuum\\anaconda3\\lib\\site-packages\\sklearn\\metrics\\ranking.py:94: RuntimeWarning: invalid value encountered in less\n",
      "  if np.any(dx < 0):\n",
      "C:\\Users\\nshawen\\AppData\\Local\\Continuum\\anaconda3\\lib\\site-packages\\sklearn\\metrics\\classification.py:1137: UndefinedMetricWarning: Recall is ill-defined and being set to 0.0 due to no true samples.\n",
      "  'recall', 'true', average, warn_for)\n"
     ]
    },
    {
     "name": "stdout",
     "output_type": "stream",
     "text": [
      "only 1 class in test data - cannot compute roc curve\n",
      "only 1 class in test data - cannot compute roc curve\n"
     ]
    },
    {
     "name": "stderr",
     "output_type": "stream",
     "text": [
      "C:\\Users\\nshawen\\AppData\\Local\\Continuum\\anaconda3\\lib\\site-packages\\ipykernel_launcher.py:273: RuntimeWarning: invalid value encountered in long_scalars\n",
      "C:\\Users\\nshawen\\AppData\\Local\\Continuum\\anaconda3\\lib\\site-packages\\sklearn\\metrics\\ranking.py:444: RuntimeWarning: invalid value encountered in true_divide\n",
      "  recall = tps / tps[-1]\n",
      "C:\\Users\\nshawen\\AppData\\Local\\Continuum\\anaconda3\\lib\\site-packages\\sklearn\\metrics\\ranking.py:94: RuntimeWarning: invalid value encountered in less\n",
      "  if np.any(dx < 0):\n"
     ]
    },
    {
     "name": "stdout",
     "output_type": "stream",
     "text": [
      "only 1 class in test data - cannot compute roc curve\n"
     ]
    },
    {
     "name": "stderr",
     "output_type": "stream",
     "text": [
      "C:\\Users\\nshawen\\AppData\\Local\\Continuum\\anaconda3\\lib\\site-packages\\sklearn\\metrics\\ranking.py:444: RuntimeWarning: invalid value encountered in true_divide\n",
      "  recall = tps / tps[-1]\n",
      "C:\\Users\\nshawen\\AppData\\Local\\Continuum\\anaconda3\\lib\\site-packages\\sklearn\\metrics\\ranking.py:94: RuntimeWarning: invalid value encountered in less\n",
      "  if np.any(dx < 0):\n"
     ]
    },
    {
     "name": "stdout",
     "output_type": "stream",
     "text": [
      "only 1 class in test data - cannot compute roc curve\n"
     ]
    },
    {
     "name": "stderr",
     "output_type": "stream",
     "text": [
      "C:\\Users\\nshawen\\AppData\\Local\\Continuum\\anaconda3\\lib\\site-packages\\sklearn\\metrics\\ranking.py:444: RuntimeWarning: invalid value encountered in true_divide\n",
      "  recall = tps / tps[-1]\n",
      "C:\\Users\\nshawen\\AppData\\Local\\Continuum\\anaconda3\\lib\\site-packages\\sklearn\\metrics\\ranking.py:94: RuntimeWarning: invalid value encountered in less\n",
      "  if np.any(dx < 0):\n"
     ]
    },
    {
     "name": "stdout",
     "output_type": "stream",
     "text": [
      "only 1 class in test data - cannot compute roc curve\n"
     ]
    },
    {
     "name": "stderr",
     "output_type": "stream",
     "text": [
      "C:\\Users\\nshawen\\AppData\\Local\\Continuum\\anaconda3\\lib\\site-packages\\sklearn\\metrics\\classification.py:1137: UndefinedMetricWarning: F-score is ill-defined and being set to 0.0 due to no true samples.\n",
      "  'recall', 'true', average, warn_for)\n",
      "C:\\Users\\nshawen\\AppData\\Local\\Continuum\\anaconda3\\lib\\site-packages\\sklearn\\metrics\\ranking.py:444: RuntimeWarning: invalid value encountered in true_divide\n",
      "  recall = tps / tps[-1]\n",
      "C:\\Users\\nshawen\\AppData\\Local\\Continuum\\anaconda3\\lib\\site-packages\\sklearn\\metrics\\ranking.py:94: RuntimeWarning: invalid value encountered in less\n",
      "  if np.any(dx < 0):\n",
      "C:\\Users\\nshawen\\AppData\\Local\\Continuum\\anaconda3\\lib\\site-packages\\sklearn\\metrics\\classification.py:1137: UndefinedMetricWarning: Recall is ill-defined and being set to 0.0 due to no true samples.\n",
      "  'recall', 'true', average, warn_for)\n",
      "C:\\Users\\nshawen\\AppData\\Local\\Continuum\\anaconda3\\lib\\site-packages\\sklearn\\metrics\\classification.py:1135: UndefinedMetricWarning: F-score is ill-defined and being set to 0.0 due to no predicted samples.\n",
      "  'precision', 'predicted', average, warn_for)\n"
     ]
    },
    {
     "name": "stdout",
     "output_type": "stream",
     "text": [
      "only 1 class in test data - cannot compute roc curve\n"
     ]
    },
    {
     "name": "stderr",
     "output_type": "stream",
     "text": [
      "C:\\Users\\nshawen\\AppData\\Local\\Continuum\\anaconda3\\lib\\site-packages\\sklearn\\metrics\\classification.py:1135: UndefinedMetricWarning: Precision is ill-defined and being set to 0.0 due to no predicted samples.\n",
      "  'precision', 'predicted', average, warn_for)\n",
      "C:\\Users\\nshawen\\AppData\\Local\\Continuum\\anaconda3\\lib\\site-packages\\sklearn\\metrics\\ranking.py:444: RuntimeWarning: invalid value encountered in true_divide\n",
      "  recall = tps / tps[-1]\n",
      "C:\\Users\\nshawen\\AppData\\Local\\Continuum\\anaconda3\\lib\\site-packages\\sklearn\\metrics\\ranking.py:94: RuntimeWarning: invalid value encountered in less\n",
      "  if np.any(dx < 0):\n"
     ]
    },
    {
     "name": "stdout",
     "output_type": "stream",
     "text": [
      "only 1 class in test data - cannot compute roc curve\n"
     ]
    },
    {
     "name": "stderr",
     "output_type": "stream",
     "text": [
      "C:\\Users\\nshawen\\AppData\\Local\\Continuum\\anaconda3\\lib\\site-packages\\sklearn\\metrics\\ranking.py:444: RuntimeWarning: invalid value encountered in true_divide\n",
      "  recall = tps / tps[-1]\n",
      "C:\\Users\\nshawen\\AppData\\Local\\Continuum\\anaconda3\\lib\\site-packages\\sklearn\\metrics\\ranking.py:94: RuntimeWarning: invalid value encountered in less\n",
      "  if np.any(dx < 0):\n"
     ]
    },
    {
     "name": "stdout",
     "output_type": "stream",
     "text": [
      "only 1 class in test data - cannot compute roc curve\n"
     ]
    },
    {
     "name": "stderr",
     "output_type": "stream",
     "text": [
      "C:\\Users\\nshawen\\AppData\\Local\\Continuum\\anaconda3\\lib\\site-packages\\sklearn\\metrics\\classification.py:1137: UndefinedMetricWarning: F-score is ill-defined and being set to 0.0 due to no true samples.\n",
      "  'recall', 'true', average, warn_for)\n",
      "C:\\Users\\nshawen\\AppData\\Local\\Continuum\\anaconda3\\lib\\site-packages\\sklearn\\metrics\\ranking.py:444: RuntimeWarning: invalid value encountered in true_divide\n",
      "  recall = tps / tps[-1]\n",
      "C:\\Users\\nshawen\\AppData\\Local\\Continuum\\anaconda3\\lib\\site-packages\\sklearn\\metrics\\ranking.py:94: RuntimeWarning: invalid value encountered in less\n",
      "  if np.any(dx < 0):\n",
      "C:\\Users\\nshawen\\AppData\\Local\\Continuum\\anaconda3\\lib\\site-packages\\sklearn\\metrics\\classification.py:1137: UndefinedMetricWarning: Recall is ill-defined and being set to 0.0 due to no true samples.\n",
      "  'recall', 'true', average, warn_for)\n"
     ]
    },
    {
     "name": "stdout",
     "output_type": "stream",
     "text": [
      "only 1 class in test data - cannot compute roc curve\n"
     ]
    },
    {
     "name": "stderr",
     "output_type": "stream",
     "text": [
      "C:\\Users\\nshawen\\AppData\\Local\\Continuum\\anaconda3\\lib\\site-packages\\sklearn\\metrics\\ranking.py:444: RuntimeWarning: invalid value encountered in true_divide\n",
      "  recall = tps / tps[-1]\n",
      "C:\\Users\\nshawen\\AppData\\Local\\Continuum\\anaconda3\\lib\\site-packages\\sklearn\\metrics\\ranking.py:94: RuntimeWarning: invalid value encountered in less\n",
      "  if np.any(dx < 0):\n"
     ]
    },
    {
     "name": "stdout",
     "output_type": "stream",
     "text": [
      "only 1 class in test data - cannot compute roc curve\n"
     ]
    },
    {
     "name": "stderr",
     "output_type": "stream",
     "text": [
      "C:\\Users\\nshawen\\AppData\\Local\\Continuum\\anaconda3\\lib\\site-packages\\sklearn\\metrics\\ranking.py:444: RuntimeWarning: invalid value encountered in true_divide\n",
      "  recall = tps / tps[-1]\n",
      "C:\\Users\\nshawen\\AppData\\Local\\Continuum\\anaconda3\\lib\\site-packages\\sklearn\\metrics\\ranking.py:94: RuntimeWarning: invalid value encountered in less\n",
      "  if np.any(dx < 0):\n",
      "C:\\Users\\nshawen\\AppData\\Local\\Continuum\\anaconda3\\lib\\site-packages\\sklearn\\metrics\\ranking.py:444: RuntimeWarning: invalid value encountered in true_divide\n",
      "  recall = tps / tps[-1]\n",
      "C:\\Users\\nshawen\\AppData\\Local\\Continuum\\anaconda3\\lib\\site-packages\\sklearn\\metrics\\ranking.py:94: RuntimeWarning: invalid value encountered in less\n",
      "  if np.any(dx < 0):\n"
     ]
    },
    {
     "name": "stdout",
     "output_type": "stream",
     "text": [
      "only 1 class in test data - cannot compute roc curve\n",
      "only 1 class in test data - cannot compute roc curve\n"
     ]
    },
    {
     "name": "stderr",
     "output_type": "stream",
     "text": [
      "C:\\Users\\nshawen\\AppData\\Local\\Continuum\\anaconda3\\lib\\site-packages\\sklearn\\metrics\\ranking.py:444: RuntimeWarning: invalid value encountered in true_divide\n",
      "  recall = tps / tps[-1]\n",
      "C:\\Users\\nshawen\\AppData\\Local\\Continuum\\anaconda3\\lib\\site-packages\\sklearn\\metrics\\ranking.py:94: RuntimeWarning: invalid value encountered in less\n",
      "  if np.any(dx < 0):\n"
     ]
    },
    {
     "name": "stdout",
     "output_type": "stream",
     "text": [
      "only 1 class in test data - cannot compute roc curve\n"
     ]
    },
    {
     "name": "stderr",
     "output_type": "stream",
     "text": [
      "C:\\Users\\nshawen\\AppData\\Local\\Continuum\\anaconda3\\lib\\site-packages\\sklearn\\metrics\\ranking.py:444: RuntimeWarning: invalid value encountered in true_divide\n",
      "  recall = tps / tps[-1]\n",
      "C:\\Users\\nshawen\\AppData\\Local\\Continuum\\anaconda3\\lib\\site-packages\\sklearn\\metrics\\ranking.py:94: RuntimeWarning: invalid value encountered in less\n",
      "  if np.any(dx < 0):\n"
     ]
    },
    {
     "name": "stdout",
     "output_type": "stream",
     "text": [
      "only 1 class in test data - cannot compute roc curve\n"
     ]
    },
    {
     "name": "stderr",
     "output_type": "stream",
     "text": [
      "C:\\Users\\nshawen\\AppData\\Local\\Continuum\\anaconda3\\lib\\site-packages\\sklearn\\metrics\\classification.py:1137: UndefinedMetricWarning: F-score is ill-defined and being set to 0.0 due to no true samples.\n",
      "  'recall', 'true', average, warn_for)\n",
      "C:\\Users\\nshawen\\AppData\\Local\\Continuum\\anaconda3\\lib\\site-packages\\sklearn\\metrics\\ranking.py:444: RuntimeWarning: invalid value encountered in true_divide\n",
      "  recall = tps / tps[-1]\n",
      "C:\\Users\\nshawen\\AppData\\Local\\Continuum\\anaconda3\\lib\\site-packages\\sklearn\\metrics\\ranking.py:94: RuntimeWarning: invalid value encountered in less\n",
      "  if np.any(dx < 0):\n",
      "C:\\Users\\nshawen\\AppData\\Local\\Continuum\\anaconda3\\lib\\site-packages\\sklearn\\metrics\\classification.py:1137: UndefinedMetricWarning: Recall is ill-defined and being set to 0.0 due to no true samples.\n",
      "  'recall', 'true', average, warn_for)\n"
     ]
    },
    {
     "name": "stdout",
     "output_type": "stream",
     "text": [
      "only 1 class in test data - cannot compute roc curve\n"
     ]
    },
    {
     "name": "stderr",
     "output_type": "stream",
     "text": [
      "C:\\Users\\nshawen\\AppData\\Local\\Continuum\\anaconda3\\lib\\site-packages\\sklearn\\metrics\\ranking.py:444: RuntimeWarning: invalid value encountered in true_divide\n",
      "  recall = tps / tps[-1]\n",
      "C:\\Users\\nshawen\\AppData\\Local\\Continuum\\anaconda3\\lib\\site-packages\\sklearn\\metrics\\ranking.py:94: RuntimeWarning: invalid value encountered in less\n",
      "  if np.any(dx < 0):\n"
     ]
    },
    {
     "name": "stdout",
     "output_type": "stream",
     "text": [
      "only 1 class in test data - cannot compute roc curve\n",
      "only 1 class in test data - cannot compute roc curve\n"
     ]
    },
    {
     "name": "stderr",
     "output_type": "stream",
     "text": [
      "C:\\Users\\nshawen\\AppData\\Local\\Continuum\\anaconda3\\lib\\site-packages\\ipykernel_launcher.py:273: RuntimeWarning: invalid value encountered in long_scalars\n"
     ]
    },
    {
     "name": "stdout",
     "output_type": "stream",
     "text": [
      "only 1 class in test data - cannot compute roc curve\n"
     ]
    },
    {
     "name": "stderr",
     "output_type": "stream",
     "text": [
      "C:\\Users\\nshawen\\AppData\\Local\\Continuum\\anaconda3\\lib\\site-packages\\ipykernel_launcher.py:273: RuntimeWarning: invalid value encountered in long_scalars\n",
      "C:\\Users\\nshawen\\AppData\\Local\\Continuum\\anaconda3\\lib\\site-packages\\sklearn\\metrics\\classification.py:1137: UndefinedMetricWarning: F-score is ill-defined and being set to 0.0 due to no true samples.\n",
      "  'recall', 'true', average, warn_for)\n",
      "C:\\Users\\nshawen\\AppData\\Local\\Continuum\\anaconda3\\lib\\site-packages\\sklearn\\metrics\\ranking.py:444: RuntimeWarning: invalid value encountered in true_divide\n",
      "  recall = tps / tps[-1]\n",
      "C:\\Users\\nshawen\\AppData\\Local\\Continuum\\anaconda3\\lib\\site-packages\\sklearn\\metrics\\ranking.py:94: RuntimeWarning: invalid value encountered in less\n",
      "  if np.any(dx < 0):\n",
      "C:\\Users\\nshawen\\AppData\\Local\\Continuum\\anaconda3\\lib\\site-packages\\sklearn\\metrics\\classification.py:1137: UndefinedMetricWarning: Recall is ill-defined and being set to 0.0 due to no true samples.\n",
      "  'recall', 'true', average, warn_for)\n"
     ]
    },
    {
     "name": "stdout",
     "output_type": "stream",
     "text": [
      "only 1 class in test data - cannot compute roc curve\n",
      "only 1 class in test data - cannot compute roc curve\n"
     ]
    },
    {
     "name": "stderr",
     "output_type": "stream",
     "text": [
      "C:\\Users\\nshawen\\AppData\\Local\\Continuum\\anaconda3\\lib\\site-packages\\ipykernel_launcher.py:273: RuntimeWarning: invalid value encountered in long_scalars\n",
      "C:\\Users\\nshawen\\AppData\\Local\\Continuum\\anaconda3\\lib\\site-packages\\sklearn\\metrics\\classification.py:1137: UndefinedMetricWarning: F-score is ill-defined and being set to 0.0 due to no true samples.\n",
      "  'recall', 'true', average, warn_for)\n",
      "C:\\Users\\nshawen\\AppData\\Local\\Continuum\\anaconda3\\lib\\site-packages\\sklearn\\metrics\\ranking.py:444: RuntimeWarning: invalid value encountered in true_divide\n",
      "  recall = tps / tps[-1]\n",
      "C:\\Users\\nshawen\\AppData\\Local\\Continuum\\anaconda3\\lib\\site-packages\\sklearn\\metrics\\ranking.py:94: RuntimeWarning: invalid value encountered in less\n",
      "  if np.any(dx < 0):\n",
      "C:\\Users\\nshawen\\AppData\\Local\\Continuum\\anaconda3\\lib\\site-packages\\sklearn\\metrics\\classification.py:1137: UndefinedMetricWarning: Recall is ill-defined and being set to 0.0 due to no true samples.\n",
      "  'recall', 'true', average, warn_for)\n"
     ]
    },
    {
     "name": "stdout",
     "output_type": "stream",
     "text": [
      "only 1 class in test data - cannot compute roc curve\n",
      "only 1 class in test data - cannot compute roc curve\n"
     ]
    },
    {
     "name": "stderr",
     "output_type": "stream",
     "text": [
      "C:\\Users\\nshawen\\AppData\\Local\\Continuum\\anaconda3\\lib\\site-packages\\ipykernel_launcher.py:273: RuntimeWarning: invalid value encountered in long_scalars\n",
      "C:\\Users\\nshawen\\AppData\\Local\\Continuum\\anaconda3\\lib\\site-packages\\sklearn\\metrics\\classification.py:1137: UndefinedMetricWarning: F-score is ill-defined and being set to 0.0 due to no true samples.\n",
      "  'recall', 'true', average, warn_for)\n",
      "C:\\Users\\nshawen\\AppData\\Local\\Continuum\\anaconda3\\lib\\site-packages\\sklearn\\metrics\\ranking.py:444: RuntimeWarning: invalid value encountered in true_divide\n",
      "  recall = tps / tps[-1]\n",
      "C:\\Users\\nshawen\\AppData\\Local\\Continuum\\anaconda3\\lib\\site-packages\\sklearn\\metrics\\ranking.py:94: RuntimeWarning: invalid value encountered in less\n",
      "  if np.any(dx < 0):\n",
      "C:\\Users\\nshawen\\AppData\\Local\\Continuum\\anaconda3\\lib\\site-packages\\sklearn\\metrics\\classification.py:1137: UndefinedMetricWarning: Recall is ill-defined and being set to 0.0 due to no true samples.\n",
      "  'recall', 'true', average, warn_for)\n"
     ]
    },
    {
     "name": "stdout",
     "output_type": "stream",
     "text": [
      "only 1 class in test data - cannot compute roc curve\n"
     ]
    },
    {
     "name": "stderr",
     "output_type": "stream",
     "text": [
      "C:\\Users\\nshawen\\AppData\\Local\\Continuum\\anaconda3\\lib\\site-packages\\sklearn\\metrics\\classification.py:1137: UndefinedMetricWarning: F-score is ill-defined and being set to 0.0 due to no true samples.\n",
      "  'recall', 'true', average, warn_for)\n",
      "C:\\Users\\nshawen\\AppData\\Local\\Continuum\\anaconda3\\lib\\site-packages\\sklearn\\metrics\\ranking.py:444: RuntimeWarning: invalid value encountered in true_divide\n",
      "  recall = tps / tps[-1]\n",
      "C:\\Users\\nshawen\\AppData\\Local\\Continuum\\anaconda3\\lib\\site-packages\\sklearn\\metrics\\ranking.py:94: RuntimeWarning: invalid value encountered in less\n",
      "  if np.any(dx < 0):\n",
      "C:\\Users\\nshawen\\AppData\\Local\\Continuum\\anaconda3\\lib\\site-packages\\sklearn\\metrics\\classification.py:1137: UndefinedMetricWarning: Recall is ill-defined and being set to 0.0 due to no true samples.\n",
      "  'recall', 'true', average, warn_for)\n"
     ]
    },
    {
     "name": "stdout",
     "output_type": "stream",
     "text": [
      "only 1 class in test data - cannot compute roc curve\n",
      "only 1 class in test data - cannot compute roc curve\n"
     ]
    },
    {
     "name": "stderr",
     "output_type": "stream",
     "text": [
      "C:\\Users\\nshawen\\AppData\\Local\\Continuum\\anaconda3\\lib\\site-packages\\ipykernel_launcher.py:273: RuntimeWarning: invalid value encountered in long_scalars\n",
      "C:\\Users\\nshawen\\AppData\\Local\\Continuum\\anaconda3\\lib\\site-packages\\sklearn\\metrics\\classification.py:1137: UndefinedMetricWarning: F-score is ill-defined and being set to 0.0 due to no true samples.\n",
      "  'recall', 'true', average, warn_for)\n",
      "C:\\Users\\nshawen\\AppData\\Local\\Continuum\\anaconda3\\lib\\site-packages\\sklearn\\metrics\\ranking.py:444: RuntimeWarning: invalid value encountered in true_divide\n",
      "  recall = tps / tps[-1]\n",
      "C:\\Users\\nshawen\\AppData\\Local\\Continuum\\anaconda3\\lib\\site-packages\\sklearn\\metrics\\ranking.py:94: RuntimeWarning: invalid value encountered in less\n",
      "  if np.any(dx < 0):\n",
      "C:\\Users\\nshawen\\AppData\\Local\\Continuum\\anaconda3\\lib\\site-packages\\sklearn\\metrics\\classification.py:1137: UndefinedMetricWarning: Recall is ill-defined and being set to 0.0 due to no true samples.\n",
      "  'recall', 'true', average, warn_for)\n"
     ]
    },
    {
     "name": "stdout",
     "output_type": "stream",
     "text": [
      "only 1 class in test data - cannot compute roc curve\n"
     ]
    },
    {
     "name": "stderr",
     "output_type": "stream",
     "text": [
      "C:\\Users\\nshawen\\AppData\\Local\\Continuum\\anaconda3\\lib\\site-packages\\sklearn\\metrics\\classification.py:1137: UndefinedMetricWarning: F-score is ill-defined and being set to 0.0 due to no true samples.\n",
      "  'recall', 'true', average, warn_for)\n",
      "C:\\Users\\nshawen\\AppData\\Local\\Continuum\\anaconda3\\lib\\site-packages\\sklearn\\metrics\\ranking.py:444: RuntimeWarning: invalid value encountered in true_divide\n",
      "  recall = tps / tps[-1]\n",
      "C:\\Users\\nshawen\\AppData\\Local\\Continuum\\anaconda3\\lib\\site-packages\\sklearn\\metrics\\ranking.py:94: RuntimeWarning: invalid value encountered in less\n",
      "  if np.any(dx < 0):\n",
      "C:\\Users\\nshawen\\AppData\\Local\\Continuum\\anaconda3\\lib\\site-packages\\sklearn\\metrics\\classification.py:1137: UndefinedMetricWarning: Recall is ill-defined and being set to 0.0 due to no true samples.\n",
      "  'recall', 'true', average, warn_for)\n",
      "C:\\Users\\nshawen\\AppData\\Local\\Continuum\\anaconda3\\lib\\site-packages\\ipykernel_launcher.py:317: RuntimeWarning: Mean of empty slice\n"
     ]
    },
    {
     "name": "stdout",
     "output_type": "stream",
     "text": [
      "only 1 class in test data - cannot compute roc curve\n",
      "only 1 class in test data - cannot compute roc curve\n"
     ]
    },
    {
     "name": "stderr",
     "output_type": "stream",
     "text": [
      "C:\\Users\\nshawen\\AppData\\Local\\Continuum\\anaconda3\\lib\\site-packages\\ipykernel_launcher.py:273: RuntimeWarning: invalid value encountered in long_scalars\n"
     ]
    },
    {
     "name": "stdout",
     "output_type": "stream",
     "text": [
      "only 1 class in test data - cannot compute roc curve\n"
     ]
    },
    {
     "name": "stderr",
     "output_type": "stream",
     "text": [
      "C:\\Users\\nshawen\\AppData\\Local\\Continuum\\anaconda3\\lib\\site-packages\\ipykernel_launcher.py:273: RuntimeWarning: invalid value encountered in long_scalars\n",
      "C:\\Users\\nshawen\\AppData\\Local\\Continuum\\anaconda3\\lib\\site-packages\\sklearn\\metrics\\classification.py:1135: UndefinedMetricWarning: F-score is ill-defined and being set to 0.0 due to no predicted samples.\n",
      "  'precision', 'predicted', average, warn_for)\n",
      "C:\\Users\\nshawen\\AppData\\Local\\Continuum\\anaconda3\\lib\\site-packages\\sklearn\\metrics\\classification.py:1135: UndefinedMetricWarning: Precision is ill-defined and being set to 0.0 due to no predicted samples.\n",
      "  'precision', 'predicted', average, warn_for)\n",
      "C:\\Users\\nshawen\\AppData\\Local\\Continuum\\anaconda3\\lib\\site-packages\\sklearn\\metrics\\classification.py:1137: UndefinedMetricWarning: F-score is ill-defined and being set to 0.0 due to no true samples.\n",
      "  'recall', 'true', average, warn_for)\n",
      "C:\\Users\\nshawen\\AppData\\Local\\Continuum\\anaconda3\\lib\\site-packages\\sklearn\\metrics\\ranking.py:444: RuntimeWarning: invalid value encountered in true_divide\n",
      "  recall = tps / tps[-1]\n",
      "C:\\Users\\nshawen\\AppData\\Local\\Continuum\\anaconda3\\lib\\site-packages\\sklearn\\metrics\\ranking.py:94: RuntimeWarning: invalid value encountered in less\n",
      "  if np.any(dx < 0):\n",
      "C:\\Users\\nshawen\\AppData\\Local\\Continuum\\anaconda3\\lib\\site-packages\\sklearn\\metrics\\classification.py:1137: UndefinedMetricWarning: Recall is ill-defined and being set to 0.0 due to no true samples.\n",
      "  'recall', 'true', average, warn_for)\n"
     ]
    },
    {
     "name": "stdout",
     "output_type": "stream",
     "text": [
      "only 1 class in test data - cannot compute roc curve\n"
     ]
    },
    {
     "name": "stderr",
     "output_type": "stream",
     "text": [
      "C:\\Users\\nshawen\\AppData\\Local\\Continuum\\anaconda3\\lib\\site-packages\\sklearn\\metrics\\ranking.py:444: RuntimeWarning: invalid value encountered in true_divide\n",
      "  recall = tps / tps[-1]\n",
      "C:\\Users\\nshawen\\AppData\\Local\\Continuum\\anaconda3\\lib\\site-packages\\sklearn\\metrics\\ranking.py:94: RuntimeWarning: invalid value encountered in less\n",
      "  if np.any(dx < 0):\n"
     ]
    },
    {
     "name": "stdout",
     "output_type": "stream",
     "text": [
      "only 1 class in test data - cannot compute roc curve\n"
     ]
    },
    {
     "name": "stderr",
     "output_type": "stream",
     "text": [
      "C:\\Users\\nshawen\\AppData\\Local\\Continuum\\anaconda3\\lib\\site-packages\\sklearn\\metrics\\classification.py:1137: UndefinedMetricWarning: F-score is ill-defined and being set to 0.0 due to no true samples.\n",
      "  'recall', 'true', average, warn_for)\n",
      "C:\\Users\\nshawen\\AppData\\Local\\Continuum\\anaconda3\\lib\\site-packages\\sklearn\\metrics\\ranking.py:444: RuntimeWarning: invalid value encountered in true_divide\n",
      "  recall = tps / tps[-1]\n",
      "C:\\Users\\nshawen\\AppData\\Local\\Continuum\\anaconda3\\lib\\site-packages\\sklearn\\metrics\\ranking.py:94: RuntimeWarning: invalid value encountered in less\n",
      "  if np.any(dx < 0):\n",
      "C:\\Users\\nshawen\\AppData\\Local\\Continuum\\anaconda3\\lib\\site-packages\\sklearn\\metrics\\classification.py:1137: UndefinedMetricWarning: Recall is ill-defined and being set to 0.0 due to no true samples.\n",
      "  'recall', 'true', average, warn_for)\n"
     ]
    },
    {
     "name": "stdout",
     "output_type": "stream",
     "text": [
      "only 1 class in test data - cannot compute roc curve\n"
     ]
    },
    {
     "name": "stderr",
     "output_type": "stream",
     "text": [
      "C:\\Users\\nshawen\\AppData\\Local\\Continuum\\anaconda3\\lib\\site-packages\\sklearn\\metrics\\ranking.py:444: RuntimeWarning: invalid value encountered in true_divide\n",
      "  recall = tps / tps[-1]\n",
      "C:\\Users\\nshawen\\AppData\\Local\\Continuum\\anaconda3\\lib\\site-packages\\sklearn\\metrics\\ranking.py:94: RuntimeWarning: invalid value encountered in less\n",
      "  if np.any(dx < 0):\n"
     ]
    },
    {
     "name": "stdout",
     "output_type": "stream",
     "text": [
      "only 1 class in test data - cannot compute roc curve\n",
      "only 1 class in test data - cannot compute roc curve\n"
     ]
    },
    {
     "name": "stderr",
     "output_type": "stream",
     "text": [
      "C:\\Users\\nshawen\\AppData\\Local\\Continuum\\anaconda3\\lib\\site-packages\\ipykernel_launcher.py:273: RuntimeWarning: invalid value encountered in long_scalars\n"
     ]
    },
    {
     "name": "stdout",
     "output_type": "stream",
     "text": [
      "only 1 class in test data - cannot compute roc curve\n"
     ]
    },
    {
     "name": "stderr",
     "output_type": "stream",
     "text": [
      "C:\\Users\\nshawen\\AppData\\Local\\Continuum\\anaconda3\\lib\\site-packages\\ipykernel_launcher.py:273: RuntimeWarning: invalid value encountered in long_scalars\n",
      "C:\\Users\\nshawen\\AppData\\Local\\Continuum\\anaconda3\\lib\\site-packages\\sklearn\\metrics\\classification.py:1137: UndefinedMetricWarning: F-score is ill-defined and being set to 0.0 due to no true samples.\n",
      "  'recall', 'true', average, warn_for)\n",
      "C:\\Users\\nshawen\\AppData\\Local\\Continuum\\anaconda3\\lib\\site-packages\\sklearn\\metrics\\ranking.py:444: RuntimeWarning: invalid value encountered in true_divide\n",
      "  recall = tps / tps[-1]\n",
      "C:\\Users\\nshawen\\AppData\\Local\\Continuum\\anaconda3\\lib\\site-packages\\sklearn\\metrics\\ranking.py:94: RuntimeWarning: invalid value encountered in less\n",
      "  if np.any(dx < 0):\n",
      "C:\\Users\\nshawen\\AppData\\Local\\Continuum\\anaconda3\\lib\\site-packages\\sklearn\\metrics\\classification.py:1137: UndefinedMetricWarning: Recall is ill-defined and being set to 0.0 due to no true samples.\n",
      "  'recall', 'true', average, warn_for)\n"
     ]
    },
    {
     "name": "stdout",
     "output_type": "stream",
     "text": [
      "only 1 class in test data - cannot compute roc curve\n",
      "only 1 class in test data - cannot compute roc curve\n"
     ]
    },
    {
     "name": "stderr",
     "output_type": "stream",
     "text": [
      "C:\\Users\\nshawen\\AppData\\Local\\Continuum\\anaconda3\\lib\\site-packages\\ipykernel_launcher.py:273: RuntimeWarning: invalid value encountered in long_scalars\n"
     ]
    },
    {
     "name": "stdout",
     "output_type": "stream",
     "text": [
      "only 1 class in test data - cannot compute roc curve\n"
     ]
    },
    {
     "name": "stderr",
     "output_type": "stream",
     "text": [
      "C:\\Users\\nshawen\\AppData\\Local\\Continuum\\anaconda3\\lib\\site-packages\\ipykernel_launcher.py:273: RuntimeWarning: invalid value encountered in long_scalars\n"
     ]
    },
    {
     "name": "stdout",
     "output_type": "stream",
     "text": [
      "only 1 class in test data - cannot compute roc curve\n"
     ]
    },
    {
     "name": "stderr",
     "output_type": "stream",
     "text": [
      "C:\\Users\\nshawen\\AppData\\Local\\Continuum\\anaconda3\\lib\\site-packages\\ipykernel_launcher.py:273: RuntimeWarning: invalid value encountered in long_scalars\n"
     ]
    },
    {
     "name": "stdout",
     "output_type": "stream",
     "text": [
      "only 1 class in test data - cannot compute roc curve\n"
     ]
    },
    {
     "name": "stderr",
     "output_type": "stream",
     "text": [
      "C:\\Users\\nshawen\\AppData\\Local\\Continuum\\anaconda3\\lib\\site-packages\\ipykernel_launcher.py:273: RuntimeWarning: invalid value encountered in long_scalars\n"
     ]
    },
    {
     "name": "stdout",
     "output_type": "stream",
     "text": [
      "only 1 class in test data - cannot compute roc curve\n"
     ]
    },
    {
     "name": "stderr",
     "output_type": "stream",
     "text": [
      "C:\\Users\\nshawen\\AppData\\Local\\Continuum\\anaconda3\\lib\\site-packages\\ipykernel_launcher.py:273: RuntimeWarning: invalid value encountered in long_scalars\n"
     ]
    },
    {
     "name": "stdout",
     "output_type": "stream",
     "text": [
      "only 1 class in test data - cannot compute roc curve\n"
     ]
    },
    {
     "name": "stderr",
     "output_type": "stream",
     "text": [
      "C:\\Users\\nshawen\\AppData\\Local\\Continuum\\anaconda3\\lib\\site-packages\\ipykernel_launcher.py:273: RuntimeWarning: invalid value encountered in long_scalars\n",
      "C:\\Users\\nshawen\\AppData\\Local\\Continuum\\anaconda3\\lib\\site-packages\\ipykernel_launcher.py:317: RuntimeWarning: Mean of empty slice\n"
     ]
    },
    {
     "name": "stdout",
     "output_type": "stream",
     "text": [
      "only 1 class in test data - cannot compute roc curve\n"
     ]
    },
    {
     "name": "stderr",
     "output_type": "stream",
     "text": [
      "C:\\Users\\nshawen\\AppData\\Local\\Continuum\\anaconda3\\lib\\site-packages\\ipykernel_launcher.py:273: RuntimeWarning: invalid value encountered in long_scalars\n"
     ]
    },
    {
     "name": "stdout",
     "output_type": "stream",
     "text": [
      "only 1 class in test data - cannot compute roc curve\n"
     ]
    },
    {
     "name": "stderr",
     "output_type": "stream",
     "text": [
      "C:\\Users\\nshawen\\AppData\\Local\\Continuum\\anaconda3\\lib\\site-packages\\ipykernel_launcher.py:273: RuntimeWarning: invalid value encountered in long_scalars\n"
     ]
    },
    {
     "name": "stdout",
     "output_type": "stream",
     "text": [
      "only 1 class in test data - cannot compute roc curve\n"
     ]
    },
    {
     "name": "stderr",
     "output_type": "stream",
     "text": [
      "C:\\Users\\nshawen\\AppData\\Local\\Continuum\\anaconda3\\lib\\site-packages\\ipykernel_launcher.py:273: RuntimeWarning: invalid value encountered in long_scalars\n"
     ]
    },
    {
     "name": "stdout",
     "output_type": "stream",
     "text": [
      "only 1 class in test data - cannot compute roc curve\n"
     ]
    },
    {
     "name": "stderr",
     "output_type": "stream",
     "text": [
      "C:\\Users\\nshawen\\AppData\\Local\\Continuum\\anaconda3\\lib\\site-packages\\ipykernel_launcher.py:273: RuntimeWarning: invalid value encountered in long_scalars\n"
     ]
    },
    {
     "name": "stdout",
     "output_type": "stream",
     "text": [
      "only 1 class in test data - cannot compute roc curve\n"
     ]
    },
    {
     "name": "stderr",
     "output_type": "stream",
     "text": [
      "C:\\Users\\nshawen\\AppData\\Local\\Continuum\\anaconda3\\lib\\site-packages\\ipykernel_launcher.py:273: RuntimeWarning: invalid value encountered in long_scalars\n"
     ]
    },
    {
     "name": "stdout",
     "output_type": "stream",
     "text": [
      "only 1 class in test data - cannot compute roc curve\n"
     ]
    },
    {
     "name": "stderr",
     "output_type": "stream",
     "text": [
      "C:\\Users\\nshawen\\AppData\\Local\\Continuum\\anaconda3\\lib\\site-packages\\ipykernel_launcher.py:273: RuntimeWarning: invalid value encountered in long_scalars\n"
     ]
    },
    {
     "name": "stdout",
     "output_type": "stream",
     "text": [
      "only 1 class in test data - cannot compute roc curve\n"
     ]
    },
    {
     "name": "stderr",
     "output_type": "stream",
     "text": [
      "C:\\Users\\nshawen\\AppData\\Local\\Continuum\\anaconda3\\lib\\site-packages\\ipykernel_launcher.py:273: RuntimeWarning: invalid value encountered in long_scalars\n"
     ]
    },
    {
     "name": "stdout",
     "output_type": "stream",
     "text": [
      "only 1 class in test data - cannot compute roc curve\n"
     ]
    },
    {
     "name": "stderr",
     "output_type": "stream",
     "text": [
      "C:\\Users\\nshawen\\AppData\\Local\\Continuum\\anaconda3\\lib\\site-packages\\ipykernel_launcher.py:273: RuntimeWarning: invalid value encountered in long_scalars\n",
      "C:\\Users\\nshawen\\AppData\\Local\\Continuum\\anaconda3\\lib\\site-packages\\ipykernel_launcher.py:317: RuntimeWarning: Mean of empty slice\n"
     ]
    },
    {
     "name": "stdout",
     "output_type": "stream",
     "text": [
      "only 1 class in test data - cannot compute roc curve\n"
     ]
    },
    {
     "name": "stderr",
     "output_type": "stream",
     "text": [
      "C:\\Users\\nshawen\\AppData\\Local\\Continuum\\anaconda3\\lib\\site-packages\\ipykernel_launcher.py:273: RuntimeWarning: invalid value encountered in long_scalars\n"
     ]
    },
    {
     "name": "stdout",
     "output_type": "stream",
     "text": [
      "Clinical 0.8735247548054149 (0.7981789902272396, 0.9488705193835902)\n",
      "Walking 0.7779524743115989 (0.6644896801300136, 0.8914152684931841)\n"
     ]
    },
    {
     "name": "stderr",
     "output_type": "stream",
     "text": [
      "C:\\Users\\nshawen\\AppData\\Local\\Continuum\\anaconda3\\lib\\site-packages\\seaborn\\timeseries.py:183: UserWarning: The tsplot function is deprecated and will be removed or replaced (in a substantially altered version) in a future release.\n",
      "  warnings.warn(msg, UserWarning)\n"
     ]
    },
    {
     "name": "stdout",
     "output_type": "stream",
     "text": [
      "Gross Motor 0.6961858206334187 (0.6137415473364669, 0.7786300939303705)\n",
      "Fine Motor 0.8667754771775347 (0.8222353470649296, 0.9113156072901397)\n",
      "Elapsed time = 2.439 min\n"
     ]
    },
    {
     "data": {
      "image/png": "[encoded data removed]",
      "text/plain": [
       "<matplotlib.figure.Figure at 0xf168c88>"
      ]
     },
     "metadata": {},
     "output_type": "display_data"
    }
   ],
   "source": [
    "# Personal Models\n",
    "t1=time.time()\n",
    "res_all = pd.DataFrame()\n",
    "le = LabelEncoder()\n",
    "Data=Data.reset_index(drop=True) #reset index\n",
    "\n",
    "for symptom in ['Bradykinesia']:#, 'Tremor']:\n",
    "    \n",
    "    res_allvisits = {}\n",
    "    for T in tasks:\n",
    "        res_allvisits[tuple(T)] = {'tpr':[],'fpr':[],'auroc':[]}\n",
    "    \n",
    "    #remove nan rows for current symptom\n",
    "    Data = Dataorig.copy() #original unmodified dataframe\n",
    "    Data=Data[~Data[symptom].isnull()]\n",
    "    Data=Data.reset_index(drop=True) #reset index\n",
    "    \n",
    "    X = Data.iloc[:,7:].as_matrix()\n",
    "    # X = StandardScaler().fit_transform(X)\n",
    "    fnames = Data.iloc[:,7:].columns.values\n",
    "\n",
    "    indp = ((Data[symptom]>0))\n",
    "    indp = indp.values\n",
    "    y = indp.astype(int) #target \n",
    "    print('Rows w %s %d/%d = %.2f'%(symptom,sum(indp),len(indp),(sum(indp)/len(indp))))\n",
    "\n",
    "    for s in Data.Subject.unique():\n",
    "        ds = Data.loc[Data.Subject==s]\n",
    "        indp = (ds[symptom]>0).values\n",
    "        y = indp.astype(int) #target \n",
    "        X = ds.iloc[:,7:]\n",
    "        X_std = StandardScaler().fit_transform(X) #standardize input data\n",
    "        groups = le.fit_transform(ds.Visit)\n",
    "        if len(np.unique(groups))<2:\n",
    "            continue\n",
    "        \n",
    "\n",
    "        models = [RandomForestClassifier(n_estimators=50,random_state=2)]          \n",
    "        model_name = ['Random Forest']\n",
    "        models = list(zip(models,model_name))\n",
    "\n",
    "        res,res_group = LOSOCV_Tasks(ds,X_std,y,groups,tasks,models[0][0])\n",
    "        \n",
    "        #loop through visits and remove NaNs\n",
    "        for T in res_group.keys():\n",
    "            NanInds = []\n",
    "            for i in range(len(res_group[T]['auroc'])):\n",
    "                if np.isnan(res_group[T]['auroc'][i]):\n",
    "                    NanInds.append(i)\n",
    "            for i in sorted(NanInds,reverse=True):\n",
    "                del res_group[T]['tpr'][i]\n",
    "                del res_group[T]['auroc'][i]\n",
    "            if len(res_group[T]['auroc'])>0:\n",
    "                res_allvisits[T]['tpr'].append(np.nanmean(res_group[T]['tpr'],axis=0))\n",
    "                res_allvisits[T]['fpr'].append(np.nanmean(res_group[T]['fpr'],axis=0))\n",
    "                res_allvisits[T]['auroc'].append(np.nanmean(res_group[T]['auroc']))\n",
    "        \n",
    "    Tasks = list(res_group.keys())\n",
    "    AX=None\n",
    "#     plt.figure(figsize=(9,6))\n",
    "\n",
    "    figure = plt.figure()\n",
    "    figure.set_dpi(100)\n",
    "    figure.set_size_inches(6.4,4.8)\n",
    "    \n",
    "    cols = ['b','r','g','m','k']\n",
    "    TaskNames = ['Clinical', 'Walking', 'Gross Motor', 'Fine Motor', 'All']\n",
    "    for x,T in zip(range(len(Tasks)),Tasks):\n",
    "        \n",
    "        AUC = res_allvisits[T]['auroc']\n",
    "        print(TaskNames[x],np.mean(AUC),\n",
    "              stats.t.interval(.95,len(AUC)-1, loc=np.mean(AUC), scale=stats.sem(AUC)))\n",
    "        \n",
    "        if AX==None:\n",
    "            AX = plot_roc(res_allvisits[T]['tpr'],res_allvisits[T]['fpr'][0],np.mean(res_allvisits[T]['auroc']),\n",
    "                          plotname=TaskNames[x],col = cols[x])\n",
    "        else:\n",
    "            plot_roc(res_allvisits[T]['tpr'],res_allvisits[T]['fpr'][0],np.mean(res_allvisits[T]['auroc']),\n",
    "                     plotname=TaskNames[x],ax=AX,col=cols[x])\n",
    "\n",
    "    save_object(res_allvisits,symptom+'PersonalDataResults')\n",
    "    plt.savefig(symptom+'Tasks.jpg')\n",
    "    plt.savefig(symptom+'Tasks.png',format='png',dpi=1000)\n",
    "    \n",
    "\n",
    "print('Elapsed time = %.3f min'%((time.time()-t1)/60))  "
   ]
  },
  {
   "cell_type": "code",
   "execution_count": 37,
   "metadata": {},
   "outputs": [],
   "source": [
    "with open('BradykinesiaPersonalDataResults','rb') as file:\n",
    "    BradykinesiaRes = pickle.load(file)\n",
    "    \n",
    "# with open('TremorPersonalDataResults','rb') as file:\n",
    "#     TremorRes = pickle.load(file)"
   ]
  },
  {
   "cell_type": "code",
   "execution_count": 38,
   "metadata": {},
   "outputs": [
    {
     "name": "stdout",
     "output_type": "stream",
     "text": [
      "('Motor #4: Finger to Nose', 'Motor #5: Alternating Hand Movements')\n",
      "Ttest_indResult(statistic=0.0, pvalue=1.0)\n",
      "('Motor #2: Walking', 'Motor #3: Walking while Counting', 'Motor #1: Standing', 'Motor #13: Sitting')\n",
      "Ttest_indResult(statistic=1.445519740597778, pvalue=0.15803501687521393)\n",
      "('Motor #10: Drinking Water', 'Motor #11: Organizing Folder', 'Motor #12: Folding Towels')\n",
      "Ttest_indResult(statistic=3.4016815506537594, pvalue=0.001971846311262386)\n",
      "('Motor #7: Drawing on Paper', 'Motor #8: Typing on a Computer', 'Motor #9: Nuts and Bolts')\n",
      "Ttest_indResult(statistic=0.16965776718290307, pvalue=0.8663150777864876)\n"
     ]
    }
   ],
   "source": [
    "for k in BradykinesiaRes.keys():\n",
    "    print(k)\n",
    "    try:\n",
    "        print(stats.ttest_ind(BradykinesiaRes[('Motor #4: Finger to Nose', 'Motor #5: Alternating Hand Movements')]['auroc'],\n",
    "                              BradykinesiaRes[k]['auroc']))\n",
    "    except:\n",
    "        continue"
   ]
  },
  {
   "cell_type": "code",
   "execution_count": null,
   "metadata": {},
   "outputs": [],
   "source": [
    "for k in TremorRes.keys():\n",
    "    print(k)\n",
    "    try:\n",
    "        print(stats.ttest_ind(TremorRes[('Motor #4: Finger to Nose', 'Motor #5: Alternating Hand Movements')]['auroc'],\n",
    "                              TremorRes[k]['auroc']))\n",
    "    except:\n",
    "        continue"
   ]
  },
  {
   "cell_type": "markdown",
   "metadata": {},
   "source": [
    "# Effect of # of subjects"
   ]
  },
  {
   "cell_type": "code",
   "execution_count": null,
   "metadata": {},
   "outputs": [],
   "source": [
    "# #if want to use only the selected features (to speed up)\n",
    "# topf = ['rangeYacc', 'rangeXgyr', 'Sen_Xgyr', 'xcorr_peakXZgyr',\n",
    "#        'jerk_stdgyr', 'rangeZgyr', 'PSD_meangyr', 'Sen_Zgyr',\n",
    "#        'xcorr_peakXZacc', 'xcor_peakXYacc', 'xcor_peakXYgyr', 'Sen_Ygyr',\n",
    "#        'rangeXacc']"
   ]
  },
  {
   "cell_type": "markdown",
   "metadata": {},
   "source": [
    "### Bradykinesia"
   ]
  },
  {
   "cell_type": "code",
   "execution_count": null,
   "metadata": {},
   "outputs": [],
   "source": [
    "symptom = 'Bradykinesia'\n",
    "Data=Data[~Data[symptom].isnull()]\n",
    "Data=Data.reset_index(drop=True) #reset index"
   ]
  },
  {
   "cell_type": "code",
   "execution_count": null,
   "metadata": {},
   "outputs": [],
   "source": [
    "symptom"
   ]
  },
  {
   "cell_type": "code",
   "execution_count": null,
   "metadata": {
    "scrolled": true
   },
   "outputs": [],
   "source": [
    "#sample p subjects at random for train and test on 1 random remaining subject\n",
    "\n",
    "results = pd.DataFrame()\n",
    "subjs=Data.Subject.unique()\n",
    "nsubj = [4,6,8,12,16] #of subjects to train on\n",
    "clf = RandomForestClassifier(n_estimators=50,random_state=2)\n",
    "auc_all={}\n",
    "testsublist = []\n",
    "t1=time.time()\n",
    "\n",
    "for iteration in range(500):\n",
    "    \n",
    "\n",
    "    trainsubjall = np.random.choice(subjs,size=16,replace=False) #sample 16 subjects at random\n",
    "    \n",
    "    #pick a test subject at random\n",
    "    losubjs = Data[~Data.Subject.isin(trainsubjall)].Subject.unique()\n",
    "    testsubj = np.random.choice(losubjs)\n",
    "    dtest = Data[Data.Subject==testsubj]\n",
    "    testsublist.append(testsubj)\n",
    "    \n",
    "    #use top features\n",
    "    Xte = dtest.iloc[:,7:].as_matrix()\n",
    "#     Xte = dtest[topf].as_matrix()\n",
    "    yte = (dtest[symptom]>0).values.astype(int)\n",
    "\n",
    "    if iteration%10==0:\n",
    "        print(iteration,trainsubjall,testsubj)\n",
    "\n",
    "    #compute and store AUC for an incremental number of train subjects tested on the left out subject\n",
    "    for NS in nsubj:\n",
    "    \n",
    "        trainsubj = trainsubjall[:NS] #add subjects incrementally each time\n",
    "        dtrain = Data[Data.Subject.isin(trainsubj)]\n",
    "\n",
    "        Xtr = dtrain.iloc[:,7:].as_matrix()\n",
    "        #use top features\n",
    "#         Xtr = dtrain[topf].as_matrix()\n",
    "        ytr = (dtrain[symptom]>0).values.astype(int)\n",
    "\n",
    "        if len(np.unique(ytr))<2: #skip if no positive or negative examples are available for training\n",
    "            print('only 1 class available in train data - skipping')\n",
    "            continue\n",
    "        clf.fit(Xtr,ytr)\n",
    "        ypred = clf.predict(Xte)\n",
    "        yscore = clf.predict_proba(Xte)\n",
    "        yscore = yscore[:,1]\n",
    "\n",
    "        if len(np.unique(yte))>1:\n",
    "            auroc = roc_auc_score(yte,yscore)\n",
    "        else:\n",
    "            print('only 1 class in test data - cannot compute roc curve')\n",
    "            auroc = np.nan\n",
    "        auc_all.update({NS:auroc}) #store auc for each grp\n",
    "\n",
    "\n",
    "    results=pd.concat((results,pd.DataFrame(auc_all,index=[iteration])))\n",
    "    \n",
    "\n",
    "\n",
    "#     results.update({ng:auc_all}) #save auc for all runs for each group\n",
    "print('elapsed %.3f min'%((time.time()-t1)/60))\n"
   ]
  },
  {
   "cell_type": "code",
   "execution_count": null,
   "metadata": {},
   "outputs": [],
   "source": [
    "results.to_csv('SimsMultiSubj_Brady.csv')"
   ]
  },
  {
   "cell_type": "code",
   "execution_count": null,
   "metadata": {},
   "outputs": [],
   "source": [
    "np.save('SimsMultiSubj_testsublist_brady.npy',testsublist)"
   ]
  },
  {
   "cell_type": "markdown",
   "metadata": {},
   "source": [
    "Bradykinesia Results"
   ]
  },
  {
   "cell_type": "code",
   "execution_count": null,
   "metadata": {},
   "outputs": [],
   "source": [
    "results=pd.read_csv('SimsMultiSubj_Brady.csv',index_col=False)\n",
    "results=results.drop('Unnamed: 0',axis=1)"
   ]
  },
  {
   "cell_type": "code",
   "execution_count": null,
   "metadata": {},
   "outputs": [],
   "source": [
    "results2=results.iloc[:,1:].copy()"
   ]
  },
  {
   "cell_type": "code",
   "execution_count": null,
   "metadata": {},
   "outputs": [],
   "source": [
    "baseline = results.iloc[:,0].copy()"
   ]
  },
  {
   "cell_type": "code",
   "execution_count": null,
   "metadata": {},
   "outputs": [],
   "source": [
    "diffs = results2.apply(lambda x:x - baseline)"
   ]
  },
  {
   "cell_type": "code",
   "execution_count": null,
   "metadata": {},
   "outputs": [],
   "source": [
    "diffs.plot(kind='box')"
   ]
  },
  {
   "cell_type": "code",
   "execution_count": null,
   "metadata": {},
   "outputs": [],
   "source": [
    "ci = []\n",
    "for c in range(len(diffs.columns.values)):\n",
    "    sns.distplot(diffs.iloc[:,c])\n",
    "    print(np.percentile(diffs.iloc[:,c].values,2.5),np.percentile(diffs.iloc[:,c].values,97.5))\n",
    "    ci.append(np.array([np.percentile(diffs.iloc[:,c].values,2.5),np.percentile(diffs.iloc[:,c].values,97.5)]))"
   ]
  },
  {
   "cell_type": "code",
   "execution_count": null,
   "metadata": {
    "scrolled": true
   },
   "outputs": [],
   "source": [
    "diffs['TestSubj']= testsublist"
   ]
  },
  {
   "cell_type": "code",
   "execution_count": null,
   "metadata": {},
   "outputs": [],
   "source": [
    "# plt.figure(figsize=(12,8))\n",
    "# sns.boxplot(x='TestSubj',y='6',data=diffs)"
   ]
  },
  {
   "cell_type": "code",
   "execution_count": null,
   "metadata": {},
   "outputs": [],
   "source": [
    "# plt.figure(figsize=(12,8))\n",
    "# sns.boxplot(x='TestSubj',y='16',data=diffs)"
   ]
  },
  {
   "cell_type": "code",
   "execution_count": null,
   "metadata": {},
   "outputs": [],
   "source": [
    "a.shape"
   ]
  },
  {
   "cell_type": "markdown",
   "metadata": {},
   "source": [
    "### Tremor Results"
   ]
  },
  {
   "cell_type": "code",
   "execution_count": null,
   "metadata": {},
   "outputs": [],
   "source": [
    "results=pd.read_csv('SimsMultiSubj_Tremor.csv',index_col=False)"
   ]
  },
  {
   "cell_type": "code",
   "execution_count": null,
   "metadata": {},
   "outputs": [],
   "source": [
    "results=results.drop('Unnamed: 0',axis=1)"
   ]
  },
  {
   "cell_type": "code",
   "execution_count": null,
   "metadata": {},
   "outputs": [],
   "source": [
    "results=results.dropna()"
   ]
  },
  {
   "cell_type": "code",
   "execution_count": null,
   "metadata": {},
   "outputs": [],
   "source": [
    "results2=results.iloc[:,1:].copy()"
   ]
  },
  {
   "cell_type": "code",
   "execution_count": null,
   "metadata": {},
   "outputs": [],
   "source": [
    "baseline = results.iloc[:,0].copy()"
   ]
  },
  {
   "cell_type": "code",
   "execution_count": null,
   "metadata": {},
   "outputs": [],
   "source": [
    "diffs = results2.apply(lambda x:x - baseline)"
   ]
  },
  {
   "cell_type": "code",
   "execution_count": null,
   "metadata": {},
   "outputs": [],
   "source": [
    "diffs.plot(kind='box')"
   ]
  },
  {
   "cell_type": "code",
   "execution_count": null,
   "metadata": {},
   "outputs": [],
   "source": [
    "ci = []\n",
    "for c in range(len(diffs.columns.values)):\n",
    "    sns.distplot(diffs.iloc[:,c])\n",
    "    print(np.percentile(diffs.iloc[:,c].values,2.5),np.percentile(diffs.iloc[:,c].values,97.5))\n",
    "    ci.append(np.array([np.percentile(diffs.iloc[:,c].values,2.5),np.percentile(diffs.iloc[:,c].values,97.5)]))"
   ]
  },
  {
   "cell_type": "code",
   "execution_count": null,
   "metadata": {},
   "outputs": [],
   "source": [
    "Xtr.shape"
   ]
  },
  {
   "cell_type": "code",
   "execution_count": null,
   "metadata": {},
   "outputs": [],
   "source": [
    "# y=np.asarray(diffs)\n",
    "# x = diffs.columns.values\n",
    "# sns.tsplot(y,x,ci='sd')"
   ]
  },
  {
   "cell_type": "markdown",
   "metadata": {},
   "source": [
    "## Personal models - Leave One visit out and LOin on Day 1 and Day 2"
   ]
  },
  {
   "cell_type": "code",
   "execution_count": 12,
   "metadata": {},
   "outputs": [
    {
     "data": {
      "text/html": [
       "<div>\n",
       "<style scoped>\n",
       "    .dataframe tbody tr th:only-of-type {\n",
       "        vertical-align: middle;\n",
       "    }\n",
       "\n",
       "    .dataframe tbody tr th {\n",
       "        vertical-align: top;\n",
       "    }\n",
       "\n",
       "    .dataframe thead th {\n",
       "        text-align: right;\n",
       "    }\n",
       "</style>\n",
       "<table border=\"1\" class=\"dataframe\">\n",
       "  <thead>\n",
       "    <tr style=\"text-align: right;\">\n",
       "      <th></th>\n",
       "      <th>Subject</th>\n",
       "      <th>Visit</th>\n",
       "      <th>Side</th>\n",
       "      <th>Task</th>\n",
       "      <th>Tremor</th>\n",
       "      <th>Bradykinesia</th>\n",
       "      <th>Dyskinesia</th>\n",
       "      <th>rangeXacc</th>\n",
       "      <th>rangeYacc</th>\n",
       "      <th>rangeZacc</th>\n",
       "      <th>...</th>\n",
       "      <th>PSD_stdgyr</th>\n",
       "      <th>PSD_skewgyr</th>\n",
       "      <th>PSD_kurgyr</th>\n",
       "      <th>jerk_meangyr</th>\n",
       "      <th>jerk_stdgyr</th>\n",
       "      <th>jerk_skewgyr</th>\n",
       "      <th>jerk_kurgyr</th>\n",
       "      <th>Sen_Xgyr</th>\n",
       "      <th>Sen_Ygyr</th>\n",
       "      <th>Sen_Zgyr</th>\n",
       "    </tr>\n",
       "  </thead>\n",
       "  <tbody>\n",
       "    <tr>\n",
       "      <th>0</th>\n",
       "      <td>1004</td>\n",
       "      <td>2 Weeks: Time 0</td>\n",
       "      <td>left</td>\n",
       "      <td>Motor #2: Walking</td>\n",
       "      <td>0.0</td>\n",
       "      <td>1.0</td>\n",
       "      <td>0.0</td>\n",
       "      <td>0.750286</td>\n",
       "      <td>0.950312</td>\n",
       "      <td>0.792986</td>\n",
       "      <td>...</td>\n",
       "      <td>333.369231</td>\n",
       "      <td>3.587466</td>\n",
       "      <td>15.204802</td>\n",
       "      <td>0.114246</td>\n",
       "      <td>10.726893</td>\n",
       "      <td>0.176444</td>\n",
       "      <td>-0.009173</td>\n",
       "      <td>0.416625</td>\n",
       "      <td>0.571324</td>\n",
       "      <td>0.438326</td>\n",
       "    </tr>\n",
       "    <tr>\n",
       "      <th>1</th>\n",
       "      <td>1004</td>\n",
       "      <td>2 Weeks: Time 0</td>\n",
       "      <td>left</td>\n",
       "      <td>Motor #2: Walking</td>\n",
       "      <td>0.0</td>\n",
       "      <td>1.0</td>\n",
       "      <td>0.0</td>\n",
       "      <td>0.593042</td>\n",
       "      <td>0.814818</td>\n",
       "      <td>0.511329</td>\n",
       "      <td>...</td>\n",
       "      <td>511.580241</td>\n",
       "      <td>4.261274</td>\n",
       "      <td>17.609498</td>\n",
       "      <td>-0.173831</td>\n",
       "      <td>10.278264</td>\n",
       "      <td>0.551148</td>\n",
       "      <td>0.059904</td>\n",
       "      <td>0.321724</td>\n",
       "      <td>0.525199</td>\n",
       "      <td>0.307797</td>\n",
       "    </tr>\n",
       "  </tbody>\n",
       "</table>\n",
       "<p>2 rows × 63 columns</p>\n",
       "</div>"
      ],
      "text/plain": [
       "   Subject            Visit  Side               Task  Tremor  Bradykinesia  \\\n",
       "0     1004  2 Weeks: Time 0  left  Motor #2: Walking     0.0           1.0   \n",
       "1     1004  2 Weeks: Time 0  left  Motor #2: Walking     0.0           1.0   \n",
       "\n",
       "   Dyskinesia  rangeXacc  rangeYacc  rangeZacc    ...     PSD_stdgyr  \\\n",
       "0         0.0   0.750286   0.950312   0.792986    ...     333.369231   \n",
       "1         0.0   0.593042   0.814818   0.511329    ...     511.580241   \n",
       "\n",
       "   PSD_skewgyr  PSD_kurgyr  jerk_meangyr  jerk_stdgyr  jerk_skewgyr  \\\n",
       "0     3.587466   15.204802      0.114246    10.726893      0.176444   \n",
       "1     4.261274   17.609498     -0.173831    10.278264      0.551148   \n",
       "\n",
       "   jerk_kurgyr  Sen_Xgyr  Sen_Ygyr  Sen_Zgyr  \n",
       "0    -0.009173  0.416625  0.571324  0.438326  \n",
       "1     0.059904  0.321724  0.525199  0.307797  \n",
       "\n",
       "[2 rows x 63 columns]"
      ]
     },
     "execution_count": 12,
     "metadata": {},
     "output_type": "execute_result"
    }
   ],
   "source": [
    "Data.head(2)"
   ]
  },
  {
   "cell_type": "markdown",
   "metadata": {},
   "source": [
    "Train on 1 session"
   ]
  },
  {
   "cell_type": "code",
   "execution_count": 13,
   "metadata": {
    "scrolled": true
   },
   "outputs": [
    {
     "name": "stdout",
     "output_type": "stream",
     "text": [
      "Subject 1004\n",
      "Training Random Forest\n",
      "\n",
      "Subj/Visit 0, prec=0.013, rec=1.000, Spec=0.269, auroc_train=1.000, auroc=0.818\n",
      "only 1 class available in train data - skipping\n",
      "only 1 class available in train data - skipping\n",
      "\n",
      "Subj/Visit 1, prec=1.000, rec=0.032, Spec=1.000, auroc_train=1.000, auroc=0.512\n",
      "only 1 class available in train data - skipping\n",
      "only 1 class available in train data - skipping\n",
      "f1_test=0.044+/-0.018, prec=0.507+/-0.493, rec=0.516+/-0.484, auprc=0.155+/-0.094, auroc=0.665+/-0.153\n",
      "Test 1004 on day 2\n",
      "Subject 1016\n",
      "Training Random Forest\n",
      "\n",
      "Subj/Visit 0, prec=0.775, rec=0.853, Spec=0.706, auroc_train=1.000, auroc=0.869\n",
      "\n",
      "Subj/Visit 1, prec=0.850, rec=0.907, Spec=0.820, auroc_train=1.000, auroc=0.927\n",
      "\n",
      "Subj/Visit 2, prec=0.828, rec=0.875, Spec=0.794, auroc_train=1.000, auroc=0.896\n",
      "\n",
      "Subj/Visit 3, prec=0.838, rec=0.874, Spec=0.805, auroc_train=1.000, auroc=0.909\n",
      "\n",
      "Subj/Visit 4, prec=0.832, rec=0.875, Spec=0.802, auroc_train=1.000, auroc=0.907\n",
      "\n",
      "Subj/Visit 5, prec=0.851, rec=0.873, Spec=0.833, auroc_train=1.000, auroc=0.918\n",
      "f1_test=0.852+/-0.020, prec=0.829+/-0.026, rec=0.876+/-0.016, auprc=0.894+/-0.010, auroc=0.904+/-0.019\n",
      "Test 1016 on day 2\n",
      "only 1 class in test data - cannot compute roc curve\n",
      "Subject 1018\n",
      "Training Random Forest\n",
      "\n",
      "Subj/Visit 0, prec=0.423, rec=0.568, Spec=0.935, auroc_train=1.000, auroc=0.870\n",
      "\n",
      "Subj/Visit 1, prec=0.967, rec=0.175, Spec=0.999, auroc_train=1.000, auroc=0.643\n",
      "\n",
      "Subj/Visit 2, prec=1.000, rec=0.178, Spec=1.000, auroc_train=1.000, auroc=0.608\n",
      "\n",
      "Subj/Visit 3, prec=0.685, rec=0.270, Spec=0.987, auroc_train=1.000, auroc=0.826\n",
      "\n",
      "Subj/Visit 4, prec=0.911, rec=0.313, Spec=0.997, auroc_train=1.000, auroc=0.839\n",
      "\n",
      "Subj/Visit 5, prec=1.000, rec=0.210, Spec=1.000, auroc_train=1.000, auroc=0.625\n",
      "f1_test=0.380+/-0.074, prec=0.831+/-0.212, rec=0.286+/-0.135, auprc=0.446+/-0.050, auroc=0.735+/-0.111\n",
      "Test 1018 on day 2\n",
      "Subject 1019\n",
      "Training Random Forest\n",
      "\n",
      "Subj/Visit 0, prec=0.000, rec=0.000, Spec=0.991, auroc_train=1.000, auroc=0.529\n",
      "\n",
      "Subj/Visit 1, prec=0.706, rec=0.164, Spec=0.996, auroc_train=1.000, auroc=0.603\n",
      "\n",
      "Subj/Visit 2, prec=0.800, rec=0.055, Spec=0.999, auroc_train=1.000, auroc=0.602\n",
      "\n",
      "Subj/Visit 3, prec=0.667, rec=0.030, Spec=0.999, auroc_train=1.000, auroc=0.572\n",
      "\n",
      "Subj/Visit 4, prec=0.643, rec=0.123, Spec=0.996, auroc_train=1.000, auroc=0.600\n",
      "\n",
      "Subj/Visit 5, prec=0.800, rec=0.219, Spec=0.997, auroc_train=1.000, auroc=0.576\n",
      "f1_test=0.163+/-0.120, prec=0.603+/-0.276, rec=0.099+/-0.077, auprc=0.184+/-0.089, auroc=0.580+/-0.026\n",
      "Test 1019 on day 2\n",
      "Subject 1024\n",
      "Training Random Forest\n",
      "\n",
      "Subj/Visit 0, prec=0.189, rec=0.943, Spec=0.172, auroc_train=1.000, auroc=0.618\n",
      "\n",
      "Subj/Visit 1, prec=0.583, rec=0.029, Spec=0.991, auroc_train=1.000, auroc=0.611\n",
      "\n",
      "Subj/Visit 2, prec=1.000, rec=0.014, Spec=1.000, auroc_train=1.000, auroc=0.502\n",
      "\n",
      "Subj/Visit 3, prec=0.271, rec=0.776, Spec=0.407, auroc_train=1.000, auroc=0.653\n",
      "\n",
      "Subj/Visit 4, prec=0.556, rec=0.042, Spec=0.986, auroc_train=1.000, auroc=0.668\n"
     ]
    },
    {
     "name": "stderr",
     "output_type": "stream",
     "text": [
      "C:\\Users\\andre\\Anaconda3\\lib\\site-packages\\sklearn\\metrics\\classification.py:1135: UndefinedMetricWarning: F-score is ill-defined and being set to 0.0 due to no predicted samples.\n",
      "  'precision', 'predicted', average, warn_for)\n",
      "C:\\Users\\andre\\Anaconda3\\lib\\site-packages\\sklearn\\metrics\\classification.py:1135: UndefinedMetricWarning: Precision is ill-defined and being set to 0.0 due to no predicted samples.\n",
      "  'precision', 'predicted', average, warn_for)\n"
     ]
    },
    {
     "name": "stdout",
     "output_type": "stream",
     "text": [
      "\n",
      "Subj/Visit 5, prec=0.000, rec=0.000, Spec=1.000, auroc_train=1.000, auroc=0.510\n",
      "f1_test=0.146+/-0.154, prec=0.433+/-0.325, rec=0.301+/-0.398, auprc=0.372+/-0.058, auroc=0.594+/-0.065\n",
      "Test 1024 on day 2\n",
      "Subject 1029\n",
      "Training Random Forest\n",
      "\n",
      "Subj/Visit 0, prec=0.339, rec=0.965, Spec=0.268, auroc_train=1.000, auroc=0.714\n",
      "\n",
      "Subj/Visit 1, prec=0.867, rec=0.019, Spec=0.998, auroc_train=1.000, auroc=0.710\n",
      "\n",
      "Subj/Visit 2, prec=0.850, rec=0.026, Spec=0.997, auroc_train=1.000, auroc=0.628\n",
      "\n",
      "Subj/Visit 3, prec=0.471, rec=0.845, Spec=0.538, auroc_train=1.000, auroc=0.738\n",
      "\n",
      "Subj/Visit 4, prec=0.589, rec=0.535, Spec=0.783, auroc_train=1.000, auroc=0.716\n",
      "\n",
      "Subj/Visit 5, prec=0.664, rec=0.271, Spec=0.913, auroc_train=1.000, auroc=0.733\n",
      "f1_test=0.357+/-0.231, prec=0.630+/-0.190, rec=0.444+/-0.371, auprc=0.557+/-0.043, auroc=0.706+/-0.036\n",
      "Test 1029 on day 2\n",
      "Subject 1030\n",
      "Training Random Forest\n",
      "\n",
      "Subj/Visit 0, prec=0.960, rec=0.250, Spec=0.999, auroc_train=1.000, auroc=0.913\n",
      "\n",
      "Subj/Visit 1, prec=0.875, rec=0.700, Spec=0.993, auroc_train=1.000, auroc=0.936\n",
      "\n",
      "Subj/Visit 2, prec=0.803, rec=0.596, Spec=0.990, auroc_train=1.000, auroc=0.928\n",
      "\n",
      "Subj/Visit 3, prec=0.757, rec=0.683, Spec=0.987, auroc_train=1.000, auroc=0.978\n",
      "\n",
      "Subj/Visit 4, prec=1.000, rec=0.268, Spec=1.000, auroc_train=1.000, auroc=0.924\n",
      "\n",
      "Subj/Visit 5, prec=0.803, rec=0.626, Spec=0.990, auroc_train=1.000, auroc=0.926\n",
      "f1_test=0.617+/-0.150, prec=0.866+/-0.088, rec=0.520+/-0.188, auprc=0.736+/-0.058, auroc=0.934+/-0.021\n",
      "Test 1030 on day 2\n",
      "Subject 1032\n",
      "Training Random Forest\n",
      "\n",
      "Subj/Visit 0, prec=0.370, rec=0.533, Spec=0.964, auroc_train=1.000, auroc=0.874\n",
      "\n",
      "Subj/Visit 1, prec=0.506, rec=0.616, Spec=0.976, auroc_train=1.000, auroc=0.867\n",
      "\n",
      "Subj/Visit 2, prec=0.727, rec=0.558, Spec=0.990, auroc_train=1.000, auroc=0.801\n",
      "\n",
      "Subj/Visit 3, prec=0.935, rec=0.372, Spec=0.999, auroc_train=1.000, auroc=0.826\n",
      "\n",
      "Subj/Visit 4, prec=1.000, rec=0.370, Spec=1.000, auroc_train=1.000, auroc=0.807\n",
      "\n",
      "Subj/Visit 5, prec=0.712, rec=0.547, Spec=0.990, auroc_train=1.000, auroc=0.783\n",
      "f1_test=0.552+/-0.064, prec=0.708+/-0.221, rec=0.499+/-0.095, auprc=0.537+/-0.140, auroc=0.826+/-0.034\n",
      "Test 1032 on day 2\n",
      "Subject 1038\n",
      "Training Random Forest\n",
      "\n",
      "Subj/Visit 0, prec=0.648, rec=0.786, Spec=0.536, auroc_train=1.000, auroc=0.719\n",
      "\n",
      "Subj/Visit 1, prec=0.889, rec=0.525, Spec=0.910, auroc_train=1.000, auroc=0.815\n",
      "\n",
      "Subj/Visit 2, prec=0.874, rec=0.563, Spec=0.893, auroc_train=1.000, auroc=0.806\n",
      "\n",
      "Subj/Visit 3, prec=0.704, rec=0.830, Spec=0.586, auroc_train=1.000, auroc=0.810\n",
      "\n",
      "Subj/Visit 4, prec=0.767, rec=0.830, Spec=0.693, auroc_train=1.000, auroc=0.843\n",
      "\n",
      "Subj/Visit 5, prec=0.706, rec=0.834, Spec=0.586, auroc_train=1.000, auroc=0.787\n",
      "f1_test=0.730+/-0.048, prec=0.765+/-0.090, rec=0.728+/-0.131, auprc=0.829+/-0.046, auroc=0.797+/-0.038\n",
      "Test 1038 on day 2\n",
      "Subject 1044\n",
      "Training Random Forest\n",
      "\n",
      "Subj/Visit 0, prec=0.957, rec=0.710, Spec=0.999, auroc_train=1.000, auroc=0.993\n",
      "\n",
      "Subj/Visit 1, prec=0.683, rec=0.452, Spec=0.991, auroc_train=1.000, auroc=0.971\n",
      "\n",
      "Subj/Visit 2, prec=0.953, rec=0.683, Spec=0.999, auroc_train=1.000, auroc=0.994\n",
      "\n",
      "Subj/Visit 3, prec=0.943, rec=0.550, Spec=0.999, auroc_train=1.000, auroc=0.984\n",
      "\n",
      "Subj/Visit 4, prec=0.891, rec=0.651, Spec=0.997, auroc_train=1.000, auroc=0.951\n",
      "\n",
      "Subj/Visit 5, prec=1.000, rec=0.429, Spec=1.000, auroc_train=1.000, auroc=0.982\n",
      "f1_test=0.700+/-0.100, prec=0.905+/-0.104, rec=0.579+/-0.110, auprc=0.834+/-0.086, auroc=0.979+/-0.015\n",
      "Test 1044 on day 2\n",
      "Subject 1046\n",
      "Training Random Forest\n",
      "\n",
      "Subj/Visit 0, prec=0.908, rec=0.575, Spec=0.985, auroc_train=1.000, auroc=0.952\n",
      "\n",
      "Subj/Visit 1, prec=0.938, rec=0.697, Spec=0.989, auroc_train=1.000, auroc=0.975\n",
      "\n",
      "Subj/Visit 2, prec=1.000, rec=0.466, Spec=1.000, auroc_train=1.000, auroc=0.836\n",
      "\n",
      "Subj/Visit 3, prec=0.936, rec=0.608, Spec=0.990, auroc_train=1.000, auroc=0.971\n",
      "\n",
      "Subj/Visit 4, prec=0.938, rec=0.769, Spec=0.988, auroc_train=1.000, auroc=0.981\n",
      "\n",
      "Subj/Visit 5, prec=0.850, rec=0.857, Spec=0.966, auroc_train=1.000, auroc=0.984\n",
      "f1_test=0.763+/-0.078, prec=0.928+/-0.045, rec=0.662+/-0.129, auprc=0.890+/-0.052, auroc=0.950+/-0.052\n",
      "Test 1046 on day 2\n",
      "Subject 1047\n",
      "Training Random Forest\n",
      "\n",
      "Subj/Visit 0, prec=0.235, rec=0.667, Spec=0.989, auroc_train=1.000, auroc=0.991\n",
      "only 1 class available in train data - skipping\n",
      "only 1 class available in train data - skipping\n",
      "\n",
      "Subj/Visit 1, prec=0.000, rec=0.000, Spec=0.990, auroc_train=1.000, auroc=0.972\n",
      "only 1 class available in train data - skipping\n",
      "only 1 class available in train data - skipping\n",
      "f1_test=0.174+/-0.174, prec=0.118+/-0.118, rec=0.333+/-0.333, auprc=0.252+/-0.177, auroc=0.981+/-0.009\n",
      "Subject 1049\n",
      "Training Random Forest\n",
      "\n",
      "Subj/Visit 0, prec=0.664, rec=0.692, Spec=0.784, auroc_train=1.000, auroc=0.808\n",
      "\n",
      "Subj/Visit 1, prec=0.749, rec=0.654, Spec=0.843, auroc_train=1.000, auroc=0.824\n",
      "\n",
      "Subj/Visit 2, prec=0.820, rec=0.597, Spec=0.905, auroc_train=1.000, auroc=0.841\n",
      "\n",
      "Subj/Visit 3, prec=0.750, rec=0.582, Spec=0.850, auroc_train=1.000, auroc=0.826\n",
      "\n",
      "Subj/Visit 4, prec=0.828, rec=0.607, Spec=0.900, auroc_train=1.000, auroc=0.856\n",
      "\n",
      "Subj/Visit 5, prec=0.744, rec=0.746, Spec=0.818, auroc_train=1.000, auroc=0.855\n",
      "f1_test=0.695+/-0.027, prec=0.759+/-0.055, rec=0.647+/-0.058, auprc=0.787+/-0.039, auroc=0.835+/-0.017\n",
      "Test 1049 on day 2\n",
      "Subject 1051\n",
      "Training Random Forest\n",
      "only 1 class available in train data - skipping\n",
      "only 1 class available in train data - skipping\n",
      "only 1 class available in train data - skipping\n",
      "only 1 class available in train data - skipping\n",
      "only 1 class available in train data - skipping\n",
      "only 1 class available in train data - skipping\n",
      "f1_test=nan+/-nan, prec=nan+/-nan, rec=nan+/-nan, auprc=nan+/-nan, auroc=nan+/-nan\n",
      "only 1 class available in data - skipping\n",
      "Subject 1052\n",
      "Training Random Forest\n"
     ]
    },
    {
     "name": "stderr",
     "output_type": "stream",
     "text": [
      "C:\\Users\\andre\\Anaconda3\\lib\\site-packages\\ipykernel_launcher.py:90: RuntimeWarning: Mean of empty slice\n",
      "C:\\Users\\andre\\Anaconda3\\lib\\site-packages\\numpy\\lib\\nanfunctions.py:1434: RuntimeWarning: Degrees of freedom <= 0 for slice.\n",
      "  keepdims=keepdims)\n",
      "C:\\Users\\andre\\Anaconda3\\lib\\site-packages\\ipykernel_launcher.py:91: RuntimeWarning: Mean of empty slice\n",
      "C:\\Users\\andre\\Anaconda3\\lib\\site-packages\\ipykernel_launcher.py:92: RuntimeWarning: Mean of empty slice\n",
      "C:\\Users\\andre\\Anaconda3\\lib\\site-packages\\ipykernel_launcher.py:99: RuntimeWarning: Mean of empty slice\n"
     ]
    },
    {
     "name": "stdout",
     "output_type": "stream",
     "text": [
      "\n",
      "Subj/Visit 0, prec=0.056, rec=0.667, Spec=0.761, auroc_train=1.000, auroc=0.772\n",
      "only 1 class available in train data - skipping\n",
      "only 1 class available in train data - skipping\n",
      "\n",
      "Subj/Visit 1, prec=1.000, rec=0.032, Spec=1.000, auroc_train=1.000, auroc=0.658\n",
      "only 1 class available in train data - skipping\n",
      "only 1 class available in train data - skipping\n",
      "f1_test=0.082+/-0.021, prec=0.528+/-0.472, rec=0.349+/-0.317, auprc=0.157+/-0.001, auroc=0.715+/-0.057\n",
      "Subject 1053\n",
      "Training Random Forest\n",
      "only 1 class available in train data - skipping\n",
      "only 1 class available in train data - skipping\n",
      "only 1 class available in train data - skipping\n",
      "only 1 class available in train data - skipping\n",
      "only 1 class available in train data - skipping\n",
      "only 1 class available in train data - skipping\n",
      "f1_test=nan+/-nan, prec=nan+/-nan, rec=nan+/-nan, auprc=nan+/-nan, auroc=nan+/-nan\n",
      "only 1 class available in data - skipping\n",
      "Subject 1054\n",
      "Training Random Forest\n",
      "only 1 class in test data - cannot compute roc curve\n",
      "\n",
      "Subj/Visit 0, prec=0.000, rec=0.000, Spec=0.920, auroc_train=1.000, auroc=nan\n",
      "only 1 class available in train data - skipping\n",
      "only 1 class available in train data - skipping\n",
      "only 1 class available in train data - skipping\n",
      "only 1 class available in train data - skipping\n",
      "only 1 class available in train data - skipping\n",
      "f1_test=0.000+/-0.000, prec=0.000+/-0.000, rec=0.000+/-0.000, auprc=nan+/-nan, auroc=nan+/-nan\n",
      "Subject 1055\n",
      "Training Random Forest\n"
     ]
    },
    {
     "name": "stderr",
     "output_type": "stream",
     "text": [
      "C:\\Users\\andre\\Anaconda3\\lib\\site-packages\\ipykernel_launcher.py:90: RuntimeWarning: Mean of empty slice\n",
      "C:\\Users\\andre\\Anaconda3\\lib\\site-packages\\numpy\\lib\\nanfunctions.py:1434: RuntimeWarning: Degrees of freedom <= 0 for slice.\n",
      "  keepdims=keepdims)\n",
      "C:\\Users\\andre\\Anaconda3\\lib\\site-packages\\ipykernel_launcher.py:91: RuntimeWarning: Mean of empty slice\n",
      "C:\\Users\\andre\\Anaconda3\\lib\\site-packages\\ipykernel_launcher.py:92: RuntimeWarning: Mean of empty slice\n",
      "C:\\Users\\andre\\Anaconda3\\lib\\site-packages\\ipykernel_launcher.py:99: RuntimeWarning: Mean of empty slice\n",
      "C:\\Users\\andre\\Anaconda3\\lib\\site-packages\\sklearn\\metrics\\classification.py:1137: UndefinedMetricWarning: F-score is ill-defined and being set to 0.0 due to no true samples.\n",
      "  'recall', 'true', average, warn_for)\n",
      "C:\\Users\\andre\\Anaconda3\\lib\\site-packages\\sklearn\\metrics\\ranking.py:444: RuntimeWarning: invalid value encountered in true_divide\n",
      "  recall = tps / tps[-1]\n",
      "C:\\Users\\andre\\Anaconda3\\lib\\site-packages\\sklearn\\metrics\\ranking.py:94: RuntimeWarning: invalid value encountered in less\n",
      "  if np.any(dx < 0):\n",
      "C:\\Users\\andre\\Anaconda3\\lib\\site-packages\\sklearn\\metrics\\classification.py:1137: UndefinedMetricWarning: Recall is ill-defined and being set to 0.0 due to no true samples.\n",
      "  'recall', 'true', average, warn_for)\n",
      "C:\\Users\\andre\\Anaconda3\\lib\\site-packages\\ipykernel_launcher.py:92: RuntimeWarning: Mean of empty slice\n",
      "C:\\Users\\andre\\Anaconda3\\lib\\site-packages\\numpy\\lib\\nanfunctions.py:1434: RuntimeWarning: Degrees of freedom <= 0 for slice.\n",
      "  keepdims=keepdims)\n",
      "C:\\Users\\andre\\Anaconda3\\lib\\site-packages\\ipykernel_launcher.py:99: RuntimeWarning: Mean of empty slice\n"
     ]
    },
    {
     "name": "stdout",
     "output_type": "stream",
     "text": [
      "\n",
      "Subj/Visit 0, prec=0.787, rec=0.995, Spec=0.007, auroc_train=1.000, auroc=0.574\n",
      "\n",
      "Subj/Visit 1, prec=0.853, rec=0.649, Spec=0.333, auroc_train=1.000, auroc=0.559\n",
      "\n",
      "Subj/Visit 2, prec=0.872, rec=0.821, Spec=0.335, auroc_train=1.000, auroc=0.647\n",
      "\n",
      "Subj/Visit 3, prec=0.821, rec=0.956, Spec=0.185, auroc_train=1.000, auroc=0.600\n",
      "\n",
      "Subj/Visit 4, prec=0.848, rec=0.824, Spec=0.346, auroc_train=1.000, auroc=0.637\n",
      "\n",
      "Subj/Visit 5, prec=0.779, rec=1.000, Spec=0.000, auroc_train=1.000, auroc=0.506\n",
      "f1_test=0.843+/-0.050, prec=0.827+/-0.034, rec=0.874+/-0.125, auprc=0.885+/-0.012, auroc=0.587+/-0.048\n",
      "Subject 1056\n",
      "Training Random Forest\n",
      "\n",
      "Subj/Visit 0, prec=0.720, rec=0.956, Spec=0.068, auroc_train=1.000, auroc=0.519\n",
      "\n",
      "Subj/Visit 1, prec=0.889, rec=0.386, Spec=0.781, auroc_train=1.000, auroc=0.620\n",
      "\n",
      "Subj/Visit 2, prec=0.914, rec=0.161, Spec=0.923, auroc_train=1.000, auroc=0.578\n",
      "\n",
      "Subj/Visit 3, prec=0.714, rec=0.986, Spec=0.048, auroc_train=1.000, auroc=0.592\n",
      "only 1 class available in train data - skipping\n",
      "\n",
      "Subj/Visit 4, prec=0.719, rec=0.993, Spec=0.004, auroc_train=1.000, auroc=0.554\n",
      "f1_test=0.659+/-0.223, prec=0.791+/-0.090, rec=0.696+/-0.353, auprc=0.823+/-0.047, auroc=0.573+/-0.034\n"
     ]
    }
   ],
   "source": [
    "# symptom = 'Bradykinesia'\n",
    "symptom = 'Tremor'\n",
    "le = LabelEncoder()\n",
    "res_all = pd.DataFrame(data=None,index=None)\n",
    "res_visit_all = [] #data from each subject \n",
    "auroc2_1 = []\n",
    "\n",
    "#remove nan rows for current symptom\n",
    "Data = Dataorig.copy() #original unmodified dataframe\n",
    "Data=Data[~Data[symptom].isnull()]\n",
    "Data=Data.reset_index(drop=True) #reset index\n",
    "\n",
    "#train on 1 or all sessions, predict on left out session for each patient (Day 1) and on single Day 2 session\n",
    "for s in Data.Subject.unique():\n",
    "    print('Subject %s'%s)\n",
    "    ds = Data.loc[(Data.Subject==s) & (Data.Visit != '4 Weeks')]\n",
    "    ds2 = Data.loc[(Data.Subject==s) & (Data.Visit == '4 Weeks')] #(Day 2)\n",
    "\n",
    "    #train/test on Day 1\n",
    "    indp = (ds[symptom]>0).values\n",
    "    y = indp.astype(int) #target \n",
    "    X = ds.iloc[:,7:].as_matrix()\n",
    "#     X = StandardScaler().fit_transform(X) #standardize input data\n",
    "    \n",
    "    models = [RandomForestClassifier(n_estimators=50,random_state=2)]#,XGBClassifier()]\n",
    "    model_name = ['Random Forest']#,'XGB']\n",
    "    models = list(zip(models,model_name))\n",
    "    groups = le.fit_transform(ds.Visit)\n",
    "    if len(np.unique(groups))<2:\n",
    "        continue\n",
    "        \n",
    "    #train/test on day 1 (LOin)\n",
    "    res,res_group = LOSOCV(ds,X,y,groups,models,LOin=1)\n",
    "    res.index = res.index+s\n",
    "    res_all=pd.concat((res_all,res))\n",
    "    res_visit_all.append(res_group)\n",
    "    day1_1 = res_all.auroc #mean auc per subject across \n",
    "    \n",
    "    if len(np.unique(y))<2: #skip if no positive or negative examples are available for training\n",
    "        print('only 1 class available in data - skipping')\n",
    "        continue\n",
    "        \n",
    "    #test on day 2    \n",
    "    if ds2.empty is False:\n",
    "        print('Test %s on day 2' %s)\n",
    "        clf = models[0][0]\n",
    "        X2 = ds2.iloc[:,7:].as_matrix()\n",
    "        yte = (ds2[symptom]>0).values.astype(int) \n",
    "        yscore = clf.predict_proba(X2)\n",
    "        yscore = yscore[:,1]\n",
    "        if len(np.unique(yte))>1:\n",
    "            auroc = roc_auc_score(yte,yscore)\n",
    "        else:\n",
    "            print('only 1 class in test data - cannot compute roc curve')\n",
    "            auroc = np.nan\n",
    "        auroc2_1.append(auroc) #auc from each subject when tested on day 2\n",
    "        \n",
    "day1_1 = day1_1[~np.isnan(day1_1)]\n",
    "auroc2_1 = [x for x in auroc2_1 if str(x) != 'nan']\n",
    "\n",
    "# np.save(os.path.join(results_path,'PERS_brady_train1lovo.npy'),[day1_1.values, auroc2_1])\n",
    "np.save(os.path.join(results_path,'PERS_tremor_train1lovo.npy'),[day1_1.values, auroc2_1])"
   ]
  },
  {
   "cell_type": "markdown",
   "metadata": {},
   "source": [
    "Train on 5 sessions"
   ]
  },
  {
   "cell_type": "code",
   "execution_count": 14,
   "metadata": {
    "scrolled": true
   },
   "outputs": [
    {
     "name": "stdout",
     "output_type": "stream",
     "text": [
      "Subject 1004\n",
      "Training Random Forest\n"
     ]
    },
    {
     "name": "stderr",
     "output_type": "stream",
     "text": [
      "C:\\Users\\andre\\Anaconda3\\lib\\site-packages\\sklearn\\metrics\\classification.py:1135: UndefinedMetricWarning: F-score is ill-defined and being set to 0.0 due to no predicted samples.\n",
      "  'precision', 'predicted', average, warn_for)\n",
      "C:\\Users\\andre\\Anaconda3\\lib\\site-packages\\sklearn\\metrics\\classification.py:1135: UndefinedMetricWarning: Precision is ill-defined and being set to 0.0 due to no predicted samples.\n",
      "  'precision', 'predicted', average, warn_for)\n"
     ]
    },
    {
     "name": "stdout",
     "output_type": "stream",
     "text": [
      "\n",
      "Subj/Visit 0, prec=0.000, rec=0.000, Spec=1.000, auroc_train=1.000, auroc=0.563\n"
     ]
    },
    {
     "name": "stderr",
     "output_type": "stream",
     "text": [
      "C:\\Users\\andre\\Anaconda3\\lib\\site-packages\\sklearn\\metrics\\classification.py:1137: UndefinedMetricWarning: F-score is ill-defined and being set to 0.0 due to no true samples.\n",
      "  'recall', 'true', average, warn_for)\n",
      "C:\\Users\\andre\\Anaconda3\\lib\\site-packages\\sklearn\\metrics\\ranking.py:444: RuntimeWarning: invalid value encountered in true_divide\n",
      "  recall = tps / tps[-1]\n",
      "C:\\Users\\andre\\Anaconda3\\lib\\site-packages\\sklearn\\metrics\\ranking.py:94: RuntimeWarning: invalid value encountered in less\n",
      "  if np.any(dx < 0):\n",
      "C:\\Users\\andre\\Anaconda3\\lib\\site-packages\\sklearn\\metrics\\classification.py:1137: UndefinedMetricWarning: Recall is ill-defined and being set to 0.0 due to no true samples.\n",
      "  'recall', 'true', average, warn_for)\n"
     ]
    },
    {
     "name": "stdout",
     "output_type": "stream",
     "text": [
      "only 1 class in test data - cannot compute roc curve\n",
      "\n",
      "Subj/Visit 1, prec=0.000, rec=0.000, Spec=0.996, auroc_train=1.000, auroc=nan\n"
     ]
    },
    {
     "name": "stderr",
     "output_type": "stream",
     "text": [
      "C:\\Users\\andre\\Anaconda3\\lib\\site-packages\\sklearn\\metrics\\ranking.py:444: RuntimeWarning: invalid value encountered in true_divide\n",
      "  recall = tps / tps[-1]\n",
      "C:\\Users\\andre\\Anaconda3\\lib\\site-packages\\sklearn\\metrics\\ranking.py:94: RuntimeWarning: invalid value encountered in less\n",
      "  if np.any(dx < 0):\n"
     ]
    },
    {
     "name": "stdout",
     "output_type": "stream",
     "text": [
      "only 1 class in test data - cannot compute roc curve\n",
      "\n",
      "Subj/Visit 2, prec=0.000, rec=0.000, Spec=1.000, auroc_train=1.000, auroc=nan\n",
      "\n",
      "Subj/Visit 3, prec=0.750, rec=0.923, Spec=0.985, auroc_train=1.000, auroc=0.998\n"
     ]
    },
    {
     "name": "stderr",
     "output_type": "stream",
     "text": [
      "C:\\Users\\andre\\Anaconda3\\lib\\site-packages\\sklearn\\metrics\\classification.py:1137: UndefinedMetricWarning: F-score is ill-defined and being set to 0.0 due to no true samples.\n",
      "  'recall', 'true', average, warn_for)\n",
      "C:\\Users\\andre\\Anaconda3\\lib\\site-packages\\sklearn\\metrics\\ranking.py:444: RuntimeWarning: invalid value encountered in true_divide\n",
      "  recall = tps / tps[-1]\n",
      "C:\\Users\\andre\\Anaconda3\\lib\\site-packages\\sklearn\\metrics\\ranking.py:94: RuntimeWarning: invalid value encountered in less\n",
      "  if np.any(dx < 0):\n",
      "C:\\Users\\andre\\Anaconda3\\lib\\site-packages\\sklearn\\metrics\\classification.py:1137: UndefinedMetricWarning: Recall is ill-defined and being set to 0.0 due to no true samples.\n",
      "  'recall', 'true', average, warn_for)\n"
     ]
    },
    {
     "name": "stdout",
     "output_type": "stream",
     "text": [
      "only 1 class in test data - cannot compute roc curve\n",
      "\n",
      "Subj/Visit 4, prec=0.000, rec=0.000, Spec=0.996, auroc_train=1.000, auroc=nan\n"
     ]
    },
    {
     "name": "stderr",
     "output_type": "stream",
     "text": [
      "C:\\Users\\andre\\Anaconda3\\lib\\site-packages\\sklearn\\metrics\\ranking.py:444: RuntimeWarning: invalid value encountered in true_divide\n",
      "  recall = tps / tps[-1]\n",
      "C:\\Users\\andre\\Anaconda3\\lib\\site-packages\\sklearn\\metrics\\ranking.py:94: RuntimeWarning: invalid value encountered in less\n",
      "  if np.any(dx < 0):\n"
     ]
    },
    {
     "name": "stdout",
     "output_type": "stream",
     "text": [
      "only 1 class in test data - cannot compute roc curve\n",
      "\n",
      "Subj/Visit 5, prec=0.000, rec=0.000, Spec=1.000, auroc_train=1.000, auroc=nan\n",
      "f1_test=0.138+/-0.308, prec=0.125+/-0.280, rec=0.154+/-0.344, auprc=0.813+/-0.160, auroc=0.781+/-0.217\n",
      "Test 1004 on day 2\n",
      "Subject 1016\n",
      "Training Random Forest\n",
      "\n",
      "Subj/Visit 0, prec=0.827, rec=0.872, Spec=0.832, auroc_train=1.000, auroc=0.893\n",
      "\n",
      "Subj/Visit 1, prec=0.849, rec=0.919, Spec=0.807, auroc_train=1.000, auroc=0.947\n",
      "\n",
      "Subj/Visit 2, prec=0.839, rec=0.896, Spec=0.801, auroc_train=1.000, auroc=0.945\n",
      "\n",
      "Subj/Visit 3, prec=0.908, rec=0.946, Spec=0.900, auroc_train=1.000, auroc=0.968\n",
      "\n",
      "Subj/Visit 4, prec=0.922, rec=0.939, Spec=0.904, auroc_train=1.000, auroc=0.977\n",
      "\n",
      "Subj/Visit 5, prec=0.885, rec=0.932, Spec=0.836, auroc_train=1.000, auroc=0.955\n",
      "f1_test=0.894+/-0.030, prec=0.872+/-0.035, rec=0.917+/-0.026, auprc=0.938+/-0.050, auroc=0.948+/-0.027\n",
      "Test 1016 on day 2\n",
      "only 1 class in test data - cannot compute roc curve\n",
      "Subject 1018\n",
      "Training Random Forest\n",
      "\n",
      "Subj/Visit 0, prec=1.000, rec=0.143, Spec=1.000, auroc_train=1.000, auroc=0.799\n",
      "\n",
      "Subj/Visit 1, prec=1.000, rec=0.875, Spec=1.000, auroc_train=1.000, auroc=0.999\n",
      "\n",
      "Subj/Visit 2, prec=1.000, rec=1.000, Spec=1.000, auroc_train=1.000, auroc=1.000\n",
      "\n",
      "Subj/Visit 3, prec=1.000, rec=0.351, Spec=1.000, auroc_train=1.000, auroc=0.892\n",
      "\n",
      "Subj/Visit 4, prec=1.000, rec=0.279, Spec=1.000, auroc_train=1.000, auroc=0.800\n",
      "\n",
      "Subj/Visit 5, prec=1.000, rec=0.917, Spec=1.000, auroc_train=1.000, auroc=0.999\n",
      "f1_test=0.683+/-0.292, prec=1.000+/-0.000, rec=0.594+/-0.344, auprc=0.788+/-0.200, auroc=0.915+/-0.090\n",
      "Test 1018 on day 2\n",
      "Subject 1019\n",
      "Training Random Forest\n",
      "\n",
      "Subj/Visit 0, prec=1.000, rec=0.023, Spec=1.000, auroc_train=1.000, auroc=0.549\n",
      "\n",
      "Subj/Visit 1, prec=1.000, rec=1.000, Spec=1.000, auroc_train=1.000, auroc=1.000\n",
      "\n",
      "Subj/Visit 2, prec=1.000, rec=0.667, Spec=1.000, auroc_train=1.000, auroc=0.999\n",
      "\n",
      "Subj/Visit 3, prec=0.000, rec=0.000, Spec=0.983, auroc_train=1.000, auroc=0.809\n",
      "\n",
      "Subj/Visit 4, prec=0.833, rec=0.833, Spec=0.996, auroc_train=1.000, auroc=0.998\n",
      "\n",
      "Subj/Visit 5, prec=1.000, rec=0.167, Spec=1.000, auroc_train=1.000, auroc=0.997\n",
      "f1_test=0.494+/-0.399, prec=0.806+/-0.365, rec=0.448+/-0.400, auprc=0.681+/-0.360, auroc=0.892+/-0.168\n",
      "Test 1019 on day 2\n",
      "Subject 1024\n",
      "Training Random Forest\n",
      "\n",
      "Subj/Visit 0, prec=0.893, rec=0.094, Spec=0.982, auroc_train=1.000, auroc=0.816\n",
      "\n",
      "Subj/Visit 1, prec=0.273, rec=0.281, Spec=0.905, auroc_train=1.000, auroc=0.800\n",
      "\n",
      "Subj/Visit 2, prec=0.086, rec=0.833, Spec=0.805, auroc_train=1.000, auroc=0.878\n",
      "\n",
      "Subj/Visit 3, prec=0.898, rec=0.263, Spec=0.966, auroc_train=1.000, auroc=0.742\n",
      "\n",
      "Subj/Visit 4, prec=0.417, rec=0.303, Spec=0.942, auroc_train=1.000, auroc=0.816\n",
      "\n",
      "Subj/Visit 5, prec=0.091, rec=0.667, Spec=0.859, auroc_train=1.000, auroc=0.818\n",
      "f1_test=0.254+/-0.099, prec=0.443+/-0.339, rec=0.407+/-0.256, auprc=0.425+/-0.307, auroc=0.812+/-0.040\n",
      "Test 1024 on day 2\n",
      "Subject 1029\n",
      "Training Random Forest\n",
      "\n",
      "Subj/Visit 0, prec=1.000, rec=0.214, Spec=1.000, auroc_train=1.000, auroc=0.874\n",
      "\n",
      "Subj/Visit 1, prec=0.330, rec=0.818, Spec=0.725, auroc_train=1.000, auroc=0.823\n",
      "\n",
      "Subj/Visit 2, prec=0.166, rec=0.511, Spec=0.602, auroc_train=1.000, auroc=0.665\n",
      "\n",
      "Subj/Visit 3, prec=0.944, rec=0.386, Spec=0.973, auroc_train=1.000, auroc=0.866\n",
      "\n",
      "Subj/Visit 4, prec=0.789, rec=0.645, Spec=0.910, auroc_train=1.000, auroc=0.905\n",
      "\n",
      "Subj/Visit 5, prec=0.509, rec=0.756, Spec=0.764, auroc_train=1.000, auroc=0.869\n",
      "f1_test=0.490+/-0.154, prec=0.623+/-0.311, rec=0.555+/-0.210, auprc=0.647+/-0.287, auroc=0.834+/-0.079\n",
      "Test 1029 on day 2\n",
      "Subject 1030\n",
      "Training Random Forest\n",
      "\n",
      "Subj/Visit 0, prec=0.706, rec=0.923, Spec=0.982, auroc_train=1.000, auroc=0.998\n",
      "\n",
      "Subj/Visit 1, prec=1.000, rec=0.632, Spec=1.000, auroc_train=1.000, auroc=0.999\n",
      "\n",
      "Subj/Visit 2, prec=1.000, rec=1.000, Spec=1.000, auroc_train=1.000, auroc=1.000\n",
      "\n",
      "Subj/Visit 3, prec=1.000, rec=0.481, Spec=1.000, auroc_train=1.000, auroc=0.806\n",
      "\n",
      "Subj/Visit 4, prec=0.706, rec=1.000, Spec=0.981, auroc_train=1.000, auroc=0.995\n",
      "\n",
      "Subj/Visit 5, prec=1.000, rec=0.889, Spec=1.000, auroc_train=1.000, auroc=1.000\n",
      "f1_test=0.832+/-0.114, prec=0.902+/-0.139, rec=0.821+/-0.196, auprc=0.927+/-0.107, auroc=0.966+/-0.072\n",
      "Test 1030 on day 2\n",
      "Subject 1032\n",
      "Training Random Forest\n",
      "\n",
      "Subj/Visit 0, prec=0.615, rec=0.348, Spec=0.987, auroc_train=1.000, auroc=0.890\n",
      "\n",
      "Subj/Visit 1, prec=1.000, rec=0.360, Spec=1.000, auroc_train=1.000, auroc=0.982\n",
      "\n",
      "Subj/Visit 2, prec=1.000, rec=1.000, Spec=1.000, auroc_train=1.000, auroc=1.000\n",
      "\n",
      "Subj/Visit 3, prec=0.600, rec=0.300, Spec=0.989, auroc_train=1.000, auroc=0.597\n",
      "\n",
      "Subj/Visit 4, prec=0.600, rec=1.000, Spec=0.989, auroc_train=1.000, auroc=1.000\n",
      "\n",
      "Subj/Visit 5, prec=1.000, rec=1.000, Spec=1.000, auroc_train=1.000, auroc=1.000\n",
      "f1_test=0.687+/-0.247, prec=0.803+/-0.198, rec=0.668+/-0.333, auprc=0.761+/-0.292, auroc=0.912+/-0.146\n",
      "Test 1032 on day 2\n",
      "Subject 1038\n",
      "Training Random Forest\n",
      "\n",
      "Subj/Visit 0, prec=0.894, rec=0.750, Spec=0.798, auroc_train=1.000, auroc=0.894\n",
      "\n",
      "Subj/Visit 1, prec=0.631, rec=0.925, Spec=0.617, auroc_train=1.000, auroc=0.901\n",
      "\n",
      "Subj/Visit 2, prec=0.675, rec=0.885, Spec=0.640, auroc_train=1.000, auroc=0.870\n",
      "\n",
      "Subj/Visit 3, prec=0.896, rec=0.790, Spec=0.865, auroc_train=1.000, auroc=0.876\n",
      "\n",
      "Subj/Visit 4, prec=0.881, rec=0.818, Spec=0.859, auroc_train=1.000, auroc=0.926\n",
      "\n",
      "Subj/Visit 5, prec=0.840, rec=0.688, Spec=0.817, auroc_train=1.000, auroc=0.820\n",
      "f1_test=0.796+/-0.040, prec=0.803+/-0.108, rec=0.809+/-0.079, auprc=0.902+/-0.034, auroc=0.881+/-0.033\n",
      "Test 1038 on day 2\n",
      "Subject 1044\n",
      "Training Random Forest\n",
      "\n",
      "Subj/Visit 0, prec=1.000, rec=0.750, Spec=1.000, auroc_train=1.000, auroc=1.000\n",
      "\n",
      "Subj/Visit 1, prec=1.000, rec=1.000, Spec=1.000, auroc_train=1.000, auroc=1.000\n",
      "\n",
      "Subj/Visit 2, prec=1.000, rec=1.000, Spec=1.000, auroc_train=1.000, auroc=1.000\n",
      "\n",
      "Subj/Visit 3, prec=1.000, rec=0.571, Spec=1.000, auroc_train=1.000, auroc=0.979\n",
      "\n",
      "Subj/Visit 4, prec=1.000, rec=1.000, Spec=1.000, auroc_train=1.000, auroc=1.000\n",
      "\n",
      "Subj/Visit 5, prec=1.000, rec=0.909, Spec=1.000, auroc_train=1.000, auroc=1.000\n",
      "f1_test=0.923+/-0.101, prec=1.000+/-0.000, rec=0.872+/-0.161, auprc=0.965+/-0.078, auroc=0.997+/-0.008\n",
      "Test 1044 on day 2\n",
      "Subject 1046\n",
      "Training Random Forest\n",
      "\n",
      "Subj/Visit 0, prec=0.914, rec=0.727, Spec=0.988, auroc_train=1.000, auroc=0.975\n",
      "\n",
      "Subj/Visit 1, prec=1.000, rec=0.893, Spec=1.000, auroc_train=1.000, auroc=0.996\n",
      "\n",
      "Subj/Visit 2, prec=0.750, rec=0.947, Spec=0.944, auroc_train=1.000, auroc=0.979\n",
      "\n",
      "Subj/Visit 3, prec=1.000, rec=0.962, Spec=1.000, auroc_train=1.000, auroc=1.000\n",
      "\n",
      "Subj/Visit 4, prec=1.000, rec=0.871, Spec=1.000, auroc_train=1.000, auroc=0.998\n",
      "\n",
      "Subj/Visit 5, prec=1.000, rec=0.769, Spec=1.000, auroc_train=1.000, auroc=0.990\n",
      "f1_test=0.895+/-0.061, prec=0.944+/-0.092, rec=0.862+/-0.087, auprc=0.961+/-0.046, auroc=0.990+/-0.010\n",
      "Test 1046 on day 2\n",
      "Subject 1047\n",
      "Training Random Forest\n"
     ]
    },
    {
     "name": "stderr",
     "output_type": "stream",
     "text": [
      "C:\\Users\\andre\\Anaconda3\\lib\\site-packages\\sklearn\\metrics\\classification.py:1135: UndefinedMetricWarning: F-score is ill-defined and being set to 0.0 due to no predicted samples.\n",
      "  'precision', 'predicted', average, warn_for)\n",
      "C:\\Users\\andre\\Anaconda3\\lib\\site-packages\\sklearn\\metrics\\classification.py:1135: UndefinedMetricWarning: Precision is ill-defined and being set to 0.0 due to no predicted samples.\n",
      "  'precision', 'predicted', average, warn_for)\n"
     ]
    },
    {
     "name": "stdout",
     "output_type": "stream",
     "text": [
      "\n",
      "Subj/Visit 0, prec=0.000, rec=0.000, Spec=1.000, auroc_train=1.000, auroc=0.994\n",
      "only 1 class in test data - cannot compute roc curve\n",
      "\n",
      "Subj/Visit 1, prec=0.000, rec=0.000, Spec=1.000, auroc_train=1.000, auroc=nan\n"
     ]
    },
    {
     "name": "stderr",
     "output_type": "stream",
     "text": [
      "C:\\Users\\andre\\Anaconda3\\lib\\site-packages\\sklearn\\metrics\\ranking.py:444: RuntimeWarning: invalid value encountered in true_divide\n",
      "  recall = tps / tps[-1]\n",
      "C:\\Users\\andre\\Anaconda3\\lib\\site-packages\\sklearn\\metrics\\ranking.py:94: RuntimeWarning: invalid value encountered in less\n",
      "  if np.any(dx < 0):\n",
      "C:\\Users\\andre\\Anaconda3\\lib\\site-packages\\sklearn\\metrics\\ranking.py:444: RuntimeWarning: invalid value encountered in true_divide\n",
      "  recall = tps / tps[-1]\n",
      "C:\\Users\\andre\\Anaconda3\\lib\\site-packages\\sklearn\\metrics\\ranking.py:94: RuntimeWarning: invalid value encountered in less\n",
      "  if np.any(dx < 0):\n"
     ]
    },
    {
     "name": "stdout",
     "output_type": "stream",
     "text": [
      "only 1 class in test data - cannot compute roc curve\n",
      "\n",
      "Subj/Visit 2, prec=0.000, rec=0.000, Spec=1.000, auroc_train=1.000, auroc=nan\n",
      "\n",
      "Subj/Visit 3, prec=0.000, rec=0.000, Spec=1.000, auroc_train=1.000, auroc=0.989\n"
     ]
    },
    {
     "name": "stderr",
     "output_type": "stream",
     "text": [
      "C:\\Users\\andre\\Anaconda3\\lib\\site-packages\\sklearn\\metrics\\classification.py:1135: UndefinedMetricWarning: F-score is ill-defined and being set to 0.0 due to no predicted samples.\n",
      "  'precision', 'predicted', average, warn_for)\n",
      "C:\\Users\\andre\\Anaconda3\\lib\\site-packages\\sklearn\\metrics\\classification.py:1135: UndefinedMetricWarning: Precision is ill-defined and being set to 0.0 due to no predicted samples.\n",
      "  'precision', 'predicted', average, warn_for)\n",
      "C:\\Users\\andre\\Anaconda3\\lib\\site-packages\\sklearn\\metrics\\ranking.py:444: RuntimeWarning: invalid value encountered in true_divide\n",
      "  recall = tps / tps[-1]\n",
      "C:\\Users\\andre\\Anaconda3\\lib\\site-packages\\sklearn\\metrics\\ranking.py:94: RuntimeWarning: invalid value encountered in less\n",
      "  if np.any(dx < 0):\n"
     ]
    },
    {
     "name": "stdout",
     "output_type": "stream",
     "text": [
      "only 1 class in test data - cannot compute roc curve\n",
      "\n",
      "Subj/Visit 4, prec=0.000, rec=0.000, Spec=1.000, auroc_train=1.000, auroc=nan\n",
      "only 1 class in test data - cannot compute roc curve\n",
      "\n",
      "Subj/Visit 5, prec=0.000, rec=0.000, Spec=1.000, auroc_train=1.000, auroc=nan\n",
      "f1_test=0.000+/-0.000, prec=0.000+/-0.000, rec=0.000+/-0.000, auprc=0.788+/-0.043, auroc=0.991+/-0.002\n",
      "Subject 1049\n",
      "Training Random Forest\n"
     ]
    },
    {
     "name": "stderr",
     "output_type": "stream",
     "text": [
      "C:\\Users\\andre\\Anaconda3\\lib\\site-packages\\sklearn\\metrics\\ranking.py:444: RuntimeWarning: invalid value encountered in true_divide\n",
      "  recall = tps / tps[-1]\n",
      "C:\\Users\\andre\\Anaconda3\\lib\\site-packages\\sklearn\\metrics\\ranking.py:94: RuntimeWarning: invalid value encountered in less\n",
      "  if np.any(dx < 0):\n"
     ]
    },
    {
     "name": "stdout",
     "output_type": "stream",
     "text": [
      "\n",
      "Subj/Visit 0, prec=0.886, rec=0.732, Spec=0.864, auroc_train=1.000, auroc=0.878\n",
      "\n",
      "Subj/Visit 1, prec=0.837, rec=0.769, Spec=0.886, auroc_train=1.000, auroc=0.898\n",
      "\n",
      "Subj/Visit 2, prec=0.812, rec=0.800, Spec=0.867, auroc_train=1.000, auroc=0.926\n",
      "\n",
      "Subj/Visit 3, prec=0.846, rec=0.393, Spec=0.965, auroc_train=1.000, auroc=0.864\n",
      "\n",
      "Subj/Visit 4, prec=0.806, rec=0.806, Spec=0.917, auroc_train=1.000, auroc=0.948\n",
      "\n",
      "Subj/Visit 5, prec=0.800, rec=0.667, Spec=0.871, auroc_train=1.000, auroc=0.860\n",
      "f1_test=0.747+/-0.098, prec=0.831+/-0.030, rec=0.694+/-0.143, auprc=0.868+/-0.053, auroc=0.896+/-0.032\n",
      "Test 1049 on day 2\n",
      "Subject 1051\n",
      "Training Random Forest\n",
      "only 1 class available in train data - skipping\n",
      "only 1 class available in train data - skipping\n",
      "only 1 class available in train data - skipping\n",
      "only 1 class available in train data - skipping\n",
      "only 1 class available in train data - skipping\n",
      "only 1 class available in train data - skipping\n",
      "f1_test=nan+/-nan, prec=nan+/-nan, rec=nan+/-nan, auprc=nan+/-nan, auroc=nan+/-nan\n",
      "only 1 class available in data - skipping\n",
      "Subject 1052\n",
      "Training Random Forest\n"
     ]
    },
    {
     "name": "stderr",
     "output_type": "stream",
     "text": [
      "C:\\Users\\andre\\Anaconda3\\lib\\site-packages\\ipykernel_launcher.py:90: RuntimeWarning: Mean of empty slice\n",
      "C:\\Users\\andre\\Anaconda3\\lib\\site-packages\\numpy\\lib\\nanfunctions.py:1434: RuntimeWarning: Degrees of freedom <= 0 for slice.\n",
      "  keepdims=keepdims)\n",
      "C:\\Users\\andre\\Anaconda3\\lib\\site-packages\\ipykernel_launcher.py:91: RuntimeWarning: Mean of empty slice\n",
      "C:\\Users\\andre\\Anaconda3\\lib\\site-packages\\ipykernel_launcher.py:92: RuntimeWarning: Mean of empty slice\n",
      "C:\\Users\\andre\\Anaconda3\\lib\\site-packages\\ipykernel_launcher.py:99: RuntimeWarning: Mean of empty slice\n"
     ]
    },
    {
     "name": "stdout",
     "output_type": "stream",
     "text": [
      "\n",
      "Subj/Visit 0, prec=1.000, rec=0.011, Spec=1.000, auroc_train=1.000, auroc=0.687\n"
     ]
    },
    {
     "name": "stderr",
     "output_type": "stream",
     "text": [
      "C:\\Users\\andre\\Anaconda3\\lib\\site-packages\\sklearn\\metrics\\ranking.py:444: RuntimeWarning: invalid value encountered in true_divide\n",
      "  recall = tps / tps[-1]\n",
      "C:\\Users\\andre\\Anaconda3\\lib\\site-packages\\sklearn\\metrics\\ranking.py:94: RuntimeWarning: invalid value encountered in less\n",
      "  if np.any(dx < 0):\n"
     ]
    },
    {
     "name": "stdout",
     "output_type": "stream",
     "text": [
      "only 1 class in test data - cannot compute roc curve\n",
      "\n",
      "Subj/Visit 1, prec=0.000, rec=0.000, Spec=1.000, auroc_train=1.000, auroc=nan\n"
     ]
    },
    {
     "name": "stderr",
     "output_type": "stream",
     "text": [
      "C:\\Users\\andre\\Anaconda3\\lib\\site-packages\\sklearn\\metrics\\ranking.py:444: RuntimeWarning: invalid value encountered in true_divide\n",
      "  recall = tps / tps[-1]\n",
      "C:\\Users\\andre\\Anaconda3\\lib\\site-packages\\sklearn\\metrics\\ranking.py:94: RuntimeWarning: invalid value encountered in less\n",
      "  if np.any(dx < 0):\n"
     ]
    },
    {
     "name": "stdout",
     "output_type": "stream",
     "text": [
      "only 1 class in test data - cannot compute roc curve\n",
      "\n",
      "Subj/Visit 2, prec=0.000, rec=0.000, Spec=1.000, auroc_train=1.000, auroc=nan\n",
      "\n",
      "Subj/Visit 3, prec=0.500, rec=0.033, Spec=0.996, auroc_train=1.000, auroc=0.751\n"
     ]
    },
    {
     "name": "stderr",
     "output_type": "stream",
     "text": [
      "C:\\Users\\andre\\Anaconda3\\lib\\site-packages\\sklearn\\metrics\\ranking.py:444: RuntimeWarning: invalid value encountered in true_divide\n",
      "  recall = tps / tps[-1]\n",
      "C:\\Users\\andre\\Anaconda3\\lib\\site-packages\\sklearn\\metrics\\ranking.py:94: RuntimeWarning: invalid value encountered in less\n",
      "  if np.any(dx < 0):\n"
     ]
    },
    {
     "name": "stdout",
     "output_type": "stream",
     "text": [
      "only 1 class in test data - cannot compute roc curve\n",
      "\n",
      "Subj/Visit 4, prec=0.000, rec=0.000, Spec=1.000, auroc_train=1.000, auroc=nan\n"
     ]
    },
    {
     "name": "stderr",
     "output_type": "stream",
     "text": [
      "C:\\Users\\andre\\Anaconda3\\lib\\site-packages\\sklearn\\metrics\\ranking.py:444: RuntimeWarning: invalid value encountered in true_divide\n",
      "  recall = tps / tps[-1]\n",
      "C:\\Users\\andre\\Anaconda3\\lib\\site-packages\\sklearn\\metrics\\ranking.py:94: RuntimeWarning: invalid value encountered in less\n",
      "  if np.any(dx < 0):\n",
      "C:\\Users\\andre\\Anaconda3\\lib\\site-packages\\ipykernel_launcher.py:90: RuntimeWarning: Mean of empty slice\n",
      "C:\\Users\\andre\\Anaconda3\\lib\\site-packages\\numpy\\lib\\nanfunctions.py:1434: RuntimeWarning: Degrees of freedom <= 0 for slice.\n",
      "  keepdims=keepdims)\n",
      "C:\\Users\\andre\\Anaconda3\\lib\\site-packages\\ipykernel_launcher.py:91: RuntimeWarning: Mean of empty slice\n",
      "C:\\Users\\andre\\Anaconda3\\lib\\site-packages\\ipykernel_launcher.py:92: RuntimeWarning: Mean of empty slice\n",
      "C:\\Users\\andre\\Anaconda3\\lib\\site-packages\\ipykernel_launcher.py:99: RuntimeWarning: Mean of empty slice\n",
      "C:\\Users\\andre\\Anaconda3\\lib\\site-packages\\sklearn\\metrics\\ranking.py:444: RuntimeWarning: invalid value encountered in true_divide\n",
      "  recall = tps / tps[-1]\n",
      "C:\\Users\\andre\\Anaconda3\\lib\\site-packages\\sklearn\\metrics\\ranking.py:94: RuntimeWarning: invalid value encountered in less\n",
      "  if np.any(dx < 0):\n"
     ]
    },
    {
     "name": "stdout",
     "output_type": "stream",
     "text": [
      "only 1 class in test data - cannot compute roc curve\n",
      "\n",
      "Subj/Visit 5, prec=0.000, rec=0.000, Spec=1.000, auroc_train=1.000, auroc=nan\n",
      "f1_test=0.014+/-0.023, prec=0.250+/-0.382, rec=0.007+/-0.012, auprc=0.346+/-0.161, auroc=0.719+/-0.032\n",
      "Subject 1053\n",
      "Training Random Forest\n",
      "only 1 class available in train data - skipping\n",
      "only 1 class available in train data - skipping\n",
      "only 1 class available in train data - skipping\n",
      "only 1 class available in train data - skipping\n",
      "only 1 class available in train data - skipping\n",
      "only 1 class available in train data - skipping\n",
      "f1_test=nan+/-nan, prec=nan+/-nan, rec=nan+/-nan, auprc=nan+/-nan, auroc=nan+/-nan\n",
      "only 1 class available in data - skipping\n",
      "Subject 1054\n",
      "Training Random Forest\n",
      "only 1 class available in train data - skipping\n",
      "only 1 class in test data - cannot compute roc curve\n",
      "\n",
      "Subj/Visit 0, prec=0.000, rec=0.000, Spec=1.000, auroc_train=1.000, auroc=nan\n"
     ]
    },
    {
     "name": "stderr",
     "output_type": "stream",
     "text": [
      "C:\\Users\\andre\\Anaconda3\\lib\\site-packages\\sklearn\\metrics\\ranking.py:444: RuntimeWarning: invalid value encountered in true_divide\n",
      "  recall = tps / tps[-1]\n",
      "C:\\Users\\andre\\Anaconda3\\lib\\site-packages\\sklearn\\metrics\\ranking.py:94: RuntimeWarning: invalid value encountered in less\n",
      "  if np.any(dx < 0):\n",
      "C:\\Users\\andre\\Anaconda3\\lib\\site-packages\\sklearn\\metrics\\ranking.py:444: RuntimeWarning: invalid value encountered in true_divide\n",
      "  recall = tps / tps[-1]\n",
      "C:\\Users\\andre\\Anaconda3\\lib\\site-packages\\sklearn\\metrics\\ranking.py:94: RuntimeWarning: invalid value encountered in less\n",
      "  if np.any(dx < 0):\n"
     ]
    },
    {
     "name": "stdout",
     "output_type": "stream",
     "text": [
      "only 1 class in test data - cannot compute roc curve\n",
      "\n",
      "Subj/Visit 1, prec=0.000, rec=0.000, Spec=1.000, auroc_train=1.000, auroc=nan\n",
      "only 1 class in test data - cannot compute roc curve\n",
      "\n",
      "Subj/Visit 2, prec=0.000, rec=0.000, Spec=1.000, auroc_train=1.000, auroc=nan\n"
     ]
    },
    {
     "name": "stderr",
     "output_type": "stream",
     "text": [
      "C:\\Users\\andre\\Anaconda3\\lib\\site-packages\\sklearn\\metrics\\ranking.py:444: RuntimeWarning: invalid value encountered in true_divide\n",
      "  recall = tps / tps[-1]\n",
      "C:\\Users\\andre\\Anaconda3\\lib\\site-packages\\sklearn\\metrics\\ranking.py:94: RuntimeWarning: invalid value encountered in less\n",
      "  if np.any(dx < 0):\n",
      "C:\\Users\\andre\\Anaconda3\\lib\\site-packages\\sklearn\\metrics\\ranking.py:444: RuntimeWarning: invalid value encountered in true_divide\n",
      "  recall = tps / tps[-1]\n",
      "C:\\Users\\andre\\Anaconda3\\lib\\site-packages\\sklearn\\metrics\\ranking.py:94: RuntimeWarning: invalid value encountered in less\n",
      "  if np.any(dx < 0):\n",
      "C:\\Users\\andre\\Anaconda3\\lib\\site-packages\\ipykernel_launcher.py:92: RuntimeWarning: Mean of empty slice\n",
      "C:\\Users\\andre\\Anaconda3\\lib\\site-packages\\numpy\\lib\\nanfunctions.py:1434: RuntimeWarning: Degrees of freedom <= 0 for slice.\n",
      "  keepdims=keepdims)\n",
      "C:\\Users\\andre\\Anaconda3\\lib\\site-packages\\ipykernel_launcher.py:99: RuntimeWarning: Mean of empty slice\n"
     ]
    },
    {
     "name": "stdout",
     "output_type": "stream",
     "text": [
      "only 1 class in test data - cannot compute roc curve\n",
      "\n",
      "Subj/Visit 3, prec=0.000, rec=0.000, Spec=1.000, auroc_train=1.000, auroc=nan\n",
      "only 1 class in test data - cannot compute roc curve\n",
      "\n",
      "Subj/Visit 4, prec=0.000, rec=0.000, Spec=1.000, auroc_train=1.000, auroc=nan\n",
      "f1_test=0.000+/-0.000, prec=0.000+/-0.000, rec=0.000+/-0.000, auprc=nan+/-nan, auroc=nan+/-nan\n",
      "Subject 1055\n",
      "Training Random Forest\n",
      "\n",
      "Subj/Visit 0, prec=0.955, rec=0.955, Spec=0.083, auroc_train=1.000, auroc=0.628\n",
      "\n",
      "Subj/Visit 1, prec=0.590, rec=0.902, Spec=0.056, auroc_train=1.000, auroc=0.547\n",
      "\n",
      "Subj/Visit 2, prec=0.683, rec=0.960, Spec=0.160, auroc_train=1.000, auroc=0.661\n",
      "\n",
      "Subj/Visit 3, prec=0.937, rec=0.937, Spec=0.444, auroc_train=1.000, auroc=0.877\n",
      "\n",
      "Subj/Visit 4, prec=0.832, rec=0.986, Spec=0.204, auroc_train=1.000, auroc=0.786\n",
      "\n",
      "Subj/Visit 5, prec=0.991, rec=0.913, Spec=0.000, auroc_train=1.000, auroc=0.500\n",
      "f1_test=0.876+/-0.090, prec=0.831+/-0.149, rec=0.942+/-0.029, auprc=0.889+/-0.123, auroc=0.666+/-0.131\n",
      "Subject 1056\n",
      "Training Random Forest\n",
      "\n",
      "Subj/Visit 0, prec=0.954, rec=0.873, Spec=0.519, auroc_train=1.000, auroc=0.778\n",
      "\n",
      "Subj/Visit 1, prec=0.395, rec=0.957, Spec=0.124, auroc_train=1.000, auroc=0.666\n",
      "\n",
      "Subj/Visit 2, prec=0.321, rec=0.970, Spec=0.072, auroc_train=1.000, auroc=0.614\n",
      "\n",
      "Subj/Visit 3, prec=0.973, rec=0.924, Spec=0.385, auroc_train=1.000, auroc=0.878\n",
      "only 1 class in test data - cannot compute roc curve\n",
      "\n",
      "Subj/Visit 4, prec=1.000, rec=0.964, Spec=nan, auroc_train=1.000, auroc=nan\n"
     ]
    },
    {
     "name": "stderr",
     "output_type": "stream",
     "text": [
      "C:\\Users\\andre\\Anaconda3\\lib\\site-packages\\ipykernel_launcher.py:48: RuntimeWarning: invalid value encountered in long_scalars\n"
     ]
    },
    {
     "name": "stdout",
     "output_type": "stream",
     "text": [
      "\n",
      "Subj/Visit 5, prec=0.889, rec=0.932, Spec=0.077, auroc_train=1.000, auroc=0.616\n",
      "f1_test=0.799+/-0.199, prec=0.755+/-0.284, rec=0.937+/-0.033, auprc=0.799+/-0.249, auroc=0.710+/-0.103\n"
     ]
    }
   ],
   "source": [
    "# symptom = 'Bradykinesia'\n",
    "symptom = 'Tremor'\n",
    "le = LabelEncoder()\n",
    "res_all = pd.DataFrame(data=None,index=None)\n",
    "res_visit_all = [] #data from each subject \n",
    "auroc2_5 = []\n",
    "\n",
    "#remove nan rows for current symptom\n",
    "Data = Dataorig.copy() #original unmodified dataframe\n",
    "Data=Data[~Data[symptom].isnull()]\n",
    "Data=Data.reset_index(drop=True) #reset index\n",
    "\n",
    "#train on 1 or all sessions, predict on left out session for each patient (Day 1) and on single Day 2 session\n",
    "for s in Data.Subject.unique():\n",
    "    print('Subject %s'%s)\n",
    "    ds = Data.loc[(Data.Subject==s) & (Data.Visit != '4 Weeks')]\n",
    "    ds2 = Data.loc[(Data.Subject==s) & (Data.Visit == '4 Weeks')] #(Day 2)\n",
    "\n",
    "    #train/test on Day 1\n",
    "    indp = (ds[symptom]>0).values\n",
    "    y = indp.astype(int) #target \n",
    "    X = ds.iloc[:,7:].as_matrix()\n",
    "    #     X = StandardScaler().fit_transform(X) #standardize input data\n",
    "    \n",
    "    models = [RandomForestClassifier(n_estimators=50,random_state=2)]#,XGBClassifier()]\n",
    "    model_name = ['Random Forest']#,'XGB']\n",
    "    models = list(zip(models,model_name))\n",
    "    groups = le.fit_transform(ds.Visit)\n",
    "    if len(np.unique(groups))<2:\n",
    "        continue\n",
    "        \n",
    "    #train/test on day 1 (LOin)\n",
    "    res,res_group = LOSOCV(ds,X,y,groups,models,LOin=0)\n",
    "    res.index = res.index+s\n",
    "    res_all=pd.concat((res_all,res))\n",
    "    res_visit_all.append(res_group)\n",
    "    day1_5 = res_all.auroc #mean auc per subject across \n",
    "\n",
    "    if len(np.unique(y))<2: #skip if no positive or negative examples are available for training\n",
    "        print('only 1 class available in data - skipping')\n",
    "        continue\n",
    "    \n",
    "    #test on day 2    \n",
    "    if ds2.empty is False:\n",
    "        print('Test %s on day 2' %s)\n",
    "        clf = models[0][0]\n",
    "        X2 = ds2.iloc[:,7:].as_matrix()\n",
    "        yte = (ds2[symptom]>0).values.astype(int) \n",
    "        yscore = clf.predict_proba(X2)\n",
    "        yscore = yscore[:,1]\n",
    "        if len(np.unique(yte))>1:\n",
    "            auroc = roc_auc_score(yte,yscore)\n",
    "        else:\n",
    "            print('only 1 class in test data - cannot compute roc curve')\n",
    "            auroc = np.nan\n",
    "        auroc2_5.append(auroc) #auc from each subject when tested on day 2\n",
    "\n",
    "        \n",
    "day1_5 = day1_5[~np.isnan(day1_5)]\n",
    "auroc2_5 = [x for x in auroc2_5 if str(x) != 'nan']\n",
    "\n",
    "# np.save(os.path.join(results_path,'PERS_brady_train5lovo.npy'),[day1_5.values, auroc2_5])\n",
    "np.save(os.path.join(results_path,'PERS_tremor_train5lovo.npy'),[day1_5.values, auroc2_5])"
   ]
  },
  {
   "cell_type": "markdown",
   "metadata": {},
   "source": [
    "#### Run Stats and Plot"
   ]
  },
  {
   "cell_type": "code",
   "execution_count": 90,
   "metadata": {},
   "outputs": [],
   "source": [
    "# brady1 = np.load(os.path.join(results_path,'brady_train1lovo.npy'))\n",
    "# brady5 = np.load(os.path.join(results_path,'brady_train5lovo.npy'))\n",
    "# tremor1 = np.load(os.path.join(results_path,'tremor_train1lovo.npy'))\n",
    "# tremor5 = np.load(os.path.join(results_path,'tremor_train5lovo.npy'))\n",
    "\n",
    "# day1_1 = np.append(brady1[0], tremor1[0]);\n",
    "# auroc2_1 = brady1[1] + tremor1[1];\n",
    "# day1_5 = np.append(brady5[0], tremor5[0]);\n",
    "# auroc2_5 = brady5[1] + tremor5[1];\n",
    "\n",
    "# s1 = (np.shape(brady1[0])[0])*['Bradykinesia'] + (np.shape(tremor1[0])[0])*['Tremor']\n",
    "# s2 = (np.shape(brady1[1])[0])*['Bradykinesia'] + (np.shape(tremor1[1])[0])*['Tremor']\n",
    "# g1 = np.shape(day1_1)[0]*['Day 1']\n",
    "# g2 = np.shape(auroc2_1)[0]*['Day 2']\n",
    "# df = pd.DataFrame.from_dict({'Test Session':(g1 + g2),'1 Session':(list(day1_1) + list(auroc2_1)),\n",
    "#                              '5 Sessions':(list(day1_5) + list(auroc2_5)),\n",
    "#                              'Symptom':(list(s1) + list(s2))})\n",
    "# df_new = pd.melt(df,id_vars=['Test Session','Symptom'],value_vars=['1 Session','5 Sessions'],var_name=['# Training Sessions']);\n",
    "\n",
    "# figure = plt.figure();\n",
    "# figure.set_dpi(100);\n",
    "# figure.set_size_inches(6.4,4.8);\n",
    "# # ax = sns.boxplot(x='Test Session',y='value',data=df_new,hue='# Training Sessions');\n",
    "# ax = sns.factorplot(x='Test Session',y='value',hue='# Training Sessions',data=df_new,col='Symptom',kind='box');\n",
    "# # ax = (ax.map(labelFunc),color='k')\n",
    "# ax.set_titles('{col_name}');\n",
    "\n",
    "# # x3,x4 = 0.8,1.2\n",
    "# # y, h, col = df_new['value'].max() + 0.04, 0.04, 'k'\n",
    "# # plt.plot([x3, x3, x4, x4], [y, y+h, y+h, y], lw=1.5, c=col)\n",
    "\n",
    "# # # if pvalue2 > 0.05:\n",
    "# # plt.text((x3+x4)*.5, y+h, \"ns\", ha='center', va='bottom', color=col,fontsize=16);\n",
    "# # # else:\n",
    "# # plt.text((x3+x4)*.5, y+h, \"***\"%pvalue2, ha='center', va='bottom', color=col,fontsize=16);\n",
    "\n",
    "\n",
    "# # plt.savefig(os.path.join(results_path,'1 and 5 sessions - Bradykinesia.png'),format='png',dpi=1000)\n",
    "# # plt.savefig(os.path.join(results_path,'1 and 5 sessions - Bradykinesia.tiff'),format='tiff',dpi=1000)"
   ]
  },
  {
   "cell_type": "code",
   "execution_count": 5,
   "metadata": {},
   "outputs": [],
   "source": [
    "# day1_1 = np.load(os.path.join(results_path,'brady_train1lovo.npy'))[0]\n",
    "# auroc2_1 = np.load(os.path.join(results_path,'brady_train1lovo.npy'))[1]\n",
    "# day1_5 = np.load(os.path.join(results_path,'brady_train5lovo.npy'))[0]\n",
    "# auroc2_5 = np.load(os.path.join(results_path,'brady_train5lovo.npy'))[1]\n",
    "\n",
    "# g1 = np.shape(day1_1)[0]*['Day 1']\n",
    "# g2 = np.shape(auroc2_1)[0]*['Day 2']\n",
    "# df = pd.DataFrame.from_dict({'Test Session':(g1 + g2),'1 Session':(list(day1_1) + list(auroc2_1)),'5 Sessions':(list(day1_5) + list(auroc2_5))})\n",
    "# df_new = pd.melt(df,id_vars=['Test Session'],value_vars=['1 Session','5 Sessions'],var_name=['# Training Sessions'])\n",
    "\n",
    "# figure = plt.figure()\n",
    "# figure.set_dpi(100)\n",
    "# figure.set_size_inches(6.4,4.8)\n",
    "# ax = sns.boxplot(x='Test Session',y='value',data=df_new,hue='# Training Sessions');\n",
    "# plt.ylabel('AUROC');\n",
    "# plt.title('Bradykinesia');\n",
    "# plt.ylim(0.3,1.15);\n",
    "\n",
    "# #stats\n",
    "# # _, pvalue1 = wilcoxon(day1_1.values,day1_5.values,zero_method='wilcox')\n",
    "# _, pvalue1 = stats.ttest_rel(day1_1,day1_5)\n",
    "# print('Bradykinesia Day 1 mean: %f p-value: %f'%((np.mean(day1_5-day1_1)),pvalue1))\n",
    "\n",
    "# # _, pvalue2 = wilcoxon(auroc2_1,auroc2_5,zero_method='wilcox')\n",
    "# _, pvalue2 = stats.ttest_rel(auroc2_1,auroc2_5)\n",
    "# print('Bradykinesia Day 2 mean: %f p-value: %f'%((np.mean(np.array(auroc2_5)-np.array(auroc2_1))),pvalue2))\n",
    "\n",
    "# x1,x2 = -0.2,0.2\n",
    "# y, h, col = df_new['value'].max() + 0.02, 0.02, 'k'\n",
    "# plt.plot([x1, x1, x2, x2], [y, y+h, y+h, y], lw=1.5, c=col)\n",
    "\n",
    "# if pvalue1 > 0.05:\n",
    "#     plt.text((x1+x2)*.5, y+h+0.01, \"ns\", ha='center', va='bottom', color=col,fontsize=16);\n",
    "# else:\n",
    "#     plt.text((x1+x2)*.5, y+h+0.01, \"***\"%pvalue1, ha='center', va='bottom', color=col,fontsize=16);\n",
    "\n",
    "# x3,x4 = 0.8,1.2\n",
    "# y, h, col = df_new['value'].max() + 0.04, 0.04, 'k'\n",
    "# plt.plot([x3, x3, x4, x4], [y, y+h, y+h, y], lw=1.5, c=col)\n",
    "\n",
    "# if pvalue2 > 0.05:\n",
    "#     plt.text((x3+x4)*.5, y+h, \"ns\", ha='center', va='bottom', color=col,fontsize=16);\n",
    "# else:\n",
    "#     plt.text((x3+x4)*.5, y+h, \"***\"%pvalue2, ha='center', va='bottom', color=col,fontsize=16);\n",
    "\n",
    "\n",
    "# plt.savefig(os.path.join(results_path,'1 and 5 sessions - Bradykinesia.png'),format='png',dpi=1000)\n",
    "# plt.savefig(os.path.join(results_path,'1 and 5 sessions - Bradykinesia.tiff'),format='tiff',dpi=1000)"
   ]
  },
  {
   "cell_type": "code",
   "execution_count": 6,
   "metadata": {
    "scrolled": true
   },
   "outputs": [],
   "source": [
    "# day1_1 = np.load(os.path.join(results_path,'tremor_train1lovo.npy'))[0]\n",
    "# auroc2_1 = np.load(os.path.join(results_path,'tremor_train1lovo.npy'))[1]\n",
    "# day1_5 = np.load(os.path.join(results_path,'tremor_train5lovo.npy'))[0]\n",
    "# auroc2_5 = np.load(os.path.join(results_path,'tremor_train5lovo.npy'))[1]\n",
    "\n",
    "# g1 = np.shape(day1_1)[0]*['Day 1']\n",
    "# g2 = np.shape(auroc2_1)[0]*['Day 2']\n",
    "# df = pd.DataFrame.from_dict({'Test Session':(g1 + g2),'1 Session':(list(day1_1) + list(auroc2_1)),'5 Sessions':(list(day1_5) + list(auroc2_5))})\n",
    "# df_new = pd.melt(df,id_vars=['Test Session'],value_vars=['1 Session','5 Sessions'],var_name=['# Training Sessions'])\n",
    "\n",
    "# figure = plt.figure()\n",
    "# figure.set_dpi(100)\n",
    "# figure.set_size_inches(6.4,4.8)\n",
    "# ax = sns.boxplot(x='Test Session',y='value',data=df_new,hue='# Training Sessions');\n",
    "# plt.ylabel('AUROC');\n",
    "# plt.title('Tremor');\n",
    "# plt.ylim(0.3,1.15);\n",
    "\n",
    "# #stats\n",
    "# # _, pvalue1 = wilcoxon(day1_1.values,day1_5.values,zero_method='wilcox')\n",
    "# _, pvalue1 = stats.ttest_rel(day1_1,day1_5)\n",
    "# print('Tremor Day 1 mean: %f p-value: %f'%((np.mean(day1_5-day1_1)),pvalue1))\n",
    "\n",
    "# # _, pvalue2 = wilcoxon(auroc2_1,auroc2_5,zero_method='wilcox')\n",
    "# _, pvalue2 = stats.ttest_rel(auroc2_1,auroc2_5)\n",
    "# print('Tremor Day 2 mean: %f p-value: %f'%((np.mean(np.array(auroc2_5)-np.array(auroc2_1))),pvalue2))\n",
    "\n",
    "# x1,x2 = -0.2,0.2\n",
    "# y, h, col = df_new['value'].max() + 0.02, 0.02, 'k'\n",
    "# plt.plot([x1, x1, x2, x2], [y, y+h, y+h, y], lw=1.5, c=col)\n",
    "\n",
    "# if pvalue1 > 0.05:\n",
    "#     plt.text((x1+x2)*.5, y+h+0.01, \"ns\", ha='center', va='bottom', color=col,fontsize=16);\n",
    "# else:\n",
    "#     plt.text((x1+x2)*.5, y+h+0.01, \"***\"%pvalue1, ha='center', va='bottom', color=col,fontsize=16);\n",
    "\n",
    "# x3,x4 = 0.8,1.2\n",
    "# y, h, col = df_new['value'].max() + 0.04, 0.04, 'k'\n",
    "# plt.plot([x3, x3, x4, x4], [y, y+h, y+h, y], lw=1.5, c=col)\n",
    "\n",
    "# if pvalue2 > 0.05:\n",
    "#     plt.text((x3+x4)*.5, y+h, \"ns\", ha='center', va='bottom', color=col,fontsize=16);\n",
    "# else:\n",
    "#     plt.text((x3+x4)*.5, y+h, \"***\"%pvalue2, ha='center', va='bottom', color=col,fontsize=16);\n",
    "\n",
    "\n",
    "# plt.savefig(os.path.join(results_path,'1 and 5 sessions - Tremor.png'),format='png',dpi=1000)\n",
    "# plt.savefig(os.path.join(results_path,'1 and 5 sessions - Tremor.tiff'),format='tiff',dpi=1000)"
   ]
  },
  {
   "cell_type": "markdown",
   "metadata": {},
   "source": [
    "# Boxplots"
   ]
  },
  {
   "cell_type": "markdown",
   "metadata": {},
   "source": [
    "## Bradykinesia - Compare Day 1, 1 sessions and all sessions for training, test on remaining"
   ]
  },
  {
   "cell_type": "code",
   "execution_count": 5,
   "metadata": {},
   "outputs": [
    {
     "name": "stdout",
     "output_type": "stream",
     "text": [
      "Bradykinesia Day 1\n",
      "\n",
      "Population Model p-value: 0.013612, mean improvement: 0.013900\n",
      "Personal Model p-value: 0.000000, mean improvement: 0.111878\n"
     ]
    }
   ],
   "source": [
    "global_one = np.load(os.path.join(results_path,'GLOB_brady_train1lovo.npy'))[0]\n",
    "global_one = np.asarray(global_one)[~np.isnan(global_one)]\n",
    "global_all = np.load(os.path.join(results_path,'GLOB_brady_train6lovo.npy'))[0]\n",
    "global_all = np.asarray(global_all)[~np.isnan(global_all)]\n",
    "\n",
    "person_one = np.load(os.path.join(results_path,'PERS_brady_train1lovo.npy'))[0]\n",
    "person_one = np.asarray(person_one)[~np.isnan(person_one)]\n",
    "person_all = np.load(os.path.join(results_path,'PERS_brady_train5lovo.npy'))[0]\n",
    "person_all = np.asarray(person_all)[~np.isnan(person_all)]\n",
    "\n",
    "_, pvalue1 = stats.ttest_rel(global_one,global_all)\n",
    "_, pvalue2 = stats.ttest_rel(person_one,person_all)\n",
    "print('Bradykinesia Day 1\\n')\n",
    "print('Population Model p-value: %f, mean improvement: %f'%(pvalue1,(np.nanmean(global_all) - np.nanmean(global_one))))\n",
    "print('Personal Model p-value: %f, mean improvement: %f'%(pvalue2,(np.nanmean(person_all) - np.nanmean(person_one))))"
   ]
  },
  {
   "cell_type": "code",
   "execution_count": 6,
   "metadata": {},
   "outputs": [
    {
     "data": {
      "image/png": "[encoded data removed]",
      "text/plain": [
       "<matplotlib.figure.Figure at 0x1b8678e7f60>"
      ]
     },
     "metadata": {},
     "output_type": "display_data"
    }
   ],
   "source": [
    "g1 = np.shape(global_one)[0]*['Population']\n",
    "g2 = np.shape(person_one)[0]*['Personal']\n",
    "df = pd.DataFrame.from_dict({'Model':(g1 + g2),'One Session':(list(global_one) + list(person_one)),\n",
    "                             'All Sessions':(list(global_all) + list(person_all))})\n",
    "df_new = pd.melt(df,id_vars=['Model'],value_vars=['One Session','All Sessions'],var_name=['# Training Sessions'])\n",
    "\n",
    "figure = plt.figure()\n",
    "figure.set_dpi(100)\n",
    "figure.set_size_inches(6.4,4.8)\n",
    "ax = sns.boxplot(x='Model',y='value',data=df_new,hue='# Training Sessions');\n",
    "plt.ylabel('AUROC');\n",
    "plt.title('Bradykinesia - Day 1');\n",
    "plt.ylim(0.2,1.1);\n",
    "\n",
    "x1,x2 = -0.2,0.2\n",
    "y, h, col = df_new['value'].max() - 0.05, 0.02, 'k'\n",
    "plt.plot([x1, x1, x2, x2], [y, y+h, y+h, y], lw=1.5, c=col)\n",
    "plt.text((x1+x2)*.5, y+h+0.01, \"*\", ha='center', va='bottom', color=col,fontsize=16);\n",
    "\n",
    "x3,x4 = 0.8,1.2\n",
    "y, h, col = df_new['value'].max() + 0.02, 0.02, 'k'\n",
    "plt.plot([x3, x3, x4, x4], [y, y+h, y+h, y], lw=1.5, c=col)\n",
    "plt.text((x3+x4)*.5, y+h+0.01, \"***\", ha='center', va='bottom', color=col,fontsize=16);\n",
    "\n",
    "plt.savefig(os.path.join(results_path,'Bradykinesia Day 1 Comparison.tiff'),format='tiff',dpi=1000)\n",
    "plt.savefig(os.path.join(results_path,'Bradykinesia Day 1 Comparison.png'),format='png',dpi=1000)"
   ]
  },
  {
   "cell_type": "markdown",
   "metadata": {},
   "source": [
    "## Bradykinesia - Compare Day 2, 1 sessions and all sessions for training, test on remaining"
   ]
  },
  {
   "cell_type": "code",
   "execution_count": 7,
   "metadata": {},
   "outputs": [
    {
     "name": "stdout",
     "output_type": "stream",
     "text": [
      "Bradykinesia Day 2\n",
      "\n",
      "Population Model p-value: 0.394027, mean improvement: 0.009822\n",
      "Personal Model p-value: 0.123859, mean improvement: 0.041002\n"
     ]
    }
   ],
   "source": [
    "global_one = np.load(os.path.join(results_path,'GLOB_brady_train1lovo.npy'))[1]\n",
    "global_one = np.asarray(global_one)[~np.isnan(global_one)]\n",
    "global_all = np.load(os.path.join(results_path,'GLOB_brady_train6lovo.npy'))[1]\n",
    "global_all = np.asarray(global_all)[~np.isnan(global_all)]\n",
    "\n",
    "person_one = np.load(os.path.join(results_path,'PERS_brady_train1lovo.npy'))[1]\n",
    "person_one = np.asarray(person_one)[~np.isnan(person_one)]\n",
    "person_all = np.load(os.path.join(results_path,'PERS_brady_train5lovo.npy'))[1]\n",
    "person_all = np.asarray(person_all)[~np.isnan(person_all)]\n",
    "\n",
    "_, pvalue1 = stats.ttest_rel(global_one,global_all)\n",
    "_, pvalue2 = stats.ttest_rel(person_one,person_all)\n",
    "print('Bradykinesia Day 2\\n')\n",
    "print('Population Model p-value: %f, mean improvement: %f'%(pvalue1,(np.nanmean(global_all) - np.nanmean(global_one))))\n",
    "print('Personal Model p-value: %f, mean improvement: %f'%(pvalue2,(np.nanmean(person_all) - np.nanmean(person_one))))"
   ]
  },
  {
   "cell_type": "code",
   "execution_count": 8,
   "metadata": {},
   "outputs": [
    {
     "data": {
      "image/png": "[encoded data removed]",
      "text/plain": [
       "<matplotlib.figure.Figure at 0x1b8678d6898>"
      ]
     },
     "metadata": {},
     "output_type": "display_data"
    }
   ],
   "source": [
    "g1 = np.shape(global_one)[0]*['Population']\n",
    "g2 = np.shape(person_one)[0]*['Personal']\n",
    "df = pd.DataFrame.from_dict({'Model':(g1 + g2),'One Session':(list(global_one) + list(person_one)),\n",
    "                             'All Sessions':(list(global_all) + list(person_all))})\n",
    "df_new = pd.melt(df,id_vars=['Model'],value_vars=['One Session','All Sessions'],var_name=['# Training Sessions'])\n",
    "\n",
    "figure = plt.figure()\n",
    "figure.set_dpi(100)\n",
    "figure.set_size_inches(6.4,4.8)\n",
    "ax = sns.boxplot(x='Model',y='value',data=df_new,hue='# Training Sessions');\n",
    "plt.ylabel('AUROC');\n",
    "plt.title('Bradykinesia - Day 2');\n",
    "plt.ylim(0,1.15);\n",
    "\n",
    "x1,x2 = -0.2,0.2\n",
    "y, h, col = df_new['value'].max() + 0.02, 0.02, 'k'\n",
    "plt.plot([x1, x1, x2, x2], [y, y+h, y+h, y], lw=1.5, c=col)\n",
    "plt.text((x1+x2)*.5, y+h+0.01, \"ns\", ha='center', va='bottom', color=col,fontsize=16);\n",
    "\n",
    "x3,x4 = 0.8,1.2\n",
    "y, h, col = df_new['value'].max() + 0.02, 0.02, 'k'\n",
    "plt.plot([x3, x3, x4, x4], [y, y+h, y+h, y], lw=1.5, c=col)\n",
    "plt.text((x3+x4)*.5, y+h+0.01, \"ns\", ha='center', va='bottom', color=col,fontsize=16);\n",
    "\n",
    "plt.savefig(os.path.join(results_path,'Bradykinesia Day 2 Comparison.tiff'),format='tiff',dpi=1000)\n",
    "plt.savefig(os.path.join(results_path,'Bradykinesia Day 2 Comparison.png'),format='png',dpi=1000)"
   ]
  },
  {
   "cell_type": "markdown",
   "metadata": {},
   "source": [
    "## Tremor - Compare Day 1, 1 sessions and all sessions for training, test on remaining"
   ]
  },
  {
   "cell_type": "code",
   "execution_count": 9,
   "metadata": {},
   "outputs": [],
   "source": [
    "global_one = np.load(os.path.join(results_path,'GLOB_tremor_train1lovo.npy'))[0]\n",
    "# global_one = np.asarray(global_one)[~np.isnan(global_one)]\n",
    "global_all = np.load(os.path.join(results_path,'GLOB_tremor_train6lovo.npy'))[0]\n",
    "# global_all = np.asarray(global_all)[~np.isnan(global_all)]\n",
    "\n",
    "person_one = np.load(os.path.join(results_path,'PERS_tremor_train1lovo.npy'))[0]\n",
    "# person_one = np.asarray(person_one)[~np.isnan(person_one)]\n",
    "person_all = np.load(os.path.join(results_path,'PERS_tremor_train5lovo.npy'))[0]\n",
    "# person_all = np.asarray(person_all)[~np.isnan(person_all)]"
   ]
  },
  {
   "cell_type": "code",
   "execution_count": 10,
   "metadata": {},
   "outputs": [
    {
     "name": "stdout",
     "output_type": "stream",
     "text": [
      "(16,)\n",
      "(16,)\n",
      "(19,)\n",
      "(19,)\n"
     ]
    }
   ],
   "source": [
    "print(np.shape(person_one))\n",
    "print(np.shape(person_all))\n",
    "print(np.shape(global_one))\n",
    "print(np.shape(global_all))"
   ]
  },
  {
   "cell_type": "code",
   "execution_count": 11,
   "metadata": {},
   "outputs": [],
   "source": [
    "person_all = np.append(person_all,(np.nan,np.nan,np.nan))\n",
    "person_one = np.append(person_one,(np.nan,np.nan,np.nan))"
   ]
  },
  {
   "cell_type": "code",
   "execution_count": 12,
   "metadata": {},
   "outputs": [
    {
     "name": "stdout",
     "output_type": "stream",
     "text": [
      "Tremor Day 1\n",
      "\n",
      "Population Model p-value: 0.000175, mean improvement: 0.029445\n",
      "Personal Model p-value: 0.000340, mean improvement: 0.096639\n"
     ]
    }
   ],
   "source": [
    "_, pvalue1 = stats.ttest_rel(global_one,global_all,nan_policy='omit')\n",
    "_, pvalue2 = stats.ttest_rel(person_one,person_all,nan_policy='omit')\n",
    "print('Tremor Day 1\\n')\n",
    "print('Population Model p-value: %f, mean improvement: %f'%(pvalue1,(np.nanmean(global_all) - np.nanmean(global_one))))\n",
    "print('Personal Model p-value: %f, mean improvement: %f'%(pvalue2,(np.nanmean(person_all) - np.nanmean(person_one))))"
   ]
  },
  {
   "cell_type": "code",
   "execution_count": 13,
   "metadata": {},
   "outputs": [
    {
     "data": {
      "image/png": "[encoded data removed]",
      "text/plain": [
       "<matplotlib.figure.Figure at 0x1b867e686a0>"
      ]
     },
     "metadata": {},
     "output_type": "display_data"
    }
   ],
   "source": [
    "g1 = np.shape(global_one)[0]*['Population']\n",
    "g2 = np.shape(person_one)[0]*['Personal']\n",
    "df = pd.DataFrame.from_dict({'Model':(g1 + g2),'One Session':(list(global_one) + list(person_one)),\n",
    "                             'All Sessions':(list(global_all) + list(person_all))})\n",
    "df_new = pd.melt(df,id_vars=['Model'],value_vars=['One Session','All Sessions'],var_name=['# Training Sessions'])\n",
    "\n",
    "figure = plt.figure()\n",
    "figure.set_dpi(100)\n",
    "figure.set_size_inches(6.4,4.8)\n",
    "ax = sns.boxplot(x='Model',y='value',data=df_new,hue='# Training Sessions');\n",
    "plt.ylabel('AUROC');\n",
    "plt.title('Tremor - Day 1');\n",
    "plt.ylim(0.35,1.1);\n",
    "\n",
    "x1,x2 = -0.2,0.2\n",
    "y, h, col = df_new['value'].max() + 0.02, 0.02, 'k'\n",
    "plt.plot([x1, x1, x2, x2], [y, y+h, y+h, y], lw=1.5, c=col)\n",
    "plt.text((x1+x2)*.5, y+h+0.01, \"***\", ha='center', va='bottom', color=col,fontsize=16);\n",
    "\n",
    "x3,x4 = 0.8,1.2\n",
    "y, h, col = df_new['value'].max() + 0.02, 0.02, 'k'\n",
    "plt.plot([x3, x3, x4, x4], [y, y+h, y+h, y], lw=1.5, c=col)\n",
    "plt.text((x3+x4)*.5, y+h+0.01, \"***\", ha='center', va='bottom', color=col,fontsize=16);\n",
    "\n",
    "plt.savefig(os.path.join(results_path,'Tremor Day 1 Comparison.tiff'),format='tiff',dpi=1000)\n",
    "plt.savefig(os.path.join(results_path,'Tremor Day 1 Comparison.png'),format='png',dpi=1000)"
   ]
  },
  {
   "cell_type": "markdown",
   "metadata": {},
   "source": [
    "## Tremor - Compare Day 2, 1 sessions and all sessions for training, test on remaining"
   ]
  },
  {
   "cell_type": "code",
   "execution_count": 14,
   "metadata": {},
   "outputs": [],
   "source": [
    "global_one = np.load(os.path.join(results_path,'GLOB_tremor_train1lovo.npy'))[1]\n",
    "# global_one = np.asarray(global_one)[~np.isnan(global_one)]\n",
    "global_all = np.load(os.path.join(results_path,'GLOB_tremor_train6lovo.npy'))[1]\n",
    "# global_all = np.asarray(global_all)[~np.isnan(global_all)]\n",
    "\n",
    "person_one = np.load(os.path.join(results_path,'PERS_tremor_train1lovo.npy'))[1]\n",
    "# person_one = np.asarray(person_one)[~np.isnan(person_one)]\n",
    "person_all = np.load(os.path.join(results_path,'PERS_tremor_train5lovo.npy'))[1]\n",
    "# person_all = np.asarray(person_all)[~np.isnan(person_all)]"
   ]
  },
  {
   "cell_type": "code",
   "execution_count": 15,
   "metadata": {},
   "outputs": [
    {
     "name": "stdout",
     "output_type": "stream",
     "text": [
      "(11,)\n",
      "(11,)\n",
      "(19,)\n",
      "(19,)\n"
     ]
    }
   ],
   "source": [
    "print(np.shape(person_one))\n",
    "print(np.shape(person_all))\n",
    "print(np.shape(global_one))\n",
    "print(np.shape(global_all))"
   ]
  },
  {
   "cell_type": "code",
   "execution_count": 16,
   "metadata": {},
   "outputs": [],
   "source": [
    "person_all = np.append(person_all,(np.nan,np.nan,np.nan,np.nan,np.nan,np.nan,np.nan,np.nan))\n",
    "person_one = np.append(person_one,(np.nan,np.nan,np.nan,np.nan,np.nan,np.nan,np.nan,np.nan))"
   ]
  },
  {
   "cell_type": "code",
   "execution_count": 17,
   "metadata": {},
   "outputs": [
    {
     "name": "stdout",
     "output_type": "stream",
     "text": [
      "Tremor Day 2\n",
      "\n",
      "Population Model p-value: 0.000385, mean improvement: 0.034584\n",
      "Personal Model p-value: 0.210448, mean improvement: 0.057183\n"
     ]
    }
   ],
   "source": [
    "_, pvalue1 = stats.ttest_rel(global_one,global_all,nan_policy='omit')\n",
    "_, pvalue2 = stats.ttest_rel(person_one,person_all,nan_policy='omit')\n",
    "print('Tremor Day 2\\n')\n",
    "print('Population Model p-value: %f, mean improvement: %f'%(pvalue1,(np.nanmean(global_all) - np.nanmean(global_one))))\n",
    "print('Personal Model p-value: %f, mean improvement: %f'%(pvalue2,(np.nanmean(person_all) - np.nanmean(person_one))))"
   ]
  },
  {
   "cell_type": "code",
   "execution_count": 18,
   "metadata": {
    "scrolled": false
   },
   "outputs": [
    {
     "data": {
      "image/png": "[encoded data removed]",
      "text/plain": [
       "<matplotlib.figure.Figure at 0x1b86f78a438>"
      ]
     },
     "metadata": {},
     "output_type": "display_data"
    }
   ],
   "source": [
    "g1 = np.shape(global_one)[0]*['Population']\n",
    "g2 = np.shape(person_one)[0]*['Personal']\n",
    "df = pd.DataFrame.from_dict({'Model':(g1 + g2),'One Session':(list(global_one) + list(person_one)),\n",
    "                             'All Sessions':(list(global_all) + list(person_all))})\n",
    "df_new = pd.melt(df,id_vars=['Model'],value_vars=['One Session','All Sessions'],var_name=['# Training Sessions'])\n",
    "\n",
    "figure = plt.figure()\n",
    "figure.set_dpi(100)\n",
    "figure.set_size_inches(6.4,4.8)\n",
    "ax = sns.boxplot(x='Model',y='value',data=df_new,hue='# Training Sessions');\n",
    "plt.ylabel('AUROC');\n",
    "plt.title('Tremor - Day 2');\n",
    "plt.ylim(0.4,1.11);\n",
    "\n",
    "x1,x2 = -0.2,0.2\n",
    "y, h, col = df_new['value'].max() + 0.02, 0.02, 'k'\n",
    "plt.plot([x1, x1, x2, x2], [y, y+h, y+h, y], lw=1.5, c=col)\n",
    "plt.text((x1+x2)*.5, y+h+0.01, \"***\", ha='center', va='bottom', color=col,fontsize=16);\n",
    "\n",
    "x3,x4 = 0.8,1.2\n",
    "y, h, col = df_new['value'].max() + 0.02, 0.02, 'k'\n",
    "plt.plot([x3, x3, x4, x4], [y, y+h, y+h, y], lw=1.5, c=col)\n",
    "plt.text((x3+x4)*.5, y+h+0.01, \"ns\", ha='center', va='bottom', color=col,fontsize=16);\n",
    "\n",
    "plt.savefig(os.path.join(results_path,'Tremor Day 2 Comparison.tiff'),format='tiff',dpi=1000)\n",
    "plt.savefig(os.path.join(results_path,'Tremor Day 2 Comparison.png'),format='png',dpi=1000)"
   ]
  },
  {
   "cell_type": "markdown",
   "metadata": {},
   "source": [
    "## Sensor Analysis"
   ]
  },
  {
   "cell_type": "code",
   "execution_count": null,
   "metadata": {},
   "outputs": [],
   "source": [
    "# filename = 'Features_AllLocs_HP+LP_GyroLP.h5'\n",
    "filename = 'Features_AllLocs_HP.h5'\n",
    "Data = pd.read_hdf(os.path.join(features_path,filename))\n",
    "print(Data.shape)"
   ]
  },
  {
   "cell_type": "code",
   "execution_count": null,
   "metadata": {},
   "outputs": [],
   "source": [
    "#filter empty rows on all locations\n",
    "for s in Data.columns.values[7:]:\n",
    "    print('%s,discarded %d rows'%(s,sum(Data[s].apply(type) == float)))\n",
    "    Data = Data[Data[s].apply(type) != float]\n",
    "    \n",
    "print(Data.shape)"
   ]
  },
  {
   "cell_type": "code",
   "execution_count": null,
   "metadata": {},
   "outputs": [],
   "source": [
    "def featureUnpack(Data, sensor_list):\n",
    "    #unpack features\n",
    "    colnames=['RMSX', 'RMSY', 'RMSZ', 'rangeX', 'rangeY', 'rangeZ', 'meanX',\n",
    "           'meanY', 'meanZ', 'varX', 'varY', 'varZ', 'skewX', 'skewY', 'skewZ',\n",
    "           'kurtX', 'kurtY', 'kurtZ', 'xcor_peakXY', 'xcorr_peakXZ',\n",
    "           'xcorr_peakYZ', 'xcorr_lagXY', 'xcorr_lagXZ', 'xcorr_lagYZ', 'Dom_freq',\n",
    "           'Pdom_rel', 'PSD_mean', 'PSD_std', 'PSD_skew', 'PSD_kur', 'jerk_mean',\n",
    "           'jerk_std', 'jerk_skew', 'jerk_kur', 'Sen_X', 'Sen_Y', 'Sen_Z']\n",
    "\n",
    "    colnames1=[i+'acc' for i in colnames]\n",
    "    colnames2=[i+'gyr' for i in colnames]\n",
    "    colnames=colnames1+colnames2\n",
    "    \n",
    "    Datafinal = pd.DataFrame()\n",
    "\n",
    "    for i in range(len(Data)):\n",
    "        Datatemp=pd.DataFrame()\n",
    "        for sensors in sensor_list:\n",
    "            if sensors!=\"flexor_digitorum_\":\n",
    "                F1 = Data[sensors + '_accel'].iloc[i]\n",
    "                F2 = Data[sensors + '_gyro'].iloc[i]\n",
    "                F = pd.DataFrame(data=np.hstack((F1,F2)).reshape(-1,1).T,index=[i],columns=[i+'_'+sensors for i in colnames])\n",
    "                Datatemp=pd.concat((Datatemp,F),axis=1)\n",
    "            else:\n",
    "                F1 = Data[sensors + '_accel'].iloc[i]\n",
    "                F = pd.DataFrame(data=F1.reshape(-1,1).T,index=[i],columns=[i+'_'+sensors for i in colnames1])\n",
    "                Datatemp=pd.concat((Datatemp,F),axis=1)\n",
    "        Datafinal = pd.concat((Datafinal,Datatemp),axis=0)\n",
    "        \n",
    "    Datafinal=Datafinal.reset_index(drop=True)\n",
    "    Data=Data.reset_index(drop=True)\n",
    "    Datafinal = pd.concat((Data.iloc[:,:7],Datafinal),axis=1)\n",
    "        \n",
    "    return Datafinal"
   ]
  },
  {
   "cell_type": "code",
   "execution_count": null,
   "metadata": {},
   "outputs": [],
   "source": [
    "# sensor_list = ['anterior_thigh_','dorsal_hand_','sacrum']\n",
    "sensor_list = [['dorsal_hand_'],['flexor_digitorum_'],\n",
    "               ['anterior_thigh_'],['dorsal_hand_','flexor_digitorum_','anterior_thigh_']] # just hand sensors"
   ]
  },
  {
   "cell_type": "code",
   "execution_count": null,
   "metadata": {},
   "outputs": [],
   "source": [
    "# symptom = 'Bradykinesia'\n",
    "symptom = 'Tremor'\n",
    "res_all = pd.DataFrame()\n",
    "\n",
    "fileNameList = ['Hand', 'Forearm', 'Thigh', 'Combo']\n",
    "AX = None\n",
    "\n",
    "for x,sList in zip(range(len(sensor_list)),sensor_list):\n",
    "    SData = featureUnpack(Data,sList)\n",
    "    \n",
    "    X = SData.iloc[:,7:].as_matrix()\n",
    "    fnames = SData.iloc[:,7:].columns.values\n",
    "\n",
    "    indp = ((SData[symptom]>0))\n",
    "    indp = indp.values\n",
    "    y = indp.astype(int) #target \n",
    "    print('Rows w %s %d/%d = %.2f'%(symptom,sum(indp),len(indp),(sum(indp)/len(indp))))\n",
    "\n",
    "    models = [RandomForestClassifier(n_estimators=50,random_state=2)]          \n",
    "    model_name = ['Random Forest']\n",
    "    models = list(zip(models,model_name))\n",
    "    groups = SData.Subject.as_matrix()\n",
    "\n",
    "    res,res_group = LOSOCV(SData,X,y,groups,models)\n",
    "    res_all = pd.concat((res_all,res))\n",
    "    \n",
    "    AUC = res_group['Random Forest']['auroc']\n",
    "    \n",
    "    \n",
    "    save_object(res_group,symptom+fileNameList[x]+'DataResults')\n",
    "    \n",
    "    T = 'Random Forest'\n",
    "    NanInds = []\n",
    "    for i in range(len(res_group[T]['auroc'])):\n",
    "        if np.isnan(res_group[T]['auroc'][i]):\n",
    "            NanInds.append(i)\n",
    "    for i in sorted(NanInds,reverse=True):\n",
    "        del res_group[T]['tpr'][i]\n",
    "        del res_group[T]['auroc'][i]\n",
    "    \n",
    "    print(fileNameList[x],np.mean(AUC),\n",
    "          stats.t.interval(.95,len(AUC)-1, loc=np.mean(AUC), scale=stats.sem(AUC)))\n",
    "    \n",
    "    cols = ['b','r','g','m','k']\n",
    "    \n",
    "    if AX==None:\n",
    "        AX = plot_roc(res_group['Random Forest']['tpr'], res_group['Random Forest']['fpr'][0], \n",
    "                      np.nanmean(res_group['Random Forest']['auroc']),plotname=fileNameList[x],col=cols[x])\n",
    "    else:\n",
    "        plot_roc(res_group['Random Forest']['tpr'], res_group['Random Forest']['fpr'][0], \n",
    "                      np.nanmean(res_group['Random Forest']['auroc']),ax=AX,plotname=fileNameList[x],col=cols[x])\n",
    "        \n",
    "plt.savefig(symptom+'SensorsRF.tiff',format='tiff',dpi=1000)\n",
    "plt.savefig(symptom+'SensorsRF.png',format='png',dpi=1000)"
   ]
  }
 ],
 "metadata": {
  "anaconda-cloud": {},
  "celltoolbar": "Raw Cell Format",
  "kernelspec": {
   "display_name": "Python 3",
   "language": "python",
   "name": "python3"
  },
  "language_info": {
   "codemirror_mode": {
    "name": "ipython",
    "version": 3
   },
   "file_extension": ".py",
   "mimetype": "text/x-python",
   "name": "python",
   "nbconvert_exporter": "python",
   "pygments_lexer": "ipython3",
   "version": "3.6.4"
  }
 },
 "nbformat": 4,
 "nbformat_minor": 2
}
